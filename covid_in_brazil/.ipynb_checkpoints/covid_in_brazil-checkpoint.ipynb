{
 "cells": [
  {
   "cell_type": "code",
   "execution_count": 1,
   "id": "899bb7ef-75df-410a-a4d9-4c7324d9f91c",
   "metadata": {},
   "outputs": [],
   "source": [
    "import pandas as pd\n",
    "import numpy as np\n",
    "import matplotlib.pyplot as plt\n",
    "import plotly.express as px \n",
    "import seaborn as sns\n",
    "import unidecode, re\n",
    "import plotly.graph_objects as go\n",
    "from sklearn.preprocessing import StandardScaler, LabelEncoder\n",
    "from sklearn.model_selection import train_test_split, cross_val_score, StratifiedKFold\n",
    "from sklearn.ensemble import RandomForestClassifier, GradientBoostingClassifier\n",
    "from sklearn.linear_model import LinearRegression, LogisticRegression\n",
    "from sklearn.metrics import accuracy_score,f1_score,confusion_matrix, classification_report, roc_auc_score\n",
    "from scipy import *\n",
    "from sklearn.feature_selection import SelectKBest, f_regression\n",
    "from catboost import CatBoostClassifier, Pool\n",
    "import lightgbm as lgb\n",
    "import joblib\n",
    "from xgboost import XGBClassifier\n",
    "from lightgbm import LGBMClassifier\n",
    "from sklearn.metrics import f1_score\n",
    "from sklearn.model_selection import StratifiedKFold\n",
    "# Basic config\n",
    "my_font = dict(\n",
    "            family=\"Courier New, monospace\",\n",
    "            size=18,\n",
    "            color=\"Black\",\n",
    "            variant=\"small-caps\",\n",
    ") \n",
    "df = pd.read_csv(\"data/train.csv\")\n",
    "df_test = pd.read_csv(\"data/test.csv\")"
   ]
  },
  {
   "cell_type": "code",
   "execution_count": 2,
   "id": "e1117fe3-629d-448e-9dba-e524a86c79eb",
   "metadata": {},
   "outputs": [],
   "source": [
    "# df.groupby('SG_UF').size().reset_index(name='count').sort_values(by='count', ascending=False)"
   ]
  },
  {
   "cell_type": "code",
   "execution_count": 3,
   "id": "dee717c5-416e-4682-afb0-2ab7c8536a9f",
   "metadata": {},
   "outputs": [],
   "source": [
    "# px.histogram(\n",
    "#     df.groupby(['SG_UF','OBESIDADE']).size().reset_index(name='count').sort_values(by='count', ascending=False),\n",
    "#     x='SG_UF',\n",
    "#     y='count',\n",
    "#     color='SG_UF')"
   ]
  },
  {
   "cell_type": "code",
   "execution_count": 4,
   "id": "91ad7d82-7c49-4b3c-ac30-4104d8b7f594",
   "metadata": {},
   "outputs": [],
   "source": [
    "\n",
    "# x = df.groupby('GARGANTA').size().reset_index(name='count').sort_values(by='count', ascending=False)\n",
    "\n",
    "# px.histogram(\n",
    "#      x,\n",
    "#      x='GARGANTA',\n",
    "#      y='count',\n",
    "#      color='GARGANTA')\n",
    "# x"
   ]
  },
  {
   "cell_type": "code",
   "execution_count": 5,
   "id": "989351f9-03dd-435e-a6de-90aa510d6eb1",
   "metadata": {},
   "outputs": [],
   "source": [
    "# px.histogram(\n",
    "#     df.groupby(['SG_UF','CS_SEXO']).size().reset_index(name='count').sort_values(by='count', ascending=False),\n",
    "#     x='SG_UF',\n",
    "#     y='count',\n",
    "#     color='SG_UF')"
   ]
  },
  {
   "cell_type": "code",
   "execution_count": 6,
   "id": "8501e1b1-75e9-4d8a-aea5-992b8054e523",
   "metadata": {},
   "outputs": [],
   "source": [
    "# X_train = df.select_dtypes(['number']).drop(columns=['EVOLUCAO'])\n",
    "# y_train = df['EVOLUCAO']\n",
    "\n",
    "# X_test_sub = df_test.select_dtypes(['number'])"
   ]
  },
  {
   "cell_type": "code",
   "execution_count": 7,
   "id": "2c76f511-b069-476c-8e59-7f84ebbcb532",
   "metadata": {},
   "outputs": [],
   "source": [
    "# X_train, X_test, y_train, y_test= train_test_split(X_train, y_train, test_size = .1, random_state=2)\n"
   ]
  },
  {
   "cell_type": "code",
   "execution_count": 8,
   "id": "5c6a6a09-d1da-48b2-b047-1f2965bcbd22",
   "metadata": {},
   "outputs": [],
   "source": [
    "# catb = CatBoostClassifier(\n",
    "#     iterations=100,      \n",
    "#     learning_rate=0.1,   \n",
    "#     depth=6,              \n",
    "#     verbose=0             \n",
    "# )\n",
    "\n",
    "# catb.fit(X_train, y_train)\n",
    "\n",
    "# preds = catb.predict(X_test)"
   ]
  },
  {
   "cell_type": "code",
   "execution_count": 9,
   "id": "2dbf3c7c-fe9d-4fcf-9201-63e2046752a0",
   "metadata": {},
   "outputs": [],
   "source": [
    "# catboost_accuracy = accuracy_score(y_test, preds)\n",
    "# print(f\"CatBoost's acurracy: {catboost_accuracy*100:.2f}%\")\n",
    "\n",
    "# print(\"\\nClassification report\")\n",
    "# print(classification_report(y_test, preds))\n",
    "\n",
    "# cm = confusion_matrix(y_test, preds)\n",
    "# fig = px.imshow(cm, text_auto=True).update_layout(title={\"text\": \"CatBoost's Confusion Matrix\"}, font=my_font).show()\n"
   ]
  },
  {
   "cell_type": "code",
   "execution_count": 10,
   "id": "df55883f-a1ab-4986-bb7b-5a5544b02480",
   "metadata": {},
   "outputs": [],
   "source": [
    "# test_pred = catb.predict_proba(X_test_sub)[:,1] # chances of death, class: 1.0\n",
    "\n",
    "# pd.DataFrame(np.round(test_pred)).reset_index().to_csv('results/submission_catboost.csv', header=['ID', 'EVOLUCAO'], index=False)"
   ]
  },
  {
   "cell_type": "code",
   "execution_count": 11,
   "id": "9756dd85-d895-4af5-87ed-5b6613d17164",
   "metadata": {},
   "outputs": [],
   "source": [
    "# lightGBM = lgb.LGBMClassifier(random_state=23)\n",
    "\n",
    "# lightGBM.fit(X_train, y_train)\n",
    "\n",
    "# preds = lightGBM.predict(X_test)"
   ]
  },
  {
   "cell_type": "code",
   "execution_count": 12,
   "id": "3be46790-eeec-4d86-99a5-d920a1afe143",
   "metadata": {},
   "outputs": [],
   "source": [
    "# accuracy = lightGBM.score(X_test, y_test)\n",
    "\n",
    "\n",
    "# print(f\"LightGBM acurracy: {accuracy*100:.2f}%\")\n",
    "# print(\"\\nClassification report\")\n",
    "# print(classification_report(y_test, preds))\n",
    "\n",
    "# cm = confusion_matrix(y_test, preds)\n",
    "# fig = px.imshow(cm, text_auto=True).update_layout(title={\"text\": \"LightGBM's Confusion Matrix\"}, font=my_font).show()\n"
   ]
  },
  {
   "cell_type": "code",
   "execution_count": 13,
   "id": "3ff6cca4-6e33-4334-a643-b60c208cd611",
   "metadata": {},
   "outputs": [],
   "source": [
    "# test_pred = lightGBM.predict_proba(X_test_sub)[:,1] # chances of death, class: 1.0\n",
    "\n",
    "# pd.DataFrame(np.round(test_pred)).reset_index().to_csv('results/submission_light_gbm.csv', header=['ID', 'EVOLUCAO'], index=False)"
   ]
  },
  {
   "cell_type": "code",
   "execution_count": 14,
   "id": "68aa8664-7733-415d-919d-e98664d8692a",
   "metadata": {},
   "outputs": [],
   "source": [
    "# rf = RandomForestClassifier()\n",
    "\n",
    "# rf.fit(X_train, y_train)"
   ]
  },
  {
   "cell_type": "code",
   "execution_count": 15,
   "id": "c47202c0-7cf6-49ff-a904-4ea5875bedc9",
   "metadata": {},
   "outputs": [],
   "source": [
    "# preds = rf.predict(X_test)\n",
    "# accuracy = rf.score(X_test, y_test)\n",
    "\n",
    "# print(f\"Accuracy: {accuracy*100:.2f}\")\n",
    "# print(\"\\nClassification report\")\n",
    "# print(classification_report(y_test, preds))\n",
    "\n",
    "# cm = confusion_matrix(y_test, preds)\n",
    "# fig = px.imshow(cm, text_auto=True).update_layout(title={\"text\": \"Random Forest's Confusion Matrix\"}, font=my_font).show()\n",
    "\n"
   ]
  },
  {
   "cell_type": "code",
   "execution_count": 16,
   "id": "fbe23a96-fd3b-48a7-a2bb-afce82adf48a",
   "metadata": {},
   "outputs": [],
   "source": [
    "# xg = XGBClassifier()\n",
    "# xg.fit(X_train, y_train)\n",
    "# preds = xg.predict(X_test)\n"
   ]
  },
  {
   "cell_type": "code",
   "execution_count": 17,
   "id": "25280b6c-47ea-4934-9575-0cd7c0448957",
   "metadata": {},
   "outputs": [],
   "source": [
    "# accuracy = xg.score(X_test, y_test)\n",
    "\n",
    "# print(f\"Accuracy: {accuracy*100:.2f}\")\n",
    "# print(\"\\nClassification report\")\n",
    "# print(classification_report(y_test, preds))\n",
    "\n",
    "# cm = confusion_matrix(y_test, preds)\n",
    "# fig = px.imshow(cm, text_auto=True).update_layout(title={\"text\": \"XGBoost's Confusion Matrix\"}, font=my_font).show()\n"
   ]
  },
  {
   "cell_type": "code",
   "execution_count": 18,
   "id": "71c153d9-a726-44ca-9610-e369702f1396",
   "metadata": {},
   "outputs": [],
   "source": [
    "# test_pred = xg.predict_proba(X_test_sub)[:,1] # chances of death, class: 1.0\n",
    "\n",
    "# pd.DataFrame(np.round(test_pred)).reset_index().to_csv('submission_xg.csv', header=['ID', 'EVOLUCAO'], index=False)"
   ]
  },
  {
   "cell_type": "markdown",
   "id": "63729001-cbdb-43d9-91d7-d02022a72fad",
   "metadata": {},
   "source": [
    "# Now we can try to treat this dataset\n",
    "- Let us start by checking what columns have more missing values\n",
    "- Then we can drop rows with more that 90% of the data NaN"
   ]
  },
  {
   "cell_type": "code",
   "execution_count": 19,
   "id": "d474efa6-3809-4c40-9283-bf6f08e75279",
   "metadata": {},
   "outputs": [],
   "source": [
    "# px.histogram(df.isna().sum().reset_index(name='count').sort_values(by='count', ascending=False),\n",
    "#             x='index', y='count', color='count', color_discrete_sequence= px.colors.sequential.Plasma_r,\n",
    "#              title=\"Most frequent columns with missing values\").update_layout(font = my_font)"
   ]
  },
  {
   "cell_type": "code",
   "execution_count": 20,
   "id": "90bdaf39-0962-459a-9f6a-b2e609075aba",
   "metadata": {},
   "outputs": [],
   "source": [
    "# x = df.isna().sum().reset_index(name='count').sort_values(by='count', ascending=False)\n",
    "# x['pecentage_of_missing_data'] = (x['count'] / len(df))*100\n",
    "# x"
   ]
  },
  {
   "cell_type": "code",
   "execution_count": 21,
   "id": "3f9c7468-fba1-456c-85b9-0e5aa23225f0",
   "metadata": {},
   "outputs": [],
   "source": [
    "# px.histogram(df.isna().sum().reset_index(name='count').sort_values(by='count', ascending=True).head(20),\n",
    "#             x='index', y='count', color='count', color_discrete_sequence= px.colors.sequential.Plasma_r,\n",
    "#              title=\"Less frequent columns with missing values\").update_layout(font = my_font)"
   ]
  },
  {
   "cell_type": "code",
   "execution_count": 22,
   "id": "e7213011-e3d1-4c32-b6d7-643e897a7054",
   "metadata": {},
   "outputs": [],
   "source": [
    "missing_counts = df.isnull().sum(axis=1)\n",
    "thresh = 27\n",
    "df_no_nulls = df[missing_counts < thresh]"
   ]
  },
  {
   "cell_type": "markdown",
   "id": "4f9bf4b1-a018-4ec8-93ed-16d9b7e450a3",
   "metadata": {},
   "source": [
    "### Note: You cannot just filter out all columns with ANY missing values\n",
    " - The accuracy of all models pretty much drops drastically"
   ]
  },
  {
   "cell_type": "markdown",
   "id": "84dd760b-7d8b-45f1-8dab-2a7916f9912f",
   "metadata": {},
   "source": [
    "### Checking correlation between variables"
   ]
  },
  {
   "cell_type": "code",
   "execution_count": 23,
   "id": "5aaf96cd-72cd-4a12-8f74-e5d825e5d2ee",
   "metadata": {},
   "outputs": [],
   "source": [
    "# plt.figure(figsize=(12, 12))\n",
    "# sns.heatmap(df.corr(numeric_only=True), annot=True, cmap='viridis', fmt=\".1f\")"
   ]
  },
  {
   "cell_type": "markdown",
   "id": "b939f5ea-f09d-4a83-b25c-f6fea4dec5f1",
   "metadata": {},
   "source": [
    "## Frist, we can create a total_comorbities columns to represent the total amount of comordities one has.\n",
    "    - We will separate it in chronic and temporary"
   ]
  },
  {
   "cell_type": "code",
   "execution_count": 24,
   "id": "867f63d7-c648-4fb3-b84e-2b47633ef918",
   "metadata": {},
   "outputs": [],
   "source": [
    "df_no_nulls['total_chronic_cormodity'] = ((df_no_nulls[[\"OBESIDADE\", \n",
    "                                                        \"RENAL\", \n",
    "                                                        \"CARDIOPATI\",\n",
    "                                                        \"IMUNODEPRE\", \n",
    "                                                        \"DIABETES\", \n",
    "                                                        \"PNEUMOPATI\",\n",
    "                                                        \"HEPATICA\",\n",
    "                                                        \"SIND_DOWN\"]] == 1.0).sum(axis=1))\n",
    "\n",
    "df_no_nulls['total_temporary_cormodity'] = (df_no_nulls[[\"FEBRE\",\n",
    "                                                        \"TOSSE\",\n",
    "                                                        \"PUERPERA\",\n",
    "                                                        \"GARGANTA\",\n",
    "                                                        \"DESC_RESP\",\n",
    "                                                        \"DIARREIA\",\n",
    "                                                        \"VOMITO\",\n",
    "                                                        \"FADIGA\",\n",
    "                                                        \"SATURACAO\",\n",
    "                                                        \"DISPNEIA\"]]== 1.0).sum(axis=1)"
   ]
  },
  {
   "cell_type": "markdown",
   "id": "2d01d473-4e05-492d-afc3-7a18cee97f63",
   "metadata": {},
   "source": [
    "# Creating a function to handle missing values"
   ]
  },
  {
   "cell_type": "code",
   "execution_count": 25,
   "id": "7cf1a338-2173-4786-8e27-9d315d7bf0e5",
   "metadata": {},
   "outputs": [],
   "source": [
    "class DataPreprocessor:\n",
    "    def __init__(self, dataframe):\n",
    "        self.df = dataframe.copy()\n",
    "    \n",
    "    def fill_rows_with_ints(self, columns_to_fill, missing_value=0):\n",
    "        for col in columns_to_fill:\n",
    "            if col in self.df.columns:\n",
    "                self.df[col] = self.df[col].fillna(missing_value)\n",
    "                self.df[col] = self.df[col].astype(int)\n",
    "        return self.df\n",
    "    \n",
    "    def fill_null_rows(self, columns_to_fill, missing_value):\n",
    "        for col in columns_to_fill:\n",
    "            if col in self.df.columns:\n",
    "                self.df[col] = self.df[col].fillna(missing_value)\n",
    "                self.df[col] = self.df[col].astype('category')\n",
    "\n",
    "        return self.df\n",
    "\n",
    "preprocessor = DataPreprocessor(df_no_nulls)\n",
    "preprocessor_test = DataPreprocessor(df_test)\n",
    "\n",
    "columns_to_fill = df_no_nulls.select_dtypes(['float']).columns.tolist()\n",
    "\n",
    "processed_df = preprocessor.fill_rows_with_ints(columns_to_fill, missing_value=9)\n",
    "processed_df_test = preprocessor_test.fill_rows_with_ints(columns_to_fill, missing_value=9)"
   ]
  },
  {
   "cell_type": "code",
   "execution_count": 26,
   "id": "4a48472a-b0e9-4e16-984a-cfeb36210742",
   "metadata": {},
   "outputs": [],
   "source": [
    "columns_to_fill = [\n",
    "                   \"OBESIDADE\", \n",
    "                   \"RENAL\", \n",
    "                   \"CARDIOPATI\",\n",
    "                   \"IMUNODEPRE\", \n",
    "                   \"DIABETES\", \n",
    "                   \"PNEUMOPATI\",\n",
    "                   \"HEPATICA\",\n",
    "                   \"FEBRE\",\n",
    "                   \"TOSSE\",\n",
    "                   \"GARGANTA\",\n",
    "                   \"DESC_RESP\",\n",
    "                   \"DIARREIA\",\n",
    "                   \"VOMITO\",\n",
    "                   \"FADIGA\",\n",
    "                   \"SATURACAO\",\n",
    "                   \"DISPNEIA\",\n",
    "                   \"CS_RACA\",\n",
    "                   \"CS_ZONA\",\n",
    "                   \"VACINA\",\n",
    "                   \"CS_ESCOL_N\",\n",
    "                   \"FATOR_RISC\",\n",
    "                   \"SIND_DOWN\",\n",
    "                   \"CO_RG_RESI\",\n",
    "                   \"PUERPERA\",\n",
    "                   \"CS_SEXO\",\n",
    "                   \"SG_UF\",\n",
    "                   \"EVOLUCAO\",\n",
    "                   \"CS_GESTANT\"\n",
    "                  ] # 22 columns \n",
    "\n",
    "preprocessor = DataPreprocessor(processed_df)\n",
    "preprocessor_test = DataPreprocessor(processed_df_test)\n",
    "\n",
    "df_2 = preprocessor.fill_null_rows(columns_to_fill, 9)\n",
    "\n",
    "\n",
    "df_test_copy = preprocessor_test.fill_null_rows(columns_to_fill, 9)\n",
    "\n",
    "df_2.drop(columns={\"DT_NOTIFIC\", \"ID_MN_RESI\",\"OBES_IMC\", \"CO_RG_RESI\", \"VOMITO\"}, inplace=True)\n",
    "df_test_copy.drop(columns={\"DT_NOTIFIC\", \"ID_MN_RESI\",\"OBES_IMC\", \"CO_RG_RESI\"}, inplace=True)\n",
    "\n",
    "\n",
    "X = df_2.drop(columns={'EVOLUCAO'})\n",
    "y = df_2['EVOLUCAO']"
   ]
  },
  {
   "cell_type": "code",
   "execution_count": 27,
   "id": "24f5c5d1-55a0-411d-a1b2-bb8b4e336319",
   "metadata": {},
   "outputs": [
    {
     "name": "stdout",
     "output_type": "stream",
     "text": [
      "0:\tlearn: 0.6830415\ttest: 0.6834160\tbest: 0.6834160 (0)\ttotal: 246ms\tremaining: 4m 6s\n",
      "50:\tlearn: 0.7127761\ttest: 0.7128281\tbest: 0.7130233 (49)\ttotal: 7.45s\tremaining: 2m 18s\n",
      "100:\tlearn: 0.7192081\ttest: 0.7197477\tbest: 0.7197477 (100)\ttotal: 15.1s\tremaining: 2m 14s\n",
      "150:\tlearn: 0.7239008\ttest: 0.7246764\tbest: 0.7246815 (148)\ttotal: 22.7s\tremaining: 2m 7s\n",
      "200:\tlearn: 0.7271840\ttest: 0.7271871\tbest: 0.7271871 (200)\ttotal: 30.3s\tremaining: 2m\n",
      "250:\tlearn: 0.7292963\ttest: 0.7291300\tbest: 0.7291300 (250)\ttotal: 37.8s\tremaining: 1m 52s\n",
      "300:\tlearn: 0.7308215\ttest: 0.7310745\tbest: 0.7310893 (299)\ttotal: 45.5s\tremaining: 1m 45s\n",
      "350:\tlearn: 0.7317465\ttest: 0.7318373\tbest: 0.7318373 (350)\ttotal: 53.2s\tremaining: 1m 38s\n",
      "Stopped by overfitting detector  (10 iterations wait)\n",
      "\n",
      "bestTest = 0.731903491\n",
      "bestIteration = 358\n",
      "\n",
      "Shrink model to first 359 iterations.\n",
      "Validation AUC: 0.7959088574700105\n"
     ]
    }
   ],
   "source": [
    "\n",
    "X_temp, X_test, y_temp, y_test = train_test_split(X, y, test_size=0.15, random_state=32)\n",
    "\n",
    "X_train, X_valid, y_train, y_valid = train_test_split(X_temp, y_temp, test_size=0.19, random_state=32)\n",
    "# Note: 0.25 * 0.8 = 0.20, so overall 60/20/20\n",
    "\n",
    "\n",
    "cat_features = X.select_dtypes(['category']).columns.tolist()\n",
    "params = {\n",
    "    'iterations':1000,\n",
    "    'learning_rate':0.03,\n",
    "    'depth':6,\n",
    "    'eval_metric':'TotalF1',\n",
    "    'random_seed':42,\n",
    "    'early_stopping_rounds': 10,\n",
    "    'verbose': 50,\n",
    "    'loss_function': 'Logloss',\n",
    "    'use_best_model': True,\n",
    "   #  'num_leaves': 50\n",
    "}\n",
    "ctb = CatBoostClassifier(\n",
    "  **params\n",
    ")\n",
    "\n",
    "ctb.fit(\n",
    "    X_train, y_train,\n",
    "    eval_set=(X_valid, y_valid),\n",
    "    cat_features=cat_features,\n",
    ")\n",
    "\n",
    "y_pred = ctb.predict_proba(X_valid)[:, 1]\n",
    "print(\"Validation AUC:\", roc_auc_score(y_valid, y_pred))"
   ]
  },
  {
   "cell_type": "code",
   "execution_count": 28,
   "id": "3195abce-df3d-49dc-b0b6-f40fd1e954a0",
   "metadata": {},
   "outputs": [
    {
     "name": "stdout",
     "output_type": "stream",
     "text": [
      "ctb acurracy: 74.35%\n",
      "\n",
      "Classification report\n",
      "              precision    recall  f1-score   support\n",
      "\n",
      "           0       0.77      0.87      0.82     48841\n",
      "           1       0.67      0.51      0.58     25907\n",
      "\n",
      "    accuracy                           0.74     74748\n",
      "   macro avg       0.72      0.69      0.70     74748\n",
      "weighted avg       0.74      0.74      0.73     74748\n",
      "\n"
     ]
    },
    {
     "data": {
      "application/vnd.plotly.v1+json": {
       "config": {
        "plotlyServerURL": "https://plot.ly"
       },
       "data": [
        {
         "coloraxis": "coloraxis",
         "hovertemplate": "x: %{x}<br>y: %{y}<br>color: %{z}<extra></extra>",
         "name": "0",
         "texttemplate": "%{z}",
         "type": "heatmap",
         "xaxis": "x",
         "yaxis": "y",
         "z": {
          "bdata": "KaUAAKAZAABIMQAA6zMAAA==",
          "dtype": "i4",
          "shape": "2, 2"
         }
        }
       ],
       "layout": {
        "coloraxis": {
         "colorscale": [
          [
           0,
           "#0d0887"
          ],
          [
           0.1111111111111111,
           "#46039f"
          ],
          [
           0.2222222222222222,
           "#7201a8"
          ],
          [
           0.3333333333333333,
           "#9c179e"
          ],
          [
           0.4444444444444444,
           "#bd3786"
          ],
          [
           0.5555555555555556,
           "#d8576b"
          ],
          [
           0.6666666666666666,
           "#ed7953"
          ],
          [
           0.7777777777777778,
           "#fb9f3a"
          ],
          [
           0.8888888888888888,
           "#fdca26"
          ],
          [
           1,
           "#f0f921"
          ]
         ]
        },
        "font": {
         "color": "Black",
         "family": "Courier New, monospace",
         "size": 18,
         "variant": "small-caps"
        },
        "margin": {
         "t": 60
        },
        "template": {
         "data": {
          "bar": [
           {
            "error_x": {
             "color": "#2a3f5f"
            },
            "error_y": {
             "color": "#2a3f5f"
            },
            "marker": {
             "line": {
              "color": "#E5ECF6",
              "width": 0.5
             },
             "pattern": {
              "fillmode": "overlay",
              "size": 10,
              "solidity": 0.2
             }
            },
            "type": "bar"
           }
          ],
          "barpolar": [
           {
            "marker": {
             "line": {
              "color": "#E5ECF6",
              "width": 0.5
             },
             "pattern": {
              "fillmode": "overlay",
              "size": 10,
              "solidity": 0.2
             }
            },
            "type": "barpolar"
           }
          ],
          "carpet": [
           {
            "aaxis": {
             "endlinecolor": "#2a3f5f",
             "gridcolor": "white",
             "linecolor": "white",
             "minorgridcolor": "white",
             "startlinecolor": "#2a3f5f"
            },
            "baxis": {
             "endlinecolor": "#2a3f5f",
             "gridcolor": "white",
             "linecolor": "white",
             "minorgridcolor": "white",
             "startlinecolor": "#2a3f5f"
            },
            "type": "carpet"
           }
          ],
          "choropleth": [
           {
            "colorbar": {
             "outlinewidth": 0,
             "ticks": ""
            },
            "type": "choropleth"
           }
          ],
          "contour": [
           {
            "colorbar": {
             "outlinewidth": 0,
             "ticks": ""
            },
            "colorscale": [
             [
              0,
              "#0d0887"
             ],
             [
              0.1111111111111111,
              "#46039f"
             ],
             [
              0.2222222222222222,
              "#7201a8"
             ],
             [
              0.3333333333333333,
              "#9c179e"
             ],
             [
              0.4444444444444444,
              "#bd3786"
             ],
             [
              0.5555555555555556,
              "#d8576b"
             ],
             [
              0.6666666666666666,
              "#ed7953"
             ],
             [
              0.7777777777777778,
              "#fb9f3a"
             ],
             [
              0.8888888888888888,
              "#fdca26"
             ],
             [
              1,
              "#f0f921"
             ]
            ],
            "type": "contour"
           }
          ],
          "contourcarpet": [
           {
            "colorbar": {
             "outlinewidth": 0,
             "ticks": ""
            },
            "type": "contourcarpet"
           }
          ],
          "heatmap": [
           {
            "colorbar": {
             "outlinewidth": 0,
             "ticks": ""
            },
            "colorscale": [
             [
              0,
              "#0d0887"
             ],
             [
              0.1111111111111111,
              "#46039f"
             ],
             [
              0.2222222222222222,
              "#7201a8"
             ],
             [
              0.3333333333333333,
              "#9c179e"
             ],
             [
              0.4444444444444444,
              "#bd3786"
             ],
             [
              0.5555555555555556,
              "#d8576b"
             ],
             [
              0.6666666666666666,
              "#ed7953"
             ],
             [
              0.7777777777777778,
              "#fb9f3a"
             ],
             [
              0.8888888888888888,
              "#fdca26"
             ],
             [
              1,
              "#f0f921"
             ]
            ],
            "type": "heatmap"
           }
          ],
          "histogram": [
           {
            "marker": {
             "pattern": {
              "fillmode": "overlay",
              "size": 10,
              "solidity": 0.2
             }
            },
            "type": "histogram"
           }
          ],
          "histogram2d": [
           {
            "colorbar": {
             "outlinewidth": 0,
             "ticks": ""
            },
            "colorscale": [
             [
              0,
              "#0d0887"
             ],
             [
              0.1111111111111111,
              "#46039f"
             ],
             [
              0.2222222222222222,
              "#7201a8"
             ],
             [
              0.3333333333333333,
              "#9c179e"
             ],
             [
              0.4444444444444444,
              "#bd3786"
             ],
             [
              0.5555555555555556,
              "#d8576b"
             ],
             [
              0.6666666666666666,
              "#ed7953"
             ],
             [
              0.7777777777777778,
              "#fb9f3a"
             ],
             [
              0.8888888888888888,
              "#fdca26"
             ],
             [
              1,
              "#f0f921"
             ]
            ],
            "type": "histogram2d"
           }
          ],
          "histogram2dcontour": [
           {
            "colorbar": {
             "outlinewidth": 0,
             "ticks": ""
            },
            "colorscale": [
             [
              0,
              "#0d0887"
             ],
             [
              0.1111111111111111,
              "#46039f"
             ],
             [
              0.2222222222222222,
              "#7201a8"
             ],
             [
              0.3333333333333333,
              "#9c179e"
             ],
             [
              0.4444444444444444,
              "#bd3786"
             ],
             [
              0.5555555555555556,
              "#d8576b"
             ],
             [
              0.6666666666666666,
              "#ed7953"
             ],
             [
              0.7777777777777778,
              "#fb9f3a"
             ],
             [
              0.8888888888888888,
              "#fdca26"
             ],
             [
              1,
              "#f0f921"
             ]
            ],
            "type": "histogram2dcontour"
           }
          ],
          "mesh3d": [
           {
            "colorbar": {
             "outlinewidth": 0,
             "ticks": ""
            },
            "type": "mesh3d"
           }
          ],
          "parcoords": [
           {
            "line": {
             "colorbar": {
              "outlinewidth": 0,
              "ticks": ""
             }
            },
            "type": "parcoords"
           }
          ],
          "pie": [
           {
            "automargin": true,
            "type": "pie"
           }
          ],
          "scatter": [
           {
            "fillpattern": {
             "fillmode": "overlay",
             "size": 10,
             "solidity": 0.2
            },
            "type": "scatter"
           }
          ],
          "scatter3d": [
           {
            "line": {
             "colorbar": {
              "outlinewidth": 0,
              "ticks": ""
             }
            },
            "marker": {
             "colorbar": {
              "outlinewidth": 0,
              "ticks": ""
             }
            },
            "type": "scatter3d"
           }
          ],
          "scattercarpet": [
           {
            "marker": {
             "colorbar": {
              "outlinewidth": 0,
              "ticks": ""
             }
            },
            "type": "scattercarpet"
           }
          ],
          "scattergeo": [
           {
            "marker": {
             "colorbar": {
              "outlinewidth": 0,
              "ticks": ""
             }
            },
            "type": "scattergeo"
           }
          ],
          "scattergl": [
           {
            "marker": {
             "colorbar": {
              "outlinewidth": 0,
              "ticks": ""
             }
            },
            "type": "scattergl"
           }
          ],
          "scattermap": [
           {
            "marker": {
             "colorbar": {
              "outlinewidth": 0,
              "ticks": ""
             }
            },
            "type": "scattermap"
           }
          ],
          "scattermapbox": [
           {
            "marker": {
             "colorbar": {
              "outlinewidth": 0,
              "ticks": ""
             }
            },
            "type": "scattermapbox"
           }
          ],
          "scatterpolar": [
           {
            "marker": {
             "colorbar": {
              "outlinewidth": 0,
              "ticks": ""
             }
            },
            "type": "scatterpolar"
           }
          ],
          "scatterpolargl": [
           {
            "marker": {
             "colorbar": {
              "outlinewidth": 0,
              "ticks": ""
             }
            },
            "type": "scatterpolargl"
           }
          ],
          "scatterternary": [
           {
            "marker": {
             "colorbar": {
              "outlinewidth": 0,
              "ticks": ""
             }
            },
            "type": "scatterternary"
           }
          ],
          "surface": [
           {
            "colorbar": {
             "outlinewidth": 0,
             "ticks": ""
            },
            "colorscale": [
             [
              0,
              "#0d0887"
             ],
             [
              0.1111111111111111,
              "#46039f"
             ],
             [
              0.2222222222222222,
              "#7201a8"
             ],
             [
              0.3333333333333333,
              "#9c179e"
             ],
             [
              0.4444444444444444,
              "#bd3786"
             ],
             [
              0.5555555555555556,
              "#d8576b"
             ],
             [
              0.6666666666666666,
              "#ed7953"
             ],
             [
              0.7777777777777778,
              "#fb9f3a"
             ],
             [
              0.8888888888888888,
              "#fdca26"
             ],
             [
              1,
              "#f0f921"
             ]
            ],
            "type": "surface"
           }
          ],
          "table": [
           {
            "cells": {
             "fill": {
              "color": "#EBF0F8"
             },
             "line": {
              "color": "white"
             }
            },
            "header": {
             "fill": {
              "color": "#C8D4E3"
             },
             "line": {
              "color": "white"
             }
            },
            "type": "table"
           }
          ]
         },
         "layout": {
          "annotationdefaults": {
           "arrowcolor": "#2a3f5f",
           "arrowhead": 0,
           "arrowwidth": 1
          },
          "autotypenumbers": "strict",
          "coloraxis": {
           "colorbar": {
            "outlinewidth": 0,
            "ticks": ""
           }
          },
          "colorscale": {
           "diverging": [
            [
             0,
             "#8e0152"
            ],
            [
             0.1,
             "#c51b7d"
            ],
            [
             0.2,
             "#de77ae"
            ],
            [
             0.3,
             "#f1b6da"
            ],
            [
             0.4,
             "#fde0ef"
            ],
            [
             0.5,
             "#f7f7f7"
            ],
            [
             0.6,
             "#e6f5d0"
            ],
            [
             0.7,
             "#b8e186"
            ],
            [
             0.8,
             "#7fbc41"
            ],
            [
             0.9,
             "#4d9221"
            ],
            [
             1,
             "#276419"
            ]
           ],
           "sequential": [
            [
             0,
             "#0d0887"
            ],
            [
             0.1111111111111111,
             "#46039f"
            ],
            [
             0.2222222222222222,
             "#7201a8"
            ],
            [
             0.3333333333333333,
             "#9c179e"
            ],
            [
             0.4444444444444444,
             "#bd3786"
            ],
            [
             0.5555555555555556,
             "#d8576b"
            ],
            [
             0.6666666666666666,
             "#ed7953"
            ],
            [
             0.7777777777777778,
             "#fb9f3a"
            ],
            [
             0.8888888888888888,
             "#fdca26"
            ],
            [
             1,
             "#f0f921"
            ]
           ],
           "sequentialminus": [
            [
             0,
             "#0d0887"
            ],
            [
             0.1111111111111111,
             "#46039f"
            ],
            [
             0.2222222222222222,
             "#7201a8"
            ],
            [
             0.3333333333333333,
             "#9c179e"
            ],
            [
             0.4444444444444444,
             "#bd3786"
            ],
            [
             0.5555555555555556,
             "#d8576b"
            ],
            [
             0.6666666666666666,
             "#ed7953"
            ],
            [
             0.7777777777777778,
             "#fb9f3a"
            ],
            [
             0.8888888888888888,
             "#fdca26"
            ],
            [
             1,
             "#f0f921"
            ]
           ]
          },
          "colorway": [
           "#636efa",
           "#EF553B",
           "#00cc96",
           "#ab63fa",
           "#FFA15A",
           "#19d3f3",
           "#FF6692",
           "#B6E880",
           "#FF97FF",
           "#FECB52"
          ],
          "font": {
           "color": "#2a3f5f"
          },
          "geo": {
           "bgcolor": "white",
           "lakecolor": "white",
           "landcolor": "#E5ECF6",
           "showlakes": true,
           "showland": true,
           "subunitcolor": "white"
          },
          "hoverlabel": {
           "align": "left"
          },
          "hovermode": "closest",
          "mapbox": {
           "style": "light"
          },
          "paper_bgcolor": "white",
          "plot_bgcolor": "#E5ECF6",
          "polar": {
           "angularaxis": {
            "gridcolor": "white",
            "linecolor": "white",
            "ticks": ""
           },
           "bgcolor": "#E5ECF6",
           "radialaxis": {
            "gridcolor": "white",
            "linecolor": "white",
            "ticks": ""
           }
          },
          "scene": {
           "xaxis": {
            "backgroundcolor": "#E5ECF6",
            "gridcolor": "white",
            "gridwidth": 2,
            "linecolor": "white",
            "showbackground": true,
            "ticks": "",
            "zerolinecolor": "white"
           },
           "yaxis": {
            "backgroundcolor": "#E5ECF6",
            "gridcolor": "white",
            "gridwidth": 2,
            "linecolor": "white",
            "showbackground": true,
            "ticks": "",
            "zerolinecolor": "white"
           },
           "zaxis": {
            "backgroundcolor": "#E5ECF6",
            "gridcolor": "white",
            "gridwidth": 2,
            "linecolor": "white",
            "showbackground": true,
            "ticks": "",
            "zerolinecolor": "white"
           }
          },
          "shapedefaults": {
           "line": {
            "color": "#2a3f5f"
           }
          },
          "ternary": {
           "aaxis": {
            "gridcolor": "white",
            "linecolor": "white",
            "ticks": ""
           },
           "baxis": {
            "gridcolor": "white",
            "linecolor": "white",
            "ticks": ""
           },
           "bgcolor": "#E5ECF6",
           "caxis": {
            "gridcolor": "white",
            "linecolor": "white",
            "ticks": ""
           }
          },
          "title": {
           "x": 0.05
          },
          "xaxis": {
           "automargin": true,
           "gridcolor": "white",
           "linecolor": "white",
           "ticks": "",
           "title": {
            "standoff": 15
           },
           "zerolinecolor": "white",
           "zerolinewidth": 2
          },
          "yaxis": {
           "automargin": true,
           "gridcolor": "white",
           "linecolor": "white",
           "ticks": "",
           "title": {
            "standoff": 15
           },
           "zerolinecolor": "white",
           "zerolinewidth": 2
          }
         }
        },
        "title": {
         "text": "CatBoost's Confusion Matrix"
        },
        "xaxis": {
         "anchor": "y",
         "constrain": "domain",
         "domain": [
          0,
          1
         ],
         "scaleanchor": "y"
        },
        "yaxis": {
         "anchor": "x",
         "autorange": "reversed",
         "constrain": "domain",
         "domain": [
          0,
          1
         ]
        }
       }
      },
      "image/png": "[encoded data removed]"
     },
     "metadata": {},
     "output_type": "display_data"
    }
   ],
   "source": [
    "preds = ctb.predict(X_test)\n",
    "\n",
    "accuracy = ctb.score(X_test, y_test)\n",
    "\n",
    "\n",
    "print(f\"ctb acurracy: {accuracy*100:.2f}%\")\n",
    "print(\"\\nClassification report\")\n",
    "print(classification_report(y_test, preds))\n",
    "\n",
    "cm = confusion_matrix(y_test, preds)\n",
    "fig = px.imshow(cm, text_auto=True).update_layout(title={\"text\": \"CatBoost's Confusion Matrix\"}, font=my_font).show()\n"
   ]
  },
  {
   "cell_type": "code",
   "execution_count": 29,
   "id": "89b627c7-08b5-4207-9625-3fb6ad158147",
   "metadata": {},
   "outputs": [
    {
     "name": "stdout",
     "output_type": "stream",
     "text": [
      "0:\tlearn: 0.6890397\ttest: 0.6911082\tbest: 0.6911082 (0)\ttotal: 275ms\tremaining: 4m 34s\n",
      "100:\tlearn: 0.7260844\ttest: 0.7262044\tbest: 0.7262170 (98)\ttotal: 25.4s\tremaining: 3m 46s\n",
      "200:\tlearn: 0.7327585\ttest: 0.7317268\tbest: 0.7318259 (199)\ttotal: 51.1s\tremaining: 3m 23s\n",
      "Stopped by overfitting detector  (10 iterations wait)\n",
      "\n",
      "bestTest = 0.7332810536\n",
      "bestIteration = 269\n",
      "\n",
      "Shrink model to first 270 iterations.\n"
     ]
    }
   ],
   "source": [
    "train_pool = Pool(X_train, y_train, cat_features=cat_features)\n",
    "valid_pool = Pool(X_valid, y_valid, cat_features=cat_features)\n",
    "test_pool = Pool(X_test, y_test, cat_features=cat_features)\n",
    "\n",
    "# Train CatBoost\n",
    "params = {\n",
    "    'iterations': 1000,\n",
    "    'learning_rate': 0.05,\n",
    "    'depth': 7,\n",
    "    'eval_metric': 'TotalF1',\n",
    "    'loss_function': 'MultiClass',\n",
    "    'random_seed': 42,\n",
    "    'early_stopping_rounds': 10,\n",
    "    'verbose': 100\n",
    "}\n",
    "\n",
    "model = CatBoostClassifier(**params)\n",
    "model.fit(train_pool, eval_set=valid_pool, use_best_model=True)\n",
    "\n",
    "# Fast feature importance\n",
    "fstr = model.get_feature_importance(data=train_pool)\n",
    "feature_names = X_train.columns"
   ]
  },
  {
   "cell_type": "code",
   "execution_count": 30,
   "id": "fb5c721d-4b17-4a0d-bea8-d3afe3c78069",
   "metadata": {},
   "outputs": [
    {
     "name": "stdout",
     "output_type": "stream",
     "text": [
      "Index(['CS_SEXO', 'CS_ZONA', 'NU_IDADE_N', 'CS_ESCOL_N', 'CS_RACA', 'SG_UF',\n",
      "       'CS_GESTANT', 'PUERPERA', 'DIABETES', 'PNEUMOPATI', 'IMUNODEPRE',\n",
      "       'RENAL', 'OBESIDADE', 'CARDIOPATI', 'SIND_DOWN', 'HEPATICA',\n",
      "       'FATOR_RISC', 'FEBRE', 'TOSSE', 'GARGANTA', 'DESC_RESP', 'DIARREIA',\n",
      "       'FADIGA', 'SATURACAO', 'DISPNEIA', 'VACINA', 'total_chronic_cormodity',\n",
      "       'total_temporary_cormodity'],\n",
      "      dtype='object')\n"
     ]
    },
    {
     "data": {
      "text/plain": [
       "array([ 1.64223865,  0.38781051, 30.10731473,  6.26197606,  2.82093822,\n",
       "       15.94676638,  0.47171306,  0.24539617,  0.38671954,  0.48692894,\n",
       "        1.049016  ,  1.89005966,  0.5136074 ,  0.87641147,  0.43125692,\n",
       "        0.64507417,  3.89830398,  1.25179858,  3.20779504,  1.07320238,\n",
       "        4.75534488,  1.22350926,  2.7685032 ,  6.01696663,  3.35789382,\n",
       "        4.08702841,  2.62678236,  1.56964359])"
      ]
     },
     "execution_count": 30,
     "metadata": {},
     "output_type": "execute_result"
    }
   ],
   "source": [
    "print(feature_names)\n",
    "fstr"
   ]
  },
  {
   "cell_type": "code",
   "execution_count": null,
   "id": "f3bba7fc-b93d-41b8-a026-0f556f183f81",
   "metadata": {},
   "outputs": [],
   "source": [
    "import shap\n",
    "\n",
    "\n",
    "feature_names = X_train.columns\n",
    "explainer = shap.TreeExplainer(model)\n",
    "\n",
    "# Compute SHAP values for the test dataset\n",
    "shap_values = explainer.shap_values(X_test)\n",
    "\n",
    "# 1. Compute SHAP Interaction Values\n",
    "# This can be computationally expensive, so consider subsampling X_test if large\n",
    "shap_interaction_values = explainer.shap_interaction_values(X_test)\n",
    "\n",
    "# 2. Summary Plot of Feature Importance\n",
    "# Shows the overall impact of each feature\n",
    "print(\"SHAP Summary Plot (Feature Importance)\")\n",
    "shap.summary_plot(shap_values, X_test, feature_names=feature_names)\n",
    "\n",
    "# 3. SHAP Dependence Plots for Feature Interactions\n",
    "# Visualize how one feature interacts with another\n",
    "# Example: For each feature, plot its SHAP values against its values, colored by another feature\n",
    "for i, feature in enumerate(feature_names):\n",
    "    print(f\"Dependence Plot for {feature}\")\n",
    "    # Automatically select the feature with the strongest interaction (or specify manually)\n",
    "    shap.dependence_plot(i, shap_values, X_test, feature_names=feature_names, interaction_index=\"auto\")\n",
    "    plt.show()\n",
    "\n",
    "# 4. Summarize Interaction Values\n",
    "# Compute the mean absolute interaction value for each feature pair\n",
    "interaction_summary = np.abs(shap_interaction_values).mean(0)  # Average over all instances\n",
    "interaction_df = pd.DataFrame(interaction_summary, index=feature_names, columns=feature_names)\n",
    "\n",
    "# Display interaction matrix\n",
    "print(\"\\nMean Absolute SHAP Interaction Values:\")\n",
    "print(interaction_df)\n",
    "\n",
    "# Visualize interaction matrix as a heatmap\n",
    "import seaborn as sns\n",
    "plt.figure(figsize=(10, 8))\n",
    "sns.heatmap(interaction_df, annot=True, cmap=\"YlGnBu\", fmt=\".4f\")\n",
    "plt.title(\"SHAP Feature Interaction Matrix\")\n",
    "plt.show()\n",
    "\n",
    "# 5. Combine with CatBoost Feature Importance\n",
    "# Get CatBoost feature importance (already computed in your code as fstr)\n",
    "fstr = model.get_feature_importance(data=train_pool)\n",
    "feature_importance_df = pd.DataFrame({\n",
    "    'Feature': feature_names,\n",
    "    'CatBoost_Importance': fstr,\n",
    "    'Mean_Abs_SHAP': np.abs(shap_values).mean(axis=0)  # Mean absolute SHAP value per feature\n",
    "})\n",
    "\n"
   ]
  },
  {
   "cell_type": "code",
   "execution_count": null,
   "id": "88e2a57d-a095-45cf-abf1-eff85fb8ea2a",
   "metadata": {},
   "outputs": [],
   "source": [
    "# Sort by CatBoost importance or SHAP importance\n",
    "feature_importance_df = feature_importance_df.sort_values(by='Mean_Abs_SHAP', ascending=False)\n",
    "print(\"\\nFeature Importance (CatBoost and SHAP):\")\n",
    "print(feature_importance_df)\n",
    "\n",
    "# 6. Identify Features to Drop\n",
    "# Features with low SHAP and CatBoost importance, and minimal interactions\n",
    "threshold_shap = 0.01  # Adjust threshold based on your data\n",
    "threshold_catboost = 1.0  # Adjust threshold based on your data\n",
    "low_impact_features = feature_importance_df[\n",
    "    (feature_importance_df['Mean_Abs_SHAP'] < threshold_shap) &\n",
    "    (feature_importance_df['CatBoost_Importance'] < threshold_catboost)\n",
    "]['Feature'].tolist()\n",
    "\n",
    "print(\"\\nFeatures to Consider Dropping (Low Impact):\")\n",
    "print(low_impact_features)"
   ]
  },
  {
   "cell_type": "code",
   "execution_count": null,
   "id": "93dd0326-e46a-45df-90b1-92d142be24a1",
   "metadata": {},
   "outputs": [],
   "source": [
    "import matplotlib.pyplot as plt\n",
    "from sklearn.datasets import load_breast_cancer\n",
    "from sklearn.model_selection import train_test_split\n",
    "from sklearn.linear_model import LogisticRegression\n",
    "from sklearn.metrics import roc_curve, auc\n",
    "from catboost.utils import get_roc_curve, select_threshold\n",
    "\n",
    "y_pred_proba = ctb.predict_proba(X_test)[:, 1] \n",
    "fpr, tpr, thresholds = roc_curve(y_test, y_pred_proba) \n",
    "roc_auc = auc(fpr, tpr)\n",
    "# Plot the ROC curve\n",
    "plt.figure()  \n",
    "plt.plot(fpr, tpr, label='ROC curve (area = %0.2f)' % roc_auc)\n",
    "plt.plot([0, 1], [0, 1], 'k--', label='No Skill')\n",
    "plt.xlim([0.0, 1.0])\n",
    "plt.ylim([0.0, 1.05])\n",
    "plt.xlabel('False Positive Rate')\n",
    "plt.ylabel('True Positive Rate')\n",
    "plt.title('ROC Curve for Breast Cancer Classification')\n",
    "plt.legend()\n",
    "plt.show()\n",
    "\n",
    "catboost_pool = Pool(X_train, y_train, cat_features=cat_features)\n",
    "\n",
    "\n",
    "\n",
    "roc_curve_values = get_roc_curve(ctb, catboost_pool)\n",
    "\n",
    "boundary = select_threshold(ctb,\n",
    "                            curve=roc_curve_values,\n",
    "                            FPR=0.01)\n",
    "\n",
    "print(\"Boundary:\",boundary)"
   ]
  },
  {
   "cell_type": "code",
   "execution_count": null,
   "id": "ab789b69-7cf9-436a-bcce-96ab8819c1c7",
   "metadata": {},
   "outputs": [],
   "source": [
    "df_test['total_chronic_cormodity'] = ((df_test[[        \"OBESIDADE\", \n",
    "                                                        \"RENAL\", \n",
    "                                                        \"CARDIOPATI\",\n",
    "                                                        \"IMUNODEPRE\", \n",
    "                                                        \"DIABETES\", \n",
    "                                                        \"PNEUMOPATI\",\n",
    "                                                        \"HEPATICA\",\n",
    "                                                        \"SIND_DOWN\"]] == 1.0).sum(axis=1))\n",
    "\n",
    "df_test['total_temporary_cormodity'] = (df_test[[       \"FEBRE\",\n",
    "                                                        \"TOSSE\",\n",
    "                                                        \"PUERPERA\",\n",
    "                                                        \"GARGANTA\",\n",
    "                                                        \"DESC_RESP\",\n",
    "                                                        \"DIARREIA\",\n",
    "                                                        \"VOMITO\",\n",
    "                                                        \"FADIGA\",\n",
    "                                                        \"SATURACAO\",\n",
    "                                                        \"DISPNEIA\"]]== 1.0).sum(axis=1)\n"
   ]
  },
  {
   "cell_type": "code",
   "execution_count": null,
   "id": "9da83e64-5971-4c6d-ba28-ea36ae905fcb",
   "metadata": {},
   "outputs": [],
   "source": [
    "test_pred = ctb.predict_proba(df_test_copy)[:,1]\n",
    "test_pred"
   ]
  },
  {
   "cell_type": "code",
   "execution_count": null,
   "id": "632dc4df-2c7e-4132-8b35-2a926c436161",
   "metadata": {},
   "outputs": [],
   "source": [
    "# pd.DataFrame(np.round(test_pred)).reset_index().to_csv('results/catboost_full_categorical.csv', header=['ID', 'EVOLUCAO'], index=False)\n"
   ]
  },
  {
   "cell_type": "code",
   "execution_count": null,
   "id": "3ffbda0d-68b3-4624-80de-c265d95eb0e2",
   "metadata": {},
   "outputs": [],
   "source": []
  }
 ],
 "metadata": {
  "kernelspec": {
   "display_name": "Python 3 (ipykernel)",
   "language": "python",
   "name": "python3"
  },
  "language_info": {
   "codemirror_mode": {
    "name": "ipython",
    "version": 3
   },
   "file_extension": ".py",
   "mimetype": "text/x-python",
   "name": "python",
   "nbconvert_exporter": "python",
   "pygments_lexer": "ipython3",
   "version": "3.12.11"
  }
 },
 "nbformat": 4,
 "nbformat_minor": 5
}
