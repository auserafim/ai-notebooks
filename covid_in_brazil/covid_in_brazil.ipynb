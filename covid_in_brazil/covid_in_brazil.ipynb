{
 "cells": [
  {
   "cell_type": "code",
   "execution_count": 16,
   "id": "899bb7ef-75df-410a-a4d9-4c7324d9f91c",
   "metadata": {
    "scrolled": true
   },
   "outputs": [],
   "source": [
    "import pandas as pd\n",
    "import numpy as np\n",
    "import matplotlib.pyplot as plt\n",
    "import plotly.express as px \n",
    "import seaborn as sns\n",
    "import unidecode, re\n",
    "from sklearn.pipeline import make_pipeline\n",
    "# ImportError: cannot import name '_print_elapsed_time' from 'sklearn.utils'\n",
    "import plotly.graph_objects as go\n",
    "from sklearn.preprocessing import StandardScaler, LabelEncoder\n",
    "from sklearn.model_selection import train_test_split, cross_val_score, StratifiedKFold, RandomizedSearchCV\n",
    "from sklearn.ensemble import RandomForestClassifier, GradientBoostingClassifier\n",
    "from sklearn.linear_model import LinearRegression, LogisticRegression\n",
    "from sklearn.metrics import accuracy_score,f1_score,confusion_matrix, classification_report, roc_auc_score\n",
    "from imblearn.over_sampling import SMOTENC, SMOTEN, ADASYN\n",
    "from scipy import *\n",
    "from sklearn.feature_selection import SelectKBest, f_regression\n",
    "from catboost import CatBoostClassifier, Pool, cv\n",
    "import lightgbm as lgb\n",
    "import joblib\n",
    "from xgboost import XGBClassifier\n",
    "from lightgbm import LGBMClassifier\n",
    "from sklearn.metrics import f1_score, roc_auc_score\n",
    "from sklearn.model_selection import StratifiedKFold\n",
    "from pycaret.classification import *\n",
    "my_font = dict(\n",
    "            family=\"Courier New, monospace\",\n",
    "            size=18,\n",
    "            color=\"Black\",\n",
    "            variant=\"small-caps\",\n",
    ") \n",
    "df = pd.read_csv(\"data/train.csv\")\n",
    "df_test = pd.read_csv(\"data/test.csv\")"
   ]
  },
  {
   "cell_type": "code",
   "execution_count": 4,
   "id": "e1117fe3-629d-448e-9dba-e524a86c79eb",
   "metadata": {},
   "outputs": [],
   "source": [
    "# df.groupby('SG_UF').size().reset_index(name='count').sort_values(by='count', ascending=False)"
   ]
  },
  {
   "cell_type": "code",
   "execution_count": 5,
   "id": "dee717c5-416e-4682-afb0-2ab7c8536a9f",
   "metadata": {},
   "outputs": [],
   "source": [
    "# px.histogram(\n",
    "#     df.groupby(['SG_UF','OBESIDADE']).size().reset_index(name='count').sort_values(by='count', ascending=False),\n",
    "#     x='SG_UF',\n",
    "#     y='count',\n",
    "#     color='SG_UF')\n"
   ]
  },
  {
   "cell_type": "code",
   "execution_count": 6,
   "id": "91ad7d82-7c49-4b3c-ac30-4104d8b7f594",
   "metadata": {},
   "outputs": [],
   "source": [
    "\n",
    "# x = df.groupby('GARGANTA').size().reset_index(name='count').sort_values(by='count', ascending=False)\n",
    "\n",
    "# px.histogram(\n",
    "#      x,\n",
    "#      x='GARGANTA',\n",
    "#      y='count',\n",
    "#      color='GARGANTA')\n",
    "# x"
   ]
  },
  {
   "cell_type": "code",
   "execution_count": 7,
   "id": "989351f9-03dd-435e-a6de-90aa510d6eb1",
   "metadata": {},
   "outputs": [],
   "source": [
    "# px.histogram(\n",
    "#     df.groupby(['SG_UF','CS_SEXO']).size().reset_index(name='count').sort_values(by='count', ascending=False),\n",
    "#     x='SG_UF',\n",
    "#     y='count',\n",
    "#     color='SG_UF')"
   ]
  },
  {
   "cell_type": "code",
   "execution_count": 8,
   "id": "8501e1b1-75e9-4d8a-aea5-992b8054e523",
   "metadata": {},
   "outputs": [],
   "source": [
    "# X_train = df.select_dtypes(['number']).drop(columns=['EVOLUCAO'])\n",
    "# y_train = df['EVOLUCAO']\n",
    "\n",
    "# X_test_sub = df_test.select_dtypes(['number'])"
   ]
  },
  {
   "cell_type": "code",
   "execution_count": 9,
   "id": "2c76f511-b069-476c-8e59-7f84ebbcb532",
   "metadata": {},
   "outputs": [],
   "source": [
    "# X_train, X_test, y_train, y_test= train_test_split(X_train, y_train, test_size = .1, random_state=2)\n"
   ]
  },
  {
   "cell_type": "code",
   "execution_count": 10,
   "id": "5c6a6a09-d1da-48b2-b047-1f2965bcbd22",
   "metadata": {},
   "outputs": [],
   "source": [
    "# catb = CatBoostClassifier(\n",
    "#     iterations=100,      \n",
    "#     learning_rate=0.1,   \n",
    "#     depth=6,              \n",
    "#     verbose=0             \n",
    "# )\n",
    "\n",
    "# catb.fit(X_train, y_train)\n",
    "\n",
    "# preds = catb.predict(X_test)"
   ]
  },
  {
   "cell_type": "code",
   "execution_count": 11,
   "id": "2dbf3c7c-fe9d-4fcf-9201-63e2046752a0",
   "metadata": {},
   "outputs": [],
   "source": [
    "# catboost_accuracy = accuracy_score(y_test, preds)\n",
    "# print(f\"CatBoost's acurracy: {catboost_accuracy*100:.2f}%\")\n",
    "\n",
    "# print(\"\\nClassification report\")\n",
    "# print(classification_report(y_test, preds))\n",
    "\n",
    "# cm = confusion_matrix(y_test, preds)\n",
    "# fig = px.imshow(cm, text_auto=True).update_layout(title={\"text\": \"CatBoost's Confusion Matrix\"}, font=my_font).show()\n"
   ]
  },
  {
   "cell_type": "code",
   "execution_count": 12,
   "id": "df55883f-a1ab-4986-bb7b-5a5544b02480",
   "metadata": {},
   "outputs": [],
   "source": [
    "# test_pred = catb.predict_proba(X_test_sub)[:,1] # chances of death, class: 1.0\n",
    "\n",
    "# pd.DataFrame(np.round(test_pred)).reset_index().to_csv('results/submission_catboost.csv', header=['ID', 'EVOLUCAO'], index=False)"
   ]
  },
  {
   "cell_type": "code",
   "execution_count": 13,
   "id": "9756dd85-d895-4af5-87ed-5b6613d17164",
   "metadata": {},
   "outputs": [],
   "source": [
    "# lightGBM = lgb.LGBMClassifier(random_state=23)\n",
    "\n",
    "# lightGBM.fit(X_train, y_train)\n",
    "\n",
    "# preds = lightGBM.predict(X_test)"
   ]
  },
  {
   "cell_type": "code",
   "execution_count": 14,
   "id": "3be46790-eeec-4d86-99a5-d920a1afe143",
   "metadata": {},
   "outputs": [],
   "source": [
    "# accuracy = lightGBM.score(X_test, y_test)\n",
    "\n",
    "\n",
    "# print(f\"LightGBM acurracy: {accuracy*100:.2f}%\")\n",
    "# print(\"\\nClassification report\")\n",
    "# print(classification_report(y_test, preds))\n",
    "\n",
    "# cm = confusion_matrix(y_test, preds)\n",
    "# fig = px.imshow(cm, text_auto=True).update_layout(title={\"text\": \"LightGBM's Confusion Matrix\"}, font=my_font).show()\n"
   ]
  },
  {
   "cell_type": "code",
   "execution_count": 15,
   "id": "3ff6cca4-6e33-4334-a643-b60c208cd611",
   "metadata": {},
   "outputs": [],
   "source": [
    "# test_pred = lightGBM.predict_proba(X_test_sub)[:,1] # chances of death, class: 1.0\n",
    "\n",
    "# pd.DataFrame(np.round(test_pred)).reset_index().to_csv('results/submission_light_gbm.csv', header=['ID', 'EVOLUCAO'], index=False)"
   ]
  },
  {
   "cell_type": "code",
   "execution_count": 16,
   "id": "68aa8664-7733-415d-919d-e98664d8692a",
   "metadata": {},
   "outputs": [],
   "source": [
    "# rf = RandomForestClassifier()\n",
    "\n",
    "# rf.fit(X_train, y_train)"
   ]
  },
  {
   "cell_type": "code",
   "execution_count": 17,
   "id": "c47202c0-7cf6-49ff-a904-4ea5875bedc9",
   "metadata": {},
   "outputs": [],
   "source": [
    "# preds = rf.predict(X_test)\n",
    "# accuracy = rf.score(X_test, y_test)\n",
    "\n",
    "# print(f\"Accuracy: {accuracy*100:.2f}\")\n",
    "# print(\"\\nClassification report\")\n",
    "# print(classification_report(y_test, preds))\n",
    "\n",
    "# cm = confusion_matrix(y_test, preds)\n",
    "# fig = px.imshow(cm, text_auto=True).update_layout(title={\"text\": \"Random Forest's Confusion Matrix\"}, font=my_font).show()\n",
    "\n"
   ]
  },
  {
   "cell_type": "code",
   "execution_count": 18,
   "id": "fbe23a96-fd3b-48a7-a2bb-afce82adf48a",
   "metadata": {},
   "outputs": [],
   "source": [
    "# xg = XGBClassifier()\n",
    "# xg.fit(X_train, y_train)\n",
    "# preds = xg.predict(X_test)\n"
   ]
  },
  {
   "cell_type": "code",
   "execution_count": 19,
   "id": "25280b6c-47ea-4934-9575-0cd7c0448957",
   "metadata": {},
   "outputs": [],
   "source": [
    "# accuracy = xg.score(X_test, y_test)\n",
    "\n",
    "# print(f\"Accuracy: {accuracy*100:.2f}\")\n",
    "# print(\"\\nClassification report\")\n",
    "# print(classification_report(y_test, preds))\n",
    "\n",
    "# cm = confusion_matrix(y_test, preds)\n",
    "# fig = px.imshow(cm, text_auto=True).update_layout(title={\"text\": \"XGBoost's Confusion Matrix\"}, font=my_font).show()\n"
   ]
  },
  {
   "cell_type": "code",
   "execution_count": 20,
   "id": "71c153d9-a726-44ca-9610-e369702f1396",
   "metadata": {},
   "outputs": [],
   "source": [
    "# test_pred = xg.predict_proba(X_test_sub)[:,1] # chances of death, class: 1.0\n",
    "\n",
    "# pd.DataFrame(np.round(test_pred)).reset_index().to_csv('submission_xg.csv', header=['ID', 'EVOLUCAO'], index=False)"
   ]
  },
  {
   "cell_type": "markdown",
   "id": "63729001-cbdb-43d9-91d7-d02022a72fad",
   "metadata": {},
   "source": [
    "# Now we can try to treat this dataset\n",
    "- Let us start by checking what columns have more missing values\n",
    "- Then we can drop rows with more that 90% of the data NaN"
   ]
  },
  {
   "cell_type": "code",
   "execution_count": 21,
   "id": "d474efa6-3809-4c40-9283-bf6f08e75279",
   "metadata": {},
   "outputs": [],
   "source": [
    "# px.histogram(df.isna().sum().reset_index(name='count').sort_values(by='count', ascending=False),\n",
    "#             x='index', y='count', color='count', color_discrete_sequence= px.colors.sequential.Plasma_r,\n",
    "#              title=\"Most frequent columns with missing values\").update_layout(font = my_font)"
   ]
  },
  {
   "cell_type": "code",
   "execution_count": 22,
   "id": "90bdaf39-0962-459a-9f6a-b2e609075aba",
   "metadata": {},
   "outputs": [],
   "source": [
    "# x = df.isna().sum().reset_index(name='count').sort_values(by='count', ascending=False)\n",
    "# x['pecentage_of_missing_data'] = (x['count'] / len(df))*100\n",
    "# x"
   ]
  },
  {
   "cell_type": "code",
   "execution_count": 23,
   "id": "3f9c7468-fba1-456c-85b9-0e5aa23225f0",
   "metadata": {},
   "outputs": [],
   "source": [
    "# px.histogram(df.isna().sum().reset_index(name='count').sort_values(by='count', ascending=True).head(20),\n",
    "#             x='index', y='count', color='count', color_discrete_sequence= px.colors.sequential.Plasma_r,\n",
    "#              title=\"Less frequent columns with missing values\").update_layout(font = my_font)"
   ]
  },
  {
   "cell_type": "code",
   "execution_count": 8,
   "id": "e7213011-e3d1-4c32-b6d7-643e897a7054",
   "metadata": {},
   "outputs": [
    {
     "name": "stdout",
     "output_type": "stream",
     "text": [
      "<class 'pandas.core.frame.DataFrame'>\n",
      "Index: 495772 entries, 0 to 498319\n",
      "Data columns (total 32 columns):\n",
      " #   Column      Non-Null Count   Dtype  \n",
      "---  ------      --------------   -----  \n",
      " 0   DT_NOTIFIC  495772 non-null  object \n",
      " 1   CS_SEXO     495772 non-null  object \n",
      " 2   CO_RG_RESI  423724 non-null  float64\n",
      " 3   ID_MN_RESI  495729 non-null  object \n",
      " 4   CS_ZONA     444976 non-null  float64\n",
      " 5   NU_IDADE_N  495772 non-null  int64  \n",
      " 6   CS_ESCOL_N  351267 non-null  float64\n",
      " 7   CS_RACA     477107 non-null  float64\n",
      " 8   SG_UF       495729 non-null  object \n",
      " 9   CS_GESTANT  495772 non-null  int64  \n",
      " 10  PUERPERA    199555 non-null  float64\n",
      " 11  DIABETES    245926 non-null  float64\n",
      " 12  PNEUMOPATI  205916 non-null  float64\n",
      " 13  IMUNODEPRE  202774 non-null  float64\n",
      " 14  RENAL       205586 non-null  float64\n",
      " 15  OBESIDADE   207458 non-null  float64\n",
      " 16  OBES_IMC    14525 non-null   float64\n",
      " 17  CARDIOPATI  262135 non-null  float64\n",
      " 18  SIND_DOWN   200235 non-null  float64\n",
      " 19  HEPATICA    200587 non-null  float64\n",
      " 20  FATOR_RISC  318303 non-null  float64\n",
      " 21  FEBRE       437490 non-null  float64\n",
      " 22  TOSSE       445882 non-null  float64\n",
      " 23  GARGANTA    373880 non-null  float64\n",
      " 24  DESC_RESP   414696 non-null  float64\n",
      " 25  DIARREIA    368584 non-null  float64\n",
      " 26  VOMITO      361655 non-null  float64\n",
      " 27  FADIGA      229510 non-null  float64\n",
      " 28  SATURACAO   420938 non-null  float64\n",
      " 29  DISPNEIA    444083 non-null  float64\n",
      " 30  VACINA      397155 non-null  float64\n",
      " 31  EVOLUCAO    495772 non-null  float64\n",
      "dtypes: float64(26), int64(2), object(4)\n",
      "memory usage: 124.8+ MB\n"
     ]
    }
   ],
   "source": [
    "missing_counts = df.isnull().sum(axis=1)\n",
    "thresh = 23\n",
    "df_no_nulls = df[missing_counts < thresh]\n",
    "df_no_nulls.info()"
   ]
  },
  {
   "cell_type": "markdown",
   "id": "4f9bf4b1-a018-4ec8-93ed-16d9b7e450a3",
   "metadata": {},
   "source": [
    "### Note: You cannot just filter out all columns with ANY missing values\n",
    " - The accuracy of all models pretty much drops drastically"
   ]
  },
  {
   "cell_type": "markdown",
   "id": "84dd760b-7d8b-45f1-8dab-2a7916f9912f",
   "metadata": {},
   "source": [
    "### Checking correlation between variables"
   ]
  },
  {
   "cell_type": "code",
   "execution_count": 15,
   "id": "5aaf96cd-72cd-4a12-8f74-e5d825e5d2ee",
   "metadata": {},
   "outputs": [],
   "source": [
    "# plt.figure(figsize=(12, 12))\n",
    "# sns.heatmap(df.corr(numeric_only=True), annot=True, cmap='viridis', fmt=\".1f\")"
   ]
  },
  {
   "cell_type": "markdown",
   "id": "b939f5ea-f09d-4a83-b25c-f6fea4dec5f1",
   "metadata": {},
   "source": [
    "## Frist, we can create a total_comorbities columns to represent the total amount of comordities one has.\n",
    "    - We will separate it in chronic and temporary"
   ]
  },
  {
   "cell_type": "code",
   "execution_count": 45,
   "id": "867f63d7-c648-4fb3-b84e-2b47633ef918",
   "metadata": {},
   "outputs": [],
   "source": [
    "df_no_nulls['total_chronic_cormodity'] = ((df_no_nulls[[\"OBESIDADE\", \n",
    "                                                        \"RENAL\", \n",
    "                                                        \"CARDIOPATI\",\n",
    "                                                        \"IMUNODEPRE\", \n",
    "                                                        \"DIABETES\", \n",
    "                                                        \"PNEUMOPATI\",\n",
    "                                                        \"HEPATICA\",\n",
    "                                                        \"SIND_DOWN\"]] == 1.0).sum(axis=1))\n",
    "\n",
    "df_no_nulls['total_temporary_cormodity'] = (df_no_nulls[[\"FEBRE\",\n",
    "                                                        \"TOSSE\",\n",
    "                                                        \"PUERPERA\",\n",
    "                                                        \"GARGANTA\",\n",
    "                                                        \"DESC_RESP\",\n",
    "                                                        \"DIARREIA\",\n",
    "                                                        \"VOMITO\",\n",
    "                                                        \"FADIGA\",\n",
    "                                                        \"SATURACAO\",\n",
    "                                                        \"DISPNEIA\"]]== 1.0).sum(axis=1)"
   ]
  },
  {
   "cell_type": "markdown",
   "id": "2d01d473-4e05-492d-afc3-7a18cee97f63",
   "metadata": {},
   "source": [
    "# Creating a function to handle missing values"
   ]
  },
  {
   "cell_type": "code",
   "execution_count": 46,
   "id": "7cf1a338-2173-4786-8e27-9d315d7bf0e5",
   "metadata": {},
   "outputs": [],
   "source": [
    "class DataPreprocessor:\n",
    "    def __init__(self, dataframe):\n",
    "        self.df = dataframe.copy()\n",
    "    \n",
    "    def fill_rows_with_ints(self, columns_to_fill, missing_value=0):\n",
    "        for col in columns_to_fill:\n",
    "            if col in self.df.columns:\n",
    "                self.df[col] = self.df[col].fillna(missing_value)\n",
    "                self.df[col] = self.df[col].astype(int)\n",
    "        return self.df\n",
    "    \n",
    "    def fill_null_rows(self, columns_to_fill, missing_value):\n",
    "        for col in columns_to_fill:\n",
    "            if col in self.df.columns:\n",
    "                self.df[col] = self.df[col].fillna(missing_value)\n",
    "                self.df[col] = self.df[col].astype(str)\n",
    "\n",
    "        return self.df"
   ]
  },
  {
   "cell_type": "code",
   "execution_count": 47,
   "id": "2f5efd63-9707-4ebe-b6f3-9d181d9a66f5",
   "metadata": {},
   "outputs": [],
   "source": [
    "# Filling nulls with 9 and converting everything to category\n",
    "\n",
    "preprocessor = DataPreprocessor(df_no_nulls)\n",
    "preprocessor_test = DataPreprocessor(df_test)\n",
    "\n",
    "columns_to_fill = df_no_nulls.select_dtypes(['float']).columns.tolist()\n",
    "\n",
    "processed_df = preprocessor.fill_rows_with_ints(columns_to_fill, missing_value=9)\n",
    "processed_df_test = preprocessor_test.fill_rows_with_ints(columns_to_fill, missing_value=9)"
   ]
  },
  {
   "cell_type": "code",
   "execution_count": 48,
   "id": "4a48472a-b0e9-4e16-984a-cfeb36210742",
   "metadata": {},
   "outputs": [],
   "source": [
    "columns_to_fill = [\n",
    "                   \"OBESIDADE\", \n",
    "                   \"RENAL\", \n",
    "                   \"CARDIOPATI\",\n",
    "                   \"IMUNODEPRE\", \n",
    "                   \"DIABETES\", \n",
    "                   \"PNEUMOPATI\",\n",
    "                   \"HEPATICA\",\n",
    "                   \"FEBRE\",\n",
    "                   \"TOSSE\",\n",
    "                   \"GARGANTA\",\n",
    "                   \"DESC_RESP\",\n",
    "                   \"DIARREIA\",\n",
    "                   \"VOMITO\",\n",
    "                   \"FADIGA\",\n",
    "                   \"SATURACAO\",\n",
    "                   \"DISPNEIA\",\n",
    "                   \"CS_RACA\",\n",
    "                   \"CS_ZONA\",\n",
    "                   \"VACINA\",\n",
    "                   \"CS_ESCOL_N\",\n",
    "                   \"FATOR_RISC\",\n",
    "                   \"SIND_DOWN\",\n",
    "                   \"CO_RG_RESI\",\n",
    "                   \"PUERPERA\",\n",
    "                   \"CS_SEXO\",\n",
    "                   \"SG_UF\",\n",
    "                   \"EVOLUCAO\",\n",
    "                   \"CS_GESTANT\"\n",
    "                  ] # 22 columns \n",
    "\n",
    "preprocessor = DataPreprocessor(processed_df)\n",
    "preprocessor_test = DataPreprocessor(processed_df_test)\n",
    "\n",
    "df_2 = preprocessor.fill_null_rows(columns_to_fill, 9)\n",
    "\n",
    "\n",
    "df_test_copy = preprocessor_test.fill_null_rows(columns_to_fill, 9)\n",
    "\n",
    "df_2.drop(columns={\"DT_NOTIFIC\", \"ID_MN_RESI\",\"OBES_IMC\", \"CO_RG_RESI\", \"TOSSE\"}, inplace=True)\n",
    "df_test_copy.drop(columns={\"DT_NOTIFIC\", \"ID_MN_RESI\",\"OBES_IMC\", \"CO_RG_RESI\", \"TOSSE\"}, inplace=True)\n",
    "\n",
    "\n",
    "X = df_2.drop(columns={'EVOLUCAO'})\n",
    "y = df_2['EVOLUCAO']"
   ]
  },
  {
   "cell_type": "markdown",
   "id": "2cb127f1-4b0c-4c4e-9fc2-4a88233887b1",
   "metadata": {},
   "source": [
    "## Since we got an imbalanced dataset, let us oversample it with SMOTE and ADASYN"
   ]
  },
  {
   "cell_type": "code",
   "execution_count": 20,
   "id": "a8d5a77d-79d2-45eb-bfa1-bea4b3ae58f0",
   "metadata": {},
   "outputs": [],
   "source": [
    "# y = pd.DataFrame(y)\n",
    "X_temp, X_test, y_temp, y_test = train_test_split(X, y, test_size=0.1, random_state=32)\n",
    "\n",
    "X_train, X_valid, y_train, y_valid = train_test_split(X_temp, y_temp, test_size=0.1, random_state=32)\n",
    "# Note: 0.25 * 0.8 = 0.20, so overall 60/20/20"
   ]
  },
  {
   "cell_type": "code",
   "execution_count": 23,
   "id": "b7ee4ed5-5042-487e-a0fe-acb75ec79fc0",
   "metadata": {},
   "outputs": [
    {
     "name": "stdout",
     "output_type": "stream",
     "text": [
      "(149496, 28) (149496,)\n"
     ]
    }
   ],
   "source": [
    "X_small, _, y_small, _ = train_test_split(\n",
    "    X, y, \n",
    "    train_size=0.3,  # use 15% of data\n",
    "    stratify=y,      # keep class balance\n",
    "    random_state=42\n",
    ")\n",
    "\n",
    "print(X_small.shape, y_small.shape)"
   ]
  },
  {
   "cell_type": "code",
   "execution_count": 25,
   "id": "1fde769c-c4f3-4ce3-aa5a-00acbff768f4",
   "metadata": {},
   "outputs": [],
   "source": [
    "cat_feats = [X.columns.get_loc(c) for c in X.select_dtypes(['object']).columns]"
   ]
  },
  {
   "cell_type": "code",
   "execution_count": 26,
   "id": "fd4bb159-8dc4-44b2-8f9d-5bf5e3c563d6",
   "metadata": {},
   "outputs": [
    {
     "name": "stdout",
     "output_type": "stream",
     "text": [
      "Before: Counter({'0': 97886, '1': 51610})\n",
      "After: Counter({'0': 97886, '1': 97886})\n"
     ]
    }
   ],
   "source": [
    "from collections import Counter\n",
    "sm = SMOTENC(random_state=32, categorical_features=cat_feats)\n",
    "X_resample, y_resample = sm.fit_resample (X_small, y_small)\n",
    "\n",
    "\n",
    "print(\"Before:\", Counter(y_small))\n",
    "print(\"After:\", Counter(y_resample))"
   ]
  },
  {
   "cell_type": "code",
   "execution_count": 213,
   "id": "dd224b11-d382-4eec-96bb-fb67459dc31b",
   "metadata": {},
   "outputs": [
    {
     "name": "stdout",
     "output_type": "stream",
     "text": [
      "<class 'pandas.core.series.Series'>\n",
      "Index: 80479 entries, 193505 to 104701\n",
      "Series name: EVOLUCAO\n",
      "Non-Null Count  Dtype \n",
      "--------------  ----- \n",
      "80479 non-null  object\n",
      "dtypes: object(1)\n",
      "memory usage: 1.2+ MB\n"
     ]
    }
   ],
   "source": [
    "y_valid.info()"
   ]
  },
  {
   "cell_type": "code",
   "execution_count": 214,
   "id": "1aa57639-205d-4a5d-b1d8-a3466003ca17",
   "metadata": {},
   "outputs": [
    {
     "name": "stdout",
     "output_type": "stream",
     "text": [
      "ctb acurracy: 70.29%\n",
      "\n",
      "Classification report\n",
      "              precision    recall  f1-score   support\n",
      "\n",
      "           0       0.82      0.70      0.76     52804\n",
      "           1       0.55      0.71      0.62     27675\n",
      "\n",
      "    accuracy                           0.70     80479\n",
      "   macro avg       0.69      0.70      0.69     80479\n",
      "weighted avg       0.73      0.70      0.71     80479\n",
      "\n"
     ]
    },
    {
     "data": {
      "application/vnd.plotly.v1+json": {
       "config": {
        "plotlyServerURL": "https://plot.ly"
       },
       "data": [
        {
         "coloraxis": "coloraxis",
         "hovertemplate": "x: %{x}<br>y: %{y}<br>color: %{z}<extra></extra>",
         "name": "0",
         "texttemplate": "%{z}",
         "type": "heatmap",
         "xaxis": "x",
         "yaxis": "y",
         "z": {
          "bdata": "vpAAAIY9AADhHwAAOkwAAA==",
          "dtype": "i4",
          "shape": "2, 2"
         }
        }
       ],
       "layout": {
        "coloraxis": {
         "colorscale": [
          [
           0,
           "#0d0887"
          ],
          [
           0.1111111111111111,
           "#46039f"
          ],
          [
           0.2222222222222222,
           "#7201a8"
          ],
          [
           0.3333333333333333,
           "#9c179e"
          ],
          [
           0.4444444444444444,
           "#bd3786"
          ],
          [
           0.5555555555555556,
           "#d8576b"
          ],
          [
           0.6666666666666666,
           "#ed7953"
          ],
          [
           0.7777777777777778,
           "#fb9f3a"
          ],
          [
           0.8888888888888888,
           "#fdca26"
          ],
          [
           1,
           "#f0f921"
          ]
         ]
        },
        "font": {
         "color": "Black",
         "family": "Courier New, monospace",
         "size": 18,
         "variant": "small-caps"
        },
        "margin": {
         "t": 60
        },
        "template": {
         "data": {
          "bar": [
           {
            "error_x": {
             "color": "#2a3f5f"
            },
            "error_y": {
             "color": "#2a3f5f"
            },
            "marker": {
             "line": {
              "color": "#E5ECF6",
              "width": 0.5
             },
             "pattern": {
              "fillmode": "overlay",
              "size": 10,
              "solidity": 0.2
             }
            },
            "type": "bar"
           }
          ],
          "barpolar": [
           {
            "marker": {
             "line": {
              "color": "#E5ECF6",
              "width": 0.5
             },
             "pattern": {
              "fillmode": "overlay",
              "size": 10,
              "solidity": 0.2
             }
            },
            "type": "barpolar"
           }
          ],
          "carpet": [
           {
            "aaxis": {
             "endlinecolor": "#2a3f5f",
             "gridcolor": "white",
             "linecolor": "white",
             "minorgridcolor": "white",
             "startlinecolor": "#2a3f5f"
            },
            "baxis": {
             "endlinecolor": "#2a3f5f",
             "gridcolor": "white",
             "linecolor": "white",
             "minorgridcolor": "white",
             "startlinecolor": "#2a3f5f"
            },
            "type": "carpet"
           }
          ],
          "choropleth": [
           {
            "colorbar": {
             "outlinewidth": 0,
             "ticks": ""
            },
            "type": "choropleth"
           }
          ],
          "contour": [
           {
            "colorbar": {
             "outlinewidth": 0,
             "ticks": ""
            },
            "colorscale": [
             [
              0,
              "#0d0887"
             ],
             [
              0.1111111111111111,
              "#46039f"
             ],
             [
              0.2222222222222222,
              "#7201a8"
             ],
             [
              0.3333333333333333,
              "#9c179e"
             ],
             [
              0.4444444444444444,
              "#bd3786"
             ],
             [
              0.5555555555555556,
              "#d8576b"
             ],
             [
              0.6666666666666666,
              "#ed7953"
             ],
             [
              0.7777777777777778,
              "#fb9f3a"
             ],
             [
              0.8888888888888888,
              "#fdca26"
             ],
             [
              1,
              "#f0f921"
             ]
            ],
            "type": "contour"
           }
          ],
          "contourcarpet": [
           {
            "colorbar": {
             "outlinewidth": 0,
             "ticks": ""
            },
            "type": "contourcarpet"
           }
          ],
          "heatmap": [
           {
            "colorbar": {
             "outlinewidth": 0,
             "ticks": ""
            },
            "colorscale": [
             [
              0,
              "#0d0887"
             ],
             [
              0.1111111111111111,
              "#46039f"
             ],
             [
              0.2222222222222222,
              "#7201a8"
             ],
             [
              0.3333333333333333,
              "#9c179e"
             ],
             [
              0.4444444444444444,
              "#bd3786"
             ],
             [
              0.5555555555555556,
              "#d8576b"
             ],
             [
              0.6666666666666666,
              "#ed7953"
             ],
             [
              0.7777777777777778,
              "#fb9f3a"
             ],
             [
              0.8888888888888888,
              "#fdca26"
             ],
             [
              1,
              "#f0f921"
             ]
            ],
            "type": "heatmap"
           }
          ],
          "histogram": [
           {
            "marker": {
             "pattern": {
              "fillmode": "overlay",
              "size": 10,
              "solidity": 0.2
             }
            },
            "type": "histogram"
           }
          ],
          "histogram2d": [
           {
            "colorbar": {
             "outlinewidth": 0,
             "ticks": ""
            },
            "colorscale": [
             [
              0,
              "#0d0887"
             ],
             [
              0.1111111111111111,
              "#46039f"
             ],
             [
              0.2222222222222222,
              "#7201a8"
             ],
             [
              0.3333333333333333,
              "#9c179e"
             ],
             [
              0.4444444444444444,
              "#bd3786"
             ],
             [
              0.5555555555555556,
              "#d8576b"
             ],
             [
              0.6666666666666666,
              "#ed7953"
             ],
             [
              0.7777777777777778,
              "#fb9f3a"
             ],
             [
              0.8888888888888888,
              "#fdca26"
             ],
             [
              1,
              "#f0f921"
             ]
            ],
            "type": "histogram2d"
           }
          ],
          "histogram2dcontour": [
           {
            "colorbar": {
             "outlinewidth": 0,
             "ticks": ""
            },
            "colorscale": [
             [
              0,
              "#0d0887"
             ],
             [
              0.1111111111111111,
              "#46039f"
             ],
             [
              0.2222222222222222,
              "#7201a8"
             ],
             [
              0.3333333333333333,
              "#9c179e"
             ],
             [
              0.4444444444444444,
              "#bd3786"
             ],
             [
              0.5555555555555556,
              "#d8576b"
             ],
             [
              0.6666666666666666,
              "#ed7953"
             ],
             [
              0.7777777777777778,
              "#fb9f3a"
             ],
             [
              0.8888888888888888,
              "#fdca26"
             ],
             [
              1,
              "#f0f921"
             ]
            ],
            "type": "histogram2dcontour"
           }
          ],
          "mesh3d": [
           {
            "colorbar": {
             "outlinewidth": 0,
             "ticks": ""
            },
            "type": "mesh3d"
           }
          ],
          "parcoords": [
           {
            "line": {
             "colorbar": {
              "outlinewidth": 0,
              "ticks": ""
             }
            },
            "type": "parcoords"
           }
          ],
          "pie": [
           {
            "automargin": true,
            "type": "pie"
           }
          ],
          "scatter": [
           {
            "fillpattern": {
             "fillmode": "overlay",
             "size": 10,
             "solidity": 0.2
            },
            "type": "scatter"
           }
          ],
          "scatter3d": [
           {
            "line": {
             "colorbar": {
              "outlinewidth": 0,
              "ticks": ""
             }
            },
            "marker": {
             "colorbar": {
              "outlinewidth": 0,
              "ticks": ""
             }
            },
            "type": "scatter3d"
           }
          ],
          "scattercarpet": [
           {
            "marker": {
             "colorbar": {
              "outlinewidth": 0,
              "ticks": ""
             }
            },
            "type": "scattercarpet"
           }
          ],
          "scattergeo": [
           {
            "marker": {
             "colorbar": {
              "outlinewidth": 0,
              "ticks": ""
             }
            },
            "type": "scattergeo"
           }
          ],
          "scattergl": [
           {
            "marker": {
             "colorbar": {
              "outlinewidth": 0,
              "ticks": ""
             }
            },
            "type": "scattergl"
           }
          ],
          "scattermap": [
           {
            "marker": {
             "colorbar": {
              "outlinewidth": 0,
              "ticks": ""
             }
            },
            "type": "scattermap"
           }
          ],
          "scattermapbox": [
           {
            "marker": {
             "colorbar": {
              "outlinewidth": 0,
              "ticks": ""
             }
            },
            "type": "scattermapbox"
           }
          ],
          "scatterpolar": [
           {
            "marker": {
             "colorbar": {
              "outlinewidth": 0,
              "ticks": ""
             }
            },
            "type": "scatterpolar"
           }
          ],
          "scatterpolargl": [
           {
            "marker": {
             "colorbar": {
              "outlinewidth": 0,
              "ticks": ""
             }
            },
            "type": "scatterpolargl"
           }
          ],
          "scatterternary": [
           {
            "marker": {
             "colorbar": {
              "outlinewidth": 0,
              "ticks": ""
             }
            },
            "type": "scatterternary"
           }
          ],
          "surface": [
           {
            "colorbar": {
             "outlinewidth": 0,
             "ticks": ""
            },
            "colorscale": [
             [
              0,
              "#0d0887"
             ],
             [
              0.1111111111111111,
              "#46039f"
             ],
             [
              0.2222222222222222,
              "#7201a8"
             ],
             [
              0.3333333333333333,
              "#9c179e"
             ],
             [
              0.4444444444444444,
              "#bd3786"
             ],
             [
              0.5555555555555556,
              "#d8576b"
             ],
             [
              0.6666666666666666,
              "#ed7953"
             ],
             [
              0.7777777777777778,
              "#fb9f3a"
             ],
             [
              0.8888888888888888,
              "#fdca26"
             ],
             [
              1,
              "#f0f921"
             ]
            ],
            "type": "surface"
           }
          ],
          "table": [
           {
            "cells": {
             "fill": {
              "color": "#EBF0F8"
             },
             "line": {
              "color": "white"
             }
            },
            "header": {
             "fill": {
              "color": "#C8D4E3"
             },
             "line": {
              "color": "white"
             }
            },
            "type": "table"
           }
          ]
         },
         "layout": {
          "annotationdefaults": {
           "arrowcolor": "#2a3f5f",
           "arrowhead": 0,
           "arrowwidth": 1
          },
          "autotypenumbers": "strict",
          "coloraxis": {
           "colorbar": {
            "outlinewidth": 0,
            "ticks": ""
           }
          },
          "colorscale": {
           "diverging": [
            [
             0,
             "#8e0152"
            ],
            [
             0.1,
             "#c51b7d"
            ],
            [
             0.2,
             "#de77ae"
            ],
            [
             0.3,
             "#f1b6da"
            ],
            [
             0.4,
             "#fde0ef"
            ],
            [
             0.5,
             "#f7f7f7"
            ],
            [
             0.6,
             "#e6f5d0"
            ],
            [
             0.7,
             "#b8e186"
            ],
            [
             0.8,
             "#7fbc41"
            ],
            [
             0.9,
             "#4d9221"
            ],
            [
             1,
             "#276419"
            ]
           ],
           "sequential": [
            [
             0,
             "#0d0887"
            ],
            [
             0.1111111111111111,
             "#46039f"
            ],
            [
             0.2222222222222222,
             "#7201a8"
            ],
            [
             0.3333333333333333,
             "#9c179e"
            ],
            [
             0.4444444444444444,
             "#bd3786"
            ],
            [
             0.5555555555555556,
             "#d8576b"
            ],
            [
             0.6666666666666666,
             "#ed7953"
            ],
            [
             0.7777777777777778,
             "#fb9f3a"
            ],
            [
             0.8888888888888888,
             "#fdca26"
            ],
            [
             1,
             "#f0f921"
            ]
           ],
           "sequentialminus": [
            [
             0,
             "#0d0887"
            ],
            [
             0.1111111111111111,
             "#46039f"
            ],
            [
             0.2222222222222222,
             "#7201a8"
            ],
            [
             0.3333333333333333,
             "#9c179e"
            ],
            [
             0.4444444444444444,
             "#bd3786"
            ],
            [
             0.5555555555555556,
             "#d8576b"
            ],
            [
             0.6666666666666666,
             "#ed7953"
            ],
            [
             0.7777777777777778,
             "#fb9f3a"
            ],
            [
             0.8888888888888888,
             "#fdca26"
            ],
            [
             1,
             "#f0f921"
            ]
           ]
          },
          "colorway": [
           "#636efa",
           "#EF553B",
           "#00cc96",
           "#ab63fa",
           "#FFA15A",
           "#19d3f3",
           "#FF6692",
           "#B6E880",
           "#FF97FF",
           "#FECB52"
          ],
          "font": {
           "color": "#2a3f5f"
          },
          "geo": {
           "bgcolor": "white",
           "lakecolor": "white",
           "landcolor": "#E5ECF6",
           "showlakes": true,
           "showland": true,
           "subunitcolor": "white"
          },
          "hoverlabel": {
           "align": "left"
          },
          "hovermode": "closest",
          "mapbox": {
           "style": "light"
          },
          "paper_bgcolor": "white",
          "plot_bgcolor": "#E5ECF6",
          "polar": {
           "angularaxis": {
            "gridcolor": "white",
            "linecolor": "white",
            "ticks": ""
           },
           "bgcolor": "#E5ECF6",
           "radialaxis": {
            "gridcolor": "white",
            "linecolor": "white",
            "ticks": ""
           }
          },
          "scene": {
           "xaxis": {
            "backgroundcolor": "#E5ECF6",
            "gridcolor": "white",
            "gridwidth": 2,
            "linecolor": "white",
            "showbackground": true,
            "ticks": "",
            "zerolinecolor": "white"
           },
           "yaxis": {
            "backgroundcolor": "#E5ECF6",
            "gridcolor": "white",
            "gridwidth": 2,
            "linecolor": "white",
            "showbackground": true,
            "ticks": "",
            "zerolinecolor": "white"
           },
           "zaxis": {
            "backgroundcolor": "#E5ECF6",
            "gridcolor": "white",
            "gridwidth": 2,
            "linecolor": "white",
            "showbackground": true,
            "ticks": "",
            "zerolinecolor": "white"
           }
          },
          "shapedefaults": {
           "line": {
            "color": "#2a3f5f"
           }
          },
          "ternary": {
           "aaxis": {
            "gridcolor": "white",
            "linecolor": "white",
            "ticks": ""
           },
           "baxis": {
            "gridcolor": "white",
            "linecolor": "white",
            "ticks": ""
           },
           "bgcolor": "#E5ECF6",
           "caxis": {
            "gridcolor": "white",
            "linecolor": "white",
            "ticks": ""
           }
          },
          "title": {
           "x": 0.05
          },
          "xaxis": {
           "automargin": true,
           "gridcolor": "white",
           "linecolor": "white",
           "ticks": "",
           "title": {
            "standoff": 15
           },
           "zerolinecolor": "white",
           "zerolinewidth": 2
          },
          "yaxis": {
           "automargin": true,
           "gridcolor": "white",
           "linecolor": "white",
           "ticks": "",
           "title": {
            "standoff": 15
           },
           "zerolinecolor": "white",
           "zerolinewidth": 2
          }
         }
        },
        "title": {
         "text": "CatBoost's Confusion Matrix"
        },
        "xaxis": {
         "anchor": "y",
         "constrain": "domain",
         "domain": [
          0,
          1
         ],
         "scaleanchor": "y"
        },
        "yaxis": {
         "anchor": "x",
         "autorange": "reversed",
         "constrain": "domain",
         "domain": [
          0,
          1
         ]
        }
       }
      },
      "image/png": "[encoded data removed]"
     },
     "metadata": {},
     "output_type": "display_data"
    }
   ],
   "source": [
    "\n",
    "for col in X.select_dtypes(['object']).columns:\n",
    "    X[col] = X[col].astype('category')\n",
    "    X_valid[col] = X_valid[col].astype('category')\n",
    "    X_test[col] = X_test[col].astype('category')\n",
    "    X_resample[col] = X_resample[col].astype('category')\n",
    "   \n",
    "\n",
    "\n",
    "cat_features = [X.columns.get_loc(c) for c in X.select_dtypes(['category']).columns]\n",
    "\n",
    "params = {\n",
    "    'n_estimators': 150,          # equivalent to iterations\n",
    "    'learning_rate': 0.05,\n",
    "    'max_depth': 7,\n",
    "    'random_state': 32,\n",
    "    'extra_trees': True,\n",
    "    'metric': 'binary_logloss',\n",
    "    'min_data_in_leaf': 1000,\n",
    "    'num_leaves': 30,\n",
    "    'colsample_bytree': 0.7,       # similar to rsm\n",
    "    'reg_alpha': 0.1,\n",
    "    'reg_lambda': 6,               # L2 regularization\n",
    "    'bagging_fraction': 0.7,       # subsample ratio (use with bagging_freq)\n",
    "    'bagging_freq': 1,\n",
    "    'metric': 'TotalF1',     # default eval metric\n",
    "    'verbose': -1,\n",
    "    'lambda_l1': 1.0,\n",
    "    #'early_stopping_rounds':10,\n",
    "    'verbose': -1\n",
    "\n",
    "}\n",
    "\n",
    "lgbm = lgb.LGBMClassifier(**params)\n",
    "\n",
    "# Fit model\n",
    "lgbm.fit(\n",
    "    X_resample, y_resample,\n",
    "    eval_set=[(X_valid, y_valid)],\n",
    "    eval_names=['validation'],\n",
    "    eval_metric='binary_logloss'\n",
    "    # categorical_feature=cat_features,\n",
    "    # callbacks=[\n",
    "    #     lgb.early_stopping(stopping_rounds=50),\n",
    "    #     lgb.log_evaluation(period=50)\n",
    "    # ]\n",
    ")\n",
    "\n",
    "# Prediction\n",
    "\n",
    "# y_test = y_test.astype('category')\n",
    "# y_valid = y_valid.astype('category')\n",
    "# preds = lgbm.predict(X_valid)\n",
    "\n",
    "# accuracy = lgbm.score(X_valid, y_valid)\n",
    "\n",
    "\n",
    "# print(f\"ctb acurracy: {accuracy*100:.2f}%\")\n",
    "# print(\"\\nClassification report\")\n",
    "# print(classification_report(y_valid, preds))\n",
    "\n",
    "# cm = confusion_matrix(y_valid, preds)\n",
    "# fig = px.imshow(cm, text_auto=True).update_layout(title={\"text\": \"CatBoost's Confusion Matrix\"}, font=my_font).show()\n"
   ]
  },
  {
   "cell_type": "code",
   "execution_count": 14,
   "id": "6f206621-5be7-426f-9664-50166c8686ce",
   "metadata": {},
   "outputs": [
    {
     "name": "stdout",
     "output_type": "stream",
     "text": [
      "(148731, 28) (148731,)\n",
      "Before: Counter({'0': 97495, '1': 51236})\n",
      "After: Counter({'0': 97495, '1': 95189})\n"
     ]
    }
   ],
   "source": [
    "# Ordinal Encoding my features\n",
    "from sklearn.preprocessing import OrdinalEncoder\n",
    "cat_cols_x = X.select_dtypes(include=[\"object\", \"category\"]).columns\n",
    "encoder = OrdinalEncoder(handle_unknown=\"use_encoded_value\", unknown_value=-1)\n",
    "encoded_X = X.copy()\n",
    "encoded_X[cat_cols_x] = encoder.fit_transform(encoded_X[cat_cols_x])\n",
    "\n",
    "\n",
    "\n",
    "\n",
    "# y = pd.DataFrame(y)\n",
    "X_temp, X_test, y_temp, y_test = train_test_split(encoded_X, numeric_y, test_size=0.1, random_state=32)\n",
    "\n",
    "X_train, X_valid, y_train, y_valid = train_test_split(X_temp, y_temp, test_size=0.1, random_state=32)\n",
    "# Note: 0.25 * 0.8 = 0.20, so overall 60/20/20\n",
    "\n",
    "\n",
    "X_small, _, y_small, _ = train_test_split(\n",
    "    encoded_X, y, \n",
    "    train_size=0.3,  # use 15% of data\n",
    "    stratify=y,      # keep class balance\n",
    "    random_state=32\n",
    ")\n",
    "\n",
    "print(X_small.shape, y_small.shape)\n",
    "\n",
    "\n",
    "from collections import Counter\n",
    "adasyn = ADASYN(random_state=32)\n",
    "\n",
    "X_resample, y_resample = adasyn.fit_resample (X_small, y_small)\n",
    "\n",
    "\n",
    "print(\"Before:\", Counter(y_small))\n",
    "print(\"After:\", Counter(y_resample))"
   ]
  },
  {
   "cell_type": "code",
   "execution_count": 49,
   "id": "9f9b0643-7312-4402-aae7-d22880ed8ddc",
   "metadata": {},
   "outputs": [
    {
     "name": "stdout",
     "output_type": "stream",
     "text": [
      "Learning rate set to 0.5\n",
      "0:\tlearn: 0.5324770\ttotal: 4.61ms\tremaining: 457ms\n",
      "1:\tlearn: 0.4757510\ttotal: 7.32ms\tremaining: 359ms\n",
      "2:\tlearn: 0.4502252\ttotal: 9.89ms\tremaining: 320ms\n",
      "3:\tlearn: 0.4367791\ttotal: 12.4ms\tremaining: 297ms\n",
      "4:\tlearn: 0.4295332\ttotal: 14.8ms\tremaining: 281ms\n",
      "5:\tlearn: 0.4252640\ttotal: 17.2ms\tremaining: 270ms\n",
      "6:\tlearn: 0.4228866\ttotal: 19.8ms\tremaining: 263ms\n",
      "7:\tlearn: 0.4220053\ttotal: 22.1ms\tremaining: 255ms\n",
      "8:\tlearn: 0.4206001\ttotal: 25ms\tremaining: 253ms\n",
      "9:\tlearn: 0.4198054\ttotal: 27.3ms\tremaining: 246ms\n",
      "10:\tlearn: 0.4193285\ttotal: 29.8ms\tremaining: 241ms\n",
      "11:\tlearn: 0.4187814\ttotal: 32.4ms\tremaining: 237ms\n",
      "12:\tlearn: 0.4186418\ttotal: 34.7ms\tremaining: 232ms\n",
      "13:\tlearn: 0.4184915\ttotal: 37.2ms\tremaining: 229ms\n",
      "14:\tlearn: 0.4184137\ttotal: 40.1ms\tremaining: 227ms\n",
      "15:\tlearn: 0.4180823\ttotal: 42.5ms\tremaining: 223ms\n",
      "16:\tlearn: 0.4179799\ttotal: 44.9ms\tremaining: 219ms\n",
      "17:\tlearn: 0.4178447\ttotal: 47.4ms\tremaining: 216ms\n",
      "18:\tlearn: 0.4177789\ttotal: 50ms\tremaining: 213ms\n",
      "19:\tlearn: 0.4177273\ttotal: 52.6ms\tremaining: 210ms\n",
      "20:\tlearn: 0.4176550\ttotal: 55ms\tremaining: 207ms\n",
      "21:\tlearn: 0.4175322\ttotal: 57.7ms\tremaining: 205ms\n",
      "22:\tlearn: 0.4172320\ttotal: 60.4ms\tremaining: 202ms\n",
      "23:\tlearn: 0.4171625\ttotal: 63ms\tremaining: 200ms\n",
      "24:\tlearn: 0.4170884\ttotal: 65.7ms\tremaining: 197ms\n",
      "25:\tlearn: 0.4169240\ttotal: 68.1ms\tremaining: 194ms\n",
      "26:\tlearn: 0.4168143\ttotal: 71.6ms\tremaining: 194ms\n",
      "27:\tlearn: 0.4167280\ttotal: 75.2ms\tremaining: 193ms\n",
      "28:\tlearn: 0.4166728\ttotal: 77.5ms\tremaining: 190ms\n",
      "29:\tlearn: 0.4166138\ttotal: 80.3ms\tremaining: 187ms\n",
      "30:\tlearn: 0.4165578\ttotal: 82.4ms\tremaining: 183ms\n",
      "31:\tlearn: 0.4164766\ttotal: 85.1ms\tremaining: 181ms\n",
      "32:\tlearn: 0.4163819\ttotal: 87.9ms\tremaining: 178ms\n",
      "33:\tlearn: 0.4163519\ttotal: 89.9ms\tremaining: 175ms\n",
      "34:\tlearn: 0.4162721\ttotal: 92.7ms\tremaining: 172ms\n",
      "35:\tlearn: 0.4161900\ttotal: 95.4ms\tremaining: 170ms\n",
      "36:\tlearn: 0.4161148\ttotal: 98.1ms\tremaining: 167ms\n",
      "37:\tlearn: 0.4158326\ttotal: 101ms\tremaining: 164ms\n",
      "38:\tlearn: 0.4157673\ttotal: 103ms\tremaining: 161ms\n",
      "39:\tlearn: 0.4157011\ttotal: 106ms\tremaining: 158ms\n",
      "40:\tlearn: 0.4156306\ttotal: 109ms\tremaining: 156ms\n",
      "41:\tlearn: 0.4155822\ttotal: 111ms\tremaining: 153ms\n",
      "42:\tlearn: 0.4155572\ttotal: 113ms\tremaining: 150ms\n",
      "43:\tlearn: 0.4154880\ttotal: 116ms\tremaining: 147ms\n",
      "44:\tlearn: 0.4154439\ttotal: 118ms\tremaining: 144ms\n",
      "45:\tlearn: 0.4154126\ttotal: 121ms\tremaining: 141ms\n",
      "46:\tlearn: 0.4153552\ttotal: 123ms\tremaining: 139ms\n",
      "47:\tlearn: 0.4153218\ttotal: 125ms\tremaining: 136ms\n",
      "48:\tlearn: 0.4152715\ttotal: 128ms\tremaining: 133ms\n",
      "49:\tlearn: 0.4151845\ttotal: 130ms\tremaining: 130ms\n",
      "50:\tlearn: 0.4151640\ttotal: 133ms\tremaining: 127ms\n",
      "51:\tlearn: 0.4151010\ttotal: 135ms\tremaining: 125ms\n",
      "52:\tlearn: 0.4150502\ttotal: 138ms\tremaining: 122ms\n",
      "53:\tlearn: 0.4149784\ttotal: 141ms\tremaining: 120ms\n",
      "54:\tlearn: 0.4149368\ttotal: 143ms\tremaining: 117ms\n",
      "55:\tlearn: 0.4148857\ttotal: 146ms\tremaining: 115ms\n",
      "56:\tlearn: 0.4148439\ttotal: 149ms\tremaining: 112ms\n",
      "57:\tlearn: 0.4147688\ttotal: 152ms\tremaining: 110ms\n",
      "58:\tlearn: 0.4146961\ttotal: 154ms\tremaining: 107ms\n",
      "59:\tlearn: 0.4146569\ttotal: 158ms\tremaining: 105ms\n",
      "60:\tlearn: 0.4146239\ttotal: 160ms\tremaining: 102ms\n",
      "61:\tlearn: 0.4146125\ttotal: 162ms\tremaining: 99.5ms\n",
      "62:\tlearn: 0.4145817\ttotal: 165ms\tremaining: 96.9ms\n",
      "63:\tlearn: 0.4145243\ttotal: 167ms\tremaining: 94.1ms\n",
      "64:\tlearn: 0.4144919\ttotal: 170ms\tremaining: 91.5ms\n",
      "65:\tlearn: 0.4144568\ttotal: 172ms\tremaining: 88.7ms\n",
      "66:\tlearn: 0.4143950\ttotal: 175ms\tremaining: 86ms\n",
      "67:\tlearn: 0.4143485\ttotal: 177ms\tremaining: 83.5ms\n",
      "68:\tlearn: 0.4142888\ttotal: 180ms\tremaining: 80.8ms\n",
      "69:\tlearn: 0.4142420\ttotal: 182ms\tremaining: 78.1ms\n",
      "70:\tlearn: 0.4141862\ttotal: 187ms\tremaining: 76.2ms\n",
      "71:\tlearn: 0.4141666\ttotal: 189ms\tremaining: 73.5ms\n",
      "72:\tlearn: 0.4141295\ttotal: 193ms\tremaining: 71.3ms\n",
      "73:\tlearn: 0.4140643\ttotal: 195ms\tremaining: 68.7ms\n",
      "74:\tlearn: 0.4140242\ttotal: 198ms\tremaining: 66.1ms\n",
      "75:\tlearn: 0.4139949\ttotal: 200ms\tremaining: 63.3ms\n",
      "76:\tlearn: 0.4139669\ttotal: 204ms\tremaining: 61ms\n",
      "77:\tlearn: 0.4139145\ttotal: 209ms\tremaining: 59ms\n",
      "78:\tlearn: 0.4138994\ttotal: 213ms\tremaining: 56.6ms\n",
      "79:\tlearn: 0.4138403\ttotal: 216ms\tremaining: 53.9ms\n",
      "80:\tlearn: 0.4137272\ttotal: 218ms\tremaining: 51.2ms\n",
      "81:\tlearn: 0.4136795\ttotal: 221ms\tremaining: 48.6ms\n",
      "82:\tlearn: 0.4136349\ttotal: 224ms\tremaining: 45.8ms\n",
      "83:\tlearn: 0.4136256\ttotal: 226ms\tremaining: 43.1ms\n",
      "84:\tlearn: 0.4136065\ttotal: 229ms\tremaining: 40.3ms\n",
      "85:\tlearn: 0.4135881\ttotal: 231ms\tremaining: 37.6ms\n",
      "86:\tlearn: 0.4135432\ttotal: 233ms\tremaining: 34.8ms\n",
      "87:\tlearn: 0.4134760\ttotal: 236ms\tremaining: 32.1ms\n",
      "88:\tlearn: 0.4133775\ttotal: 238ms\tremaining: 29.5ms\n",
      "89:\tlearn: 0.4133585\ttotal: 241ms\tremaining: 26.7ms\n",
      "90:\tlearn: 0.4133403\ttotal: 243ms\tremaining: 24ms\n",
      "91:\tlearn: 0.4133187\ttotal: 246ms\tremaining: 21.3ms\n",
      "92:\tlearn: 0.4132867\ttotal: 248ms\tremaining: 18.7ms\n",
      "93:\tlearn: 0.4132723\ttotal: 250ms\tremaining: 16ms\n",
      "94:\tlearn: 0.4132524\ttotal: 252ms\tremaining: 13.3ms\n",
      "95:\tlearn: 0.4131909\ttotal: 255ms\tremaining: 10.6ms\n",
      "96:\tlearn: 0.4131276\ttotal: 258ms\tremaining: 7.99ms\n",
      "97:\tlearn: 0.4130896\ttotal: 262ms\tremaining: 5.34ms\n",
      "98:\tlearn: 0.4130625\ttotal: 264ms\tremaining: 2.67ms\n",
      "99:\tlearn: 0.4130370\ttotal: 266ms\tremaining: 0us\n",
      "\n",
      "Classification report:\n",
      "              precision    recall  f1-score   support\n",
      "\n",
      "           0       0.78      0.84      0.81     32493\n",
      "           1       0.65      0.56      0.60     17085\n",
      "\n",
      "    accuracy                           0.74     49578\n",
      "   macro avg       0.72      0.70      0.71     49578\n",
      "weighted avg       0.74      0.74      0.74     49578\n",
      "\n",
      "\n",
      "Confusion matrix:\n",
      "[[27232  5261]\n",
      " [ 7485  9600]]\n",
      "0:\tlearn: 0.6896096\ttotal: 81.4ms\tremaining: 1m 21s\n",
      "50:\tlearn: 0.7671561\ttotal: 765ms\tremaining: 14.2s\n",
      "100:\tlearn: 0.7739395\ttotal: 1.43s\tremaining: 12.7s\n",
      "150:\tlearn: 0.7781362\ttotal: 1.99s\tremaining: 11.2s\n",
      "200:\tlearn: 0.7807800\ttotal: 2.58s\tremaining: 10.3s\n",
      "250:\tlearn: 0.7830073\ttotal: 2.96s\tremaining: 8.83s\n",
      "300:\tlearn: 0.7855325\ttotal: 3.31s\tremaining: 7.7s\n",
      "350:\tlearn: 0.7871861\ttotal: 3.67s\tremaining: 6.79s\n",
      "400:\tlearn: 0.7884603\ttotal: 4.02s\tremaining: 6.01s\n",
      "450:\tlearn: 0.7897790\ttotal: 4.38s\tremaining: 5.33s\n",
      "500:\tlearn: 0.7909861\ttotal: 4.75s\tremaining: 4.73s\n",
      "550:\tlearn: 0.7921120\ttotal: 5.1s\tremaining: 4.15s\n",
      "600:\tlearn: 0.7928228\ttotal: 5.45s\tremaining: 3.62s\n",
      "650:\tlearn: 0.7937063\ttotal: 5.8s\tremaining: 3.11s\n",
      "700:\tlearn: 0.7943536\ttotal: 6.14s\tremaining: 2.62s\n",
      "750:\tlearn: 0.7951787\ttotal: 6.5s\tremaining: 2.15s\n",
      "800:\tlearn: 0.7959394\ttotal: 6.85s\tremaining: 1.7s\n",
      "850:\tlearn: 0.7964345\ttotal: 7.2s\tremaining: 1.26s\n",
      "900:\tlearn: 0.7971363\ttotal: 7.55s\tremaining: 829ms\n",
      "950:\tlearn: 0.7978738\ttotal: 7.9s\tremaining: 407ms\n",
      "999:\tlearn: 0.7983998\ttotal: 8.23s\tremaining: 0us\n",
      "0:\tlearn: 0.6960506\ttotal: 133ms\tremaining: 2m 12s\n",
      "0:\tlearn: 0.6765677\ttotal: 187ms\tremaining: 3m 6s\n",
      "0:\tlearn: 0.7010645\ttotal: 95.2ms\tremaining: 1m 35s\n",
      "0:\tlearn: 0.6970262\ttotal: 127ms\tremaining: 2m 7s\n",
      "0:\tlearn: 0.6914892\ttotal: 184ms\tremaining: 3m 3s\n",
      "50:\tlearn: 0.7461326\ttotal: 2.76s\tremaining: 51.3s\n",
      "50:\tlearn: 0.7468056\ttotal: 3.52s\tremaining: 1m 5s\n",
      "50:\tlearn: 0.7933872\ttotal: 3.66s\tremaining: 1m 8s\n",
      "50:\tlearn: 0.7758839\ttotal: 3.78s\tremaining: 1m 10s\n",
      "50:\tlearn: 0.7927691\ttotal: 4.01s\tremaining: 1m 14s\n",
      "100:\tlearn: 0.7527195\ttotal: 5.03s\tremaining: 44.8s\n",
      "100:\tlearn: 0.7992898\ttotal: 5.72s\tremaining: 50.9s\n",
      "100:\tlearn: 0.7986681\ttotal: 6s\tremaining: 53.4s\n",
      "100:\tlearn: 0.7526410\ttotal: 6.43s\tremaining: 57.3s\n",
      "100:\tlearn: 0.7814643\ttotal: 6.49s\tremaining: 57.7s\n",
      "150:\tlearn: 0.7556545\ttotal: 7.15s\tremaining: 40.2s\n",
      "150:\tlearn: 0.8048310\ttotal: 7.6s\tremaining: 42.7s\n",
      "150:\tlearn: 0.8032564\ttotal: 7.76s\tremaining: 43.6s\n",
      "150:\tlearn: 0.7567926\ttotal: 8.14s\tremaining: 45.8s\n",
      "150:\tlearn: 0.7865546\ttotal: 8.04s\tremaining: 45.2s\n",
      "200:\tlearn: 0.7584726\ttotal: 8.65s\tremaining: 34.4s\n",
      "200:\tlearn: 0.8066939\ttotal: 9.04s\tremaining: 35.9s\n",
      "200:\tlearn: 0.8075807\ttotal: 8.97s\tremaining: 35.6s\n",
      "200:\tlearn: 0.7588223\ttotal: 9.32s\tremaining: 37.1s\n",
      "200:\tlearn: 0.7892579\ttotal: 9.76s\tremaining: 38.8s\n",
      "250:\tlearn: 0.7608931\ttotal: 9.88s\tremaining: 29.5s\n",
      "250:\tlearn: 0.8090968\ttotal: 10.3s\tremaining: 30.7s\n",
      "250:\tlearn: 0.8099264\ttotal: 10.2s\tremaining: 30.6s\n",
      "250:\tlearn: 0.7610067\ttotal: 10.7s\tremaining: 31.9s\n",
      "300:\tlearn: 0.7633662\ttotal: 11.1s\tremaining: 25.7s\n",
      "300:\tlearn: 0.8113184\ttotal: 11.4s\tremaining: 26.4s\n",
      "250:\tlearn: 0.7916750\ttotal: 11.4s\tremaining: 34.1s\n",
      "300:\tlearn: 0.8119337\ttotal: 11.5s\tremaining: 26.7s\n",
      "300:\tlearn: 0.7636673\ttotal: 11.8s\tremaining: 27.4s\n",
      "350:\tlearn: 0.7646890\ttotal: 12.3s\tremaining: 22.8s\n",
      "350:\tlearn: 0.8131088\ttotal: 12.8s\tremaining: 23.6s\n",
      "300:\tlearn: 0.7940019\ttotal: 12.6s\tremaining: 29.3s\n",
      "350:\tlearn: 0.8138695\ttotal: 12.9s\tremaining: 23.8s\n",
      "350:\tlearn: 0.7648158\ttotal: 13.1s\tremaining: 24.2s\n",
      "400:\tlearn: 0.7656657\ttotal: 13.6s\tremaining: 20.3s\n",
      "400:\tlearn: 0.8147395\ttotal: 14s\tremaining: 21s\n",
      "400:\tlearn: 0.8153484\ttotal: 13.9s\tremaining: 20.8s\n",
      "400:\tlearn: 0.7663464\ttotal: 14.3s\tremaining: 21.4s\n",
      "350:\tlearn: 0.7954883\ttotal: 14.1s\tremaining: 26.1s\n",
      "450:\tlearn: 0.8164854\ttotal: 14.8s\tremaining: 18.1s\n",
      "450:\tlearn: 0.8155925\ttotal: 15.3s\tremaining: 18.6s\n",
      "450:\tlearn: 0.7671776\ttotal: 15.2s\tremaining: 18.5s\n",
      "450:\tlearn: 0.7678882\ttotal: 15.5s\tremaining: 18.8s\n",
      "400:\tlearn: 0.7968552\ttotal: 15.6s\tremaining: 23.3s\n",
      "500:\tlearn: 0.8177791\ttotal: 16s\tremaining: 16s\n",
      "500:\tlearn: 0.7692432\ttotal: 16.6s\tremaining: 16.5s\n",
      "500:\tlearn: 0.7684197\ttotal: 16.4s\tremaining: 16.4s\n",
      "500:\tlearn: 0.8167389\ttotal: 16.6s\tremaining: 16.5s\n",
      "450:\tlearn: 0.7983152\ttotal: 17.2s\tremaining: 21s\n",
      "550:\tlearn: 0.8178116\ttotal: 17.6s\tremaining: 14.4s\n",
      "550:\tlearn: 0.7692101\ttotal: 17.5s\tremaining: 14.2s\n",
      "550:\tlearn: 0.8193501\ttotal: 17.5s\tremaining: 14.3s\n",
      "550:\tlearn: 0.7703145\ttotal: 17.8s\tremaining: 14.5s\n",
      "600:\tlearn: 0.7701789\ttotal: 18.7s\tremaining: 12.4s\n",
      "500:\tlearn: 0.7993830\ttotal: 18.8s\tremaining: 18.7s\n",
      "600:\tlearn: 0.8204637\ttotal: 18.8s\tremaining: 12.5s\n",
      "600:\tlearn: 0.7711151\ttotal: 19s\tremaining: 12.6s\n",
      "600:\tlearn: 0.8189388\ttotal: 19s\tremaining: 12.6s\n",
      "650:\tlearn: 0.8203051\ttotal: 20s\tremaining: 10.7s\n",
      "650:\tlearn: 0.7707351\ttotal: 20s\tremaining: 10.7s\n",
      "650:\tlearn: 0.8214431\ttotal: 20s\tremaining: 10.7s\n",
      "650:\tlearn: 0.7720161\ttotal: 20.3s\tremaining: 10.9s\n",
      "550:\tlearn: 0.8003931\ttotal: 20.3s\tremaining: 16.5s\n",
      "700:\tlearn: 0.8211925\ttotal: 21.1s\tremaining: 8.99s\n",
      "700:\tlearn: 0.8223394\ttotal: 21s\tremaining: 8.97s\n",
      "700:\tlearn: 0.7719673\ttotal: 21.2s\tremaining: 9.02s\n",
      "700:\tlearn: 0.7725434\ttotal: 21.7s\tremaining: 9.26s\n",
      "600:\tlearn: 0.8013486\ttotal: 22s\tremaining: 14.6s\n",
      "750:\tlearn: 0.8234446\ttotal: 22.3s\tremaining: 7.4s\n",
      "750:\tlearn: 0.8221129\ttotal: 22.5s\tremaining: 7.46s\n",
      "750:\tlearn: 0.7729254\ttotal: 22.4s\tremaining: 7.41s\n",
      "750:\tlearn: 0.7733570\ttotal: 22.8s\tremaining: 7.55s\n",
      "650:\tlearn: 0.8023113\ttotal: 23.2s\tremaining: 12.5s\n",
      "800:\tlearn: 0.7735754\ttotal: 23.4s\tremaining: 5.83s\n",
      "800:\tlearn: 0.8241683\ttotal: 23.6s\tremaining: 5.88s\n",
      "800:\tlearn: 0.8229259\ttotal: 23.9s\tremaining: 5.94s\n",
      "800:\tlearn: 0.7741892\ttotal: 24s\tremaining: 5.96s\n",
      "700:\tlearn: 0.8030598\ttotal: 24.5s\tremaining: 10.5s\n",
      "850:\tlearn: 0.8250066\ttotal: 24.8s\tremaining: 4.35s\n",
      "850:\tlearn: 0.8239705\ttotal: 25.1s\tremaining: 4.4s\n",
      "850:\tlearn: 0.7746612\ttotal: 25s\tremaining: 4.38s\n",
      "850:\tlearn: 0.7750714\ttotal: 25.3s\tremaining: 4.42s\n",
      "750:\tlearn: 0.8041241\ttotal: 25.7s\tremaining: 8.52s\n",
      "900:\tlearn: 0.7756877\ttotal: 26.2s\tremaining: 2.88s\n",
      "900:\tlearn: 0.7752730\ttotal: 26.2s\tremaining: 2.88s\n",
      "900:\tlearn: 0.8248576\ttotal: 26.4s\tremaining: 2.9s\n",
      "900:\tlearn: 0.8257542\ttotal: 26.3s\tremaining: 2.89s\n",
      "950:\tlearn: 0.7764187\ttotal: 27.3s\tremaining: 1.41s\n",
      "800:\tlearn: 0.8050567\ttotal: 27.1s\tremaining: 6.74s\n",
      "950:\tlearn: 0.7758953\ttotal: 27.3s\tremaining: 1.41s\n",
      "950:\tlearn: 0.8263868\ttotal: 27.6s\tremaining: 1.42s\n",
      "950:\tlearn: 0.8256458\ttotal: 27.7s\tremaining: 1.43s\n",
      "999:\tlearn: 0.7770099\ttotal: 28.4s\tremaining: 0us\n",
      "DESC_RESP, bin=253 score 0.7252494116\n",
      "NU_IDADE_N, bin=1 score 0.4221472133\n",
      "GARGANTA, bin=35 score 0.8490703109\n",
      "\n",
      "SG_UF, bin=128 score 1.592933425\n",
      "total_temporary_cormodity, bin=2 score 1.344522706\n",
      "SG_UF, bin=89 score 2.064517641\n",
      "CS_RACA, bin=138 score 0.4302054686\n",
      "DISPNEIA, bin=0 score 2.58040878\n",
      "CS_RACA, bin=253 score 0.8980277176\n",
      "total_temporary_cormodity, bin=6 score 3.163234115\n",
      "IMUNODEPRE, bin=1 score 1.766265632\n",
      "VACINA, bin=0 score 1.393688695\n",
      "CS_ZONA, bin=179 score 1.936530704\n",
      "NU_IDADE_N, bin=89 score 2.477830643\n",
      "CS_ESCOL_N, bin=0 score 3.094680592\n",
      "PNEUMOPATI, bin=252 score 2.234583581\n",
      "VACINA, bin=0 score 2.209493139\n",
      "CS_ESCOL_N, bin=58 score 3.148505298\n",
      "999:\tlearn: 0.7763716\ttotal: 28.3s\tremaining: 0us\n",
      "\n",
      "NU_IDADE_N, bin=97 score 0.4408978099\n",
      "SG_UF, bin=106 score 0.7179928471\n",
      "total_chronic_cormodity, bin=1 score 1.203280416\n",
      "SG_UF, bin=105 score 2.035407318\n",
      "FADIGA, bin=0 score 0.7307382775\n",
      "total_temporary_cormodity, bin=2 score 0.9769383481\n",
      "SG_UF, bin=156 score 0.5734319473\n",
      "SG_UF, bin=155 score 1.50158584\n",
      "FEBRE, bin=253 score 1.394494329\n",
      "\n",
      "NU_IDADE_N, bin=90 score 1.892254079\n",
      "VACINA, bin=253 score 1.936476889\n",
      "PNEUMOPATI, bin=0 score 2.56434243\n",
      "SATURACAO, bin=188 score 3.35871265\n",
      "SG_UF, bin=156 score 2.643686818\n",
      "IMUNODEPRE, bin=128 score 0.3601555209\n",
      "total_temporary_cormodity, bin=7 score 0.6080257469\n",
      "CS_ESCOL_N, bin=57 score 0.982624203\n",
      "850:\tlearn: 0.8056715\ttotal: 28.4s\tremaining: 4.96s\n",
      "999:\tlearn: 0.8262195\ttotal: 28.8s\tremaining: 0us\n",
      "\n",
      "\n",
      "FEBRE, bin=220 score 0.3976827983\n",
      "DESC_RESP, bin=188 score 0.4818762074\n",
      "NU_IDADE_N, bin=80 score 0.6699314974\n",
      "SG_UF, bin=253 score 1.157441164\n",
      "CS_RACA, bin=135 score 1.700705267\n",
      "NU_IDADE_N, bin=99 score 0.7957896917\n",
      "total_temporary_cormodity, bin=3 score 2.185758562\n",
      "SG_UF, bin=205 score 1.318802791\n",
      "DIARREIA, bin=0 score 2.863367992\n",
      "\n",
      "total_temporary_cormodity, bin=5 score 0.4469140524\n",
      "DISPNEIA, bin=253 score 0.8282568206\n",
      "DISPNEIA, bin=189 score 1.227000585\n",
      "DIARREIA, bin=253 score 1.584522405\n",
      "NU_IDADE_N, bin=66 score 2.119263012\n",
      "CS_ZONA, bin=217 score 2.83282844\n",
      "\n",
      "total_temporary_cormodity, bin=0 score 0.4640141972\n",
      "CARDIOPATI, bin=0 score 0.7889916037\n",
      "NU_IDADE_N, bin=91 score 1.279622231\n"
     ]
    }
   ],
   "source": [
    "from sklearn.ensemble import StackingClassifier\n",
    "params_lgb = {\n",
    "    'n_estimators': 150,\n",
    "    'learning_rate': 0.05,\n",
    "    'max_depth': 7,\n",
    "    'random_state': 32,\n",
    "    'num_leaves': 30,\n",
    "    'colsample_bytree': 0.7,\n",
    "    'reg_alpha': 0.1,\n",
    "    'reg_lambda': 6,\n",
    "    'bagging_fraction': 0.7,\n",
    "    'bagging_freq': 1,\n",
    "    'verbose': -1\n",
    "}\n",
    "lgbm = lgb.LGBMClassifier(**params_lgb)\n",
    "\n",
    "# CatBoost\n",
    "params_cat = {\n",
    "    'iterations': 1000,\n",
    "    'learning_rate': 0.05,\n",
    "    'depth': 6,\n",
    "    'loss_function': 'Logloss',   # binary classification\n",
    "    'eval_metric': 'F1',          # for monitoring\n",
    "    'random_seed': 32,\n",
    "    'early_stopping_rounds': 20,\n",
    "    'verbose': 50,\n",
    "    #'logging_level': 'Silent'     # disables _CURRENT_EXPERIMENT error\n",
    "}\n",
    "ctb = CatBoostClassifier(**params_cat)\n",
    "\n",
    "# XGBoost (optional)\n",
    "xgb = XGBClassifier( eval_metric='logloss')\n",
    "\n",
    "# -----------------------------\n",
    "# Step 3: Create stacking ensemble\n",
    "# -----------------------------\n",
    "estimators = [\n",
    "    ('lgb', lgbm),\n",
    "    ('cat', ctb),\n",
    "    ('xgb', xgb)\n",
    "]\n",
    "\n",
    "stack = StackingClassifier(\n",
    "    estimators=estimators,\n",
    "    final_estimator= CatBoostClassifier(n_estimators=100, random_state=32),\n",
    "    cv=5,\n",
    "    passthrough=False,\n",
    "    n_jobs=-1\n",
    ")\n",
    "\n",
    "# -----------------------------\n",
    "# Step 4: Fit ensemble\n",
    "# -----------------------------\n",
    "stack.fit(X_resample, y_resample)\n",
    "\n",
    "# -----------------------------\n",
    "# Step 5: Evaluate\n",
    "# -----------------------------\n",
    "y_pred = stack.predict(X_test)\n",
    "y_pred = y_pred.astype(int)  # converts strings like '0', '1' to integers 0, 1\n",
    "\n",
    "print(\"\\nClassification report:\")\n",
    "print(classification_report(y_test, y_pred))\n",
    "\n",
    "cm = confusion_matrix(y_test, y_pred)\n",
    "print(\"\\nConfusion matrix:\")\n",
    "print(cm)"
   ]
  },
  {
   "cell_type": "code",
   "execution_count": 107,
   "id": "04fefa5b-3667-4fec-b0b0-0c55daa9d30c",
   "metadata": {},
   "outputs": [],
   "source": [
    "# # LightGBM uses integer column indices for categorical features\n",
    "# cat_features = [X.columns.get_loc(c) for c in X.select_dtypes(['object']).columns]\n",
    "\n",
    "# params = {\n",
    "#     'n_estimators': 150,          # equivalent to iterations\n",
    "#     'learning_rate': 0.05,\n",
    "#     'max_depth': 7,\n",
    "#     'random_state': 32,\n",
    "#     'extra_trees': True,\n",
    "#     'metric': 'binary_logloss',\n",
    "#     'min_data_in_leaf': 1000,\n",
    "#     'num_leaves': 30,\n",
    "#     'colsample_bytree': 0.7,       # similar to rsm\n",
    "#     'reg_alpha': 0.1,\n",
    "#     'reg_lambda': 6,               # L2 regularization\n",
    "#     'bagging_fraction': 0.7,       # subsample ratio (use with bagging_freq)\n",
    "#     'bagging_freq': 1,\n",
    "#     'metric': 'TotalF1',     # default eval metric\n",
    "#     'verbose': -1,\n",
    "#     'lambda_l1': 1.0,\n",
    "#    #'early_stopping_rounds':10,\n",
    "#     'verbose': -1\n",
    "\n",
    "# }\n",
    "\n",
    "# lgbm = lgb.LGBMClassifier(**params)\n",
    "\n",
    "# # Fit model\n",
    "# lgbm.fit(\n",
    "#     X_train, y_train,\n",
    "#     eval_set=[(X_valid, y_valid)],\n",
    "#     eval_names=['validation'],\n",
    "#     eval_metric='binary_logloss',\n",
    "#     #categorical_feature=cat_features,\n",
    "#     # callbacks=[\n",
    "#     #     lgb.early_stopping(stopping_rounds=50),\n",
    "#     #     lgb.log_evaluation(period=50)\n",
    "#     # ]\n",
    "# )\n",
    "\n",
    "# # Prediction\n",
    "# y_pred = lgbm.predict_proba(X_valid)[:, 1]  # prob for class 1\n",
    "# print(\"Validation AUC:\", roc_auc_score(y_valid, y_pred))\n",
    "\n"
   ]
  },
  {
   "cell_type": "code",
   "execution_count": 108,
   "id": "a4733d61-870b-4b12-9ae0-6d78f5281b21",
   "metadata": {},
   "outputs": [],
   "source": [
    "# import shap\n",
    "\n",
    "# # SHAP analysis\n",
    "# explainer = shap.TreeExplainer(lgbm)\n",
    "# shap_values = explainer.shap_values(X_test)\n",
    "# shap.summary_plot(shap_values, X_test, feature_names=X_train.columns, plot_type=\"bar\")\n",
    "# shap_importance = np.abs(shap_values).mean(axis=0)\n",
    "\n",
    "# # put into DataFrame for readability\n",
    "# shap_importance_df = pd.DataFrame({\n",
    "#     \"feature\": X_test.columns,\n",
    "#     \"importance\": shap_importance\n",
    "# }).sort_values(by=\"importance\", ascending=True)\n",
    "\n",
    "# print(shap_importance_df.head(10))   # lowest 10 features\n",
    "# # Drop low-impact features\n",
    "# # low_impact_features = [...]  # your list\n",
    "# # X_train_reduced = X_train.drop(columns=low_impact_features)\n",
    "# # X_valid_reduced = X_valid.drop(columns=low_impact_features)\n",
    "\n",
    "# # # Update categorical feature indices\n",
    "# # cat_features_reduced = [X_train_reduced.columns.get_loc(f) for f in cat_features if f not in low_impact_features]\n",
    "\n",
    "# # # Create LightGBM datasets\n",
    "# # train_data = lgb.Dataset(X_train_reduced, label=y_train, categorical_feature=cat_features_reduced)\n",
    "# # valid_data = lgb.Dataset(X_valid_reduced, label=y_valid, categorical_feature=cat_features_reduced, reference=train_data)\n",
    "\n",
    "# # # Train LightGBM\n",
    "# # model = lgb.train(\n",
    "# #     params,\n",
    "# #     train_data,\n",
    "# #     valid_sets=[train_data, valid_data],\n",
    "# #     valid_names=[\"train\", \"valid\"],\n",
    "# #     num_boost_round=2000,\n",
    "# #     early_stopping_rounds=100\n",
    "# # )\n",
    "# # y_pred = model.predict_proba(X_valid)[:, 1]  # prob for class 1\n",
    "# # print(\"Validation AUC:\", roc_auc_score(y_valid, y_pred))\n"
   ]
  },
  {
   "cell_type": "markdown",
   "id": "8e04a720-4646-4bc9-b3fb-62ca43eff2c5",
   "metadata": {},
   "source": [
    "### Now we will drop out unimportant feaures like SIND_DOWN    0.002544\n",
    "###                 PUERPERA    0.005949\n",
    "###                     CS_ZONA    0.007252"
   ]
  },
  {
   "cell_type": "code",
   "execution_count": 109,
   "id": "8204eb94-67e5-4df8-b6c1-bf362a6eba5e",
   "metadata": {},
   "outputs": [],
   "source": [
    "# df_2.drop(columns={\"SIND_DOWN\", \"PUERPERA\", \"VOMITO\",\"HEPATICA\"}, inplace=True)\n",
    "# df_test_copy.drop(columns={\"SIND_DOWN\", \"PUERPERA\", \"VOMITO\",\"HEPATICA\"}, inplace=True)\n",
    "\n",
    "\n",
    "# X = df_2.drop(columns={'EVOLUCAO'})\n",
    "# y = df_2['EVOLUCAO']\n",
    "\n",
    "# X_temp, X_test, y_temp, y_test = train_test_split(X, y, test_size=0.15, random_state=32)\n",
    "\n",
    "# X_train, X_valid, y_train, y_valid = train_test_split(X_temp, y_temp, test_size=0.19, random_state=32)\n",
    "# # Note: 0.25 * 0.8 = 0.20, so overall 60/20/20\n",
    "\n",
    "\n",
    "\n",
    "# lgbm.fit(\n",
    "#     X_train, y_train,\n",
    "#     eval_set=[(X_valid, y_valid)],\n",
    "#     eval_names=['validation'],\n",
    "#     eval_metric='binary_logloss'\n",
    "#     # categorical_feature=cat_features,\n",
    "#     # callbacks=[\n",
    "#     #     lgb.early_stopping(stopping_rounds=50),\n",
    "#     #     lgb.log_evaluation(period=50)\n",
    "#     # ]\n",
    "# )\n",
    "\n",
    "# # Prediction\n",
    "# y_pred = lgbm.predict_proba(X_valid)[:, 1]  # prob for class 1\n",
    "# print(\"Validation AUC:\", roc_auc_score(y_valid, y_pred))"
   ]
  },
  {
   "cell_type": "code",
   "execution_count": 216,
   "id": "24f5c5d1-55a0-411d-a1b2-bb8b4e336319",
   "metadata": {},
   "outputs": [
    {
     "name": "stdout",
     "output_type": "stream",
     "text": [
      "0:\tlearn: 0.6825353\ttest: 0.6672360\tbest: 0.6672360 (0)\ttotal: 108ms\tremaining: 1m 47s\n",
      "50:\tlearn: 0.7169997\ttest: 0.6989868\tbest: 0.6990680 (48)\ttotal: 4.63s\tremaining: 1m 26s\n",
      "100:\tlearn: 0.7288902\ttest: 0.7044975\tbest: 0.7044975 (100)\ttotal: 9.36s\tremaining: 1m 23s\n",
      "150:\tlearn: 0.7337790\ttest: 0.7076874\tbest: 0.7077552 (148)\ttotal: 14.3s\tremaining: 1m 20s\n",
      "200:\tlearn: 0.7363856\ttest: 0.7088667\tbest: 0.7088667 (200)\ttotal: 19.1s\tremaining: 1m 15s\n",
      "250:\tlearn: 0.7389058\ttest: 0.7100066\tbest: 0.7100066 (250)\ttotal: 23.8s\tremaining: 1m 10s\n",
      "300:\tlearn: 0.7415439\ttest: 0.7116606\tbest: 0.7118760 (296)\ttotal: 28.6s\tremaining: 1m 6s\n",
      "350:\tlearn: 0.7431515\ttest: 0.7125896\tbest: 0.7127356 (337)\ttotal: 33.4s\tremaining: 1m 1s\n",
      "Stopped by overfitting detector  (20 iterations wait)\n",
      "\n",
      "bestTest = 0.7127356287\n",
      "bestIteration = 337\n",
      "\n",
      "Shrink model to first 338 iterations.\n",
      "Validation AUC: 0.7788047041001178\n"
     ]
    }
   ],
   "source": [
    "cat_features = X.select_dtypes(['category']).columns.tolist()\n",
    "params = {\n",
    "    'iterations':1000,\n",
    "    'learning_rate':0.05,\n",
    "    'depth':6,\n",
    "    'eval_metric':'TotalF1',\n",
    "    'random_seed':32,\n",
    "    'rsm': 0.5,\n",
    "    'early_stopping_rounds': 20,\n",
    "    'verbose': 50,\n",
    "    'loss_function': 'MultiClass',\n",
    "    'use_best_model': True,\n",
    "    'l2_leaf_reg': 6,      # default 3, increase to reduce overfit\n",
    "    'random_strength': 1.5,  # adds noise to splits\n",
    "    'bagging_temperature': 1  \n",
    "   #  'num_leaves': 50\n",
    "}\n",
    "ctb = CatBoostClassifier(\n",
    "  **params\n",
    ")\n",
    "\n",
    "ctb.fit(\n",
    "    X_resample, y_resample,\n",
    "    eval_set=(X_valid, y_valid),\n",
    "    cat_features=cat_features,\n",
    ")\n",
    "\n",
    "y_pred = ctb.predict_proba(X_valid)[:, 1]\n",
    "print(\"Validation AUC:\", roc_auc_score(y_valid, y_pred))"
   ]
  },
  {
   "cell_type": "code",
   "execution_count": 217,
   "id": "3195abce-df3d-49dc-b0b6-f40fd1e954a0",
   "metadata": {},
   "outputs": [
    {
     "name": "stdout",
     "output_type": "stream",
     "text": [
      "ctb acurracy: 71.10%\n",
      "\n",
      "Classification report\n",
      "              precision    recall  f1-score   support\n",
      "\n",
      "           0       0.82      0.72      0.76     48841\n",
      "           1       0.57      0.70      0.63     25907\n",
      "\n",
      "    accuracy                           0.71     74748\n",
      "   macro avg       0.69      0.71      0.70     74748\n",
      "weighted avg       0.73      0.71      0.72     74748\n",
      "\n"
     ]
    },
    {
     "data": {
      "application/vnd.plotly.v1+json": {
       "config": {
        "plotlyServerURL": "https://plot.ly"
       },
       "data": [
        {
         "coloraxis": "coloraxis",
         "hovertemplate": "x: %{x}<br>y: %{y}<br>color: %{z}<extra></extra>",
         "name": "0",
         "texttemplate": "%{z}",
         "type": "heatmap",
         "xaxis": "x",
         "yaxis": "y",
         "z": {
          "bdata": "HIkAAK01AAC4HgAAe0YAAA==",
          "dtype": "i4",
          "shape": "2, 2"
         }
        }
       ],
       "layout": {
        "coloraxis": {
         "colorscale": [
          [
           0,
           "#0d0887"
          ],
          [
           0.1111111111111111,
           "#46039f"
          ],
          [
           0.2222222222222222,
           "#7201a8"
          ],
          [
           0.3333333333333333,
           "#9c179e"
          ],
          [
           0.4444444444444444,
           "#bd3786"
          ],
          [
           0.5555555555555556,
           "#d8576b"
          ],
          [
           0.6666666666666666,
           "#ed7953"
          ],
          [
           0.7777777777777778,
           "#fb9f3a"
          ],
          [
           0.8888888888888888,
           "#fdca26"
          ],
          [
           1,
           "#f0f921"
          ]
         ]
        },
        "font": {
         "color": "Black",
         "family": "Courier New, monospace",
         "size": 18,
         "variant": "small-caps"
        },
        "margin": {
         "t": 60
        },
        "template": {
         "data": {
          "bar": [
           {
            "error_x": {
             "color": "#2a3f5f"
            },
            "error_y": {
             "color": "#2a3f5f"
            },
            "marker": {
             "line": {
              "color": "#E5ECF6",
              "width": 0.5
             },
             "pattern": {
              "fillmode": "overlay",
              "size": 10,
              "solidity": 0.2
             }
            },
            "type": "bar"
           }
          ],
          "barpolar": [
           {
            "marker": {
             "line": {
              "color": "#E5ECF6",
              "width": 0.5
             },
             "pattern": {
              "fillmode": "overlay",
              "size": 10,
              "solidity": 0.2
             }
            },
            "type": "barpolar"
           }
          ],
          "carpet": [
           {
            "aaxis": {
             "endlinecolor": "#2a3f5f",
             "gridcolor": "white",
             "linecolor": "white",
             "minorgridcolor": "white",
             "startlinecolor": "#2a3f5f"
            },
            "baxis": {
             "endlinecolor": "#2a3f5f",
             "gridcolor": "white",
             "linecolor": "white",
             "minorgridcolor": "white",
             "startlinecolor": "#2a3f5f"
            },
            "type": "carpet"
           }
          ],
          "choropleth": [
           {
            "colorbar": {
             "outlinewidth": 0,
             "ticks": ""
            },
            "type": "choropleth"
           }
          ],
          "contour": [
           {
            "colorbar": {
             "outlinewidth": 0,
             "ticks": ""
            },
            "colorscale": [
             [
              0,
              "#0d0887"
             ],
             [
              0.1111111111111111,
              "#46039f"
             ],
             [
              0.2222222222222222,
              "#7201a8"
             ],
             [
              0.3333333333333333,
              "#9c179e"
             ],
             [
              0.4444444444444444,
              "#bd3786"
             ],
             [
              0.5555555555555556,
              "#d8576b"
             ],
             [
              0.6666666666666666,
              "#ed7953"
             ],
             [
              0.7777777777777778,
              "#fb9f3a"
             ],
             [
              0.8888888888888888,
              "#fdca26"
             ],
             [
              1,
              "#f0f921"
             ]
            ],
            "type": "contour"
           }
          ],
          "contourcarpet": [
           {
            "colorbar": {
             "outlinewidth": 0,
             "ticks": ""
            },
            "type": "contourcarpet"
           }
          ],
          "heatmap": [
           {
            "colorbar": {
             "outlinewidth": 0,
             "ticks": ""
            },
            "colorscale": [
             [
              0,
              "#0d0887"
             ],
             [
              0.1111111111111111,
              "#46039f"
             ],
             [
              0.2222222222222222,
              "#7201a8"
             ],
             [
              0.3333333333333333,
              "#9c179e"
             ],
             [
              0.4444444444444444,
              "#bd3786"
             ],
             [
              0.5555555555555556,
              "#d8576b"
             ],
             [
              0.6666666666666666,
              "#ed7953"
             ],
             [
              0.7777777777777778,
              "#fb9f3a"
             ],
             [
              0.8888888888888888,
              "#fdca26"
             ],
             [
              1,
              "#f0f921"
             ]
            ],
            "type": "heatmap"
           }
          ],
          "histogram": [
           {
            "marker": {
             "pattern": {
              "fillmode": "overlay",
              "size": 10,
              "solidity": 0.2
             }
            },
            "type": "histogram"
           }
          ],
          "histogram2d": [
           {
            "colorbar": {
             "outlinewidth": 0,
             "ticks": ""
            },
            "colorscale": [
             [
              0,
              "#0d0887"
             ],
             [
              0.1111111111111111,
              "#46039f"
             ],
             [
              0.2222222222222222,
              "#7201a8"
             ],
             [
              0.3333333333333333,
              "#9c179e"
             ],
             [
              0.4444444444444444,
              "#bd3786"
             ],
             [
              0.5555555555555556,
              "#d8576b"
             ],
             [
              0.6666666666666666,
              "#ed7953"
             ],
             [
              0.7777777777777778,
              "#fb9f3a"
             ],
             [
              0.8888888888888888,
              "#fdca26"
             ],
             [
              1,
              "#f0f921"
             ]
            ],
            "type": "histogram2d"
           }
          ],
          "histogram2dcontour": [
           {
            "colorbar": {
             "outlinewidth": 0,
             "ticks": ""
            },
            "colorscale": [
             [
              0,
              "#0d0887"
             ],
             [
              0.1111111111111111,
              "#46039f"
             ],
             [
              0.2222222222222222,
              "#7201a8"
             ],
             [
              0.3333333333333333,
              "#9c179e"
             ],
             [
              0.4444444444444444,
              "#bd3786"
             ],
             [
              0.5555555555555556,
              "#d8576b"
             ],
             [
              0.6666666666666666,
              "#ed7953"
             ],
             [
              0.7777777777777778,
              "#fb9f3a"
             ],
             [
              0.8888888888888888,
              "#fdca26"
             ],
             [
              1,
              "#f0f921"
             ]
            ],
            "type": "histogram2dcontour"
           }
          ],
          "mesh3d": [
           {
            "colorbar": {
             "outlinewidth": 0,
             "ticks": ""
            },
            "type": "mesh3d"
           }
          ],
          "parcoords": [
           {
            "line": {
             "colorbar": {
              "outlinewidth": 0,
              "ticks": ""
             }
            },
            "type": "parcoords"
           }
          ],
          "pie": [
           {
            "automargin": true,
            "type": "pie"
           }
          ],
          "scatter": [
           {
            "fillpattern": {
             "fillmode": "overlay",
             "size": 10,
             "solidity": 0.2
            },
            "type": "scatter"
           }
          ],
          "scatter3d": [
           {
            "line": {
             "colorbar": {
              "outlinewidth": 0,
              "ticks": ""
             }
            },
            "marker": {
             "colorbar": {
              "outlinewidth": 0,
              "ticks": ""
             }
            },
            "type": "scatter3d"
           }
          ],
          "scattercarpet": [
           {
            "marker": {
             "colorbar": {
              "outlinewidth": 0,
              "ticks": ""
             }
            },
            "type": "scattercarpet"
           }
          ],
          "scattergeo": [
           {
            "marker": {
             "colorbar": {
              "outlinewidth": 0,
              "ticks": ""
             }
            },
            "type": "scattergeo"
           }
          ],
          "scattergl": [
           {
            "marker": {
             "colorbar": {
              "outlinewidth": 0,
              "ticks": ""
             }
            },
            "type": "scattergl"
           }
          ],
          "scattermap": [
           {
            "marker": {
             "colorbar": {
              "outlinewidth": 0,
              "ticks": ""
             }
            },
            "type": "scattermap"
           }
          ],
          "scattermapbox": [
           {
            "marker": {
             "colorbar": {
              "outlinewidth": 0,
              "ticks": ""
             }
            },
            "type": "scattermapbox"
           }
          ],
          "scatterpolar": [
           {
            "marker": {
             "colorbar": {
              "outlinewidth": 0,
              "ticks": ""
             }
            },
            "type": "scatterpolar"
           }
          ],
          "scatterpolargl": [
           {
            "marker": {
             "colorbar": {
              "outlinewidth": 0,
              "ticks": ""
             }
            },
            "type": "scatterpolargl"
           }
          ],
          "scatterternary": [
           {
            "marker": {
             "colorbar": {
              "outlinewidth": 0,
              "ticks": ""
             }
            },
            "type": "scatterternary"
           }
          ],
          "surface": [
           {
            "colorbar": {
             "outlinewidth": 0,
             "ticks": ""
            },
            "colorscale": [
             [
              0,
              "#0d0887"
             ],
             [
              0.1111111111111111,
              "#46039f"
             ],
             [
              0.2222222222222222,
              "#7201a8"
             ],
             [
              0.3333333333333333,
              "#9c179e"
             ],
             [
              0.4444444444444444,
              "#bd3786"
             ],
             [
              0.5555555555555556,
              "#d8576b"
             ],
             [
              0.6666666666666666,
              "#ed7953"
             ],
             [
              0.7777777777777778,
              "#fb9f3a"
             ],
             [
              0.8888888888888888,
              "#fdca26"
             ],
             [
              1,
              "#f0f921"
             ]
            ],
            "type": "surface"
           }
          ],
          "table": [
           {
            "cells": {
             "fill": {
              "color": "#EBF0F8"
             },
             "line": {
              "color": "white"
             }
            },
            "header": {
             "fill": {
              "color": "#C8D4E3"
             },
             "line": {
              "color": "white"
             }
            },
            "type": "table"
           }
          ]
         },
         "layout": {
          "annotationdefaults": {
           "arrowcolor": "#2a3f5f",
           "arrowhead": 0,
           "arrowwidth": 1
          },
          "autotypenumbers": "strict",
          "coloraxis": {
           "colorbar": {
            "outlinewidth": 0,
            "ticks": ""
           }
          },
          "colorscale": {
           "diverging": [
            [
             0,
             "#8e0152"
            ],
            [
             0.1,
             "#c51b7d"
            ],
            [
             0.2,
             "#de77ae"
            ],
            [
             0.3,
             "#f1b6da"
            ],
            [
             0.4,
             "#fde0ef"
            ],
            [
             0.5,
             "#f7f7f7"
            ],
            [
             0.6,
             "#e6f5d0"
            ],
            [
             0.7,
             "#b8e186"
            ],
            [
             0.8,
             "#7fbc41"
            ],
            [
             0.9,
             "#4d9221"
            ],
            [
             1,
             "#276419"
            ]
           ],
           "sequential": [
            [
             0,
             "#0d0887"
            ],
            [
             0.1111111111111111,
             "#46039f"
            ],
            [
             0.2222222222222222,
             "#7201a8"
            ],
            [
             0.3333333333333333,
             "#9c179e"
            ],
            [
             0.4444444444444444,
             "#bd3786"
            ],
            [
             0.5555555555555556,
             "#d8576b"
            ],
            [
             0.6666666666666666,
             "#ed7953"
            ],
            [
             0.7777777777777778,
             "#fb9f3a"
            ],
            [
             0.8888888888888888,
             "#fdca26"
            ],
            [
             1,
             "#f0f921"
            ]
           ],
           "sequentialminus": [
            [
             0,
             "#0d0887"
            ],
            [
             0.1111111111111111,
             "#46039f"
            ],
            [
             0.2222222222222222,
             "#7201a8"
            ],
            [
             0.3333333333333333,
             "#9c179e"
            ],
            [
             0.4444444444444444,
             "#bd3786"
            ],
            [
             0.5555555555555556,
             "#d8576b"
            ],
            [
             0.6666666666666666,
             "#ed7953"
            ],
            [
             0.7777777777777778,
             "#fb9f3a"
            ],
            [
             0.8888888888888888,
             "#fdca26"
            ],
            [
             1,
             "#f0f921"
            ]
           ]
          },
          "colorway": [
           "#636efa",
           "#EF553B",
           "#00cc96",
           "#ab63fa",
           "#FFA15A",
           "#19d3f3",
           "#FF6692",
           "#B6E880",
           "#FF97FF",
           "#FECB52"
          ],
          "font": {
           "color": "#2a3f5f"
          },
          "geo": {
           "bgcolor": "white",
           "lakecolor": "white",
           "landcolor": "#E5ECF6",
           "showlakes": true,
           "showland": true,
           "subunitcolor": "white"
          },
          "hoverlabel": {
           "align": "left"
          },
          "hovermode": "closest",
          "mapbox": {
           "style": "light"
          },
          "paper_bgcolor": "white",
          "plot_bgcolor": "#E5ECF6",
          "polar": {
           "angularaxis": {
            "gridcolor": "white",
            "linecolor": "white",
            "ticks": ""
           },
           "bgcolor": "#E5ECF6",
           "radialaxis": {
            "gridcolor": "white",
            "linecolor": "white",
            "ticks": ""
           }
          },
          "scene": {
           "xaxis": {
            "backgroundcolor": "#E5ECF6",
            "gridcolor": "white",
            "gridwidth": 2,
            "linecolor": "white",
            "showbackground": true,
            "ticks": "",
            "zerolinecolor": "white"
           },
           "yaxis": {
            "backgroundcolor": "#E5ECF6",
            "gridcolor": "white",
            "gridwidth": 2,
            "linecolor": "white",
            "showbackground": true,
            "ticks": "",
            "zerolinecolor": "white"
           },
           "zaxis": {
            "backgroundcolor": "#E5ECF6",
            "gridcolor": "white",
            "gridwidth": 2,
            "linecolor": "white",
            "showbackground": true,
            "ticks": "",
            "zerolinecolor": "white"
           }
          },
          "shapedefaults": {
           "line": {
            "color": "#2a3f5f"
           }
          },
          "ternary": {
           "aaxis": {
            "gridcolor": "white",
            "linecolor": "white",
            "ticks": ""
           },
           "baxis": {
            "gridcolor": "white",
            "linecolor": "white",
            "ticks": ""
           },
           "bgcolor": "#E5ECF6",
           "caxis": {
            "gridcolor": "white",
            "linecolor": "white",
            "ticks": ""
           }
          },
          "title": {
           "x": 0.05
          },
          "xaxis": {
           "automargin": true,
           "gridcolor": "white",
           "linecolor": "white",
           "ticks": "",
           "title": {
            "standoff": 15
           },
           "zerolinecolor": "white",
           "zerolinewidth": 2
          },
          "yaxis": {
           "automargin": true,
           "gridcolor": "white",
           "linecolor": "white",
           "ticks": "",
           "title": {
            "standoff": 15
           },
           "zerolinecolor": "white",
           "zerolinewidth": 2
          }
         }
        },
        "title": {
         "text": "CatBoost's Confusion Matrix"
        },
        "xaxis": {
         "anchor": "y",
         "constrain": "domain",
         "domain": [
          0,
          1
         ],
         "scaleanchor": "y"
        },
        "yaxis": {
         "anchor": "x",
         "autorange": "reversed",
         "constrain": "domain",
         "domain": [
          0,
          1
         ]
        }
       }
      },
      "image/png": "[encoded data removed]"
     },
     "metadata": {},
     "output_type": "display_data"
    }
   ],
   "source": [
    "preds = ctb.predict(X_test)\n",
    "\n",
    "accuracy = ctb.score(X_test, y_test)\n",
    "\n",
    "\n",
    "print(f\"ctb acurracy: {accuracy*100:.2f}%\")\n",
    "print(\"\\nClassification report\")\n",
    "print(classification_report(y_test, preds))\n",
    "\n",
    "cm = confusion_matrix(y_test, preds)\n",
    "fig = px.imshow(cm, text_auto=True).update_layout(title={\"text\": \"CatBoost's Confusion Matrix\"}, font=my_font).show()\n"
   ]
  },
  {
   "cell_type": "markdown",
   "id": "c4889b03-a1cd-4ba0-a7c5-7161326d267e",
   "metadata": {},
   "source": [
    "## Grid searching for the best params "
   ]
  },
  {
   "cell_type": "code",
   "execution_count": 112,
   "id": "efc4bc1a-272e-46d5-a1b6-883bdbe6cedf",
   "metadata": {},
   "outputs": [],
   "source": [
    "# param_grid = {\n",
    "#     'depth': [4, 6, 8],               # tree depth\n",
    "#     'learning_rate': [0.01, 0.03, 0.05],  # step size\n",
    "#     'l2_leaf_reg': [3, 5, 7],         # regularization\n",
    "#     'bagging_temperature': [0, 0.5, 1], # randomness in bagging\n",
    "#     'rsm': [0.7, 0.8, 1.0]            # fraction of features per tree\n",
    "# }\n",
    "\n",
    "\n",
    "# ctb = CatBoostClassifier(\n",
    "#     iterations=500,\n",
    "#     loss_function='Logloss',\n",
    "#     eval_metric='TotalF1',\n",
    "#     cat_features=cat_features,\n",
    "#     verbose=0\n",
    "# )\n",
    "\n",
    "# randomized_search_result  = ctb.randomized_search(\n",
    "#     param_grid,\n",
    "#     X = X,\n",
    "#     y= y,\n",
    "#     plot=True\n",
    "# )\n",
    "\n",
    "# # rand_search.fit(X_train, y_train)\n",
    "# # print(\"Best params:\", rand_search.best_params_)"
   ]
  },
  {
   "cell_type": "markdown",
   "id": "4d56a4c1-a260-4f9c-aaff-0055dde386f0",
   "metadata": {},
   "source": [
    "## Cross-validating the model"
   ]
  },
  {
   "cell_type": "code",
   "execution_count": 113,
   "id": "89b627c7-08b5-4207-9625-3fb6ad158147",
   "metadata": {},
   "outputs": [],
   "source": [
    "# pool = Pool(data=X, label=y, cat_features=cat_features)\n",
    "\n",
    "# cv_results = cv(\n",
    "#     pool=pool,\n",
    "#     params=params,\n",
    "#     fold_count=5,               # number of folds\n",
    "#     shuffle=True,               # shuffle data before splitting\n",
    "#     partition_random_seed=42,   # reproducibility\n",
    "#     early_stopping_rounds=50,   # stop if no improvement\n",
    "#     verbose_eval=50\n",
    "# )\n",
    "\n",
    "# best_iter = cv_results['test-TotalF1-mean'].idxmax()\n",
    "# print(\"Best iteration:\", best_iter)\n",
    "# print(\"Best CV F1:\", cv_results['test-TotalF1-mean'].max())"
   ]
  },
  {
   "cell_type": "code",
   "execution_count": 114,
   "id": "fb5c721d-4b17-4a0d-bea8-d3afe3c78069",
   "metadata": {},
   "outputs": [],
   "source": [
    "# interaction_matrix = model.get_feature_importance(data=train_pool, type='FeatureImportance')\n",
    "# # feature_names = X_train.columns\n",
    "\n",
    "\n",
    "# # interaction_df = pd.DataFrame(interaction_matrix, index=X_train.columns, columns=X_train.columns)\n",
    "# # print(interaction_df)\n",
    "# interaction_matrix"
   ]
  },
  {
   "cell_type": "code",
   "execution_count": 115,
   "id": "93dd0326-e46a-45df-90b1-92d142be24a1",
   "metadata": {},
   "outputs": [],
   "source": [
    "# import matplotlib.pyplot as plt\n",
    "# from sklearn.datasets import load_breast_cancer\n",
    "# from sklearn.model_selection import train_test_split\n",
    "# from sklearn.linear_model import LogisticRegression\n",
    "# from sklearn.metrics import roc_curve, auc\n",
    "# from catboost.utils import get_roc_curve, select_threshold\n",
    "\n",
    "# y_pred_proba = ctb.predict_proba(X_test)[:, 1] \n",
    "# fpr, tpr, thresholds = roc_curve(y_test, y_pred_proba) \n",
    "# roc_auc = auc(fpr, tpr)\n",
    "# # Plot the ROC curve\n",
    "# plt.figure()  \n",
    "# plt.plot(fpr, tpr, label='ROC curve (area = %0.2f)' % roc_auc)\n",
    "# plt.plot([0, 1], [0, 1], 'k--', label='No Skill')\n",
    "# plt.xlim([0.0, 1.0])\n",
    "# plt.ylim([0.0, 1.05])\n",
    "# plt.xlabel('False Positive Rate')\n",
    "# plt.ylabel('True Positive Rate')\n",
    "# plt.title('ROC Curve for Breast Cancer Classification')\n",
    "# plt.legend()\n",
    "# plt.show()\n",
    "\n",
    "# catboost_pool = Pool(X_train, y_train, cat_features=cat_features)\n",
    "\n",
    "\n",
    "\n",
    "# roc_curve_values = get_roc_curve(ctb, catboost_pool)\n",
    "\n",
    "# boundary = select_threshold(ctb,\n",
    "#                             curve=roc_curve_values,\n",
    "#                             FPR=0.01)\n",
    "\n",
    "# print(\"Boundary:\",boundary)"
   ]
  },
  {
   "cell_type": "code",
   "execution_count": 25,
   "id": "ab789b69-7cf9-436a-bcce-96ab8819c1c7",
   "metadata": {},
   "outputs": [],
   "source": [
    "df_test_copy['total_chronic_cormodity'] = ((df_test_copy[[\"OBESIDADE\", \n",
    "                                                        \"RENAL\", \n",
    "                                                        \"CARDIOPATI\",\n",
    "                                                        \"IMUNODEPRE\", \n",
    "                                                        \"DIABETES\", \n",
    "                                                        \"PNEUMOPATI\",\n",
    "                                                        \"HEPATICA\",\n",
    "                                                        \"SIND_DOWN\"]] == 1.0).sum(axis=1))\n",
    "\n",
    "df_test_copy['total_temporary_cormodity'] = (df_test_copy[[\"FEBRE\",\n",
    "                                                       # \"TOSSE\",\n",
    "                                                        \"PUERPERA\",\n",
    "                                                        \"GARGANTA\",\n",
    "                                                        \"DESC_RESP\",\n",
    "                                                        \"DIARREIA\",\n",
    "                                                        \"VOMITO\",\n",
    "                                                        \"FADIGA\",\n",
    "                                                        \"SATURACAO\",\n",
    "                                                        \"DISPNEIA\"]]== 1.0).sum(axis=1)"
   ]
  },
  {
   "cell_type": "code",
   "execution_count": 30,
   "id": "ee1f7748-a2a7-4d82-a1e8-e2d82216a945",
   "metadata": {},
   "outputs": [],
   "source": [
    "from sklearn.preprocessing import OrdinalEncoder\n",
    "cat_cols_x = df_test_copy.select_dtypes(include=[\"object\", \"category\"]).columns\n",
    "encoder = OrdinalEncoder(handle_unknown=\"use_encoded_value\", unknown_value=-1)\n",
    "encoded_df_test_copy = df_test_copy.copy()\n",
    "encoded_df_test_copy[cat_cols_x] = encoder.fit_transform(encoded_df_test_copy[cat_cols_x])"
   ]
  },
  {
   "cell_type": "code",
   "execution_count": 43,
   "id": "65d0d4b7-c5ff-4891-aa92-0b22713f2357",
   "metadata": {},
   "outputs": [
    {
     "name": "stdout",
     "output_type": "stream",
     "text": [
      "Simulated F1: 0.8001340701997802\n",
      "Simulated AUC: 0.8989613844880466\n",
      "              precision    recall  f1-score   support\n",
      "\n",
      "           0       0.79      0.85      0.82     68247\n",
      "           1       0.83      0.77      0.80     66632\n",
      "\n",
      "    accuracy                           0.81    134879\n",
      "   macro avg       0.81      0.81      0.81    134879\n",
      "weighted avg       0.81      0.81      0.81    134879\n",
      "\n"
     ]
    }
   ],
   "source": [
    "from sklearn.model_selection import train_test_split\n",
    "from sklearn.metrics import f1_score, roc_auc_score, classification_report\n",
    "import numpy as np\n",
    "\n",
    "# 1️⃣ Split your resampled training set into pseudo-train + pseudo-test\n",
    "X_train_sim, X_test_sim, y_train_sim, y_test_sim = train_test_split(\n",
    "    X_resample, y_resample, \n",
    "    test_size=0.7, \n",
    "    stratify=y_resample, \n",
    "    random_state=42\n",
    ")\n",
    "\n",
    "# 2️⃣ Predict probabilities for class 1\n",
    "test_pred_sim = stack.predict_proba(X_test_sim)[:, 1]\n",
    "\n",
    "# 3️⃣ Convert probabilities to binary predictions (0/1) using 0.5 threshold\n",
    "y_pred_sim = (test_pred_sim >= 0.5).astype(int)\n",
    "\n",
    "# 4️⃣ Ensure the true labels are also integers (avoids type mismatch)\n",
    "y_test_sim_int = y_test_sim.astype(int) if y_test_sim.dtype == 'O' else y_test_sim\n",
    "\n",
    "# 5️⃣ Evaluate metrics\n",
    "simulated_f1 = f1_score(y_test_sim_int, y_pred_sim)\n",
    "simulated_auc = roc_auc_score(y_test_sim_int, test_pred_sim)\n",
    "\n",
    "print(\"Simulated F1:\", simulated_f1)\n",
    "print(\"Simulated AUC:\", simulated_auc)\n",
    "print(classification_report(y_test_sim_int, y_pred_sim))\n"
   ]
  },
  {
   "cell_type": "code",
   "execution_count": 41,
   "id": "9da83e64-5971-4c6d-ba28-ea36ae905fcb",
   "metadata": {},
   "outputs": [
    {
     "data": {
      "text/plain": [
       "array([0.99140247, 0.88598886, 0.4262491 , ..., 0.03085365, 0.99250949,\n",
       "       0.96020084])"
      ]
     },
     "execution_count": 41,
     "metadata": {},
     "output_type": "execute_result"
    }
   ],
   "source": [
    "test_pred = stack.predict_proba(encoded_df_test_copy)[:,1]\n",
    "test_pred"
   ]
  },
  {
   "cell_type": "code",
   "execution_count": 34,
   "id": "632dc4df-2c7e-4132-8b35-2a926c436161",
   "metadata": {},
   "outputs": [],
   "source": [
    "pd.DataFrame(np.round(test_pred)).reset_index().to_csv('results/stack.csv', header=['ID', 'EVOLUCAO'], index=False)"
   ]
  },
  {
   "cell_type": "code",
   "execution_count": 130,
   "id": "3ffbda0d-68b3-4624-80de-c265d95eb0e2",
   "metadata": {},
   "outputs": [
    {
     "data": {
      "text/html": [
       "<div>\n",
       "<style scoped>\n",
       "    .dataframe tbody tr th:only-of-type {\n",
       "        vertical-align: middle;\n",
       "    }\n",
       "\n",
       "    .dataframe tbody tr th {\n",
       "        vertical-align: top;\n",
       "    }\n",
       "\n",
       "    .dataframe thead th {\n",
       "        text-align: right;\n",
       "    }\n",
       "</style>\n",
       "<table border=\"1\" class=\"dataframe\">\n",
       "  <thead>\n",
       "    <tr style=\"text-align: right;\">\n",
       "      <th></th>\n",
       "      <th>CS_SEXO</th>\n",
       "      <th>CS_ZONA</th>\n",
       "      <th>NU_IDADE_N</th>\n",
       "      <th>CS_ESCOL_N</th>\n",
       "      <th>CS_RACA</th>\n",
       "      <th>SG_UF</th>\n",
       "      <th>CS_GESTANT</th>\n",
       "      <th>PUERPERA</th>\n",
       "      <th>DIABETES</th>\n",
       "      <th>PNEUMOPATI</th>\n",
       "      <th>...</th>\n",
       "      <th>GARGANTA</th>\n",
       "      <th>DESC_RESP</th>\n",
       "      <th>DIARREIA</th>\n",
       "      <th>VOMITO</th>\n",
       "      <th>FADIGA</th>\n",
       "      <th>SATURACAO</th>\n",
       "      <th>DISPNEIA</th>\n",
       "      <th>VACINA</th>\n",
       "      <th>total_chronic_cormodity</th>\n",
       "      <th>total_temporary_cormodity</th>\n",
       "    </tr>\n",
       "  </thead>\n",
       "  <tbody>\n",
       "    <tr>\n",
       "      <th>0</th>\n",
       "      <td>F</td>\n",
       "      <td>1</td>\n",
       "      <td>60</td>\n",
       "      <td>9</td>\n",
       "      <td>2</td>\n",
       "      <td>RJ</td>\n",
       "      <td>5</td>\n",
       "      <td>2</td>\n",
       "      <td>2</td>\n",
       "      <td>1</td>\n",
       "      <td>...</td>\n",
       "      <td>2</td>\n",
       "      <td>1</td>\n",
       "      <td>2</td>\n",
       "      <td>2</td>\n",
       "      <td>9</td>\n",
       "      <td>1</td>\n",
       "      <td>1</td>\n",
       "      <td>9</td>\n",
       "      <td>0</td>\n",
       "      <td>0</td>\n",
       "    </tr>\n",
       "    <tr>\n",
       "      <th>1</th>\n",
       "      <td>M</td>\n",
       "      <td>1</td>\n",
       "      <td>28</td>\n",
       "      <td>9</td>\n",
       "      <td>9</td>\n",
       "      <td>RJ</td>\n",
       "      <td>6</td>\n",
       "      <td>9</td>\n",
       "      <td>9</td>\n",
       "      <td>9</td>\n",
       "      <td>...</td>\n",
       "      <td>9</td>\n",
       "      <td>9</td>\n",
       "      <td>9</td>\n",
       "      <td>9</td>\n",
       "      <td>9</td>\n",
       "      <td>1</td>\n",
       "      <td>9</td>\n",
       "      <td>9</td>\n",
       "      <td>0</td>\n",
       "      <td>0</td>\n",
       "    </tr>\n",
       "    <tr>\n",
       "      <th>2</th>\n",
       "      <td>M</td>\n",
       "      <td>1</td>\n",
       "      <td>45</td>\n",
       "      <td>9</td>\n",
       "      <td>4</td>\n",
       "      <td>SP</td>\n",
       "      <td>6</td>\n",
       "      <td>9</td>\n",
       "      <td>9</td>\n",
       "      <td>9</td>\n",
       "      <td>...</td>\n",
       "      <td>2</td>\n",
       "      <td>1</td>\n",
       "      <td>2</td>\n",
       "      <td>2</td>\n",
       "      <td>9</td>\n",
       "      <td>1</td>\n",
       "      <td>1</td>\n",
       "      <td>2</td>\n",
       "      <td>0</td>\n",
       "      <td>0</td>\n",
       "    </tr>\n",
       "    <tr>\n",
       "      <th>3</th>\n",
       "      <td>M</td>\n",
       "      <td>1</td>\n",
       "      <td>38</td>\n",
       "      <td>1</td>\n",
       "      <td>1</td>\n",
       "      <td>SC</td>\n",
       "      <td>6</td>\n",
       "      <td>2</td>\n",
       "      <td>2</td>\n",
       "      <td>1</td>\n",
       "      <td>...</td>\n",
       "      <td>2</td>\n",
       "      <td>1</td>\n",
       "      <td>2</td>\n",
       "      <td>2</td>\n",
       "      <td>2</td>\n",
       "      <td>1</td>\n",
       "      <td>1</td>\n",
       "      <td>1</td>\n",
       "      <td>0</td>\n",
       "      <td>0</td>\n",
       "    </tr>\n",
       "    <tr>\n",
       "      <th>4</th>\n",
       "      <td>F</td>\n",
       "      <td>1</td>\n",
       "      <td>50</td>\n",
       "      <td>9</td>\n",
       "      <td>9</td>\n",
       "      <td>RJ</td>\n",
       "      <td>6</td>\n",
       "      <td>9</td>\n",
       "      <td>9</td>\n",
       "      <td>9</td>\n",
       "      <td>...</td>\n",
       "      <td>2</td>\n",
       "      <td>2</td>\n",
       "      <td>1</td>\n",
       "      <td>2</td>\n",
       "      <td>2</td>\n",
       "      <td>2</td>\n",
       "      <td>2</td>\n",
       "      <td>9</td>\n",
       "      <td>0</td>\n",
       "      <td>0</td>\n",
       "    </tr>\n",
       "  </tbody>\n",
       "</table>\n",
       "<p>5 rows × 29 columns</p>\n",
       "</div>"
      ],
      "text/plain": [
       "  CS_SEXO CS_ZONA  NU_IDADE_N CS_ESCOL_N CS_RACA SG_UF CS_GESTANT PUERPERA  \\\n",
       "0       F       1          60          9       2    RJ          5        2   \n",
       "1       M       1          28          9       9    RJ          6        9   \n",
       "2       M       1          45          9       4    SP          6        9   \n",
       "3       M       1          38          1       1    SC          6        2   \n",
       "4       F       1          50          9       9    RJ          6        9   \n",
       "\n",
       "  DIABETES PNEUMOPATI  ... GARGANTA DESC_RESP DIARREIA VOMITO FADIGA  \\\n",
       "0        2          1  ...        2         1        2      2      9   \n",
       "1        9          9  ...        9         9        9      9      9   \n",
       "2        9          9  ...        2         1        2      2      9   \n",
       "3        2          1  ...        2         1        2      2      2   \n",
       "4        9          9  ...        2         2        1      2      2   \n",
       "\n",
       "  SATURACAO DISPNEIA VACINA total_chronic_cormodity total_temporary_cormodity  \n",
       "0         1        1      9                       0                         0  \n",
       "1         1        9      9                       0                         0  \n",
       "2         1        1      2                       0                         0  \n",
       "3         1        1      1                       0                         0  \n",
       "4         2        2      9                       0                         0  \n",
       "\n",
       "[5 rows x 29 columns]"
      ]
     },
     "execution_count": 130,
     "metadata": {},
     "output_type": "execute_result"
    }
   ],
   "source": [
    "df_test_copy.head()"
   ]
  },
  {
   "cell_type": "code",
   "execution_count": null,
   "id": "ef6ca157-0a51-44f7-a3ff-4489c82a87a3",
   "metadata": {},
   "outputs": [],
   "source": []
  },
  {
   "cell_type": "code",
   "execution_count": null,
   "id": "da842ce1-d0c3-49c2-845d-675e1177c654",
   "metadata": {},
   "outputs": [],
   "source": []
  },
  {
   "cell_type": "code",
   "execution_count": null,
   "id": "535d8769-c995-4129-8a0d-7a6f105b36df",
   "metadata": {},
   "outputs": [],
   "source": []
  },
  {
   "cell_type": "code",
   "execution_count": null,
   "id": "def5dba7-bded-465e-9e3f-500711223d03",
   "metadata": {},
   "outputs": [],
   "source": []
  },
  {
   "cell_type": "code",
   "execution_count": null,
   "id": "1f367fd4-0783-406f-903c-33fbfd62bcc9",
   "metadata": {},
   "outputs": [],
   "source": []
  },
  {
   "cell_type": "code",
   "execution_count": null,
   "id": "8197b748-ab4c-45ee-9e03-0f91d2b713e4",
   "metadata": {},
   "outputs": [],
   "source": []
  },
  {
   "cell_type": "code",
   "execution_count": null,
   "id": "3464d2d8-fd5f-4554-8bca-c0ecb1db70fd",
   "metadata": {},
   "outputs": [],
   "source": []
  },
  {
   "cell_type": "code",
   "execution_count": null,
   "id": "8c9da959-e74c-4fc1-937b-a0ba796c0394",
   "metadata": {},
   "outputs": [],
   "source": []
  },
  {
   "cell_type": "code",
   "execution_count": null,
   "id": "7f553b4e-713e-43d9-9003-601791f7a371",
   "metadata": {},
   "outputs": [],
   "source": []
  },
  {
   "cell_type": "code",
   "execution_count": null,
   "id": "11b86b07-233c-4be9-a76a-7ff91a29c227",
   "metadata": {},
   "outputs": [],
   "source": []
  },
  {
   "cell_type": "code",
   "execution_count": null,
   "id": "c0e2089d-a853-4561-9a83-0200cf5fc229",
   "metadata": {},
   "outputs": [],
   "source": []
  },
  {
   "cell_type": "code",
   "execution_count": null,
   "id": "e165f1db-f84b-4946-874f-1176cd263ac8",
   "metadata": {},
   "outputs": [],
   "source": []
  },
  {
   "cell_type": "code",
   "execution_count": null,
   "id": "16ef5ca5-3c06-4d12-afdc-db9b2805a88a",
   "metadata": {},
   "outputs": [],
   "source": []
  },
  {
   "cell_type": "code",
   "execution_count": null,
   "id": "99f0dfd3-11a1-4418-9397-675c090a061f",
   "metadata": {},
   "outputs": [],
   "source": []
  },
  {
   "cell_type": "code",
   "execution_count": null,
   "id": "261b991e-7217-400c-ba7a-d83c9f9044d5",
   "metadata": {},
   "outputs": [],
   "source": []
  },
  {
   "cell_type": "code",
   "execution_count": null,
   "id": "c93e9e34-60ad-4558-8ce4-b7e78ef66e4b",
   "metadata": {},
   "outputs": [],
   "source": []
  },
  {
   "cell_type": "code",
   "execution_count": null,
   "id": "cead9642-4877-4745-8f71-1e085d7f66cf",
   "metadata": {},
   "outputs": [],
   "source": []
  },
  {
   "cell_type": "code",
   "execution_count": null,
   "id": "eb360e67-e3c0-4bd4-b161-38685e3afb7f",
   "metadata": {},
   "outputs": [],
   "source": []
  },
  {
   "cell_type": "code",
   "execution_count": null,
   "id": "fb105049-c428-4f28-be78-be6ffeea9ae2",
   "metadata": {},
   "outputs": [],
   "source": []
  },
  {
   "cell_type": "code",
   "execution_count": null,
   "id": "937c3908-876f-41fe-9245-de660cb1c9fb",
   "metadata": {},
   "outputs": [],
   "source": []
  },
  {
   "cell_type": "code",
   "execution_count": null,
   "id": "b327e6bc-b823-4138-a15a-16ba1e6b5229",
   "metadata": {},
   "outputs": [],
   "source": []
  },
  {
   "cell_type": "code",
   "execution_count": null,
   "id": "1aa555d6-9c41-4aab-9864-b6530c357604",
   "metadata": {},
   "outputs": [],
   "source": []
  },
  {
   "cell_type": "code",
   "execution_count": null,
   "id": "b0cf7831-9426-4bee-823d-f359d21aaecf",
   "metadata": {},
   "outputs": [],
   "source": []
  },
  {
   "cell_type": "code",
   "execution_count": null,
   "id": "a485e370-adff-47d3-9ef0-563c27b5b3c6",
   "metadata": {},
   "outputs": [],
   "source": []
  },
  {
   "cell_type": "code",
   "execution_count": null,
   "id": "5a226027-8858-4456-b0a5-bab2b2a6670d",
   "metadata": {},
   "outputs": [],
   "source": []
  },
  {
   "cell_type": "code",
   "execution_count": null,
   "id": "787a38c2-7b68-4b7b-9659-b965599a8a81",
   "metadata": {},
   "outputs": [],
   "source": []
  }
 ],
 "metadata": {
  "kernelspec": {
   "display_name": "Python 3 (ipykernel)",
   "language": "python",
   "name": "python3"
  },
  "language_info": {
   "codemirror_mode": {
    "name": "ipython",
    "version": 3
   },
   "file_extension": ".py",
   "mimetype": "text/x-python",
   "name": "python",
   "nbconvert_exporter": "python",
   "pygments_lexer": "ipython3",
   "version": "3.11.13"
  }
 },
 "nbformat": 4,
 "nbformat_minor": 5
}
