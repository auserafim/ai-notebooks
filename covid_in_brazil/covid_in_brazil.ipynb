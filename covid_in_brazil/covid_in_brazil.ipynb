{
 "cells": [
  {
   "cell_type": "code",
   "execution_count": 2,
   "id": "899bb7ef-75df-410a-a4d9-4c7324d9f91c",
   "metadata": {
    "scrolled": true
   },
   "outputs": [],
   "source": [
    "import pandas as pd\n",
    "import numpy as np\n",
    "import matplotlib.pyplot as plt\n",
    "import plotly.express as px \n",
    "import seaborn as sns\n",
    "import unidecode, re\n",
    "from sklearn.pipeline import make_pipeline\n",
    "# ImportError: cannot import name '_print_elapsed_time' from 'sklearn.utils'\n",
    "import plotly.graph_objects as go\n",
    "from sklearn.preprocessing import StandardScaler, LabelEncoder\n",
    "from sklearn.model_selection import train_test_split, cross_val_score, StratifiedKFold, RandomizedSearchCV\n",
    "from sklearn.ensemble import RandomForestClassifier, GradientBoostingClassifier\n",
    "from sklearn.linear_model import LinearRegression, LogisticRegression\n",
    "from sklearn.metrics import accuracy_score,f1_score,confusion_matrix, classification_report, roc_auc_score\n",
    "from imblearn.over_sampling import SMOTENC, SMOTEN, ADASYN\n",
    "from scipy import *\n",
    "from sklearn.feature_selection import SelectKBest, f_regression\n",
    "from catboost import CatBoostClassifier, Pool, cv\n",
    "import lightgbm as lgb\n",
    "import joblib\n",
    "from xgboost import XGBClassifier\n",
    "from lightgbm import LGBMClassifier\n",
    "from sklearn.metrics import f1_score, roc_auc_score\n",
    "from sklearn.model_selection import StratifiedKFold\n",
    "from pycaret.classification import *\n",
    "my_font = dict(\n",
    "            family=\"Courier New, monospace\",\n",
    "            size=18,\n",
    "            color=\"Black\",\n",
    "            variant=\"small-caps\",\n",
    ") \n",
    "df = pd.read_csv(\"data/train.csv\")\n",
    "df_test = pd.read_csv(\"data/test.csv\")"
   ]
  },
  {
   "cell_type": "code",
   "execution_count": 4,
   "id": "e1117fe3-629d-448e-9dba-e524a86c79eb",
   "metadata": {},
   "outputs": [],
   "source": [
    "# df.groupby('SG_UF').size().reset_index(name='count').sort_values(by='count', ascending=False)"
   ]
  },
  {
   "cell_type": "code",
   "execution_count": 5,
   "id": "dee717c5-416e-4682-afb0-2ab7c8536a9f",
   "metadata": {},
   "outputs": [],
   "source": [
    "# px.histogram(\n",
    "#     df.groupby(['SG_UF','OBESIDADE']).size().reset_index(name='count').sort_values(by='count', ascending=False),\n",
    "#     x='SG_UF',\n",
    "#     y='count',\n",
    "#     color='SG_UF')\n"
   ]
  },
  {
   "cell_type": "code",
   "execution_count": 6,
   "id": "91ad7d82-7c49-4b3c-ac30-4104d8b7f594",
   "metadata": {},
   "outputs": [],
   "source": [
    "\n",
    "# x = df.groupby('GARGANTA').size().reset_index(name='count').sort_values(by='count', ascending=False)\n",
    "\n",
    "# px.histogram(\n",
    "#      x,\n",
    "#      x='GARGANTA',\n",
    "#      y='count',\n",
    "#      color='GARGANTA')\n",
    "# x"
   ]
  },
  {
   "cell_type": "code",
   "execution_count": 7,
   "id": "989351f9-03dd-435e-a6de-90aa510d6eb1",
   "metadata": {},
   "outputs": [],
   "source": [
    "# px.histogram(\n",
    "#     df.groupby(['SG_UF','CS_SEXO']).size().reset_index(name='count').sort_values(by='count', ascending=False),\n",
    "#     x='SG_UF',\n",
    "#     y='count',\n",
    "#     color='SG_UF')"
   ]
  },
  {
   "cell_type": "code",
   "execution_count": 8,
   "id": "8501e1b1-75e9-4d8a-aea5-992b8054e523",
   "metadata": {},
   "outputs": [],
   "source": [
    "# X_train = df.select_dtypes(['number']).drop(columns=['EVOLUCAO'])\n",
    "# y_train = df['EVOLUCAO']\n",
    "\n",
    "# X_test_sub = df_test.select_dtypes(['number'])"
   ]
  },
  {
   "cell_type": "code",
   "execution_count": 9,
   "id": "2c76f511-b069-476c-8e59-7f84ebbcb532",
   "metadata": {},
   "outputs": [],
   "source": [
    "# X_train, X_test, y_train, y_test= train_test_split(X_train, y_train, test_size = .1, random_state=2)\n"
   ]
  },
  {
   "cell_type": "code",
   "execution_count": 10,
   "id": "5c6a6a09-d1da-48b2-b047-1f2965bcbd22",
   "metadata": {},
   "outputs": [],
   "source": [
    "# catb = CatBoostClassifier(\n",
    "#     iterations=100,      \n",
    "#     learning_rate=0.1,   \n",
    "#     depth=6,              \n",
    "#     verbose=0             \n",
    "# )\n",
    "\n",
    "# catb.fit(X_train, y_train)\n",
    "\n",
    "# preds = catb.predict(X_test)"
   ]
  },
  {
   "cell_type": "code",
   "execution_count": 11,
   "id": "2dbf3c7c-fe9d-4fcf-9201-63e2046752a0",
   "metadata": {},
   "outputs": [],
   "source": [
    "# catboost_accuracy = accuracy_score(y_test, preds)\n",
    "# print(f\"CatBoost's acurracy: {catboost_accuracy*100:.2f}%\")\n",
    "\n",
    "# print(\"\\nClassification report\")\n",
    "# print(classification_report(y_test, preds))\n",
    "\n",
    "# cm = confusion_matrix(y_test, preds)\n",
    "# fig = px.imshow(cm, text_auto=True).update_layout(title={\"text\": \"CatBoost's Confusion Matrix\"}, font=my_font).show()\n"
   ]
  },
  {
   "cell_type": "code",
   "execution_count": 12,
   "id": "df55883f-a1ab-4986-bb7b-5a5544b02480",
   "metadata": {},
   "outputs": [],
   "source": [
    "# test_pred = catb.predict_proba(X_test_sub)[:,1] # chances of death, class: 1.0\n",
    "\n",
    "# pd.DataFrame(np.round(test_pred)).reset_index().to_csv('results/submission_catboost.csv', header=['ID', 'EVOLUCAO'], index=False)"
   ]
  },
  {
   "cell_type": "code",
   "execution_count": 13,
   "id": "9756dd85-d895-4af5-87ed-5b6613d17164",
   "metadata": {},
   "outputs": [],
   "source": [
    "# lightGBM = lgb.LGBMClassifier(random_state=23)\n",
    "\n",
    "# lightGBM.fit(X_train, y_train)\n",
    "\n",
    "# preds = lightGBM.predict(X_test)"
   ]
  },
  {
   "cell_type": "code",
   "execution_count": 14,
   "id": "3be46790-eeec-4d86-99a5-d920a1afe143",
   "metadata": {},
   "outputs": [],
   "source": [
    "# accuracy = lightGBM.score(X_test, y_test)\n",
    "\n",
    "\n",
    "# print(f\"LightGBM acurracy: {accuracy*100:.2f}%\")\n",
    "# print(\"\\nClassification report\")\n",
    "# print(classification_report(y_test, preds))\n",
    "\n",
    "# cm = confusion_matrix(y_test, preds)\n",
    "# fig = px.imshow(cm, text_auto=True).update_layout(title={\"text\": \"LightGBM's Confusion Matrix\"}, font=my_font).show()\n"
   ]
  },
  {
   "cell_type": "code",
   "execution_count": 15,
   "id": "3ff6cca4-6e33-4334-a643-b60c208cd611",
   "metadata": {},
   "outputs": [],
   "source": [
    "# test_pred = lightGBM.predict_proba(X_test_sub)[:,1] # chances of death, class: 1.0\n",
    "\n",
    "# pd.DataFrame(np.round(test_pred)).reset_index().to_csv('results/submission_light_gbm.csv', header=['ID', 'EVOLUCAO'], index=False)"
   ]
  },
  {
   "cell_type": "code",
   "execution_count": 16,
   "id": "68aa8664-7733-415d-919d-e98664d8692a",
   "metadata": {},
   "outputs": [],
   "source": [
    "# rf = RandomForestClassifier()\n",
    "\n",
    "# rf.fit(X_train, y_train)"
   ]
  },
  {
   "cell_type": "code",
   "execution_count": 17,
   "id": "c47202c0-7cf6-49ff-a904-4ea5875bedc9",
   "metadata": {},
   "outputs": [],
   "source": [
    "# preds = rf.predict(X_test)\n",
    "# accuracy = rf.score(X_test, y_test)\n",
    "\n",
    "# print(f\"Accuracy: {accuracy*100:.2f}\")\n",
    "# print(\"\\nClassification report\")\n",
    "# print(classification_report(y_test, preds))\n",
    "\n",
    "# cm = confusion_matrix(y_test, preds)\n",
    "# fig = px.imshow(cm, text_auto=True).update_layout(title={\"text\": \"Random Forest's Confusion Matrix\"}, font=my_font).show()\n",
    "\n"
   ]
  },
  {
   "cell_type": "code",
   "execution_count": 18,
   "id": "fbe23a96-fd3b-48a7-a2bb-afce82adf48a",
   "metadata": {},
   "outputs": [],
   "source": [
    "# xg = XGBClassifier()\n",
    "# xg.fit(X_train, y_train)\n",
    "# preds = xg.predict(X_test)\n"
   ]
  },
  {
   "cell_type": "code",
   "execution_count": 19,
   "id": "25280b6c-47ea-4934-9575-0cd7c0448957",
   "metadata": {},
   "outputs": [],
   "source": [
    "# accuracy = xg.score(X_test, y_test)\n",
    "\n",
    "# print(f\"Accuracy: {accuracy*100:.2f}\")\n",
    "# print(\"\\nClassification report\")\n",
    "# print(classification_report(y_test, preds))\n",
    "\n",
    "# cm = confusion_matrix(y_test, preds)\n",
    "# fig = px.imshow(cm, text_auto=True).update_layout(title={\"text\": \"XGBoost's Confusion Matrix\"}, font=my_font).show()\n"
   ]
  },
  {
   "cell_type": "code",
   "execution_count": 20,
   "id": "71c153d9-a726-44ca-9610-e369702f1396",
   "metadata": {},
   "outputs": [],
   "source": [
    "# test_pred = xg.predict_proba(X_test_sub)[:,1] # chances of death, class: 1.0\n",
    "\n",
    "# pd.DataFrame(np.round(test_pred)).reset_index().to_csv('submission_xg.csv', header=['ID', 'EVOLUCAO'], index=False)"
   ]
  },
  {
   "cell_type": "markdown",
   "id": "63729001-cbdb-43d9-91d7-d02022a72fad",
   "metadata": {},
   "source": [
    "# Now we can try to treat this dataset\n",
    "- Let us start by checking what columns have more missing values\n",
    "- Then we can drop rows with more that 90% of the data NaN"
   ]
  },
  {
   "cell_type": "code",
   "execution_count": 21,
   "id": "d474efa6-3809-4c40-9283-bf6f08e75279",
   "metadata": {},
   "outputs": [],
   "source": [
    "# px.histogram(df.isna().sum().reset_index(name='count').sort_values(by='count', ascending=False),\n",
    "#             x='index', y='count', color='count', color_discrete_sequence= px.colors.sequential.Plasma_r,\n",
    "#              title=\"Most frequent columns with missing values\").update_layout(font = my_font)"
   ]
  },
  {
   "cell_type": "code",
   "execution_count": 22,
   "id": "90bdaf39-0962-459a-9f6a-b2e609075aba",
   "metadata": {},
   "outputs": [],
   "source": [
    "# x = df.isna().sum().reset_index(name='count').sort_values(by='count', ascending=False)\n",
    "# x['pecentage_of_missing_data'] = (x['count'] / len(df))*100\n",
    "# x"
   ]
  },
  {
   "cell_type": "code",
   "execution_count": 23,
   "id": "3f9c7468-fba1-456c-85b9-0e5aa23225f0",
   "metadata": {},
   "outputs": [],
   "source": [
    "# px.histogram(df.isna().sum().reset_index(name='count').sort_values(by='count', ascending=True).head(20),\n",
    "#             x='index', y='count', color='count', color_discrete_sequence= px.colors.sequential.Plasma_r,\n",
    "#              title=\"Less frequent columns with missing values\").update_layout(font = my_font)"
   ]
  },
  {
   "cell_type": "code",
   "execution_count": 3,
   "id": "e7213011-e3d1-4c32-b6d7-643e897a7054",
   "metadata": {},
   "outputs": [
    {
     "name": "stdout",
     "output_type": "stream",
     "text": [
      "<class 'pandas.core.frame.DataFrame'>\n",
      "Index: 495772 entries, 0 to 498319\n",
      "Data columns (total 32 columns):\n",
      " #   Column      Non-Null Count   Dtype  \n",
      "---  ------      --------------   -----  \n",
      " 0   DT_NOTIFIC  495772 non-null  object \n",
      " 1   CS_SEXO     495772 non-null  object \n",
      " 2   CO_RG_RESI  423724 non-null  float64\n",
      " 3   ID_MN_RESI  495729 non-null  object \n",
      " 4   CS_ZONA     444976 non-null  float64\n",
      " 5   NU_IDADE_N  495772 non-null  int64  \n",
      " 6   CS_ESCOL_N  351267 non-null  float64\n",
      " 7   CS_RACA     477107 non-null  float64\n",
      " 8   SG_UF       495729 non-null  object \n",
      " 9   CS_GESTANT  495772 non-null  int64  \n",
      " 10  PUERPERA    199555 non-null  float64\n",
      " 11  DIABETES    245926 non-null  float64\n",
      " 12  PNEUMOPATI  205916 non-null  float64\n",
      " 13  IMUNODEPRE  202774 non-null  float64\n",
      " 14  RENAL       205586 non-null  float64\n",
      " 15  OBESIDADE   207458 non-null  float64\n",
      " 16  OBES_IMC    14525 non-null   float64\n",
      " 17  CARDIOPATI  262135 non-null  float64\n",
      " 18  SIND_DOWN   200235 non-null  float64\n",
      " 19  HEPATICA    200587 non-null  float64\n",
      " 20  FATOR_RISC  318303 non-null  float64\n",
      " 21  FEBRE       437490 non-null  float64\n",
      " 22  TOSSE       445882 non-null  float64\n",
      " 23  GARGANTA    373880 non-null  float64\n",
      " 24  DESC_RESP   414696 non-null  float64\n",
      " 25  DIARREIA    368584 non-null  float64\n",
      " 26  VOMITO      361655 non-null  float64\n",
      " 27  FADIGA      229510 non-null  float64\n",
      " 28  SATURACAO   420938 non-null  float64\n",
      " 29  DISPNEIA    444083 non-null  float64\n",
      " 30  VACINA      397155 non-null  float64\n",
      " 31  EVOLUCAO    495772 non-null  float64\n",
      "dtypes: float64(26), int64(2), object(4)\n",
      "memory usage: 124.8+ MB\n"
     ]
    }
   ],
   "source": [
    "missing_counts = df.isnull().sum(axis=1)\n",
    "thresh = 23\n",
    "df_no_nulls = df[missing_counts < thresh]\n",
    "df_no_nulls.info()"
   ]
  },
  {
   "cell_type": "markdown",
   "id": "4f9bf4b1-a018-4ec8-93ed-16d9b7e450a3",
   "metadata": {},
   "source": [
    "### Note: You cannot just filter out all columns with ANY missing values\n",
    " - The accuracy of all models pretty much drops drastically"
   ]
  },
  {
   "cell_type": "markdown",
   "id": "84dd760b-7d8b-45f1-8dab-2a7916f9912f",
   "metadata": {},
   "source": [
    "### Checking correlation between variables"
   ]
  },
  {
   "cell_type": "code",
   "execution_count": 15,
   "id": "5aaf96cd-72cd-4a12-8f74-e5d825e5d2ee",
   "metadata": {},
   "outputs": [],
   "source": [
    "# plt.figure(figsize=(12, 12))\n",
    "# sns.heatmap(df.corr(numeric_only=True), annot=True, cmap='viridis', fmt=\".1f\")"
   ]
  },
  {
   "cell_type": "markdown",
   "id": "b939f5ea-f09d-4a83-b25c-f6fea4dec5f1",
   "metadata": {},
   "source": [
    "## Frist, we can create a total_comorbities columns to represent the total amount of comordities one has.\n",
    "    - We will separate it in chronic and temporary"
   ]
  },
  {
   "cell_type": "code",
   "execution_count": 4,
   "id": "867f63d7-c648-4fb3-b84e-2b47633ef918",
   "metadata": {},
   "outputs": [],
   "source": [
    "df_no_nulls['total_chronic_cormodity'] = ((df_no_nulls[[\"OBESIDADE\", \n",
    "                                                        \"RENAL\", \n",
    "                                                        \"CARDIOPATI\",\n",
    "                                                        \"IMUNODEPRE\", \n",
    "                                                        \"DIABETES\", \n",
    "                                                        \"PNEUMOPATI\",\n",
    "                                                        \"HEPATICA\",\n",
    "                                                        \"SIND_DOWN\"]] == 1.0).sum(axis=1))\n",
    "\n",
    "df_no_nulls['total_temporary_cormodity'] = (df_no_nulls[[\"FEBRE\",\n",
    "                                                        \"TOSSE\",\n",
    "                                                        \"PUERPERA\",\n",
    "                                                        \"GARGANTA\",\n",
    "                                                        \"DESC_RESP\",\n",
    "                                                        \"DIARREIA\",\n",
    "                                                        \"VOMITO\",\n",
    "                                                        \"FADIGA\",\n",
    "                                                        \"SATURACAO\",\n",
    "                                                        \"DISPNEIA\"]]== 1.0).sum(axis=1)"
   ]
  },
  {
   "cell_type": "markdown",
   "id": "2d01d473-4e05-492d-afc3-7a18cee97f63",
   "metadata": {},
   "source": [
    "# Creating a function to handle missing values"
   ]
  },
  {
   "cell_type": "code",
   "execution_count": 5,
   "id": "7cf1a338-2173-4786-8e27-9d315d7bf0e5",
   "metadata": {},
   "outputs": [],
   "source": [
    "class DataPreprocessor:\n",
    "    def __init__(self, dataframe):\n",
    "        self.df = dataframe.copy()\n",
    "    \n",
    "    def fill_rows_with_ints(self, columns_to_fill, missing_value=0):\n",
    "        for col in columns_to_fill:\n",
    "            if col in self.df.columns:\n",
    "                self.df[col] = self.df[col].fillna(missing_value)\n",
    "                self.df[col] = self.df[col].astype(int)\n",
    "        return self.df\n",
    "    \n",
    "    def fill_null_rows(self, columns_to_fill, missing_value):\n",
    "        for col in columns_to_fill:\n",
    "            if col in self.df.columns:\n",
    "                self.df[col] = self.df[col].fillna(missing_value)\n",
    "                self.df[col] = self.df[col].astype(str)\n",
    "\n",
    "        return self.df"
   ]
  },
  {
   "cell_type": "code",
   "execution_count": 6,
   "id": "2f5efd63-9707-4ebe-b6f3-9d181d9a66f5",
   "metadata": {},
   "outputs": [],
   "source": [
    "# Filling nulls with 9 and converting everything to category\n",
    "\n",
    "preprocessor = DataPreprocessor(df_no_nulls)\n",
    "preprocessor_test = DataPreprocessor(df_test)\n",
    "\n",
    "columns_to_fill = df_no_nulls.select_dtypes(['float']).columns.tolist()\n",
    "\n",
    "processed_df = preprocessor.fill_rows_with_ints(columns_to_fill, missing_value=9)\n",
    "processed_df_test = preprocessor_test.fill_rows_with_ints(columns_to_fill, missing_value=9)"
   ]
  },
  {
   "cell_type": "code",
   "execution_count": 7,
   "id": "4a48472a-b0e9-4e16-984a-cfeb36210742",
   "metadata": {},
   "outputs": [],
   "source": [
    "columns_to_fill = [\n",
    "                   \"OBESIDADE\", \n",
    "                   \"RENAL\", \n",
    "                   \"CARDIOPATI\",\n",
    "                   \"IMUNODEPRE\", \n",
    "                   \"DIABETES\", \n",
    "                   \"PNEUMOPATI\",\n",
    "                   \"HEPATICA\",\n",
    "                   \"FEBRE\",\n",
    "                   \"TOSSE\",\n",
    "                   \"GARGANTA\",\n",
    "                   \"DESC_RESP\",\n",
    "                   \"DIARREIA\",\n",
    "                   \"VOMITO\",\n",
    "                   \"FADIGA\",\n",
    "                   \"SATURACAO\",\n",
    "                   \"DISPNEIA\",\n",
    "                   \"CS_RACA\",\n",
    "                   \"CS_ZONA\",\n",
    "                   \"VACINA\",\n",
    "                   \"CS_ESCOL_N\",\n",
    "                   \"FATOR_RISC\",\n",
    "                   \"SIND_DOWN\",\n",
    "                   \"CO_RG_RESI\",\n",
    "                   \"PUERPERA\",\n",
    "                   \"CS_SEXO\",\n",
    "                   \"SG_UF\",\n",
    "                   \"EVOLUCAO\",\n",
    "                   \"CS_GESTANT\"\n",
    "                  ] # 22 columns \n",
    "\n",
    "preprocessor = DataPreprocessor(processed_df)\n",
    "preprocessor_test = DataPreprocessor(processed_df_test)\n",
    "\n",
    "df_2 = preprocessor.fill_null_rows(columns_to_fill, 9)\n",
    "\n",
    "\n",
    "df_test_copy = preprocessor_test.fill_null_rows(columns_to_fill, 9)\n",
    "\n",
    "df_2.drop(columns={\"DT_NOTIFIC\", \"ID_MN_RESI\",\"OBES_IMC\", \"CO_RG_RESI\", \"TOSSE\"}, inplace=True)\n",
    "df_test_copy.drop(columns={\"DT_NOTIFIC\", \"ID_MN_RESI\",\"OBES_IMC\", \"CO_RG_RESI\", \"TOSSE\"}, inplace=True)\n",
    "\n",
    "\n",
    "X = df_2.drop(columns={'EVOLUCAO'})\n",
    "y = df_2['EVOLUCAO']"
   ]
  },
  {
   "cell_type": "markdown",
   "id": "2cb127f1-4b0c-4c4e-9fc2-4a88233887b1",
   "metadata": {},
   "source": [
    "## Since we got an imbalanced dataset, let us oversample it with SMOTE and ADASYN"
   ]
  },
  {
   "cell_type": "code",
   "execution_count": 8,
   "id": "a8d5a77d-79d2-45eb-bfa1-bea4b3ae58f0",
   "metadata": {},
   "outputs": [],
   "source": [
    "# y = pd.DataFrame(y)\n",
    "X_temp, X_test, y_temp, y_test = train_test_split(X, y, test_size=0.1, random_state=32)\n",
    "\n",
    "X_train, X_valid, y_train, y_valid = train_test_split(X_temp, y_temp, test_size=0.1, random_state=32)\n",
    "# Note: 0.25 * 0.8 = 0.20, so overall 60/20/20"
   ]
  },
  {
   "cell_type": "code",
   "execution_count": 9,
   "id": "b7ee4ed5-5042-487e-a0fe-acb75ec79fc0",
   "metadata": {},
   "outputs": [
    {
     "name": "stdout",
     "output_type": "stream",
     "text": [
      "(148731, 28) (148731,)\n"
     ]
    }
   ],
   "source": [
    "X_small, _, y_small, _ = train_test_split(\n",
    "    X, y, \n",
    "    train_size=0.3,  # use 15% of data\n",
    "    stratify=y,      # keep class balance\n",
    "    random_state=42\n",
    ")\n",
    "\n",
    "print(X_small.shape, y_small.shape)"
   ]
  },
  {
   "cell_type": "code",
   "execution_count": 10,
   "id": "1fde769c-c4f3-4ce3-aa5a-00acbff768f4",
   "metadata": {},
   "outputs": [],
   "source": [
    "cat_feats = [X.columns.get_loc(c) for c in X.select_dtypes(['object']).columns]"
   ]
  },
  {
   "cell_type": "code",
   "execution_count": 11,
   "id": "fd4bb159-8dc4-44b2-8f9d-5bf5e3c563d6",
   "metadata": {},
   "outputs": [
    {
     "name": "stdout",
     "output_type": "stream",
     "text": [
      "Before: Counter({'0': 97495, '1': 51236})\n",
      "After: Counter({'0': 97495, '1': 97495})\n"
     ]
    }
   ],
   "source": [
    "from collections import Counter\n",
    "sm = SMOTENC(random_state=32, categorical_features=cat_feats)\n",
    "X_resample, y_resample = sm.fit_resample (X_small, y_small)\n",
    "\n",
    "\n",
    "print(\"Before:\", Counter(y_small))\n",
    "print(\"After:\", Counter(y_resample))"
   ]
  },
  {
   "cell_type": "code",
   "execution_count": 12,
   "id": "1aa57639-205d-4a5d-b1d8-a3466003ca17",
   "metadata": {},
   "outputs": [
    {
     "data": {
      "text/html": [
       "<style>#sk-container-id-1 {\n",
       "  /* Definition of color scheme common for light and dark mode */\n",
       "  --sklearn-color-text: black;\n",
       "  --sklearn-color-line: gray;\n",
       "  /* Definition of color scheme for unfitted estimators */\n",
       "  --sklearn-color-unfitted-level-0: #fff5e6;\n",
       "  --sklearn-color-unfitted-level-1: #f6e4d2;\n",
       "  --sklearn-color-unfitted-level-2: #ffe0b3;\n",
       "  --sklearn-color-unfitted-level-3: chocolate;\n",
       "  /* Definition of color scheme for fitted estimators */\n",
       "  --sklearn-color-fitted-level-0: #f0f8ff;\n",
       "  --sklearn-color-fitted-level-1: #d4ebff;\n",
       "  --sklearn-color-fitted-level-2: #b3dbfd;\n",
       "  --sklearn-color-fitted-level-3: cornflowerblue;\n",
       "\n",
       "  /* Specific color for light theme */\n",
       "  --sklearn-color-text-on-default-background: var(--sg-text-color, var(--theme-code-foreground, var(--jp-content-font-color1, black)));\n",
       "  --sklearn-color-background: var(--sg-background-color, var(--theme-background, var(--jp-layout-color0, white)));\n",
       "  --sklearn-color-border-box: var(--sg-text-color, var(--theme-code-foreground, var(--jp-content-font-color1, black)));\n",
       "  --sklearn-color-icon: #696969;\n",
       "\n",
       "  @media (prefers-color-scheme: dark) {\n",
       "    /* Redefinition of color scheme for dark theme */\n",
       "    --sklearn-color-text-on-default-background: var(--sg-text-color, var(--theme-code-foreground, var(--jp-content-font-color1, white)));\n",
       "    --sklearn-color-background: var(--sg-background-color, var(--theme-background, var(--jp-layout-color0, #111)));\n",
       "    --sklearn-color-border-box: var(--sg-text-color, var(--theme-code-foreground, var(--jp-content-font-color1, white)));\n",
       "    --sklearn-color-icon: #878787;\n",
       "  }\n",
       "}\n",
       "\n",
       "#sk-container-id-1 {\n",
       "  color: var(--sklearn-color-text);\n",
       "}\n",
       "\n",
       "#sk-container-id-1 pre {\n",
       "  padding: 0;\n",
       "}\n",
       "\n",
       "#sk-container-id-1 input.sk-hidden--visually {\n",
       "  border: 0;\n",
       "  clip: rect(1px 1px 1px 1px);\n",
       "  clip: rect(1px, 1px, 1px, 1px);\n",
       "  height: 1px;\n",
       "  margin: -1px;\n",
       "  overflow: hidden;\n",
       "  padding: 0;\n",
       "  position: absolute;\n",
       "  width: 1px;\n",
       "}\n",
       "\n",
       "#sk-container-id-1 div.sk-dashed-wrapped {\n",
       "  border: 1px dashed var(--sklearn-color-line);\n",
       "  margin: 0 0.4em 0.5em 0.4em;\n",
       "  box-sizing: border-box;\n",
       "  padding-bottom: 0.4em;\n",
       "  background-color: var(--sklearn-color-background);\n",
       "}\n",
       "\n",
       "#sk-container-id-1 div.sk-container {\n",
       "  /* jupyter's `normalize.less` sets `[hidden] { display: none; }`\n",
       "     but bootstrap.min.css set `[hidden] { display: none !important; }`\n",
       "     so we also need the `!important` here to be able to override the\n",
       "     default hidden behavior on the sphinx rendered scikit-learn.org.\n",
       "     See: https://github.com/scikit-learn/scikit-learn/issues/21755 */\n",
       "  display: inline-block !important;\n",
       "  position: relative;\n",
       "}\n",
       "\n",
       "#sk-container-id-1 div.sk-text-repr-fallback {\n",
       "  display: none;\n",
       "}\n",
       "\n",
       "div.sk-parallel-item,\n",
       "div.sk-serial,\n",
       "div.sk-item {\n",
       "  /* draw centered vertical line to link estimators */\n",
       "  background-image: linear-gradient(var(--sklearn-color-text-on-default-background), var(--sklearn-color-text-on-default-background));\n",
       "  background-size: 2px 100%;\n",
       "  background-repeat: no-repeat;\n",
       "  background-position: center center;\n",
       "}\n",
       "\n",
       "/* Parallel-specific style estimator block */\n",
       "\n",
       "#sk-container-id-1 div.sk-parallel-item::after {\n",
       "  content: \"\";\n",
       "  width: 100%;\n",
       "  border-bottom: 2px solid var(--sklearn-color-text-on-default-background);\n",
       "  flex-grow: 1;\n",
       "}\n",
       "\n",
       "#sk-container-id-1 div.sk-parallel {\n",
       "  display: flex;\n",
       "  align-items: stretch;\n",
       "  justify-content: center;\n",
       "  background-color: var(--sklearn-color-background);\n",
       "  position: relative;\n",
       "}\n",
       "\n",
       "#sk-container-id-1 div.sk-parallel-item {\n",
       "  display: flex;\n",
       "  flex-direction: column;\n",
       "}\n",
       "\n",
       "#sk-container-id-1 div.sk-parallel-item:first-child::after {\n",
       "  align-self: flex-end;\n",
       "  width: 50%;\n",
       "}\n",
       "\n",
       "#sk-container-id-1 div.sk-parallel-item:last-child::after {\n",
       "  align-self: flex-start;\n",
       "  width: 50%;\n",
       "}\n",
       "\n",
       "#sk-container-id-1 div.sk-parallel-item:only-child::after {\n",
       "  width: 0;\n",
       "}\n",
       "\n",
       "/* Serial-specific style estimator block */\n",
       "\n",
       "#sk-container-id-1 div.sk-serial {\n",
       "  display: flex;\n",
       "  flex-direction: column;\n",
       "  align-items: center;\n",
       "  background-color: var(--sklearn-color-background);\n",
       "  padding-right: 1em;\n",
       "  padding-left: 1em;\n",
       "}\n",
       "\n",
       "\n",
       "/* Toggleable style: style used for estimator/Pipeline/ColumnTransformer box that is\n",
       "clickable and can be expanded/collapsed.\n",
       "- Pipeline and ColumnTransformer use this feature and define the default style\n",
       "- Estimators will overwrite some part of the style using the `sk-estimator` class\n",
       "*/\n",
       "\n",
       "/* Pipeline and ColumnTransformer style (default) */\n",
       "\n",
       "#sk-container-id-1 div.sk-toggleable {\n",
       "  /* Default theme specific background. It is overwritten whether we have a\n",
       "  specific estimator or a Pipeline/ColumnTransformer */\n",
       "  background-color: var(--sklearn-color-background);\n",
       "}\n",
       "\n",
       "/* Toggleable label */\n",
       "#sk-container-id-1 label.sk-toggleable__label {\n",
       "  cursor: pointer;\n",
       "  display: block;\n",
       "  width: 100%;\n",
       "  margin-bottom: 0;\n",
       "  padding: 0.5em;\n",
       "  box-sizing: border-box;\n",
       "  text-align: center;\n",
       "}\n",
       "\n",
       "#sk-container-id-1 label.sk-toggleable__label-arrow:before {\n",
       "  /* Arrow on the left of the label */\n",
       "  content: \"▸\";\n",
       "  float: left;\n",
       "  margin-right: 0.25em;\n",
       "  color: var(--sklearn-color-icon);\n",
       "}\n",
       "\n",
       "#sk-container-id-1 label.sk-toggleable__label-arrow:hover:before {\n",
       "  color: var(--sklearn-color-text);\n",
       "}\n",
       "\n",
       "/* Toggleable content - dropdown */\n",
       "\n",
       "#sk-container-id-1 div.sk-toggleable__content {\n",
       "  max-height: 0;\n",
       "  max-width: 0;\n",
       "  overflow: hidden;\n",
       "  text-align: left;\n",
       "  /* unfitted */\n",
       "  background-color: var(--sklearn-color-unfitted-level-0);\n",
       "}\n",
       "\n",
       "#sk-container-id-1 div.sk-toggleable__content.fitted {\n",
       "  /* fitted */\n",
       "  background-color: var(--sklearn-color-fitted-level-0);\n",
       "}\n",
       "\n",
       "#sk-container-id-1 div.sk-toggleable__content pre {\n",
       "  margin: 0.2em;\n",
       "  border-radius: 0.25em;\n",
       "  color: var(--sklearn-color-text);\n",
       "  /* unfitted */\n",
       "  background-color: var(--sklearn-color-unfitted-level-0);\n",
       "}\n",
       "\n",
       "#sk-container-id-1 div.sk-toggleable__content.fitted pre {\n",
       "  /* unfitted */\n",
       "  background-color: var(--sklearn-color-fitted-level-0);\n",
       "}\n",
       "\n",
       "#sk-container-id-1 input.sk-toggleable__control:checked~div.sk-toggleable__content {\n",
       "  /* Expand drop-down */\n",
       "  max-height: 200px;\n",
       "  max-width: 100%;\n",
       "  overflow: auto;\n",
       "}\n",
       "\n",
       "#sk-container-id-1 input.sk-toggleable__control:checked~label.sk-toggleable__label-arrow:before {\n",
       "  content: \"▾\";\n",
       "}\n",
       "\n",
       "/* Pipeline/ColumnTransformer-specific style */\n",
       "\n",
       "#sk-container-id-1 div.sk-label input.sk-toggleable__control:checked~label.sk-toggleable__label {\n",
       "  color: var(--sklearn-color-text);\n",
       "  background-color: var(--sklearn-color-unfitted-level-2);\n",
       "}\n",
       "\n",
       "#sk-container-id-1 div.sk-label.fitted input.sk-toggleable__control:checked~label.sk-toggleable__label {\n",
       "  background-color: var(--sklearn-color-fitted-level-2);\n",
       "}\n",
       "\n",
       "/* Estimator-specific style */\n",
       "\n",
       "/* Colorize estimator box */\n",
       "#sk-container-id-1 div.sk-estimator input.sk-toggleable__control:checked~label.sk-toggleable__label {\n",
       "  /* unfitted */\n",
       "  background-color: var(--sklearn-color-unfitted-level-2);\n",
       "}\n",
       "\n",
       "#sk-container-id-1 div.sk-estimator.fitted input.sk-toggleable__control:checked~label.sk-toggleable__label {\n",
       "  /* fitted */\n",
       "  background-color: var(--sklearn-color-fitted-level-2);\n",
       "}\n",
       "\n",
       "#sk-container-id-1 div.sk-label label.sk-toggleable__label,\n",
       "#sk-container-id-1 div.sk-label label {\n",
       "  /* The background is the default theme color */\n",
       "  color: var(--sklearn-color-text-on-default-background);\n",
       "}\n",
       "\n",
       "/* On hover, darken the color of the background */\n",
       "#sk-container-id-1 div.sk-label:hover label.sk-toggleable__label {\n",
       "  color: var(--sklearn-color-text);\n",
       "  background-color: var(--sklearn-color-unfitted-level-2);\n",
       "}\n",
       "\n",
       "/* Label box, darken color on hover, fitted */\n",
       "#sk-container-id-1 div.sk-label.fitted:hover label.sk-toggleable__label.fitted {\n",
       "  color: var(--sklearn-color-text);\n",
       "  background-color: var(--sklearn-color-fitted-level-2);\n",
       "}\n",
       "\n",
       "/* Estimator label */\n",
       "\n",
       "#sk-container-id-1 div.sk-label label {\n",
       "  font-family: monospace;\n",
       "  font-weight: bold;\n",
       "  display: inline-block;\n",
       "  line-height: 1.2em;\n",
       "}\n",
       "\n",
       "#sk-container-id-1 div.sk-label-container {\n",
       "  text-align: center;\n",
       "}\n",
       "\n",
       "/* Estimator-specific */\n",
       "#sk-container-id-1 div.sk-estimator {\n",
       "  font-family: monospace;\n",
       "  border: 1px dotted var(--sklearn-color-border-box);\n",
       "  border-radius: 0.25em;\n",
       "  box-sizing: border-box;\n",
       "  margin-bottom: 0.5em;\n",
       "  /* unfitted */\n",
       "  background-color: var(--sklearn-color-unfitted-level-0);\n",
       "}\n",
       "\n",
       "#sk-container-id-1 div.sk-estimator.fitted {\n",
       "  /* fitted */\n",
       "  background-color: var(--sklearn-color-fitted-level-0);\n",
       "}\n",
       "\n",
       "/* on hover */\n",
       "#sk-container-id-1 div.sk-estimator:hover {\n",
       "  /* unfitted */\n",
       "  background-color: var(--sklearn-color-unfitted-level-2);\n",
       "}\n",
       "\n",
       "#sk-container-id-1 div.sk-estimator.fitted:hover {\n",
       "  /* fitted */\n",
       "  background-color: var(--sklearn-color-fitted-level-2);\n",
       "}\n",
       "\n",
       "/* Specification for estimator info (e.g. \"i\" and \"?\") */\n",
       "\n",
       "/* Common style for \"i\" and \"?\" */\n",
       "\n",
       ".sk-estimator-doc-link,\n",
       "a:link.sk-estimator-doc-link,\n",
       "a:visited.sk-estimator-doc-link {\n",
       "  float: right;\n",
       "  font-size: smaller;\n",
       "  line-height: 1em;\n",
       "  font-family: monospace;\n",
       "  background-color: var(--sklearn-color-background);\n",
       "  border-radius: 1em;\n",
       "  height: 1em;\n",
       "  width: 1em;\n",
       "  text-decoration: none !important;\n",
       "  margin-left: 1ex;\n",
       "  /* unfitted */\n",
       "  border: var(--sklearn-color-unfitted-level-1) 1pt solid;\n",
       "  color: var(--sklearn-color-unfitted-level-1);\n",
       "}\n",
       "\n",
       ".sk-estimator-doc-link.fitted,\n",
       "a:link.sk-estimator-doc-link.fitted,\n",
       "a:visited.sk-estimator-doc-link.fitted {\n",
       "  /* fitted */\n",
       "  border: var(--sklearn-color-fitted-level-1) 1pt solid;\n",
       "  color: var(--sklearn-color-fitted-level-1);\n",
       "}\n",
       "\n",
       "/* On hover */\n",
       "div.sk-estimator:hover .sk-estimator-doc-link:hover,\n",
       ".sk-estimator-doc-link:hover,\n",
       "div.sk-label-container:hover .sk-estimator-doc-link:hover,\n",
       ".sk-estimator-doc-link:hover {\n",
       "  /* unfitted */\n",
       "  background-color: var(--sklearn-color-unfitted-level-3);\n",
       "  color: var(--sklearn-color-background);\n",
       "  text-decoration: none;\n",
       "}\n",
       "\n",
       "div.sk-estimator.fitted:hover .sk-estimator-doc-link.fitted:hover,\n",
       ".sk-estimator-doc-link.fitted:hover,\n",
       "div.sk-label-container:hover .sk-estimator-doc-link.fitted:hover,\n",
       ".sk-estimator-doc-link.fitted:hover {\n",
       "  /* fitted */\n",
       "  background-color: var(--sklearn-color-fitted-level-3);\n",
       "  color: var(--sklearn-color-background);\n",
       "  text-decoration: none;\n",
       "}\n",
       "\n",
       "/* Span, style for the box shown on hovering the info icon */\n",
       ".sk-estimator-doc-link span {\n",
       "  display: none;\n",
       "  z-index: 9999;\n",
       "  position: relative;\n",
       "  font-weight: normal;\n",
       "  right: .2ex;\n",
       "  padding: .5ex;\n",
       "  margin: .5ex;\n",
       "  width: min-content;\n",
       "  min-width: 20ex;\n",
       "  max-width: 50ex;\n",
       "  color: var(--sklearn-color-text);\n",
       "  box-shadow: 2pt 2pt 4pt #999;\n",
       "  /* unfitted */\n",
       "  background: var(--sklearn-color-unfitted-level-0);\n",
       "  border: .5pt solid var(--sklearn-color-unfitted-level-3);\n",
       "}\n",
       "\n",
       ".sk-estimator-doc-link.fitted span {\n",
       "  /* fitted */\n",
       "  background: var(--sklearn-color-fitted-level-0);\n",
       "  border: var(--sklearn-color-fitted-level-3);\n",
       "}\n",
       "\n",
       ".sk-estimator-doc-link:hover span {\n",
       "  display: block;\n",
       "}\n",
       "\n",
       "/* \"?\"-specific style due to the `<a>` HTML tag */\n",
       "\n",
       "#sk-container-id-1 a.estimator_doc_link {\n",
       "  float: right;\n",
       "  font-size: 1rem;\n",
       "  line-height: 1em;\n",
       "  font-family: monospace;\n",
       "  background-color: var(--sklearn-color-background);\n",
       "  border-radius: 1rem;\n",
       "  height: 1rem;\n",
       "  width: 1rem;\n",
       "  text-decoration: none;\n",
       "  /* unfitted */\n",
       "  color: var(--sklearn-color-unfitted-level-1);\n",
       "  border: var(--sklearn-color-unfitted-level-1) 1pt solid;\n",
       "}\n",
       "\n",
       "#sk-container-id-1 a.estimator_doc_link.fitted {\n",
       "  /* fitted */\n",
       "  border: var(--sklearn-color-fitted-level-1) 1pt solid;\n",
       "  color: var(--sklearn-color-fitted-level-1);\n",
       "}\n",
       "\n",
       "/* On hover */\n",
       "#sk-container-id-1 a.estimator_doc_link:hover {\n",
       "  /* unfitted */\n",
       "  background-color: var(--sklearn-color-unfitted-level-3);\n",
       "  color: var(--sklearn-color-background);\n",
       "  text-decoration: none;\n",
       "}\n",
       "\n",
       "#sk-container-id-1 a.estimator_doc_link.fitted:hover {\n",
       "  /* fitted */\n",
       "  background-color: var(--sklearn-color-fitted-level-3);\n",
       "}\n",
       "</style><div id=\"sk-container-id-1\" class=\"sk-top-container\"><div class=\"sk-text-repr-fallback\"><pre>LGBMClassifier(bagging_fraction=0.7, bagging_freq=1, colsample_bytree=0.7,\n",
       "               extra_trees=True, lambda_l1=1.0, learning_rate=0.05, max_depth=7,\n",
       "               metric=&#x27;TotalF1&#x27;, min_data_in_leaf=1000, n_estimators=150,\n",
       "               num_leaves=30, random_state=32, reg_alpha=0.1, reg_lambda=6,\n",
       "               verbose=-1)</pre><b>In a Jupyter environment, please rerun this cell to show the HTML representation or trust the notebook. <br />On GitHub, the HTML representation is unable to render, please try loading this page with nbviewer.org.</b></div><div class=\"sk-container\" hidden><div class=\"sk-item\"><div class=\"sk-estimator fitted sk-toggleable\"><input class=\"sk-toggleable__control sk-hidden--visually\" id=\"sk-estimator-id-1\" type=\"checkbox\" checked><label for=\"sk-estimator-id-1\" class=\"sk-toggleable__label fitted sk-toggleable__label-arrow fitted\">&nbsp;LGBMClassifier<span class=\"sk-estimator-doc-link fitted\">i<span>Fitted</span></span></label><div class=\"sk-toggleable__content fitted\"><pre>LGBMClassifier(bagging_fraction=0.7, bagging_freq=1, colsample_bytree=0.7,\n",
       "               extra_trees=True, lambda_l1=1.0, learning_rate=0.05, max_depth=7,\n",
       "               metric=&#x27;TotalF1&#x27;, min_data_in_leaf=1000, n_estimators=150,\n",
       "               num_leaves=30, random_state=32, reg_alpha=0.1, reg_lambda=6,\n",
       "               verbose=-1)</pre></div> </div></div></div></div>"
      ],
      "text/plain": [
       "LGBMClassifier(bagging_fraction=0.7, bagging_freq=1, colsample_bytree=0.7,\n",
       "               extra_trees=True, lambda_l1=1.0, learning_rate=0.05, max_depth=7,\n",
       "               metric='TotalF1', min_data_in_leaf=1000, n_estimators=150,\n",
       "               num_leaves=30, random_state=32, reg_alpha=0.1, reg_lambda=6,\n",
       "               verbose=-1)"
      ]
     },
     "execution_count": 12,
     "metadata": {},
     "output_type": "execute_result"
    }
   ],
   "source": [
    "\n",
    "for col in X.select_dtypes(['object']).columns:\n",
    "    X[col] = X[col].astype('category')\n",
    "    X_valid[col] = X_valid[col].astype('category')\n",
    "    X_test[col] = X_test[col].astype('category')\n",
    "    X_resample[col] = X_resample[col].astype('category')\n",
    "   \n",
    "\n",
    "\n",
    "cat_features = [X.columns.get_loc(c) for c in X.select_dtypes(['category']).columns]\n",
    "\n",
    "params = {\n",
    "    'n_estimators': 150,          # equivalent to iterations\n",
    "    'learning_rate': 0.05,\n",
    "    'max_depth': 7,\n",
    "    'random_state': 32,\n",
    "    'extra_trees': True,\n",
    "    'metric': 'binary_logloss',\n",
    "    'min_data_in_leaf': 1000,\n",
    "    'num_leaves': 30,\n",
    "    'colsample_bytree': 0.7,       # similar to rsm\n",
    "    'reg_alpha': 0.1,\n",
    "    'reg_lambda': 6,               # L2 regularization\n",
    "    'bagging_fraction': 0.7,       # subsample ratio (use with bagging_freq)\n",
    "    'bagging_freq': 1,\n",
    "    'metric': 'TotalF1',     # default eval metric\n",
    "    'verbose': -1,\n",
    "    'lambda_l1': 1.0,\n",
    "    #'early_stopping_rounds':10,\n",
    "    'verbose': -1\n",
    "\n",
    "}\n",
    "\n",
    "lgbm = lgb.LGBMClassifier(**params)\n",
    "\n",
    "# Fit model\n",
    "lgbm.fit(\n",
    "    X_resample, y_resample,\n",
    "    eval_set=[(X_valid, y_valid)],\n",
    "    eval_names=['validation'],\n",
    "    eval_metric='binary_logloss'\n",
    "    # categorical_feature=cat_features,\n",
    "    # callbacks=[\n",
    "    #     lgb.early_stopping(stopping_rounds=50),\n",
    "    #     lgb.log_evaluation(period=50)\n",
    "    # ]\n",
    ")\n",
    "\n",
    "# Prediction\n",
    "\n",
    "# y_test = y_test.astype('category')\n",
    "# y_valid = y_valid.astype('category')\n",
    "# preds = lgbm.predict(X_valid)\n",
    "\n",
    "# accuracy = lgbm.score(X_valid, y_valid)\n",
    "\n",
    "\n",
    "# print(f\"ctb acurracy: {accuracy*100:.2f}%\")\n",
    "# print(\"\\nClassification report\")\n",
    "# print(classification_report(y_valid, preds))\n",
    "\n",
    "# cm = confusion_matrix(y_valid, preds)\n",
    "# fig = px.imshow(cm, text_auto=True).update_layout(title={\"text\": \"CatBoost's Confusion Matrix\"}, font=my_font).show()\n"
   ]
  },
  {
   "cell_type": "code",
   "execution_count": 14,
   "id": "6f206621-5be7-426f-9664-50166c8686ce",
   "metadata": {},
   "outputs": [
    {
     "name": "stdout",
     "output_type": "stream",
     "text": [
      "(148731, 28) (148731,)\n",
      "Before: Counter({'0': 97495, '1': 51236})\n",
      "After: Counter({'0': 97495, '1': 95189})\n"
     ]
    }
   ],
   "source": [
    "# Ordinal Encoding my features\n",
    "from sklearn.preprocessing import OrdinalEncoder\n",
    "cat_cols_x = X.select_dtypes(include=[\"object\", \"category\"]).columns\n",
    "encoder = OrdinalEncoder(handle_unknown=\"use_encoded_value\", unknown_value=-1)\n",
    "encoded_X = X.copy()\n",
    "encoded_X[cat_cols_x] = encoder.fit_transform(encoded_X[cat_cols_x])\n",
    "\n",
    "\n",
    "\n",
    "\n",
    "# y = pd.DataFrame(y)\n",
    "X_temp, X_test, y_temp, y_test = train_test_split(encoded_X, numeric_y, test_size=0.1, random_state=32)\n",
    "\n",
    "X_train, X_valid, y_train, y_valid = train_test_split(X_temp, y_temp, test_size=0.1, random_state=32)\n",
    "# Note: 0.25 * 0.8 = 0.20, so overall 60/20/20\n",
    "\n",
    "\n",
    "X_small, _, y_small, _ = train_test_split(\n",
    "    encoded_X, y, \n",
    "    train_size=0.3,  # use 15% of data\n",
    "    stratify=y,      # keep class balance\n",
    "    random_state=32\n",
    ")\n",
    "\n",
    "print(X_small.shape, y_small.shape)\n",
    "\n",
    "\n",
    "from collections import Counter\n",
    "adasyn = ADASYN(random_state=32)\n",
    "\n",
    "X_resample, y_resample = adasyn.fit_resample (X_small, y_small)\n",
    "\n",
    "\n",
    "print(\"Before:\", Counter(y_small))\n",
    "print(\"After:\", Counter(y_resample))"
   ]
  },
  {
   "cell_type": "code",
   "execution_count": null,
   "id": "9f9b0643-7312-4402-aae7-d22880ed8ddc",
   "metadata": {},
   "outputs": [],
   "source": [
    "from sklearn.ensemble import StackingClassifier\n",
    "params_lgb = {\n",
    "    'n_estimators': 150,\n",
    "    'learning_rate': 0.05,\n",
    "    'max_depth': 7,\n",
    "    'random_state': 32,\n",
    "    'num_leaves': 30,\n",
    "    'colsample_bytree': 0.7,\n",
    "    'reg_alpha': 0.1,\n",
    "    'reg_lambda': 6,\n",
    "    'bagging_fraction': 0.7,\n",
    "    'bagging_freq': 1,\n",
    "    'verbose': -1\n",
    "}\n",
    "lgbm = lgb.LGBMClassifier(**params_lgb)\n",
    "\n",
    "# CatBoost\n",
    "params_cat = {\n",
    "    'iterations': 1000,\n",
    "    'learning_rate': 0.05,\n",
    "    'depth': 6,\n",
    "    'loss_function': 'Logloss',   # binary classification\n",
    "    'eval_metric': 'F1',          # for monitoring\n",
    "    'random_seed': 32,\n",
    "    'early_stopping_rounds': 20,\n",
    "    'verbose': 50,\n",
    "    #'logging_level': 'Silent'     # disables _CURRENT_EXPERIMENT error\n",
    "}\n",
    "ctb = CatBoostClassifier(**params_cat)\n",
    "\n",
    "# XGBoost (optional)\n",
    "xgb = XGBClassifier( eval_metric='logloss')\n",
    "\n",
    "# -----------------------------\n",
    "# Step 3: Create stacking ensemble\n",
    "# -----------------------------\n",
    "estimators = [\n",
    "    ('lgb', lgbm),\n",
    "    ('cat', ctb),\n",
    "    ('xgb', xgb)\n",
    "]\n",
    "\n",
    "stack = StackingClassifier(\n",
    "    estimators=estimators,\n",
    "    final_estimator= CatBoostClassifier(n_estimators=100, random_state=32),\n",
    "    cv=5,\n",
    "    passthrough=False,\n",
    "    n_jobs=-1\n",
    ")\n",
    "\n",
    "# -----------------------------\n",
    "# Step 4: Fit ensemble\n",
    "# -----------------------------\n",
    "stack.fit(X_resample, y_resample)\n",
    "\n",
    "# -----------------------------\n",
    "# Step 5: Evaluate\n",
    "# -----------------------------\n",
    "y_pred = stack.predict(X_test)\n",
    "y_pred = y_pred.astype(int)  # converts strings like '0', '1' to integers 0, 1\n",
    "\n",
    "print(\"\\nClassification report:\")\n",
    "print(classification_report(y_test, y_pred))\n",
    "\n",
    "cm = confusion_matrix(y_test, y_pred)\n",
    "print(\"\\nConfusion matrix:\")\n",
    "print(cm)"
   ]
  },
  {
   "cell_type": "code",
   "execution_count": 107,
   "id": "04fefa5b-3667-4fec-b0b0-0c55daa9d30c",
   "metadata": {},
   "outputs": [],
   "source": [
    "# # LightGBM uses integer column indices for categorical features\n",
    "# cat_features = [X.columns.get_loc(c) for c in X.select_dtypes(['object']).columns]\n",
    "\n",
    "# params = {\n",
    "#     'n_estimators': 150,          # equivalent to iterations\n",
    "#     'learning_rate': 0.05,\n",
    "#     'max_depth': 7,\n",
    "#     'random_state': 32,\n",
    "#     'extra_trees': True,\n",
    "#     'metric': 'binary_logloss',\n",
    "#     'min_data_in_leaf': 1000,\n",
    "#     'num_leaves': 30,\n",
    "#     'colsample_bytree': 0.7,       # similar to rsm\n",
    "#     'reg_alpha': 0.1,\n",
    "#     'reg_lambda': 6,               # L2 regularization\n",
    "#     'bagging_fraction': 0.7,       # subsample ratio (use with bagging_freq)\n",
    "#     'bagging_freq': 1,\n",
    "#     'metric': 'TotalF1',     # default eval metric\n",
    "#     'verbose': -1,\n",
    "#     'lambda_l1': 1.0,\n",
    "#    #'early_stopping_rounds':10,\n",
    "#     'verbose': -1\n",
    "\n",
    "# }\n",
    "\n",
    "# lgbm = lgb.LGBMClassifier(**params)\n",
    "\n",
    "# # Fit model\n",
    "# lgbm.fit(\n",
    "#     X_train, y_train,\n",
    "#     eval_set=[(X_valid, y_valid)],\n",
    "#     eval_names=['validation'],\n",
    "#     eval_metric='binary_logloss',\n",
    "#     #categorical_feature=cat_features,\n",
    "#     # callbacks=[\n",
    "#     #     lgb.early_stopping(stopping_rounds=50),\n",
    "#     #     lgb.log_evaluation(period=50)\n",
    "#     # ]\n",
    "# )\n",
    "\n",
    "# # Prediction\n",
    "# y_pred = lgbm.predict_proba(X_valid)[:, 1]  # prob for class 1\n",
    "# print(\"Validation AUC:\", roc_auc_score(y_valid, y_pred))\n",
    "\n"
   ]
  },
  {
   "cell_type": "code",
   "execution_count": 108,
   "id": "a4733d61-870b-4b12-9ae0-6d78f5281b21",
   "metadata": {},
   "outputs": [],
   "source": [
    "# import shap\n",
    "\n",
    "# SHAP analysis\n",
    "explainer = shap.TreeExplainer(lgbm)\n",
    "shap_values = explainer.shap_values(X_test)\n",
    "shap.summary_plot(shap_values, X_test, feature_names=X_train.columns, plot_type=\"bar\")\n",
    "shap_importance = np.abs(shap_values).mean(axis=0)\n",
    "\n",
    "# put into DataFrame for readability\n",
    "shap_importance_df = pd.DataFrame({\n",
    "    \"feature\": X_test.columns,\n",
    "    \"importance\": shap_importance\n",
    "}).sort_values(by=\"importance\", ascending=True)\n",
    "\n",
    "print(shap_importance_df.head(10))   # lowest 10 features\n",
    "# Drop low-impact features\n",
    "# low_impact_features = [...]  # your list\n",
    "# X_train_reduced = X_train.drop(columns=low_impact_features)\n",
    "# X_valid_reduced = X_valid.drop(columns=low_impact_features)\n",
    "\n",
    "# # # Update categorical feature indices\n",
    "# # cat_features_reduced = [X_train_reduced.columns.get_loc(f) for f in cat_features if f not in low_impact_features]\n",
    "\n",
    "# # # Create LightGBM datasets\n",
    "# # train_data = lgb.Dataset(X_train_reduced, label=y_train, categorical_feature=cat_features_reduced)\n",
    "# # valid_data = lgb.Dataset(X_valid_reduced, label=y_valid, categorical_feature=cat_features_reduced, reference=train_data)\n",
    "\n",
    "# # # Train LightGBM\n",
    "# # model = lgb.train(\n",
    "# #     params,\n",
    "# #     train_data,\n",
    "# #     valid_sets=[train_data, valid_data],\n",
    "# #     valid_names=[\"train\", \"valid\"],\n",
    "# #     num_boost_round=2000,\n",
    "# #     early_stopping_rounds=100\n",
    "# # )\n",
    "# # y_pred = model.predict_proba(X_valid)[:, 1]  # prob for class 1\n",
    "# # print(\"Validation AUC:\", roc_auc_score(y_valid, y_pred))\n"
   ]
  },
  {
   "cell_type": "markdown",
   "id": "8e04a720-4646-4bc9-b3fb-62ca43eff2c5",
   "metadata": {},
   "source": [
    "### Now we will drop out unimportant feaures like SIND_DOWN    0.002544\n",
    "###                 PUERPERA    0.005949\n",
    "###                     CS_ZONA    0.007252"
   ]
  },
  {
   "cell_type": "code",
   "execution_count": 109,
   "id": "8204eb94-67e5-4df8-b6c1-bf362a6eba5e",
   "metadata": {},
   "outputs": [],
   "source": [
    "# df_2.drop(columns={\"SIND_DOWN\", \"PUERPERA\", \"VOMITO\",\"HEPATICA\"}, inplace=True)\n",
    "# df_test_copy.drop(columns={\"SIND_DOWN\", \"PUERPERA\", \"VOMITO\",\"HEPATICA\"}, inplace=True)\n",
    "\n",
    "\n",
    "# X = df_2.drop(columns={'EVOLUCAO'})\n",
    "# y = df_2['EVOLUCAO']\n",
    "\n",
    "# X_temp, X_test, y_temp, y_test = train_test_split(X, y, test_size=0.15, random_state=32)\n",
    "\n",
    "# X_train, X_valid, y_train, y_valid = train_test_split(X_temp, y_temp, test_size=0.19, random_state=32)\n",
    "# # Note: 0.25 * 0.8 = 0.20, so overall 60/20/20\n",
    "\n",
    "\n",
    "\n",
    "# lgbm.fit(\n",
    "#     X_train, y_train,\n",
    "#     eval_set=[(X_valid, y_valid)],\n",
    "#     eval_names=['validation'],\n",
    "#     eval_metric='binary_logloss'\n",
    "#     # categorical_feature=cat_features,\n",
    "#     # callbacks=[\n",
    "#     #     lgb.early_stopping(stopping_rounds=50),\n",
    "#     #     lgb.log_evaluation(period=50)\n",
    "#     # ]\n",
    "# )\n",
    "\n",
    "# # Prediction\n",
    "# y_pred = lgbm.predict_proba(X_valid)[:, 1]  # prob for class 1\n",
    "# print(\"Validation AUC:\", roc_auc_score(y_valid, y_pred))"
   ]
  },
  {
   "cell_type": "code",
   "execution_count": 58,
   "id": "8f31ece2-e0a6-4a82-aac4-8e8b39c4ffb8",
   "metadata": {
    "scrolled": true
   },
   "outputs": [
    {
     "data": {
      "text/plain": [
       "14"
      ]
     },
     "execution_count": 58,
     "metadata": {},
     "output_type": "execute_result"
    }
   ],
   "source": [
    "column_index = X_train.columns.get_loc('DESC_RESP')\n",
    "column_index"
   ]
  },
  {
   "cell_type": "code",
   "execution_count": 38,
   "id": "61131ad0-3d0b-4196-93f2-2115f99478e3",
   "metadata": {},
   "outputs": [
    {
     "name": "stdout",
     "output_type": "stream",
     "text": [
      "<class 'pandas.core.frame.DataFrame'>\n",
      "Index: 44620 entries, 199642 to 129065\n",
      "Data columns (total 24 columns):\n",
      " #   Column                     Non-Null Count  Dtype   \n",
      "---  ------                     --------------  -----   \n",
      " 0   CS_SEXO                    44620 non-null  category\n",
      " 1   CS_ZONA                    44620 non-null  category\n",
      " 2   NU_IDADE_N                 44620 non-null  int64   \n",
      " 3   CS_ESCOL_N                 44620 non-null  category\n",
      " 4   CS_RACA                    44620 non-null  category\n",
      " 5   SG_UF                      44620 non-null  category\n",
      " 6   CS_GESTANT                 44620 non-null  category\n",
      " 7   DIABETES                   44620 non-null  category\n",
      " 8   PNEUMOPATI                 44620 non-null  category\n",
      " 9   IMUNODEPRE                 44620 non-null  category\n",
      " 10  RENAL                      44620 non-null  category\n",
      " 11  OBESIDADE                  44620 non-null  category\n",
      " 12  CARDIOPATI                 44620 non-null  category\n",
      " 13  FATOR_RISC                 44620 non-null  category\n",
      " 14  FEBRE                      44620 non-null  category\n",
      " 15  GARGANTA                   44620 non-null  category\n",
      " 16  DESC_RESP                  44620 non-null  category\n",
      " 17  DIARREIA                   44620 non-null  category\n",
      " 18  FADIGA                     44620 non-null  category\n",
      " 19  SATURACAO                  44620 non-null  category\n",
      " 20  DISPNEIA                   44620 non-null  category\n",
      " 21  VACINA                     44620 non-null  category\n",
      " 22  total_chronic_cormodity    44620 non-null  int64   \n",
      " 23  total_temporary_cormodity  44620 non-null  int64   \n",
      "dtypes: category(21), int64(3)\n",
      "memory usage: 2.3 MB\n"
     ]
    }
   ],
   "source": [
    "X_valid.info()"
   ]
  },
  {
   "cell_type": "code",
   "execution_count": 55,
   "id": "b3b425ae-7519-4959-96c7-acaf8c8564ea",
   "metadata": {},
   "outputs": [],
   "source": [
    "X_train.drop(columns={'DIABETES', 'OBESIDADE'},  inplace=True)\n",
    "X_valid.drop(columns={'DIABETES', 'OBESIDADE'}, inplace=True)"
   ]
  },
  {
   "cell_type": "code",
   "execution_count": 61,
   "id": "24f5c5d1-55a0-411d-a1b2-bb8b4e336319",
   "metadata": {},
   "outputs": [
    {
     "name": "stdout",
     "output_type": "stream",
     "text": [
      "0:\tlearn: 0.6912704\ttest: 0.6857766\tbest: 0.6857766 (0)\ttotal: 214ms\tremaining: 3m 33s\n",
      "50:\tlearn: 0.7196068\ttest: 0.7152400\tbest: 0.7152400 (50)\ttotal: 9.56s\tremaining: 2m 57s\n",
      "100:\tlearn: 0.7264831\ttest: 0.7222633\tbest: 0.7222633 (100)\ttotal: 19.4s\tremaining: 2m 52s\n",
      "150:\tlearn: 0.7306272\ttest: 0.7262867\tbest: 0.7263321 (149)\ttotal: 29.6s\tremaining: 2m 46s\n",
      "200:\tlearn: 0.7341932\ttest: 0.7286588\tbest: 0.7287226 (193)\ttotal: 39.8s\tremaining: 2m 38s\n",
      "250:\tlearn: 0.7364269\ttest: 0.7301668\tbest: 0.7302199 (233)\ttotal: 50.3s\tremaining: 2m 30s\n",
      "300:\tlearn: 0.7382176\ttest: 0.7311401\tbest: 0.7312592 (294)\ttotal: 1m\tremaining: 2m 21s\n",
      "350:\tlearn: 0.7400622\ttest: 0.7323889\tbest: 0.7323889 (350)\ttotal: 1m 12s\tremaining: 2m 13s\n",
      "400:\tlearn: 0.7415816\ttest: 0.7333854\tbest: 0.7333854 (400)\ttotal: 1m 22s\tremaining: 2m 3s\n",
      "450:\tlearn: 0.7426936\ttest: 0.7338335\tbest: 0.7339852 (448)\ttotal: 1m 33s\tremaining: 1m 54s\n",
      "500:\tlearn: 0.7437267\ttest: 0.7342023\tbest: 0.7342023 (500)\ttotal: 1m 44s\tremaining: 1m 44s\n",
      "Stopped by overfitting detector  (20 iterations wait)\n",
      "\n",
      "bestTest = 0.734262046\n",
      "bestIteration = 503\n",
      "\n",
      "Shrink model to first 504 iterations.\n",
      "Validation AUC: 0.7994358400454438\n"
     ]
    }
   ],
   "source": [
    "cat_features = X_valid.select_dtypes(['category']).columns.tolist()\n",
    "params = {\n",
    "    'iterations':1000,\n",
    "    'learning_rate':0.03,\n",
    "    'depth':9,\n",
    "    'eval_metric':'TotalF1',\n",
    "    'random_seed':32,\n",
    "    'rsm': 0.5,\n",
    "    'early_stopping_rounds': 20,\n",
    "    'verbose': 50,\n",
    "    'loss_function': 'Logloss',\n",
    "    'use_best_model': True,\n",
    "    'l2_leaf_reg': 3,      # default 3, increase to reduce overfit\n",
    "    'random_strength': .2,  # adds noise to splits\n",
    "    'bagging_temperature': .6,\n",
    "    'nan_mode': 'Max',\n",
    "    'per_float_feature_quantization': ['17:border_count=1024', '14:border_count=1024']\n",
    "   #  'num_leaves': 50\n",
    "}\n",
    "ctb = CatBoostClassifier(\n",
    "  **params\n",
    ")\n",
    "\n",
    "ctb.fit(\n",
    "    X_train, y_train,\n",
    "    eval_set=(X_valid, y_valid),\n",
    "    cat_features=cat_features,\n",
    ")\n",
    "\n",
    "y_pred = ctb.predict_proba(X_valid)[:, 1]\n",
    "print(\"Validation AUC:\", roc_auc_score(y_valid, y_pred))"
   ]
  },
  {
   "cell_type": "code",
   "execution_count": 51,
   "id": "d3b9589d-ddf1-486d-bf03-d622f656dd1b",
   "metadata": {},
   "outputs": [
    {
     "name": "stderr",
     "output_type": "stream",
     "text": [
      "WARNING\tmatplotlib.font_manager:font_manager.py:_find_fonts_by_props()- findfont: Generic family 'sans-serif' not found because none of the following families were found: Arial, Liberation Sans, Bitstream Vera Sans, sans-serif\n",
      "WARNING\tmatplotlib.font_manager:font_manager.py:_find_fonts_by_props()- findfont: Generic family 'sans-serif' not found because none of the following families were found: Arial, Liberation Sans, Bitstream Vera Sans, sans-serif\n",
      "WARNING\tmatplotlib.font_manager:font_manager.py:_find_fonts_by_props()- findfont: Generic family 'sans-serif' not found because none of the following families were found: Arial, Liberation Sans, Bitstream Vera Sans, sans-serif\n",
      "WARNING\tmatplotlib.font_manager:font_manager.py:_find_fonts_by_props()- findfont: Generic family 'sans-serif' not found because none of the following families were found: Arial, Liberation Sans, Bitstream Vera Sans, sans-serif\n",
      "WARNING\tmatplotlib.font_manager:font_manager.py:_find_fonts_by_props()- findfont: Generic family 'sans-serif' not found because none of the following families were found: Arial, Liberation Sans, Bitstream Vera Sans, sans-serif\n",
      "WARNING\tmatplotlib.font_manager:font_manager.py:_find_fonts_by_props()- findfont: Generic family 'sans-serif' not found because none of the following families were found: Arial, Liberation Sans, Bitstream Vera Sans, sans-serif\n",
      "WARNING\tmatplotlib.font_manager:font_manager.py:_find_fonts_by_props()- findfont: Generic family 'sans-serif' not found because none of the following families were found: Arial, Liberation Sans, Bitstream Vera Sans, sans-serif\n",
      "WARNING\tmatplotlib.font_manager:font_manager.py:_find_fonts_by_props()- findfont: Generic family 'sans-serif' not found because none of the following families were found: Arial, Liberation Sans, Bitstream Vera Sans, sans-serif\n",
      "WARNING\tmatplotlib.font_manager:font_manager.py:_find_fonts_by_props()- findfont: Generic family 'sans-serif' not found because none of the following families were found: Arial, Liberation Sans, Bitstream Vera Sans, sans-serif\n",
      "WARNING\tmatplotlib.font_manager:font_manager.py:_find_fonts_by_props()- findfont: Generic family 'sans-serif' not found because none of the following families were found: Arial, Liberation Sans, Bitstream Vera Sans, sans-serif\n",
      "WARNING\tmatplotlib.font_manager:font_manager.py:_find_fonts_by_props()- findfont: Generic family 'sans-serif' not found because none of the following families were found: Arial, Liberation Sans, Bitstream Vera Sans, sans-serif\n",
      "WARNING\tmatplotlib.font_manager:font_manager.py:_find_fonts_by_props()- findfont: Generic family 'sans-serif' not found because none of the following families were found: Arial, Liberation Sans, Bitstream Vera Sans, sans-serif\n",
      "WARNING\tmatplotlib.font_manager:font_manager.py:_find_fonts_by_props()- findfont: Generic family 'sans-serif' not found because none of the following families were found: Arial, Liberation Sans, Bitstream Vera Sans, sans-serif\n",
      "WARNING\tmatplotlib.font_manager:font_manager.py:_find_fonts_by_props()- findfont: Generic family 'sans-serif' not found because none of the following families were found: Arial, Liberation Sans, Bitstream Vera Sans, sans-serif\n",
      "WARNING\tmatplotlib.font_manager:font_manager.py:_find_fonts_by_props()- findfont: Generic family 'sans-serif' not found because none of the following families were found: Arial, Liberation Sans, Bitstream Vera Sans, sans-serif\n",
      "WARNING\tmatplotlib.font_manager:font_manager.py:_find_fonts_by_props()- findfont: Generic family 'sans-serif' not found because none of the following families were found: Arial, Liberation Sans, Bitstream Vera Sans, sans-serif\n",
      "WARNING\tmatplotlib.font_manager:font_manager.py:_find_fonts_by_props()- findfont: Generic family 'sans-serif' not found because none of the following families were found: Arial, Liberation Sans, Bitstream Vera Sans, sans-serif\n",
      "WARNING\tmatplotlib.font_manager:font_manager.py:_find_fonts_by_props()- findfont: Generic family 'sans-serif' not found because none of the following families were found: Arial, Liberation Sans, Bitstream Vera Sans, sans-serif\n",
      "WARNING\tmatplotlib.font_manager:font_manager.py:_find_fonts_by_props()- findfont: Generic family 'sans-serif' not found because none of the following families were found: Arial, Liberation Sans, Bitstream Vera Sans, sans-serif\n",
      "WARNING\tmatplotlib.font_manager:font_manager.py:_find_fonts_by_props()- findfont: Generic family 'sans-serif' not found because none of the following families were found: Arial, Liberation Sans, Bitstream Vera Sans, sans-serif\n",
      "WARNING\tmatplotlib.font_manager:font_manager.py:_find_fonts_by_props()- findfont: Generic family 'sans-serif' not found because none of the following families were found: Arial, Liberation Sans, Bitstream Vera Sans, sans-serif\n",
      "WARNING\tmatplotlib.font_manager:font_manager.py:_find_fonts_by_props()- findfont: Generic family 'sans-serif' not found because none of the following families were found: Arial, Liberation Sans, Bitstream Vera Sans, sans-serif\n",
      "WARNING\tmatplotlib.font_manager:font_manager.py:_find_fonts_by_props()- findfont: Generic family 'sans-serif' not found because none of the following families were found: Arial, Liberation Sans, Bitstream Vera Sans, sans-serif\n",
      "WARNING\tmatplotlib.font_manager:font_manager.py:_find_fonts_by_props()- findfont: Generic family 'sans-serif' not found because none of the following families were found: Arial, Liberation Sans, Bitstream Vera Sans, sans-serif\n",
      "WARNING\tmatplotlib.font_manager:font_manager.py:_find_fonts_by_props()- findfont: Generic family 'sans-serif' not found because none of the following families were found: Arial, Liberation Sans, Bitstream Vera Sans, sans-serif\n",
      "WARNING\tmatplotlib.font_manager:font_manager.py:_find_fonts_by_props()- findfont: Generic family 'sans-serif' not found because none of the following families were found: Arial, Liberation Sans, Bitstream Vera Sans, sans-serif\n",
      "WARNING\tmatplotlib.font_manager:font_manager.py:_find_fonts_by_props()- findfont: Generic family 'sans-serif' not found because none of the following families were found: Arial, Liberation Sans, Bitstream Vera Sans, sans-serif\n",
      "WARNING\tmatplotlib.font_manager:font_manager.py:_find_fonts_by_props()- findfont: Generic family 'sans-serif' not found because none of the following families were found: Arial, Liberation Sans, Bitstream Vera Sans, sans-serif\n",
      "WARNING\tmatplotlib.font_manager:font_manager.py:_find_fonts_by_props()- findfont: Generic family 'sans-serif' not found because none of the following families were found: Arial, Liberation Sans, Bitstream Vera Sans, sans-serif\n",
      "WARNING\tmatplotlib.font_manager:font_manager.py:_find_fonts_by_props()- findfont: Generic family 'sans-serif' not found because none of the following families were found: Arial, Liberation Sans, Bitstream Vera Sans, sans-serif\n",
      "WARNING\tmatplotlib.font_manager:font_manager.py:_find_fonts_by_props()- findfont: Generic family 'sans-serif' not found because none of the following families were found: Arial, Liberation Sans, Bitstream Vera Sans, sans-serif\n",
      "WARNING\tmatplotlib.font_manager:font_manager.py:_find_fonts_by_props()- findfont: Generic family 'sans-serif' not found because none of the following families were found: Arial, Liberation Sans, Bitstream Vera Sans, sans-serif\n",
      "WARNING\tmatplotlib.font_manager:font_manager.py:_find_fonts_by_props()- findfont: Generic family 'sans-serif' not found because none of the following families were found: Arial, Liberation Sans, Bitstream Vera Sans, sans-serif\n",
      "WARNING\tmatplotlib.font_manager:font_manager.py:_find_fonts_by_props()- findfont: Generic family 'sans-serif' not found because none of the following families were found: Arial, Liberation Sans, Bitstream Vera Sans, sans-serif\n",
      "WARNING\tmatplotlib.font_manager:font_manager.py:_find_fonts_by_props()- findfont: Generic family 'sans-serif' not found because none of the following families were found: Arial, Liberation Sans, Bitstream Vera Sans, sans-serif\n",
      "WARNING\tmatplotlib.font_manager:font_manager.py:_find_fonts_by_props()- findfont: Generic family 'sans-serif' not found because none of the following families were found: Arial, Liberation Sans, Bitstream Vera Sans, sans-serif\n",
      "WARNING\tmatplotlib.font_manager:font_manager.py:_find_fonts_by_props()- findfont: Generic family 'sans-serif' not found because none of the following families were found: Arial, Liberation Sans, Bitstream Vera Sans, sans-serif\n",
      "WARNING\tmatplotlib.font_manager:font_manager.py:_find_fonts_by_props()- findfont: Generic family 'sans-serif' not found because none of the following families were found: Arial, Liberation Sans, Bitstream Vera Sans, sans-serif\n",
      "WARNING\tmatplotlib.font_manager:font_manager.py:_find_fonts_by_props()- findfont: Generic family 'sans-serif' not found because none of the following families were found: Arial, Liberation Sans, Bitstream Vera Sans, sans-serif\n",
      "WARNING\tmatplotlib.font_manager:font_manager.py:_find_fonts_by_props()- findfont: Generic family 'sans-serif' not found because none of the following families were found: Arial, Liberation Sans, Bitstream Vera Sans, sans-serif\n",
      "WARNING\tmatplotlib.font_manager:font_manager.py:_find_fonts_by_props()- findfont: Generic family 'sans-serif' not found because none of the following families were found: Arial, Liberation Sans, Bitstream Vera Sans, sans-serif\n",
      "WARNING\tmatplotlib.font_manager:font_manager.py:_find_fonts_by_props()- findfont: Generic family 'sans-serif' not found because none of the following families were found: Arial, Liberation Sans, Bitstream Vera Sans, sans-serif\n",
      "WARNING\tmatplotlib.font_manager:font_manager.py:_find_fonts_by_props()- findfont: Generic family 'sans-serif' not found because none of the following families were found: Arial, Liberation Sans, Bitstream Vera Sans, sans-serif\n",
      "WARNING\tmatplotlib.font_manager:font_manager.py:_find_fonts_by_props()- findfont: Generic family 'sans-serif' not found because none of the following families were found: Arial, Liberation Sans, Bitstream Vera Sans, sans-serif\n",
      "WARNING\tmatplotlib.font_manager:font_manager.py:_find_fonts_by_props()- findfont: Generic family 'sans-serif' not found because none of the following families were found: Arial, Liberation Sans, Bitstream Vera Sans, sans-serif\n",
      "WARNING\tmatplotlib.font_manager:font_manager.py:_find_fonts_by_props()- findfont: Generic family 'sans-serif' not found because none of the following families were found: Arial, Liberation Sans, Bitstream Vera Sans, sans-serif\n",
      "WARNING\tmatplotlib.font_manager:font_manager.py:_find_fonts_by_props()- findfont: Generic family 'sans-serif' not found because none of the following families were found: Arial, Liberation Sans, Bitstream Vera Sans, sans-serif\n",
      "WARNING\tmatplotlib.font_manager:font_manager.py:_find_fonts_by_props()- findfont: Generic family 'sans-serif' not found because none of the following families were found: Arial, Liberation Sans, Bitstream Vera Sans, sans-serif\n",
      "WARNING\tmatplotlib.font_manager:font_manager.py:_find_fonts_by_props()- findfont: Generic family 'sans-serif' not found because none of the following families were found: Arial, Liberation Sans, Bitstream Vera Sans, sans-serif\n",
      "WARNING\tmatplotlib.font_manager:font_manager.py:_find_fonts_by_props()- findfont: Generic family 'sans-serif' not found because none of the following families were found: Arial, Liberation Sans, Bitstream Vera Sans, sans-serif\n",
      "WARNING\tmatplotlib.font_manager:font_manager.py:_find_fonts_by_props()- findfont: Generic family 'sans-serif' not found because none of the following families were found: Arial, Liberation Sans, Bitstream Vera Sans, sans-serif\n",
      "WARNING\tmatplotlib.font_manager:font_manager.py:_find_fonts_by_props()- findfont: Generic family 'sans-serif' not found because none of the following families were found: Arial, Liberation Sans, Bitstream Vera Sans, sans-serif\n",
      "WARNING\tmatplotlib.font_manager:font_manager.py:_find_fonts_by_props()- findfont: Generic family 'sans-serif' not found because none of the following families were found: Arial, Liberation Sans, Bitstream Vera Sans, sans-serif\n",
      "WARNING\tmatplotlib.font_manager:font_manager.py:_find_fonts_by_props()- findfont: Generic family 'sans-serif' not found because none of the following families were found: Arial, Liberation Sans, Bitstream Vera Sans, sans-serif\n",
      "WARNING\tmatplotlib.font_manager:font_manager.py:_find_fonts_by_props()- findfont: Generic family 'sans-serif' not found because none of the following families were found: Arial, Liberation Sans, Bitstream Vera Sans, sans-serif\n",
      "WARNING\tmatplotlib.font_manager:font_manager.py:_find_fonts_by_props()- findfont: Generic family 'sans-serif' not found because none of the following families were found: Arial, Liberation Sans, Bitstream Vera Sans, sans-serif\n",
      "WARNING\tmatplotlib.font_manager:font_manager.py:_find_fonts_by_props()- findfont: Generic family 'sans-serif' not found because none of the following families were found: Arial, Liberation Sans, Bitstream Vera Sans, sans-serif\n",
      "WARNING\tmatplotlib.font_manager:font_manager.py:_find_fonts_by_props()- findfont: Generic family 'sans-serif' not found because none of the following families were found: Arial, Liberation Sans, Bitstream Vera Sans, sans-serif\n",
      "WARNING\tmatplotlib.font_manager:font_manager.py:_find_fonts_by_props()- findfont: Generic family 'sans-serif' not found because none of the following families were found: Arial, Liberation Sans, Bitstream Vera Sans, sans-serif\n",
      "WARNING\tmatplotlib.font_manager:font_manager.py:_find_fonts_by_props()- findfont: Generic family 'sans-serif' not found because none of the following families were found: Arial, Liberation Sans, Bitstream Vera Sans, sans-serif\n",
      "WARNING\tmatplotlib.font_manager:font_manager.py:_find_fonts_by_props()- findfont: Generic family 'sans-serif' not found because none of the following families were found: Arial, Liberation Sans, Bitstream Vera Sans, sans-serif\n",
      "WARNING\tmatplotlib.font_manager:font_manager.py:_find_fonts_by_props()- findfont: Generic family 'sans-serif' not found because none of the following families were found: Arial, Liberation Sans, Bitstream Vera Sans, sans-serif\n",
      "WARNING\tmatplotlib.font_manager:font_manager.py:_find_fonts_by_props()- findfont: Generic family 'sans-serif' not found because none of the following families were found: Arial, Liberation Sans, Bitstream Vera Sans, sans-serif\n",
      "WARNING\tmatplotlib.font_manager:font_manager.py:_find_fonts_by_props()- findfont: Generic family 'sans-serif' not found because none of the following families were found: Arial, Liberation Sans, Bitstream Vera Sans, sans-serif\n",
      "WARNING\tmatplotlib.font_manager:font_manager.py:_find_fonts_by_props()- findfont: Generic family 'sans-serif' not found because none of the following families were found: Arial, Liberation Sans, Bitstream Vera Sans, sans-serif\n",
      "WARNING\tmatplotlib.font_manager:font_manager.py:_find_fonts_by_props()- findfont: Generic family 'sans-serif' not found because none of the following families were found: Arial, Liberation Sans, Bitstream Vera Sans, sans-serif\n",
      "WARNING\tmatplotlib.font_manager:font_manager.py:_find_fonts_by_props()- findfont: Generic family 'sans-serif' not found because none of the following families were found: Arial, Liberation Sans, Bitstream Vera Sans, sans-serif\n",
      "WARNING\tmatplotlib.font_manager:font_manager.py:_find_fonts_by_props()- findfont: Generic family 'sans-serif' not found because none of the following families were found: Arial, Liberation Sans, Bitstream Vera Sans, sans-serif\n",
      "WARNING\tmatplotlib.font_manager:font_manager.py:_find_fonts_by_props()- findfont: Generic family 'sans-serif' not found because none of the following families were found: Arial, Liberation Sans, Bitstream Vera Sans, sans-serif\n",
      "WARNING\tmatplotlib.font_manager:font_manager.py:_find_fonts_by_props()- findfont: Generic family 'sans-serif' not found because none of the following families were found: Arial, Liberation Sans, Bitstream Vera Sans, sans-serif\n",
      "WARNING\tmatplotlib.font_manager:font_manager.py:_find_fonts_by_props()- findfont: Generic family 'sans-serif' not found because none of the following families were found: Arial, Liberation Sans, Bitstream Vera Sans, sans-serif\n",
      "WARNING\tmatplotlib.font_manager:font_manager.py:_find_fonts_by_props()- findfont: Generic family 'sans-serif' not found because none of the following families were found: Arial, Liberation Sans, Bitstream Vera Sans, sans-serif\n",
      "WARNING\tmatplotlib.font_manager:font_manager.py:_find_fonts_by_props()- findfont: Generic family 'sans-serif' not found because none of the following families were found: Arial, Liberation Sans, Bitstream Vera Sans, sans-serif\n",
      "WARNING\tmatplotlib.font_manager:font_manager.py:_find_fonts_by_props()- findfont: Generic family 'sans-serif' not found because none of the following families were found: Arial, Liberation Sans, Bitstream Vera Sans, sans-serif\n",
      "WARNING\tmatplotlib.font_manager:font_manager.py:_find_fonts_by_props()- findfont: Generic family 'sans-serif' not found because none of the following families were found: Arial, Liberation Sans, Bitstream Vera Sans, sans-serif\n",
      "WARNING\tmatplotlib.font_manager:font_manager.py:_find_fonts_by_props()- findfont: Generic family 'sans-serif' not found because none of the following families were found: Arial, Liberation Sans, Bitstream Vera Sans, sans-serif\n",
      "WARNING\tmatplotlib.font_manager:font_manager.py:_find_fonts_by_props()- findfont: Generic family 'sans-serif' not found because none of the following families were found: Arial, Liberation Sans, Bitstream Vera Sans, sans-serif\n",
      "WARNING\tmatplotlib.font_manager:font_manager.py:_find_fonts_by_props()- findfont: Generic family 'sans-serif' not found because none of the following families were found: Arial, Liberation Sans, Bitstream Vera Sans, sans-serif\n",
      "WARNING\tmatplotlib.font_manager:font_manager.py:_find_fonts_by_props()- findfont: Generic family 'sans-serif' not found because none of the following families were found: Arial, Liberation Sans, Bitstream Vera Sans, sans-serif\n",
      "WARNING\tmatplotlib.font_manager:font_manager.py:_find_fonts_by_props()- findfont: Generic family 'sans-serif' not found because none of the following families were found: Arial, Liberation Sans, Bitstream Vera Sans, sans-serif\n",
      "WARNING\tmatplotlib.font_manager:font_manager.py:_find_fonts_by_props()- findfont: Generic family 'sans-serif' not found because none of the following families were found: Arial, Liberation Sans, Bitstream Vera Sans, sans-serif\n",
      "WARNING\tmatplotlib.font_manager:font_manager.py:_find_fonts_by_props()- findfont: Generic family 'sans-serif' not found because none of the following families were found: Arial, Liberation Sans, Bitstream Vera Sans, sans-serif\n",
      "WARNING\tmatplotlib.font_manager:font_manager.py:_find_fonts_by_props()- findfont: Generic family 'sans-serif' not found because none of the following families were found: Arial, Liberation Sans, Bitstream Vera Sans, sans-serif\n",
      "WARNING\tmatplotlib.font_manager:font_manager.py:_find_fonts_by_props()- findfont: Generic family 'sans-serif' not found because none of the following families were found: Arial, Liberation Sans, Bitstream Vera Sans, sans-serif\n",
      "WARNING\tmatplotlib.font_manager:font_manager.py:_find_fonts_by_props()- findfont: Generic family 'sans-serif' not found because none of the following families were found: Arial, Liberation Sans, Bitstream Vera Sans, sans-serif\n",
      "WARNING\tmatplotlib.font_manager:font_manager.py:_find_fonts_by_props()- findfont: Generic family 'sans-serif' not found because none of the following families were found: Arial, Liberation Sans, Bitstream Vera Sans, sans-serif\n",
      "WARNING\tmatplotlib.font_manager:font_manager.py:_find_fonts_by_props()- findfont: Generic family 'sans-serif' not found because none of the following families were found: Arial, Liberation Sans, Bitstream Vera Sans, sans-serif\n",
      "WARNING\tmatplotlib.font_manager:font_manager.py:_find_fonts_by_props()- findfont: Generic family 'sans-serif' not found because none of the following families were found: Arial, Liberation Sans, Bitstream Vera Sans, sans-serif\n",
      "WARNING\tmatplotlib.font_manager:font_manager.py:_find_fonts_by_props()- findfont: Generic family 'sans-serif' not found because none of the following families were found: Arial, Liberation Sans, Bitstream Vera Sans, sans-serif\n",
      "WARNING\tmatplotlib.font_manager:font_manager.py:_find_fonts_by_props()- findfont: Generic family 'sans-serif' not found because none of the following families were found: Arial, Liberation Sans, Bitstream Vera Sans, sans-serif\n"
     ]
    },
    {
     "name": "stdout",
     "output_type": "stream",
     "text": [
      "\n",
      "Top Features by Importance (PredictionValuesChange):\n",
      "                      Feature  Importance\n",
      "2                  NU_IDADE_N   26.525375\n",
      "5                       SG_UF   16.745824\n",
      "3                  CS_ESCOL_N    6.555103\n",
      "19                  SATURACAO    6.180704\n",
      "13                 FATOR_RISC    5.396437\n",
      "16                  DESC_RESP    5.137411\n",
      "21                     VACINA    4.585643\n",
      "23  total_temporary_cormodity    4.327359\n",
      "20                   DISPNEIA    3.498576\n",
      "4                     CS_RACA    3.176641\n",
      "22    total_chronic_cormodity    2.970947\n",
      "18                     FADIGA    2.652218\n",
      "0                     CS_SEXO    1.831729\n",
      "10                      RENAL    1.680770\n",
      "17                   DIARREIA    1.605011\n",
      "9                  IMUNODEPRE    1.229116\n",
      "14                      FEBRE    1.216264\n",
      "15                   GARGANTA    1.111687\n",
      "12                 CARDIOPATI    1.040017\n",
      "6                  CS_GESTANT    0.736595\n",
      "8                  PNEUMOPATI    0.644423\n",
      "1                     CS_ZONA    0.642774\n",
      "11                  OBESIDADE    0.414616\n",
      "7                    DIABETES    0.094759\n"
     ]
    },
    {
     "data": {
      "image/png": "[encoded data removed]",
      "text/plain": [
       "<Figure size 1000x600 with 1 Axes>"
      ]
     },
     "metadata": {},
     "output_type": "display_data"
    },
    {
     "name": "stdout",
     "output_type": "stream",
     "text": [
      "\n",
      "Top 25 Features:\n",
      "1. NU_IDADE_N: 26.53\n",
      "2. SG_UF: 16.75\n",
      "3. CS_ESCOL_N: 6.56\n",
      "4. SATURACAO: 6.18\n",
      "5. FATOR_RISC: 5.40\n",
      "6. DESC_RESP: 5.14\n",
      "7. VACINA: 4.59\n",
      "8. total_temporary_cormodity: 4.33\n",
      "9. DISPNEIA: 3.50\n",
      "10. CS_RACA: 3.18\n",
      "11. total_chronic_cormodity: 2.97\n",
      "12. FADIGA: 2.65\n",
      "13. CS_SEXO: 1.83\n",
      "14. RENAL: 1.68\n",
      "15. DIARREIA: 1.61\n",
      "16. IMUNODEPRE: 1.23\n",
      "17. FEBRE: 1.22\n",
      "18. GARGANTA: 1.11\n",
      "19. CARDIOPATI: 1.04\n",
      "20. CS_GESTANT: 0.74\n",
      "21. PNEUMOPATI: 0.64\n",
      "22. CS_ZONA: 0.64\n",
      "23. OBESIDADE: 0.41\n",
      "24. DIABETES: 0.09\n"
     ]
    }
   ],
   "source": [
    "feature_importance = pd.DataFrame({\n",
    "    'Feature': X_train.columns,\n",
    "    'Importance': ctb.get_feature_importance()\n",
    "}).sort_values(by='Importance', ascending=False)\n",
    "\n",
    "# Print top features\n",
    "print(\"\\nTop Features by Importance (PredictionValuesChange):\")\n",
    "print(feature_importance)\n",
    "\n",
    "# Plot feature importance\n",
    "plt.figure(figsize=(10, 6))\n",
    "plt.barh(feature_importance['Feature'][:20], feature_importance['Importance'][:20])\n",
    "plt.xlabel('Importance')\n",
    "plt.title('CatBoost Feature Importance (PredictionValuesChange)')\n",
    "plt.gca().invert_yaxis()  # Highest importance at top\n",
    "plt.tight_layout()\n",
    "plt.show()\n",
    "\n",
    "# Select top 10 features\n",
    "top_n = 25\n",
    "top_features = feature_importance['Feature'].head(top_n).tolist()\n",
    "print(f\"\\nTop {top_n} Features:\")\n",
    "for i, (feat, imp) in enumerate(feature_importance.head(top_n).itertuples(index=False), 1):\n",
    "    print(f\"{i}. {feat}: {imp:.2f}\")"
   ]
  },
  {
   "cell_type": "code",
   "execution_count": 54,
   "id": "d6142fde-4cf3-41dd-9710-f38930c0817f",
   "metadata": {},
   "outputs": [],
   "source": [
    "X_test.drop(columns={'DIABETES', 'OBESIDADE'},  inplace=True)"
   ]
  },
  {
   "cell_type": "code",
   "execution_count": 52,
   "id": "3195abce-df3d-49dc-b0b6-f40fd1e954a0",
   "metadata": {},
   "outputs": [
    {
     "name": "stdout",
     "output_type": "stream",
     "text": [
      "ctb acurracy: 74.31%\n",
      "\n",
      "Classification report\n",
      "              precision    recall  f1-score   support\n",
      "\n",
      "           0       0.77      0.86      0.81     32493\n",
      "           1       0.66      0.52      0.58     17085\n",
      "\n",
      "    accuracy                           0.74     49578\n",
      "   macro avg       0.72      0.69      0.70     49578\n",
      "weighted avg       0.73      0.74      0.73     49578\n",
      "\n"
     ]
    },
    {
     "data": {
      "application/vnd.plotly.v1+json": {
       "config": {
        "plotlyServerURL": "https://plot.ly"
       },
       "data": [
        {
         "coloraxis": "coloraxis",
         "hovertemplate": "x: %{x}<br>y: %{y}<br>color: %{z}<extra></extra>",
         "name": "0",
         "texttemplate": "%{z}",
         "type": "heatmap",
         "xaxis": "x",
         "yaxis": "y",
         "z": {
          "bdata": "Jm3HEfofwyI=",
          "dtype": "i2",
          "shape": "2, 2"
         }
        }
       ],
       "layout": {
        "coloraxis": {
         "colorscale": [
          [
           0,
           "#0d0887"
          ],
          [
           0.1111111111111111,
           "#46039f"
          ],
          [
           0.2222222222222222,
           "#7201a8"
          ],
          [
           0.3333333333333333,
           "#9c179e"
          ],
          [
           0.4444444444444444,
           "#bd3786"
          ],
          [
           0.5555555555555556,
           "#d8576b"
          ],
          [
           0.6666666666666666,
           "#ed7953"
          ],
          [
           0.7777777777777778,
           "#fb9f3a"
          ],
          [
           0.8888888888888888,
           "#fdca26"
          ],
          [
           1,
           "#f0f921"
          ]
         ]
        },
        "font": {
         "color": "Black",
         "family": "Courier New, monospace",
         "size": 18,
         "variant": "small-caps"
        },
        "margin": {
         "t": 60
        },
        "template": {
         "data": {
          "bar": [
           {
            "error_x": {
             "color": "#2a3f5f"
            },
            "error_y": {
             "color": "#2a3f5f"
            },
            "marker": {
             "line": {
              "color": "#E5ECF6",
              "width": 0.5
             },
             "pattern": {
              "fillmode": "overlay",
              "size": 10,
              "solidity": 0.2
             }
            },
            "type": "bar"
           }
          ],
          "barpolar": [
           {
            "marker": {
             "line": {
              "color": "#E5ECF6",
              "width": 0.5
             },
             "pattern": {
              "fillmode": "overlay",
              "size": 10,
              "solidity": 0.2
             }
            },
            "type": "barpolar"
           }
          ],
          "carpet": [
           {
            "aaxis": {
             "endlinecolor": "#2a3f5f",
             "gridcolor": "white",
             "linecolor": "white",
             "minorgridcolor": "white",
             "startlinecolor": "#2a3f5f"
            },
            "baxis": {
             "endlinecolor": "#2a3f5f",
             "gridcolor": "white",
             "linecolor": "white",
             "minorgridcolor": "white",
             "startlinecolor": "#2a3f5f"
            },
            "type": "carpet"
           }
          ],
          "choropleth": [
           {
            "colorbar": {
             "outlinewidth": 0,
             "ticks": ""
            },
            "type": "choropleth"
           }
          ],
          "contour": [
           {
            "colorbar": {
             "outlinewidth": 0,
             "ticks": ""
            },
            "colorscale": [
             [
              0,
              "#0d0887"
             ],
             [
              0.1111111111111111,
              "#46039f"
             ],
             [
              0.2222222222222222,
              "#7201a8"
             ],
             [
              0.3333333333333333,
              "#9c179e"
             ],
             [
              0.4444444444444444,
              "#bd3786"
             ],
             [
              0.5555555555555556,
              "#d8576b"
             ],
             [
              0.6666666666666666,
              "#ed7953"
             ],
             [
              0.7777777777777778,
              "#fb9f3a"
             ],
             [
              0.8888888888888888,
              "#fdca26"
             ],
             [
              1,
              "#f0f921"
             ]
            ],
            "type": "contour"
           }
          ],
          "contourcarpet": [
           {
            "colorbar": {
             "outlinewidth": 0,
             "ticks": ""
            },
            "type": "contourcarpet"
           }
          ],
          "heatmap": [
           {
            "colorbar": {
             "outlinewidth": 0,
             "ticks": ""
            },
            "colorscale": [
             [
              0,
              "#0d0887"
             ],
             [
              0.1111111111111111,
              "#46039f"
             ],
             [
              0.2222222222222222,
              "#7201a8"
             ],
             [
              0.3333333333333333,
              "#9c179e"
             ],
             [
              0.4444444444444444,
              "#bd3786"
             ],
             [
              0.5555555555555556,
              "#d8576b"
             ],
             [
              0.6666666666666666,
              "#ed7953"
             ],
             [
              0.7777777777777778,
              "#fb9f3a"
             ],
             [
              0.8888888888888888,
              "#fdca26"
             ],
             [
              1,
              "#f0f921"
             ]
            ],
            "type": "heatmap"
           }
          ],
          "histogram": [
           {
            "marker": {
             "pattern": {
              "fillmode": "overlay",
              "size": 10,
              "solidity": 0.2
             }
            },
            "type": "histogram"
           }
          ],
          "histogram2d": [
           {
            "colorbar": {
             "outlinewidth": 0,
             "ticks": ""
            },
            "colorscale": [
             [
              0,
              "#0d0887"
             ],
             [
              0.1111111111111111,
              "#46039f"
             ],
             [
              0.2222222222222222,
              "#7201a8"
             ],
             [
              0.3333333333333333,
              "#9c179e"
             ],
             [
              0.4444444444444444,
              "#bd3786"
             ],
             [
              0.5555555555555556,
              "#d8576b"
             ],
             [
              0.6666666666666666,
              "#ed7953"
             ],
             [
              0.7777777777777778,
              "#fb9f3a"
             ],
             [
              0.8888888888888888,
              "#fdca26"
             ],
             [
              1,
              "#f0f921"
             ]
            ],
            "type": "histogram2d"
           }
          ],
          "histogram2dcontour": [
           {
            "colorbar": {
             "outlinewidth": 0,
             "ticks": ""
            },
            "colorscale": [
             [
              0,
              "#0d0887"
             ],
             [
              0.1111111111111111,
              "#46039f"
             ],
             [
              0.2222222222222222,
              "#7201a8"
             ],
             [
              0.3333333333333333,
              "#9c179e"
             ],
             [
              0.4444444444444444,
              "#bd3786"
             ],
             [
              0.5555555555555556,
              "#d8576b"
             ],
             [
              0.6666666666666666,
              "#ed7953"
             ],
             [
              0.7777777777777778,
              "#fb9f3a"
             ],
             [
              0.8888888888888888,
              "#fdca26"
             ],
             [
              1,
              "#f0f921"
             ]
            ],
            "type": "histogram2dcontour"
           }
          ],
          "mesh3d": [
           {
            "colorbar": {
             "outlinewidth": 0,
             "ticks": ""
            },
            "type": "mesh3d"
           }
          ],
          "parcoords": [
           {
            "line": {
             "colorbar": {
              "outlinewidth": 0,
              "ticks": ""
             }
            },
            "type": "parcoords"
           }
          ],
          "pie": [
           {
            "automargin": true,
            "type": "pie"
           }
          ],
          "scatter": [
           {
            "fillpattern": {
             "fillmode": "overlay",
             "size": 10,
             "solidity": 0.2
            },
            "type": "scatter"
           }
          ],
          "scatter3d": [
           {
            "line": {
             "colorbar": {
              "outlinewidth": 0,
              "ticks": ""
             }
            },
            "marker": {
             "colorbar": {
              "outlinewidth": 0,
              "ticks": ""
             }
            },
            "type": "scatter3d"
           }
          ],
          "scattercarpet": [
           {
            "marker": {
             "colorbar": {
              "outlinewidth": 0,
              "ticks": ""
             }
            },
            "type": "scattercarpet"
           }
          ],
          "scattergeo": [
           {
            "marker": {
             "colorbar": {
              "outlinewidth": 0,
              "ticks": ""
             }
            },
            "type": "scattergeo"
           }
          ],
          "scattergl": [
           {
            "marker": {
             "colorbar": {
              "outlinewidth": 0,
              "ticks": ""
             }
            },
            "type": "scattergl"
           }
          ],
          "scattermap": [
           {
            "marker": {
             "colorbar": {
              "outlinewidth": 0,
              "ticks": ""
             }
            },
            "type": "scattermap"
           }
          ],
          "scattermapbox": [
           {
            "marker": {
             "colorbar": {
              "outlinewidth": 0,
              "ticks": ""
             }
            },
            "type": "scattermapbox"
           }
          ],
          "scatterpolar": [
           {
            "marker": {
             "colorbar": {
              "outlinewidth": 0,
              "ticks": ""
             }
            },
            "type": "scatterpolar"
           }
          ],
          "scatterpolargl": [
           {
            "marker": {
             "colorbar": {
              "outlinewidth": 0,
              "ticks": ""
             }
            },
            "type": "scatterpolargl"
           }
          ],
          "scatterternary": [
           {
            "marker": {
             "colorbar": {
              "outlinewidth": 0,
              "ticks": ""
             }
            },
            "type": "scatterternary"
           }
          ],
          "surface": [
           {
            "colorbar": {
             "outlinewidth": 0,
             "ticks": ""
            },
            "colorscale": [
             [
              0,
              "#0d0887"
             ],
             [
              0.1111111111111111,
              "#46039f"
             ],
             [
              0.2222222222222222,
              "#7201a8"
             ],
             [
              0.3333333333333333,
              "#9c179e"
             ],
             [
              0.4444444444444444,
              "#bd3786"
             ],
             [
              0.5555555555555556,
              "#d8576b"
             ],
             [
              0.6666666666666666,
              "#ed7953"
             ],
             [
              0.7777777777777778,
              "#fb9f3a"
             ],
             [
              0.8888888888888888,
              "#fdca26"
             ],
             [
              1,
              "#f0f921"
             ]
            ],
            "type": "surface"
           }
          ],
          "table": [
           {
            "cells": {
             "fill": {
              "color": "#EBF0F8"
             },
             "line": {
              "color": "white"
             }
            },
            "header": {
             "fill": {
              "color": "#C8D4E3"
             },
             "line": {
              "color": "white"
             }
            },
            "type": "table"
           }
          ]
         },
         "layout": {
          "annotationdefaults": {
           "arrowcolor": "#2a3f5f",
           "arrowhead": 0,
           "arrowwidth": 1
          },
          "autotypenumbers": "strict",
          "coloraxis": {
           "colorbar": {
            "outlinewidth": 0,
            "ticks": ""
           }
          },
          "colorscale": {
           "diverging": [
            [
             0,
             "#8e0152"
            ],
            [
             0.1,
             "#c51b7d"
            ],
            [
             0.2,
             "#de77ae"
            ],
            [
             0.3,
             "#f1b6da"
            ],
            [
             0.4,
             "#fde0ef"
            ],
            [
             0.5,
             "#f7f7f7"
            ],
            [
             0.6,
             "#e6f5d0"
            ],
            [
             0.7,
             "#b8e186"
            ],
            [
             0.8,
             "#7fbc41"
            ],
            [
             0.9,
             "#4d9221"
            ],
            [
             1,
             "#276419"
            ]
           ],
           "sequential": [
            [
             0,
             "#0d0887"
            ],
            [
             0.1111111111111111,
             "#46039f"
            ],
            [
             0.2222222222222222,
             "#7201a8"
            ],
            [
             0.3333333333333333,
             "#9c179e"
            ],
            [
             0.4444444444444444,
             "#bd3786"
            ],
            [
             0.5555555555555556,
             "#d8576b"
            ],
            [
             0.6666666666666666,
             "#ed7953"
            ],
            [
             0.7777777777777778,
             "#fb9f3a"
            ],
            [
             0.8888888888888888,
             "#fdca26"
            ],
            [
             1,
             "#f0f921"
            ]
           ],
           "sequentialminus": [
            [
             0,
             "#0d0887"
            ],
            [
             0.1111111111111111,
             "#46039f"
            ],
            [
             0.2222222222222222,
             "#7201a8"
            ],
            [
             0.3333333333333333,
             "#9c179e"
            ],
            [
             0.4444444444444444,
             "#bd3786"
            ],
            [
             0.5555555555555556,
             "#d8576b"
            ],
            [
             0.6666666666666666,
             "#ed7953"
            ],
            [
             0.7777777777777778,
             "#fb9f3a"
            ],
            [
             0.8888888888888888,
             "#fdca26"
            ],
            [
             1,
             "#f0f921"
            ]
           ]
          },
          "colorway": [
           "#636efa",
           "#EF553B",
           "#00cc96",
           "#ab63fa",
           "#FFA15A",
           "#19d3f3",
           "#FF6692",
           "#B6E880",
           "#FF97FF",
           "#FECB52"
          ],
          "font": {
           "color": "#2a3f5f"
          },
          "geo": {
           "bgcolor": "white",
           "lakecolor": "white",
           "landcolor": "#E5ECF6",
           "showlakes": true,
           "showland": true,
           "subunitcolor": "white"
          },
          "hoverlabel": {
           "align": "left"
          },
          "hovermode": "closest",
          "mapbox": {
           "style": "light"
          },
          "paper_bgcolor": "white",
          "plot_bgcolor": "#E5ECF6",
          "polar": {
           "angularaxis": {
            "gridcolor": "white",
            "linecolor": "white",
            "ticks": ""
           },
           "bgcolor": "#E5ECF6",
           "radialaxis": {
            "gridcolor": "white",
            "linecolor": "white",
            "ticks": ""
           }
          },
          "scene": {
           "xaxis": {
            "backgroundcolor": "#E5ECF6",
            "gridcolor": "white",
            "gridwidth": 2,
            "linecolor": "white",
            "showbackground": true,
            "ticks": "",
            "zerolinecolor": "white"
           },
           "yaxis": {
            "backgroundcolor": "#E5ECF6",
            "gridcolor": "white",
            "gridwidth": 2,
            "linecolor": "white",
            "showbackground": true,
            "ticks": "",
            "zerolinecolor": "white"
           },
           "zaxis": {
            "backgroundcolor": "#E5ECF6",
            "gridcolor": "white",
            "gridwidth": 2,
            "linecolor": "white",
            "showbackground": true,
            "ticks": "",
            "zerolinecolor": "white"
           }
          },
          "shapedefaults": {
           "line": {
            "color": "#2a3f5f"
           }
          },
          "ternary": {
           "aaxis": {
            "gridcolor": "white",
            "linecolor": "white",
            "ticks": ""
           },
           "baxis": {
            "gridcolor": "white",
            "linecolor": "white",
            "ticks": ""
           },
           "bgcolor": "#E5ECF6",
           "caxis": {
            "gridcolor": "white",
            "linecolor": "white",
            "ticks": ""
           }
          },
          "title": {
           "x": 0.05
          },
          "xaxis": {
           "automargin": true,
           "gridcolor": "white",
           "linecolor": "white",
           "ticks": "",
           "title": {
            "standoff": 15
           },
           "zerolinecolor": "white",
           "zerolinewidth": 2
          },
          "yaxis": {
           "automargin": true,
           "gridcolor": "white",
           "linecolor": "white",
           "ticks": "",
           "title": {
            "standoff": 15
           },
           "zerolinecolor": "white",
           "zerolinewidth": 2
          }
         }
        },
        "title": {
         "text": "CatBoost's Confusion Matrix"
        },
        "xaxis": {
         "anchor": "y",
         "constrain": "domain",
         "domain": [
          0,
          1
         ],
         "scaleanchor": "y"
        },
        "yaxis": {
         "anchor": "x",
         "autorange": "reversed",
         "constrain": "domain",
         "domain": [
          0,
          1
         ]
        }
       }
      },
      "image/png": "[encoded data removed]"
     },
     "metadata": {},
     "output_type": "display_data"
    }
   ],
   "source": [
    "preds = ctb.predict(X_test)\n",
    "\n",
    "accuracy = ctb.score(X_test, y_test)\n",
    "\n",
    "\n",
    "print(f\"ctb acurracy: {accuracy*100:.2f}%\")\n",
    "print(\"\\nClassification report\")\n",
    "print(classification_report(y_test, preds))\n",
    "\n",
    "cm = confusion_matrix(y_test, preds)\n",
    "fig = px.imshow(cm, text_auto=True).update_layout(title={\"text\": \"CatBoost's Confusion Matrix\"}, font=my_font).show()\n"
   ]
  },
  {
   "cell_type": "markdown",
   "id": "c4889b03-a1cd-4ba0-a7c5-7161326d267e",
   "metadata": {},
   "source": [
    "## Grid searching for the best params "
   ]
  },
  {
   "cell_type": "code",
   "execution_count": 112,
   "id": "efc4bc1a-272e-46d5-a1b6-883bdbe6cedf",
   "metadata": {},
   "outputs": [],
   "source": [
    "# param_grid = {\n",
    "#     'depth': [4, 6, 8],               # tree depth\n",
    "#     'learning_rate': [0.01, 0.03, 0.05],  # step size\n",
    "#     'l2_leaf_reg': [3, 5, 7],         # regularization\n",
    "#     'bagging_temperature': [0, 0.5, 1], # randomness in bagging\n",
    "#     'rsm': [0.7, 0.8, 1.0]            # fraction of features per tree\n",
    "# }\n",
    "\n",
    "\n",
    "# ctb = CatBoostClassifier(\n",
    "#     iterations=500,\n",
    "#     loss_function='Logloss',\n",
    "#     eval_metric='TotalF1',\n",
    "#     cat_features=cat_features,\n",
    "#     verbose=0\n",
    "# )\n",
    "\n",
    "# randomized_search_result  = ctb.randomized_search(\n",
    "#     param_grid,\n",
    "#     X = X,\n",
    "#     y= y,\n",
    "#     plot=True\n",
    "# )\n",
    "\n",
    "# # rand_search.fit(X_train, y_train)\n",
    "# # print(\"Best params:\", rand_search.best_params_)"
   ]
  },
  {
   "cell_type": "markdown",
   "id": "4d56a4c1-a260-4f9c-aaff-0055dde386f0",
   "metadata": {},
   "source": [
    "## Cross-validating the model"
   ]
  },
  {
   "cell_type": "code",
   "execution_count": 113,
   "id": "89b627c7-08b5-4207-9625-3fb6ad158147",
   "metadata": {},
   "outputs": [],
   "source": [
    "# pool = Pool(data=X, label=y, cat_features=cat_features)\n",
    "\n",
    "# cv_results = cv(\n",
    "#     pool=pool,\n",
    "#     params=params,\n",
    "#     fold_count=5,               # number of folds\n",
    "#     shuffle=True,               # shuffle data before splitting\n",
    "#     partition_random_seed=42,   # reproducibility\n",
    "#     early_stopping_rounds=50,   # stop if no improvement\n",
    "#     verbose_eval=50\n",
    "# )\n",
    "\n",
    "# best_iter = cv_results['test-TotalF1-mean'].idxmax()\n",
    "# print(\"Best iteration:\", best_iter)\n",
    "# print(\"Best CV F1:\", cv_results['test-TotalF1-mean'].max())"
   ]
  },
  {
   "cell_type": "code",
   "execution_count": 114,
   "id": "fb5c721d-4b17-4a0d-bea8-d3afe3c78069",
   "metadata": {},
   "outputs": [],
   "source": [
    "# interaction_matrix = model.get_feature_importance(data=train_pool, type='FeatureImportance')\n",
    "# # feature_names = X_train.columns\n",
    "\n",
    "\n",
    "# # interaction_df = pd.DataFrame(interaction_matrix, index=X_train.columns, columns=X_train.columns)\n",
    "# # print(interaction_df)\n",
    "# interaction_matrix"
   ]
  },
  {
   "cell_type": "code",
   "execution_count": 115,
   "id": "93dd0326-e46a-45df-90b1-92d142be24a1",
   "metadata": {},
   "outputs": [],
   "source": [
    "# import matplotlib.pyplot as plt\n",
    "# from sklearn.datasets import load_breast_cancer\n",
    "# from sklearn.model_selection import train_test_split\n",
    "# from sklearn.linear_model import LogisticRegression\n",
    "# from sklearn.metrics import roc_curve, auc\n",
    "# from catboost.utils import get_roc_curve, select_threshold\n",
    "\n",
    "# y_pred_proba = ctb.predict_proba(X_test)[:, 1] \n",
    "# fpr, tpr, thresholds = roc_curve(y_test, y_pred_proba) \n",
    "# roc_auc = auc(fpr, tpr)\n",
    "# # Plot the ROC curve\n",
    "# plt.figure()  \n",
    "# plt.plot(fpr, tpr, label='ROC curve (area = %0.2f)' % roc_auc)\n",
    "# plt.plot([0, 1], [0, 1], 'k--', label='No Skill')\n",
    "# plt.xlim([0.0, 1.0])\n",
    "# plt.ylim([0.0, 1.05])\n",
    "# plt.xlabel('False Positive Rate')\n",
    "# plt.ylabel('True Positive Rate')\n",
    "# plt.title('ROC Curve for Breast Cancer Classification')\n",
    "# plt.legend()\n",
    "# plt.show()\n",
    "\n",
    "# catboost_pool = Pool(X_train, y_train, cat_features=cat_features)\n",
    "\n",
    "\n",
    "\n",
    "# roc_curve_values = get_roc_curve(ctb, catboost_pool)\n",
    "\n",
    "# boundary = select_threshold(ctb,\n",
    "#                             curve=roc_curve_values,\n",
    "#                             FPR=0.01)\n",
    "\n",
    "# print(\"Boundary:\",boundary)"
   ]
  },
  {
   "cell_type": "code",
   "execution_count": 25,
   "id": "ab789b69-7cf9-436a-bcce-96ab8819c1c7",
   "metadata": {},
   "outputs": [],
   "source": [
    "df_test_copy['total_chronic_cormodity'] = ((df_test_copy[[\"OBESIDADE\", \n",
    "                                                        \"RENAL\", \n",
    "                                                        \"CARDIOPATI\",\n",
    "                                                        \"IMUNODEPRE\", \n",
    "                                                        \"DIABETES\", \n",
    "                                                        \"PNEUMOPATI\",\n",
    "                                                        \"HEPATICA\",\n",
    "                                                        \"SIND_DOWN\"]] == 1.0).sum(axis=1))\n",
    "\n",
    "df_test_copy['total_temporary_cormodity'] = (df_test_copy[[\"FEBRE\",\n",
    "                                                       # \"TOSSE\",\n",
    "                                                        \"PUERPERA\",\n",
    "                                                        \"GARGANTA\",\n",
    "                                                        \"DESC_RESP\",\n",
    "                                                        \"DIARREIA\",\n",
    "                                                        \"VOMITO\",\n",
    "                                                        \"FADIGA\",\n",
    "                                                        \"SATURACAO\",\n",
    "                                                        \"DISPNEIA\"]]== 1.0).sum(axis=1)"
   ]
  },
  {
   "cell_type": "code",
   "execution_count": 30,
   "id": "ee1f7748-a2a7-4d82-a1e8-e2d82216a945",
   "metadata": {},
   "outputs": [],
   "source": [
    "from sklearn.preprocessing import OrdinalEncoder\n",
    "cat_cols_x = df_test_copy.select_dtypes(include=[\"object\", \"category\"]).columns\n",
    "encoder = OrdinalEncoder(handle_unknown=\"use_encoded_value\", unknown_value=-1)\n",
    "encoded_df_test_copy = df_test_copy.copy()\n",
    "encoded_df_test_copy[cat_cols_x] = encoder.fit_transform(encoded_df_test_copy[cat_cols_x])"
   ]
  },
  {
   "cell_type": "code",
   "execution_count": 41,
   "id": "9da83e64-5971-4c6d-ba28-ea36ae905fcb",
   "metadata": {},
   "outputs": [
    {
     "data": {
      "text/plain": [
       "array([0.99140247, 0.88598886, 0.4262491 , ..., 0.03085365, 0.99250949,\n",
       "       0.96020084])"
      ]
     },
     "execution_count": 41,
     "metadata": {},
     "output_type": "execute_result"
    }
   ],
   "source": [
    "test_pred = stack.predict_proba(encoded_df_test_copy)[:,1]\n",
    "test_pred"
   ]
  },
  {
   "cell_type": "code",
   "execution_count": 34,
   "id": "632dc4df-2c7e-4132-8b35-2a926c436161",
   "metadata": {},
   "outputs": [],
   "source": [
    "pd.DataFrame(np.round(test_pred)).reset_index().to_csv('results/stack.csv', header=['ID', 'EVOLUCAO'], index=False)"
   ]
  },
  {
   "cell_type": "code",
   "execution_count": 130,
   "id": "3ffbda0d-68b3-4624-80de-c265d95eb0e2",
   "metadata": {},
   "outputs": [
    {
     "data": {
      "text/html": [
       "<div>\n",
       "<style scoped>\n",
       "    .dataframe tbody tr th:only-of-type {\n",
       "        vertical-align: middle;\n",
       "    }\n",
       "\n",
       "    .dataframe tbody tr th {\n",
       "        vertical-align: top;\n",
       "    }\n",
       "\n",
       "    .dataframe thead th {\n",
       "        text-align: right;\n",
       "    }\n",
       "</style>\n",
       "<table border=\"1\" class=\"dataframe\">\n",
       "  <thead>\n",
       "    <tr style=\"text-align: right;\">\n",
       "      <th></th>\n",
       "      <th>CS_SEXO</th>\n",
       "      <th>CS_ZONA</th>\n",
       "      <th>NU_IDADE_N</th>\n",
       "      <th>CS_ESCOL_N</th>\n",
       "      <th>CS_RACA</th>\n",
       "      <th>SG_UF</th>\n",
       "      <th>CS_GESTANT</th>\n",
       "      <th>PUERPERA</th>\n",
       "      <th>DIABETES</th>\n",
       "      <th>PNEUMOPATI</th>\n",
       "      <th>...</th>\n",
       "      <th>GARGANTA</th>\n",
       "      <th>DESC_RESP</th>\n",
       "      <th>DIARREIA</th>\n",
       "      <th>VOMITO</th>\n",
       "      <th>FADIGA</th>\n",
       "      <th>SATURACAO</th>\n",
       "      <th>DISPNEIA</th>\n",
       "      <th>VACINA</th>\n",
       "      <th>total_chronic_cormodity</th>\n",
       "      <th>total_temporary_cormodity</th>\n",
       "    </tr>\n",
       "  </thead>\n",
       "  <tbody>\n",
       "    <tr>\n",
       "      <th>0</th>\n",
       "      <td>F</td>\n",
       "      <td>1</td>\n",
       "      <td>60</td>\n",
       "      <td>9</td>\n",
       "      <td>2</td>\n",
       "      <td>RJ</td>\n",
       "      <td>5</td>\n",
       "      <td>2</td>\n",
       "      <td>2</td>\n",
       "      <td>1</td>\n",
       "      <td>...</td>\n",
       "      <td>2</td>\n",
       "      <td>1</td>\n",
       "      <td>2</td>\n",
       "      <td>2</td>\n",
       "      <td>9</td>\n",
       "      <td>1</td>\n",
       "      <td>1</td>\n",
       "      <td>9</td>\n",
       "      <td>0</td>\n",
       "      <td>0</td>\n",
       "    </tr>\n",
       "    <tr>\n",
       "      <th>1</th>\n",
       "      <td>M</td>\n",
       "      <td>1</td>\n",
       "      <td>28</td>\n",
       "      <td>9</td>\n",
       "      <td>9</td>\n",
       "      <td>RJ</td>\n",
       "      <td>6</td>\n",
       "      <td>9</td>\n",
       "      <td>9</td>\n",
       "      <td>9</td>\n",
       "      <td>...</td>\n",
       "      <td>9</td>\n",
       "      <td>9</td>\n",
       "      <td>9</td>\n",
       "      <td>9</td>\n",
       "      <td>9</td>\n",
       "      <td>1</td>\n",
       "      <td>9</td>\n",
       "      <td>9</td>\n",
       "      <td>0</td>\n",
       "      <td>0</td>\n",
       "    </tr>\n",
       "    <tr>\n",
       "      <th>2</th>\n",
       "      <td>M</td>\n",
       "      <td>1</td>\n",
       "      <td>45</td>\n",
       "      <td>9</td>\n",
       "      <td>4</td>\n",
       "      <td>SP</td>\n",
       "      <td>6</td>\n",
       "      <td>9</td>\n",
       "      <td>9</td>\n",
       "      <td>9</td>\n",
       "      <td>...</td>\n",
       "      <td>2</td>\n",
       "      <td>1</td>\n",
       "      <td>2</td>\n",
       "      <td>2</td>\n",
       "      <td>9</td>\n",
       "      <td>1</td>\n",
       "      <td>1</td>\n",
       "      <td>2</td>\n",
       "      <td>0</td>\n",
       "      <td>0</td>\n",
       "    </tr>\n",
       "    <tr>\n",
       "      <th>3</th>\n",
       "      <td>M</td>\n",
       "      <td>1</td>\n",
       "      <td>38</td>\n",
       "      <td>1</td>\n",
       "      <td>1</td>\n",
       "      <td>SC</td>\n",
       "      <td>6</td>\n",
       "      <td>2</td>\n",
       "      <td>2</td>\n",
       "      <td>1</td>\n",
       "      <td>...</td>\n",
       "      <td>2</td>\n",
       "      <td>1</td>\n",
       "      <td>2</td>\n",
       "      <td>2</td>\n",
       "      <td>2</td>\n",
       "      <td>1</td>\n",
       "      <td>1</td>\n",
       "      <td>1</td>\n",
       "      <td>0</td>\n",
       "      <td>0</td>\n",
       "    </tr>\n",
       "    <tr>\n",
       "      <th>4</th>\n",
       "      <td>F</td>\n",
       "      <td>1</td>\n",
       "      <td>50</td>\n",
       "      <td>9</td>\n",
       "      <td>9</td>\n",
       "      <td>RJ</td>\n",
       "      <td>6</td>\n",
       "      <td>9</td>\n",
       "      <td>9</td>\n",
       "      <td>9</td>\n",
       "      <td>...</td>\n",
       "      <td>2</td>\n",
       "      <td>2</td>\n",
       "      <td>1</td>\n",
       "      <td>2</td>\n",
       "      <td>2</td>\n",
       "      <td>2</td>\n",
       "      <td>2</td>\n",
       "      <td>9</td>\n",
       "      <td>0</td>\n",
       "      <td>0</td>\n",
       "    </tr>\n",
       "  </tbody>\n",
       "</table>\n",
       "<p>5 rows × 29 columns</p>\n",
       "</div>"
      ],
      "text/plain": [
       "  CS_SEXO CS_ZONA  NU_IDADE_N CS_ESCOL_N CS_RACA SG_UF CS_GESTANT PUERPERA  \\\n",
       "0       F       1          60          9       2    RJ          5        2   \n",
       "1       M       1          28          9       9    RJ          6        9   \n",
       "2       M       1          45          9       4    SP          6        9   \n",
       "3       M       1          38          1       1    SC          6        2   \n",
       "4       F       1          50          9       9    RJ          6        9   \n",
       "\n",
       "  DIABETES PNEUMOPATI  ... GARGANTA DESC_RESP DIARREIA VOMITO FADIGA  \\\n",
       "0        2          1  ...        2         1        2      2      9   \n",
       "1        9          9  ...        9         9        9      9      9   \n",
       "2        9          9  ...        2         1        2      2      9   \n",
       "3        2          1  ...        2         1        2      2      2   \n",
       "4        9          9  ...        2         2        1      2      2   \n",
       "\n",
       "  SATURACAO DISPNEIA VACINA total_chronic_cormodity total_temporary_cormodity  \n",
       "0         1        1      9                       0                         0  \n",
       "1         1        9      9                       0                         0  \n",
       "2         1        1      2                       0                         0  \n",
       "3         1        1      1                       0                         0  \n",
       "4         2        2      9                       0                         0  \n",
       "\n",
       "[5 rows x 29 columns]"
      ]
     },
     "execution_count": 130,
     "metadata": {},
     "output_type": "execute_result"
    }
   ],
   "source": [
    "df_test_copy.head()"
   ]
  }
 ],
 "metadata": {
  "kernelspec": {
   "display_name": "Python 3 (ipykernel)",
   "language": "python",
   "name": "python3"
  },
  "language_info": {
   "codemirror_mode": {
    "name": "ipython",
    "version": 3
   },
   "file_extension": ".py",
   "mimetype": "text/x-python",
   "name": "python",
   "nbconvert_exporter": "python",
   "pygments_lexer": "ipython3",
   "version": "3.11.13"
  }
 },
 "nbformat": 4,
 "nbformat_minor": 5
}
