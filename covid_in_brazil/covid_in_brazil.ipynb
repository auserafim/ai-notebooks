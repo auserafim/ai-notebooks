{
 "cells": [
  {
   "cell_type": "code",
   "execution_count": 1,
   "id": "899bb7ef-75df-410a-a4d9-4c7324d9f91c",
   "metadata": {
    "scrolled": true
   },
   "outputs": [],
   "source": [
    "import pandas as pd\n",
    "import numpy as np\n",
    "import matplotlib.pyplot as plt\n",
    "import plotly.express as px \n",
    "import seaborn as sns\n",
    "import unidecode, re\n",
    "import plotly.graph_objects as go\n",
    "from sklearn.preprocessing import StandardScaler, LabelEncoder\n",
    "from sklearn.model_selection import train_test_split, cross_val_score, StratifiedKFold, RandomizedSearchCV\n",
    "from sklearn.ensemble import RandomForestClassifier, GradientBoostingClassifier\n",
    "from sklearn.linear_model import LinearRegression, LogisticRegression\n",
    "from sklearn.metrics import accuracy_score,f1_score,confusion_matrix, classification_report, roc_auc_score\n",
    "from scipy import *\n",
    "from sklearn.feature_selection import SelectKBest, f_regression\n",
    "from catboost import CatBoostClassifier, Pool, cv\n",
    "import lightgbm as lgb\n",
    "import joblib\n",
    "from xgboost import XGBClassifier\n",
    "from lightgbm import LGBMClassifier\n",
    "from sklearn.metrics import f1_score, roc_auc_score\n",
    "from sklearn.model_selection import StratifiedKFold\n",
    "\n",
    "from pycaret.classification import *\n",
    "my_font = dict(\n",
    "            family=\"Courier New, monospace\",\n",
    "            size=18,\n",
    "            color=\"Black\",\n",
    "            variant=\"small-caps\",\n",
    ") \n",
    "df = pd.read_csv(\"data/train.csv\")\n",
    "df_test = pd.read_csv(\"data/test.csv\")"
   ]
  },
  {
   "cell_type": "code",
   "execution_count": 4,
   "id": "e1117fe3-629d-448e-9dba-e524a86c79eb",
   "metadata": {},
   "outputs": [],
   "source": [
    "# df.groupby('SG_UF').size().reset_index(name='count').sort_values(by='count', ascending=False)"
   ]
  },
  {
   "cell_type": "code",
   "execution_count": null,
   "id": "4ece2744-2ab7-490d-bf93-1da9a1ccb7b3",
   "metadata": {},
   "outputs": [],
   "source": [
    "sns.heatmap(df.isnull())"
   ]
  },
  {
   "cell_type": "code",
   "execution_count": 5,
   "id": "dee717c5-416e-4682-afb0-2ab7c8536a9f",
   "metadata": {},
   "outputs": [],
   "source": [
    "# px.histogram(\n",
    "#     df.groupby(['SG_UF','OBESIDADE']).size().reset_index(name='count').sort_values(by='count', ascending=False),\n",
    "#     x='SG_UF',\n",
    "#     y='count',\n",
    "#     color='SG_UF')"
   ]
  },
  {
   "cell_type": "code",
   "execution_count": 6,
   "id": "91ad7d82-7c49-4b3c-ac30-4104d8b7f594",
   "metadata": {},
   "outputs": [],
   "source": [
    "\n",
    "# x = df.groupby('GARGANTA').size().reset_index(name='count').sort_values(by='count', ascending=False)\n",
    "\n",
    "# px.histogram(\n",
    "#      x,\n",
    "#      x='GARGANTA',\n",
    "#      y='count',\n",
    "#      color='GARGANTA')\n",
    "# x"
   ]
  },
  {
   "cell_type": "code",
   "execution_count": 7,
   "id": "989351f9-03dd-435e-a6de-90aa510d6eb1",
   "metadata": {},
   "outputs": [],
   "source": [
    "# px.histogram(\n",
    "#     df.groupby(['SG_UF','CS_SEXO']).size().reset_index(name='count').sort_values(by='count', ascending=False),\n",
    "#     x='SG_UF',\n",
    "#     y='count',\n",
    "#     color='SG_UF')"
   ]
  },
  {
   "cell_type": "code",
   "execution_count": 8,
   "id": "8501e1b1-75e9-4d8a-aea5-992b8054e523",
   "metadata": {},
   "outputs": [],
   "source": [
    "# X_train = df.select_dtypes(['number']).drop(columns=['EVOLUCAO'])\n",
    "# y_train = df['EVOLUCAO']\n",
    "\n",
    "# X_test_sub = df_test.select_dtypes(['number'])"
   ]
  },
  {
   "cell_type": "code",
   "execution_count": 9,
   "id": "2c76f511-b069-476c-8e59-7f84ebbcb532",
   "metadata": {},
   "outputs": [],
   "source": [
    "# X_train, X_test, y_train, y_test= train_test_split(X_train, y_train, test_size = .1, random_state=2)\n"
   ]
  },
  {
   "cell_type": "code",
   "execution_count": 10,
   "id": "5c6a6a09-d1da-48b2-b047-1f2965bcbd22",
   "metadata": {},
   "outputs": [],
   "source": [
    "# catb = CatBoostClassifier(\n",
    "#     iterations=100,      \n",
    "#     learning_rate=0.1,   \n",
    "#     depth=6,              \n",
    "#     verbose=0             \n",
    "# )\n",
    "\n",
    "# catb.fit(X_train, y_train)\n",
    "\n",
    "# preds = catb.predict(X_test)"
   ]
  },
  {
   "cell_type": "code",
   "execution_count": 11,
   "id": "2dbf3c7c-fe9d-4fcf-9201-63e2046752a0",
   "metadata": {},
   "outputs": [],
   "source": [
    "# catboost_accuracy = accuracy_score(y_test, preds)\n",
    "# print(f\"CatBoost's acurracy: {catboost_accuracy*100:.2f}%\")\n",
    "\n",
    "# print(\"\\nClassification report\")\n",
    "# print(classification_report(y_test, preds))\n",
    "\n",
    "# cm = confusion_matrix(y_test, preds)\n",
    "# fig = px.imshow(cm, text_auto=True).update_layout(title={\"text\": \"CatBoost's Confusion Matrix\"}, font=my_font).show()\n"
   ]
  },
  {
   "cell_type": "code",
   "execution_count": 12,
   "id": "df55883f-a1ab-4986-bb7b-5a5544b02480",
   "metadata": {},
   "outputs": [],
   "source": [
    "# test_pred = catb.predict_proba(X_test_sub)[:,1] # chances of death, class: 1.0\n",
    "\n",
    "# pd.DataFrame(np.round(test_pred)).reset_index().to_csv('results/submission_catboost.csv', header=['ID', 'EVOLUCAO'], index=False)"
   ]
  },
  {
   "cell_type": "code",
   "execution_count": 13,
   "id": "9756dd85-d895-4af5-87ed-5b6613d17164",
   "metadata": {},
   "outputs": [],
   "source": [
    "# lightGBM = lgb.LGBMClassifier(random_state=23)\n",
    "\n",
    "# lightGBM.fit(X_train, y_train)\n",
    "\n",
    "# preds = lightGBM.predict(X_test)"
   ]
  },
  {
   "cell_type": "code",
   "execution_count": 14,
   "id": "3be46790-eeec-4d86-99a5-d920a1afe143",
   "metadata": {},
   "outputs": [],
   "source": [
    "# accuracy = lightGBM.score(X_test, y_test)\n",
    "\n",
    "\n",
    "# print(f\"LightGBM acurracy: {accuracy*100:.2f}%\")\n",
    "# print(\"\\nClassification report\")\n",
    "# print(classification_report(y_test, preds))\n",
    "\n",
    "# cm = confusion_matrix(y_test, preds)\n",
    "# fig = px.imshow(cm, text_auto=True).update_layout(title={\"text\": \"LightGBM's Confusion Matrix\"}, font=my_font).show()\n"
   ]
  },
  {
   "cell_type": "code",
   "execution_count": 15,
   "id": "3ff6cca4-6e33-4334-a643-b60c208cd611",
   "metadata": {},
   "outputs": [],
   "source": [
    "# test_pred = lightGBM.predict_proba(X_test_sub)[:,1] # chances of death, class: 1.0\n",
    "\n",
    "# pd.DataFrame(np.round(test_pred)).reset_index().to_csv('results/submission_light_gbm.csv', header=['ID', 'EVOLUCAO'], index=False)"
   ]
  },
  {
   "cell_type": "code",
   "execution_count": 16,
   "id": "68aa8664-7733-415d-919d-e98664d8692a",
   "metadata": {},
   "outputs": [],
   "source": [
    "# rf = RandomForestClassifier()\n",
    "\n",
    "# rf.fit(X_train, y_train)"
   ]
  },
  {
   "cell_type": "code",
   "execution_count": 17,
   "id": "c47202c0-7cf6-49ff-a904-4ea5875bedc9",
   "metadata": {},
   "outputs": [],
   "source": [
    "# preds = rf.predict(X_test)\n",
    "# accuracy = rf.score(X_test, y_test)\n",
    "\n",
    "# print(f\"Accuracy: {accuracy*100:.2f}\")\n",
    "# print(\"\\nClassification report\")\n",
    "# print(classification_report(y_test, preds))\n",
    "\n",
    "# cm = confusion_matrix(y_test, preds)\n",
    "# fig = px.imshow(cm, text_auto=True).update_layout(title={\"text\": \"Random Forest's Confusion Matrix\"}, font=my_font).show()\n",
    "\n"
   ]
  },
  {
   "cell_type": "code",
   "execution_count": 18,
   "id": "fbe23a96-fd3b-48a7-a2bb-afce82adf48a",
   "metadata": {},
   "outputs": [],
   "source": [
    "# xg = XGBClassifier()\n",
    "# xg.fit(X_train, y_train)\n",
    "# preds = xg.predict(X_test)\n"
   ]
  },
  {
   "cell_type": "code",
   "execution_count": 19,
   "id": "25280b6c-47ea-4934-9575-0cd7c0448957",
   "metadata": {},
   "outputs": [],
   "source": [
    "# accuracy = xg.score(X_test, y_test)\n",
    "\n",
    "# print(f\"Accuracy: {accuracy*100:.2f}\")\n",
    "# print(\"\\nClassification report\")\n",
    "# print(classification_report(y_test, preds))\n",
    "\n",
    "# cm = confusion_matrix(y_test, preds)\n",
    "# fig = px.imshow(cm, text_auto=True).update_layout(title={\"text\": \"XGBoost's Confusion Matrix\"}, font=my_font).show()\n"
   ]
  },
  {
   "cell_type": "code",
   "execution_count": 20,
   "id": "71c153d9-a726-44ca-9610-e369702f1396",
   "metadata": {},
   "outputs": [],
   "source": [
    "# test_pred = xg.predict_proba(X_test_sub)[:,1] # chances of death, class: 1.0\n",
    "\n",
    "# pd.DataFrame(np.round(test_pred)).reset_index().to_csv('submission_xg.csv', header=['ID', 'EVOLUCAO'], index=False)"
   ]
  },
  {
   "cell_type": "markdown",
   "id": "63729001-cbdb-43d9-91d7-d02022a72fad",
   "metadata": {},
   "source": [
    "# Now we can try to treat this dataset\n",
    "- Let us start by checking what columns have more missing values\n",
    "- Then we can drop rows with more that 90% of the data NaN"
   ]
  },
  {
   "cell_type": "code",
   "execution_count": 21,
   "id": "d474efa6-3809-4c40-9283-bf6f08e75279",
   "metadata": {},
   "outputs": [],
   "source": [
    "# px.histogram(df.isna().sum().reset_index(name='count').sort_values(by='count', ascending=False),\n",
    "#             x='index', y='count', color='count', color_discrete_sequence= px.colors.sequential.Plasma_r,\n",
    "#              title=\"Most frequent columns with missing values\").update_layout(font = my_font)"
   ]
  },
  {
   "cell_type": "code",
   "execution_count": 22,
   "id": "90bdaf39-0962-459a-9f6a-b2e609075aba",
   "metadata": {},
   "outputs": [],
   "source": [
    "# x = df.isna().sum().reset_index(name='count').sort_values(by='count', ascending=False)\n",
    "# x['pecentage_of_missing_data'] = (x['count'] / len(df))*100\n",
    "# x"
   ]
  },
  {
   "cell_type": "code",
   "execution_count": 23,
   "id": "3f9c7468-fba1-456c-85b9-0e5aa23225f0",
   "metadata": {},
   "outputs": [],
   "source": [
    "# px.histogram(df.isna().sum().reset_index(name='count').sort_values(by='count', ascending=True).head(20),\n",
    "#             x='index', y='count', color='count', color_discrete_sequence= px.colors.sequential.Plasma_r,\n",
    "#              title=\"Less frequent columns with missing values\").update_layout(font = my_font)"
   ]
  },
  {
   "cell_type": "code",
   "execution_count": 37,
   "id": "e7213011-e3d1-4c32-b6d7-643e897a7054",
   "metadata": {},
   "outputs": [],
   "source": [
    "missing_counts = df.isnull().sum(axis=1)\n",
    "thresh = 27\n",
    "df_no_nulls = df[missing_counts < thresh]"
   ]
  },
  {
   "cell_type": "markdown",
   "id": "4f9bf4b1-a018-4ec8-93ed-16d9b7e450a3",
   "metadata": {},
   "source": [
    "### Note: You cannot just filter out all columns with ANY missing values\n",
    " - The accuracy of all models pretty much drops drastically"
   ]
  },
  {
   "cell_type": "markdown",
   "id": "84dd760b-7d8b-45f1-8dab-2a7916f9912f",
   "metadata": {},
   "source": [
    "### Checking correlation between variables"
   ]
  },
  {
   "cell_type": "code",
   "execution_count": 25,
   "id": "5aaf96cd-72cd-4a12-8f74-e5d825e5d2ee",
   "metadata": {},
   "outputs": [],
   "source": [
    "# plt.figure(figsize=(12, 12))\n",
    "# sns.heatmap(df.corr(numeric_only=True), annot=True, cmap='viridis', fmt=\".1f\")"
   ]
  },
  {
   "cell_type": "markdown",
   "id": "b939f5ea-f09d-4a83-b25c-f6fea4dec5f1",
   "metadata": {},
   "source": [
    "## Frist, we can create a total_comorbities columns to represent the total amount of comordities one has.\n",
    "    - We will separate it in chronic and temporary"
   ]
  },
  {
   "cell_type": "code",
   "execution_count": 128,
   "id": "867f63d7-c648-4fb3-b84e-2b47633ef918",
   "metadata": {},
   "outputs": [],
   "source": [
    "df_no_nulls['total_chronic_cormodity'] = ((df_no_nulls[[\"OBESIDADE\", \n",
    "                                                        \"RENAL\", \n",
    "                                                        \"CARDIOPATI\",\n",
    "                                                        \"IMUNODEPRE\", \n",
    "                                                        \"DIABETES\", \n",
    "                                                        \"PNEUMOPATI\",\n",
    "                                                        \"HEPATICA\",\n",
    "                                                        \"SIND_DOWN\"]] == 1.0).sum(axis=1))\n",
    "\n",
    "df_no_nulls['total_temporary_cormodity'] = (df_no_nulls[[\"FEBRE\",\n",
    "                                                        \"TOSSE\",\n",
    "                                                        \"PUERPERA\",\n",
    "                                                        \"GARGANTA\",\n",
    "                                                        \"DESC_RESP\",\n",
    "                                                        \"DIARREIA\",\n",
    "                                                        \"VOMITO\",\n",
    "                                                        \"FADIGA\",\n",
    "                                                        \"SATURACAO\",\n",
    "                                                        \"DISPNEIA\"]]== 1.0).sum(axis=1)"
   ]
  },
  {
   "cell_type": "markdown",
   "id": "2d01d473-4e05-492d-afc3-7a18cee97f63",
   "metadata": {},
   "source": [
    "# Creating a function to handle missing values"
   ]
  },
  {
   "cell_type": "code",
   "execution_count": 131,
   "id": "7cf1a338-2173-4786-8e27-9d315d7bf0e5",
   "metadata": {},
   "outputs": [],
   "source": [
    "class DataPreprocessor:\n",
    "    def __init__(self, dataframe):\n",
    "        self.df = dataframe.copy()\n",
    "    \n",
    "    def fill_rows_with_ints(self, columns_to_fill, missing_value=0):\n",
    "        for col in columns_to_fill:\n",
    "            if col in self.df.columns:\n",
    "                self.df[col] = self.df[col].fillna(missing_value)\n",
    "                self.df[col] = self.df[col].astype(int)\n",
    "        return self.df\n",
    "    \n",
    "    def fill_null_rows(self, columns_to_fill, missing_value):\n",
    "        for col in columns_to_fill:\n",
    "            if col in self.df.columns:\n",
    "                self.df[col] = self.df[col].fillna(missing_value)\n",
    "                self.df[col] = self.df[col].astype('category')\n",
    "\n",
    "        return self.df\n",
    "\n",
    "preprocessor = DataPreprocessor(df_no_nulls)\n",
    "preprocessor_test = DataPreprocessor(df_test)\n",
    "\n",
    "columns_to_fill = df_no_nulls.select_dtypes(['float']).columns.tolist()\n",
    "\n",
    "processed_df = preprocessor.fill_rows_with_ints(columns_to_fill, missing_value=9)\n",
    "processed_df_test = preprocessor_test.fill_rows_with_ints(columns_to_fill, missing_value=9)"
   ]
  },
  {
   "cell_type": "code",
   "execution_count": 132,
   "id": "4a48472a-b0e9-4e16-984a-cfeb36210742",
   "metadata": {},
   "outputs": [],
   "source": [
    "columns_to_fill = [\n",
    "                   \"OBESIDADE\", \n",
    "                   \"RENAL\", \n",
    "                   \"CARDIOPATI\",\n",
    "                   \"IMUNODEPRE\", \n",
    "                   \"DIABETES\", \n",
    "                   \"PNEUMOPATI\",\n",
    "                   \"HEPATICA\",\n",
    "                   \"FEBRE\",\n",
    "                   \"TOSSE\",\n",
    "                   \"GARGANTA\",\n",
    "                   \"DESC_RESP\",\n",
    "                   \"DIARREIA\",\n",
    "                   \"VOMITO\",\n",
    "                   \"FADIGA\",\n",
    "                   \"SATURACAO\",\n",
    "                   \"DISPNEIA\",\n",
    "                   \"CS_RACA\",\n",
    "                   \"CS_ZONA\",\n",
    "                   \"VACINA\",\n",
    "                   \"CS_ESCOL_N\",\n",
    "                   \"FATOR_RISC\",\n",
    "                   \"SIND_DOWN\",\n",
    "                   \"CO_RG_RESI\",\n",
    "                   \"PUERPERA\",\n",
    "                   \"CS_SEXO\",\n",
    "                   \"SG_UF\",\n",
    "                   \"EVOLUCAO\",\n",
    "                   \"CS_GESTANT\"\n",
    "                  ] # 22 columns \n",
    "\n",
    "preprocessor = DataPreprocessor(processed_df)\n",
    "preprocessor_test = DataPreprocessor(processed_df_test)\n",
    "\n",
    "df_2 = preprocessor.fill_null_rows(columns_to_fill, 9)\n",
    "\n",
    "\n",
    "df_test_copy = preprocessor_test.fill_null_rows(columns_to_fill, 9)\n",
    "\n",
    "df_2.drop(columns={\"DT_NOTIFIC\", \"ID_MN_RESI\",\"OBES_IMC\", \"CO_RG_RESI\"}, inplace=True)\n",
    "df_test_copy.drop(columns={\"DT_NOTIFIC\", \"ID_MN_RESI\",\"OBES_IMC\", \"CO_RG_RESI\"}, inplace=True)\n",
    "\n",
    "\n",
    "X = df_2.drop(columns={'EVOLUCAO'})\n",
    "y = df_2['EVOLUCAO']\n",
    "\n",
    "\n"
   ]
  },
  {
   "cell_type": "code",
   "execution_count": 85,
   "id": "a8d5a77d-79d2-45eb-bfa1-bea4b3ae58f0",
   "metadata": {},
   "outputs": [],
   "source": [
    "X_temp, X_test, y_temp, y_test = train_test_split(X, y, test_size=0.15, random_state=32)\n",
    "\n",
    "X_train, X_valid, y_train, y_valid = train_test_split(X_temp, y_temp, test_size=0.19, random_state=32)\n",
    "# Note: 0.25 * 0.8 = 0.20, so overall 60/20/20"
   ]
  },
  {
   "cell_type": "code",
   "execution_count": 106,
   "id": "04fefa5b-3667-4fec-b0b0-0c55daa9d30c",
   "metadata": {},
   "outputs": [
    {
     "name": "stdout",
     "output_type": "stream",
     "text": [
      "Validation AUC: 0.7959264104092194\n"
     ]
    }
   ],
   "source": [
    "# LightGBM uses integer column indices for categorical features\n",
    "cat_features = [X.columns.get_loc(c) for c in X.select_dtypes(['category']).columns]\n",
    "\n",
    "params = {\n",
    "    'n_estimators': 150,          # equivalent to iterations\n",
    "    'learning_rate': 0.05,\n",
    "    'max_depth': 7,\n",
    "    'random_state': 32,\n",
    "    'extra_trees': True,\n",
    "    'metric': 'binary_logloss',\n",
    "    'min_data_in_leaf': 1000,\n",
    "    'num_leaves': 30,\n",
    "    'colsample_bytree': 0.7,       # similar to rsm\n",
    "    'reg_alpha': 0.1,\n",
    "    'reg_lambda': 6,               # L2 regularization\n",
    "    'bagging_fraction': 0.7,       # subsample ratio (use with bagging_freq)\n",
    "    'bagging_freq': 1,\n",
    "    'metric': 'TotalF1',     # default eval metric\n",
    "    'verbose': -1,\n",
    "    'lambda_l1': 1.0,\n",
    "        #'early_stopping_rounds':10,\n",
    "    'verbose': -1\n",
    "\n",
    "}\n",
    "\n",
    "lgbm = lgb.LGBMClassifier(**params)\n",
    "\n",
    "# Fit model\n",
    "lgbm.fit(\n",
    "    X_train, y_train,\n",
    "    eval_set=[(X_valid, y_valid)],\n",
    "    eval_names=['validation'],\n",
    "    eval_metric='binary_logloss'\n",
    "    # categorical_feature=cat_features,\n",
    "    # callbacks=[\n",
    "    #     lgb.early_stopping(stopping_rounds=50),\n",
    "    #     lgb.log_evaluation(period=50)\n",
    "    # ]\n",
    ")\n",
    "\n",
    "# Prediction\n",
    "y_pred = lgbm.predict_proba(X_valid)[:, 1]  # prob for class 1\n",
    "print(\"Validation AUC:\", roc_auc_score(y_valid, y_pred))\n",
    "\n",
    "\n"
   ]
  },
  {
   "cell_type": "code",
   "execution_count": 137,
   "id": "a4733d61-870b-4b12-9ae0-6d78f5281b21",
   "metadata": {},
   "outputs": [
    {
     "name": "stderr",
     "output_type": "stream",
     "text": [
      "/usr/local/lib/python3.12/site-packages/shap/explainers/_tree.py:583: UserWarning:\n",
      "\n",
      "LightGBM binary classifier with TreeExplainer shap values output has changed to a list of ndarray\n",
      "\n"
     ]
    },
    {
     "data": {
      "image/png": "[encoded data removed]",
      "text/plain": [
       "<Figure size 800x950 with 1 Axes>"
      ]
     },
     "metadata": {},
     "output_type": "display_data"
    },
    {
     "name": "stdout",
     "output_type": "stream",
     "text": [
      "                      feature  importance\n",
      "20                     VOMITO    0.004266\n",
      "13                   HEPATICA    0.006031\n",
      "26  total_temporary_cormodity    0.009721\n",
      "1                     CS_ZONA    0.009870\n",
      "8                  PNEUMOPATI    0.013858\n",
      "11                  OBESIDADE    0.014841\n",
      "7                    DIABETES    0.016362\n",
      "9                  IMUNODEPRE    0.018161\n",
      "12                 CARDIOPATI    0.025216\n",
      "17                   GARGANTA    0.025491\n"
     ]
    }
   ],
   "source": [
    "import shap\n",
    "\n",
    "# SHAP analysis\n",
    "explainer = shap.TreeExplainer(lgbm)\n",
    "shap_values = explainer.shap_values(X_test)\n",
    "shap.summary_plot(shap_values, X_test, feature_names=X_train.columns, plot_type=\"bar\")\n",
    "shap_importance = np.abs(shap_values).mean(axis=0)\n",
    "\n",
    "# put into DataFrame for readability\n",
    "shap_importance_df = pd.DataFrame({\n",
    "    \"feature\": X_test.columns,\n",
    "    \"importance\": shap_importance\n",
    "}).sort_values(by=\"importance\", ascending=True)\n",
    "\n",
    "print(shap_importance_df.head(10))   # lowest 10 features\n",
    "# Drop low-impact features\n",
    "# low_impact_features = [...]  # your list\n",
    "# X_train_reduced = X_train.drop(columns=low_impact_features)\n",
    "# X_valid_reduced = X_valid.drop(columns=low_impact_features)\n",
    "\n",
    "# # Update categorical feature indices\n",
    "# cat_features_reduced = [X_train_reduced.columns.get_loc(f) for f in cat_features if f not in low_impact_features]\n",
    "\n",
    "# # Create LightGBM datasets\n",
    "# train_data = lgb.Dataset(X_train_reduced, label=y_train, categorical_feature=cat_features_reduced)\n",
    "# valid_data = lgb.Dataset(X_valid_reduced, label=y_valid, categorical_feature=cat_features_reduced, reference=train_data)\n",
    "\n",
    "# # Train LightGBM\n",
    "# model = lgb.train(\n",
    "#     params,\n",
    "#     train_data,\n",
    "#     valid_sets=[train_data, valid_data],\n",
    "#     valid_names=[\"train\", \"valid\"],\n",
    "#     num_boost_round=2000,\n",
    "#     early_stopping_rounds=100\n",
    "# )\n",
    "# y_pred = model.predict_proba(X_valid)[:, 1]  # prob for class 1\n",
    "# print(\"Validation AUC:\", roc_auc_score(y_valid, y_pred))\n"
   ]
  },
  {
   "cell_type": "markdown",
   "id": "8e04a720-4646-4bc9-b3fb-62ca43eff2c5",
   "metadata": {},
   "source": [
    "### Now we will drop out unimportant feaures like SIND_DOWN    0.002544\n",
    "###                 PUERPERA    0.005949\n",
    "###                     CS_ZONA    0.007252"
   ]
  },
  {
   "cell_type": "code",
   "execution_count": 133,
   "id": "8204eb94-67e5-4df8-b6c1-bf362a6eba5e",
   "metadata": {},
   "outputs": [
    {
     "name": "stdout",
     "output_type": "stream",
     "text": [
      "Validation AUC: 0.7954410495030386\n"
     ]
    }
   ],
   "source": [
    "df_2.drop(columns={\"SIND_DOWN\", \"PUERPERA\", \"VOMITO\",\"HEPATICA\"}, inplace=True)\n",
    "df_test_copy.drop(columns={\"SIND_DOWN\", \"PUERPERA\", \"VOMITO\",\"HEPATICA\"}, inplace=True)\n",
    "\n",
    "\n",
    "X = df_2.drop(columns={'EVOLUCAO'})\n",
    "y = df_2['EVOLUCAO']\n",
    "\n",
    "X_temp, X_test, y_temp, y_test = train_test_split(X, y, test_size=0.15, random_state=32)\n",
    "\n",
    "X_train, X_valid, y_train, y_valid = train_test_split(X_temp, y_temp, test_size=0.19, random_state=32)\n",
    "# Note: 0.25 * 0.8 = 0.20, so overall 60/20/20\n",
    "\n",
    "\n",
    "\n",
    "lgbm.fit(\n",
    "    X_train, y_train,\n",
    "    eval_set=[(X_valid, y_valid)],\n",
    "    eval_names=['validation'],\n",
    "    eval_metric='binary_logloss'\n",
    "    # categorical_feature=cat_features,\n",
    "    # callbacks=[\n",
    "    #     lgb.early_stopping(stopping_rounds=50),\n",
    "    #     lgb.log_evaluation(period=50)\n",
    "    # ]\n",
    ")\n",
    "\n",
    "# Prediction\n",
    "y_pred = lgbm.predict_proba(X_valid)[:, 1]  # prob for class 1\n",
    "print(\"Validation AUC:\", roc_auc_score(y_valid, y_pred))"
   ]
  },
  {
   "cell_type": "code",
   "execution_count": 111,
   "id": "24f5c5d1-55a0-411d-a1b2-bb8b4e336319",
   "metadata": {},
   "outputs": [
    {
     "name": "stdout",
     "output_type": "stream",
     "text": [
      "0:\tlearn: 0.6927041\ttest: 0.6915011\tbest: 0.6915011 (0)\ttotal: 226ms\tremaining: 1m 7s\n",
      "50:\tlearn: 0.7188301\ttest: 0.7190782\tbest: 0.7190782 (50)\ttotal: 11.1s\tremaining: 54s\n",
      "100:\tlearn: 0.7261066\ttest: 0.7266062\tbest: 0.7266062 (100)\ttotal: 22.8s\tremaining: 45s\n",
      "150:\tlearn: 0.7293647\ttest: 0.7302183\tbest: 0.7302183 (150)\ttotal: 34.7s\tremaining: 34.3s\n",
      "200:\tlearn: 0.7314475\ttest: 0.7314627\tbest: 0.7315802 (198)\ttotal: 46.2s\tremaining: 22.7s\n",
      "Stopped by overfitting detector  (10 iterations wait)\n",
      "\n",
      "bestTest = 0.7319430836\n",
      "bestIteration = 221\n",
      "\n",
      "Shrink model to first 222 iterations.\n",
      "Validation AUC: 0.7951334344315845\n"
     ]
    }
   ],
   "source": [
    "\n",
    "X_temp, X_test, y_temp, y_test = train_test_split(X, y, test_size=0.15, random_state=32)\n",
    "\n",
    "X_train, X_valid, y_train, y_valid = train_test_split(X_temp, y_temp, test_size=0.19, random_state=32)\n",
    "# Note: 0.25 * 0.8 = 0.20, so overall 60/20/20\n",
    "\n",
    "\n",
    "cat_features = X.select_dtypes(['category']).columns.tolist()\n",
    "params = {\n",
    "    'iterations':300,\n",
    "    'learning_rate':0.05,\n",
    "    'depth':7,\n",
    "    'eval_metric':'TotalF1',\n",
    "    'random_seed':32,\n",
    "    'rsm': 0.7,\n",
    "    'early_stopping_rounds': 10,\n",
    "    'verbose': 50,\n",
    "    'loss_function': 'MultiClass',\n",
    "    'use_best_model': True,\n",
    "    'l2_leaf_reg': 6,      # default 3, increase to reduce overfit\n",
    "    'random_strength': 1.5,  # adds noise to splits\n",
    "    'bagging_temperature': 2  \n",
    "   #  'num_leaves': 50\n",
    "}\n",
    "ctb = CatBoostClassifier(\n",
    "  **params\n",
    ")\n",
    "\n",
    "ctb.fit(\n",
    "    X_train, y_train,\n",
    "    eval_set=(X_valid, y_valid),\n",
    "    cat_features=cat_features,\n",
    ")\n",
    "\n",
    "y_pred = ctb.predict_proba(X_valid)[:, 1]\n",
    "print(\"Validation AUC:\", roc_auc_score(y_valid, y_pred))"
   ]
  },
  {
   "cell_type": "code",
   "execution_count": null,
   "id": "3195abce-df3d-49dc-b0b6-f40fd1e954a0",
   "metadata": {},
   "outputs": [],
   "source": [
    "preds = ctb.predict(X_test)\n",
    "\n",
    "accuracy = ctb.score(X_test, y_test)\n",
    "\n",
    "\n",
    "print(f\"ctb acurracy: {accuracy*100:.2f}%\")\n",
    "print(\"\\nClassification report\")\n",
    "print(classification_report(y_test, preds))\n",
    "\n",
    "cm = confusion_matrix(y_test, preds)\n",
    "fig = px.imshow(cm, text_auto=True).update_layout(title={\"text\": \"CatBoost's Confusion Matrix\"}, font=my_font).show()\n"
   ]
  },
  {
   "cell_type": "markdown",
   "id": "c4889b03-a1cd-4ba0-a7c5-7161326d267e",
   "metadata": {},
   "source": [
    "## Grid searching for the best params "
   ]
  },
  {
   "cell_type": "code",
   "execution_count": null,
   "id": "efc4bc1a-272e-46d5-a1b6-883bdbe6cedf",
   "metadata": {},
   "outputs": [
    {
     "data": {
      "application/vnd.jupyter.widget-view+json": {
       "model_id": "8bdaae760c43424db877740c3985c820",
       "version_major": 2,
       "version_minor": 0
      },
      "text/plain": [
       "MetricVisualizer(layout=Layout(align_self='stretch', height='500px'))"
      ]
     },
     "metadata": {},
     "output_type": "display_data"
    },
    {
     "name": "stdout",
     "output_type": "stream",
     "text": [
      "\n",
      "bestTest = 0.7295204011\n",
      "bestIteration = 497\n",
      "\n",
      "0:\tloss: 0.7295204\tbest: 0.7295204 (0)\ttotal: 2m\tremaining: 18m 5s\n",
      "\n",
      "bestTest = 0.7305163577\n",
      "bestIteration = 498\n",
      "\n",
      "1:\tloss: 0.7305164\tbest: 0.7305164 (1)\ttotal: 2m 51s\tremaining: 11m 24s\n",
      "\n",
      "bestTest = 0.7338701161\n",
      "bestIteration = 498\n",
      "\n",
      "2:\tloss: 0.7338701\tbest: 0.7338701 (2)\ttotal: 4m 15s\tremaining: 9m 55s\n",
      "\n",
      "bestTest = 0.7201615959\n",
      "bestIteration = 499\n",
      "\n",
      "3:\tloss: 0.7201616\tbest: 0.7338701 (2)\ttotal: 5m 7s\tremaining: 7m 40s\n",
      "\n",
      "bestTest = 0.7374203932\n",
      "bestIteration = 442\n",
      "\n",
      "4:\tloss: 0.7374204\tbest: 0.7374204 (4)\ttotal: 7m 15s\tremaining: 7m 15s\n",
      "\n",
      "bestTest = 0.7304318324\n",
      "bestIteration = 496\n",
      "\n",
      "5:\tloss: 0.7304318\tbest: 0.7374204 (4)\ttotal: 8m 15s\tremaining: 5m 30s\n",
      "\n",
      "bestTest = 0.7304318324\n",
      "bestIteration = 496\n",
      "\n",
      "6:\tloss: 0.7304318\tbest: 0.7374204 (4)\ttotal: 9m 15s\tremaining: 3m 58s\n",
      "\n",
      "bestTest = 0.7260419608\n",
      "bestIteration = 496\n",
      "\n",
      "7:\tloss: 0.7260420\tbest: 0.7374204 (4)\ttotal: 10m 51s\tremaining: 2m 42s\n",
      "\n",
      "bestTest = 0.7359003812\n",
      "bestIteration = 484\n",
      "\n",
      "8:\tloss: 0.7359004\tbest: 0.7374204 (4)\ttotal: 12m 28s\tremaining: 1m 23s\n",
      "\n",
      "bestTest = 0.7358168362\n",
      "bestIteration = 497\n",
      "\n",
      "9:\tloss: 0.7358168\tbest: 0.7374204 (4)\ttotal: 14m 8s\tremaining: 0us\n",
      "Estimating final quality...\n",
      "Training on fold [0/3]\n",
      "\n",
      "bestTest = 0.7388135557\n",
      "bestIteration = 498\n",
      "\n",
      "Training on fold [1/3]\n"
     ]
    }
   ],
   "source": [
    "# param_grid = {\n",
    "#     'depth': [4, 6, 8],               # tree depth\n",
    "#     'learning_rate': [0.01, 0.03, 0.05],  # step size\n",
    "#     'l2_leaf_reg': [3, 5, 7],         # regularization\n",
    "#     'bagging_temperature': [0, 0.5, 1], # randomness in bagging\n",
    "#     'rsm': [0.7, 0.8, 1.0]            # fraction of features per tree\n",
    "# }\n",
    "\n",
    "\n",
    "# ctb = CatBoostClassifier(\n",
    "#     iterations=500,\n",
    "#     loss_function='Logloss',\n",
    "#     eval_metric='TotalF1',\n",
    "#     cat_features=cat_features,\n",
    "#     verbose=0\n",
    "# )\n",
    "\n",
    "# randomized_search_result  = ctb.randomized_search(\n",
    "#     param_grid,\n",
    "#     X = X,\n",
    "#     y= y,\n",
    "#     plot=True\n",
    "# )\n",
    "\n",
    "# # rand_search.fit(X_train, y_train)\n",
    "# # print(\"Best params:\", rand_search.best_params_)"
   ]
  },
  {
   "cell_type": "markdown",
   "id": "4d56a4c1-a260-4f9c-aaff-0055dde386f0",
   "metadata": {},
   "source": [
    "## Cross-validating the model"
   ]
  },
  {
   "cell_type": "code",
   "execution_count": 54,
   "id": "89b627c7-08b5-4207-9625-3fb6ad158147",
   "metadata": {},
   "outputs": [
    {
     "name": "stdout",
     "output_type": "stream",
     "text": [
      "Training on fold [0/5]\n",
      "0:\tlearn: 0.6890425\ttest: 0.6896206\tbest: 0.6896206 (0)\ttotal: 249ms\tremaining: 4m 8s\n",
      "50:\tlearn: 0.7131938\ttest: 0.7133284\tbest: 0.7133284 (50)\ttotal: 9.64s\tremaining: 2m 59s\n",
      "100:\tlearn: 0.7193462\ttest: 0.7199987\tbest: 0.7199987 (100)\ttotal: 19s\tremaining: 2m 49s\n",
      "150:\tlearn: 0.7238620\ttest: 0.7247549\tbest: 0.7247549 (150)\ttotal: 28.9s\tremaining: 2m 42s\n",
      "200:\tlearn: 0.7271588\ttest: 0.7283898\tbest: 0.7283898 (200)\ttotal: 38.9s\tremaining: 2m 34s\n",
      "250:\tlearn: 0.7293122\ttest: 0.7300268\tbest: 0.7301247 (247)\ttotal: 48.5s\tremaining: 2m 24s\n",
      "300:\tlearn: 0.7308472\ttest: 0.7312906\tbest: 0.7313108 (298)\ttotal: 58.2s\tremaining: 2m 15s\n",
      "350:\tlearn: 0.7319047\ttest: 0.7327376\tbest: 0.7327376 (350)\ttotal: 1m 8s\tremaining: 2m 5s\n",
      "400:\tlearn: 0.7330814\ttest: 0.7332802\tbest: 0.7333009 (396)\ttotal: 1m 17s\tremaining: 1m 56s\n",
      "450:\tlearn: 0.7340978\ttest: 0.7340119\tbest: 0.7340119 (450)\ttotal: 1m 27s\tremaining: 1m 46s\n",
      "500:\tlearn: 0.7348353\ttest: 0.7350327\tbest: 0.7350327 (500)\ttotal: 1m 37s\tremaining: 1m 36s\n",
      "550:\tlearn: 0.7353815\ttest: 0.7354562\tbest: 0.7354679 (545)\ttotal: 1m 46s\tremaining: 1m 26s\n",
      "600:\tlearn: 0.7361697\ttest: 0.7358913\tbest: 0.7359329 (591)\ttotal: 1m 56s\tremaining: 1m 17s\n",
      "650:\tlearn: 0.7365257\ttest: 0.7361373\tbest: 0.7362469 (648)\ttotal: 2m 5s\tremaining: 1m 7s\n",
      "700:\tlearn: 0.7369000\ttest: 0.7366018\tbest: 0.7366464 (699)\ttotal: 2m 15s\tremaining: 57.8s\n",
      "750:\tlearn: 0.7372744\ttest: 0.7368438\tbest: 0.7368759 (745)\ttotal: 2m 25s\tremaining: 48.2s\n",
      "800:\tlearn: 0.7375872\ttest: 0.7372276\tbest: 0.7372541 (796)\ttotal: 2m 35s\tremaining: 38.5s\n",
      "850:\tlearn: 0.7378930\ttest: 0.7372567\tbest: 0.7373636 (837)\ttotal: 2m 44s\tremaining: 28.8s\n",
      "900:\tlearn: 0.7382766\ttest: 0.7375042\tbest: 0.7375042 (900)\ttotal: 2m 54s\tremaining: 19.1s\n",
      "950:\tlearn: 0.7385189\ttest: 0.7376995\tbest: 0.7376995 (950)\ttotal: 3m 3s\tremaining: 9.47s\n",
      "999:\tlearn: 0.7387247\ttest: 0.7379553\tbest: 0.7379821 (992)\ttotal: 3m 13s\tremaining: 0us\n",
      "\n",
      "bestTest = 0.7379821047\n",
      "bestIteration = 992\n",
      "\n",
      "Training on fold [1/5]\n",
      "0:\tlearn: 0.6892119\ttest: 0.6889261\tbest: 0.6889261 (0)\ttotal: 226ms\tremaining: 3m 45s\n",
      "50:\tlearn: 0.7126161\ttest: 0.7147106\tbest: 0.7147106 (50)\ttotal: 9.53s\tremaining: 2m 57s\n",
      "100:\tlearn: 0.7195321\ttest: 0.7214691\tbest: 0.7214691 (100)\ttotal: 18.9s\tremaining: 2m 48s\n",
      "150:\tlearn: 0.7241310\ttest: 0.7258861\tbest: 0.7258861 (150)\ttotal: 28.6s\tremaining: 2m 40s\n",
      "200:\tlearn: 0.7274613\ttest: 0.7287853\tbest: 0.7287853 (200)\ttotal: 38.4s\tremaining: 2m 32s\n",
      "250:\tlearn: 0.7292679\ttest: 0.7308803\tbest: 0.7308823 (249)\ttotal: 48.3s\tremaining: 2m 23s\n",
      "300:\tlearn: 0.7307639\ttest: 0.7322606\tbest: 0.7322606 (300)\ttotal: 58.4s\tremaining: 2m 15s\n",
      "350:\tlearn: 0.7317402\ttest: 0.7331535\tbest: 0.7331535 (350)\ttotal: 1m 8s\tremaining: 2m 6s\n",
      "400:\tlearn: 0.7326741\ttest: 0.7341188\tbest: 0.7341188 (400)\ttotal: 1m 18s\tremaining: 1m 57s\n",
      "450:\tlearn: 0.7334741\ttest: 0.7347602\tbest: 0.7347899 (449)\ttotal: 1m 28s\tremaining: 1m 47s\n",
      "500:\tlearn: 0.7343709\ttest: 0.7354187\tbest: 0.7354335 (499)\ttotal: 1m 38s\tremaining: 1m 37s\n",
      "550:\tlearn: 0.7351186\ttest: 0.7356524\tbest: 0.7357087 (545)\ttotal: 1m 48s\tremaining: 1m 28s\n",
      "600:\tlearn: 0.7356786\ttest: 0.7360196\tbest: 0.7360254 (597)\ttotal: 1m 57s\tremaining: 1m 18s\n",
      "650:\tlearn: 0.7362827\ttest: 0.7362666\tbest: 0.7365017 (631)\ttotal: 2m 7s\tremaining: 1m 8s\n",
      "700:\tlearn: 0.7367099\ttest: 0.7364832\tbest: 0.7365727 (674)\ttotal: 2m 17s\tremaining: 58.8s\n",
      "750:\tlearn: 0.7372192\ttest: 0.7366871\tbest: 0.7367585 (742)\ttotal: 2m 27s\tremaining: 48.9s\n",
      "800:\tlearn: 0.7377086\ttest: 0.7371515\tbest: 0.7371515 (800)\ttotal: 2m 37s\tremaining: 39.1s\n",
      "850:\tlearn: 0.7379931\ttest: 0.7371828\tbest: 0.7372122 (847)\ttotal: 2m 47s\tremaining: 29.3s\n",
      "900:\tlearn: 0.7384156\ttest: 0.7373151\tbest: 0.7373151 (900)\ttotal: 2m 57s\tremaining: 19.5s\n",
      "950:\tlearn: 0.7387203\ttest: 0.7375878\tbest: 0.7375878 (950)\ttotal: 3m 6s\tremaining: 9.63s\n",
      "999:\tlearn: 0.7389562\ttest: 0.7375662\tbest: 0.7376673 (968)\ttotal: 3m 16s\tremaining: 0us\n",
      "\n",
      "bestTest = 0.737667266\n",
      "bestIteration = 968\n",
      "\n",
      "Training on fold [2/5]\n",
      "0:\tlearn: 0.6881067\ttest: 0.6933444\tbest: 0.6933444 (0)\ttotal: 220ms\tremaining: 3m 39s\n",
      "50:\tlearn: 0.7131453\ttest: 0.7150692\tbest: 0.7150692 (50)\ttotal: 9.54s\tremaining: 2m 57s\n",
      "100:\tlearn: 0.7199900\ttest: 0.7217643\tbest: 0.7217643 (100)\ttotal: 19.1s\tremaining: 2m 50s\n",
      "150:\tlearn: 0.7246633\ttest: 0.7265586\tbest: 0.7265834 (149)\ttotal: 28.8s\tremaining: 2m 41s\n",
      "200:\tlearn: 0.7275723\ttest: 0.7289106\tbest: 0.7289232 (192)\ttotal: 38.4s\tremaining: 2m 32s\n",
      "250:\tlearn: 0.7294803\ttest: 0.7308202\tbest: 0.7308267 (249)\ttotal: 48.2s\tremaining: 2m 23s\n",
      "300:\tlearn: 0.7308825\ttest: 0.7317156\tbest: 0.7317156 (300)\ttotal: 57.9s\tremaining: 2m 14s\n",
      "350:\tlearn: 0.7319343\ttest: 0.7322138\tbest: 0.7322584 (349)\ttotal: 1m 7s\tremaining: 2m 5s\n",
      "400:\tlearn: 0.7330303\ttest: 0.7335054\tbest: 0.7335054 (400)\ttotal: 1m 17s\tremaining: 1m 55s\n",
      "450:\tlearn: 0.7337855\ttest: 0.7340949\tbest: 0.7341631 (445)\ttotal: 1m 27s\tremaining: 1m 46s\n",
      "500:\tlearn: 0.7344443\ttest: 0.7350108\tbest: 0.7351028 (496)\ttotal: 1m 36s\tremaining: 1m 36s\n",
      "550:\tlearn: 0.7352113\ttest: 0.7353773\tbest: 0.7353949 (547)\ttotal: 1m 46s\tremaining: 1m 26s\n",
      "600:\tlearn: 0.7356925\ttest: 0.7356273\tbest: 0.7357290 (577)\ttotal: 1m 56s\tremaining: 1m 17s\n",
      "650:\tlearn: 0.7362724\ttest: 0.7361101\tbest: 0.7361636 (640)\ttotal: 2m 5s\tremaining: 1m 7s\n",
      "700:\tlearn: 0.7367075\ttest: 0.7363436\tbest: 0.7363899 (681)\ttotal: 2m 15s\tremaining: 57.9s\n",
      "\n",
      "bestTest = 0.7363899019\n",
      "bestIteration = 681\n",
      "\n",
      "Training on fold [3/5]\n",
      "0:\tlearn: 0.6897872\ttest: 0.6866255\tbest: 0.6866255 (0)\ttotal: 240ms\tremaining: 3m 59s\n",
      "50:\tlearn: 0.7134805\ttest: 0.7125980\tbest: 0.7125980 (50)\ttotal: 9.64s\tremaining: 2m 59s\n",
      "100:\tlearn: 0.7204915\ttest: 0.7184254\tbest: 0.7184254 (100)\ttotal: 19s\tremaining: 2m 49s\n",
      "150:\tlearn: 0.7249628\ttest: 0.7234552\tbest: 0.7234552 (150)\ttotal: 28.7s\tremaining: 2m 41s\n",
      "200:\tlearn: 0.7277476\ttest: 0.7258184\tbest: 0.7258406 (199)\ttotal: 38.6s\tremaining: 2m 33s\n",
      "250:\tlearn: 0.7296950\ttest: 0.7275254\tbest: 0.7275454 (248)\ttotal: 48.4s\tremaining: 2m 24s\n",
      "300:\tlearn: 0.7311642\ttest: 0.7284267\tbest: 0.7284984 (299)\ttotal: 58.3s\tremaining: 2m 15s\n",
      "350:\tlearn: 0.7324080\ttest: 0.7299081\tbest: 0.7299081 (350)\ttotal: 1m 8s\tremaining: 2m 7s\n",
      "400:\tlearn: 0.7333151\ttest: 0.7304639\tbest: 0.7305289 (396)\ttotal: 1m 18s\tremaining: 1m 57s\n",
      "450:\tlearn: 0.7342858\ttest: 0.7310571\tbest: 0.7311252 (449)\ttotal: 1m 29s\tremaining: 1m 48s\n",
      "500:\tlearn: 0.7351784\ttest: 0.7318599\tbest: 0.7318599 (500)\ttotal: 1m 39s\tremaining: 1m 38s\n",
      "550:\tlearn: 0.7357803\ttest: 0.7325254\tbest: 0.7325521 (546)\ttotal: 1m 49s\tremaining: 1m 29s\n",
      "600:\tlearn: 0.7364943\ttest: 0.7328559\tbest: 0.7329476 (593)\ttotal: 1m 59s\tremaining: 1m 19s\n",
      "650:\tlearn: 0.7369560\ttest: 0.7330805\tbest: 0.7332283 (640)\ttotal: 2m 9s\tremaining: 1m 9s\n",
      "700:\tlearn: 0.7373745\ttest: 0.7334998\tbest: 0.7335559 (699)\ttotal: 2m 18s\tremaining: 59.1s\n",
      "750:\tlearn: 0.7378045\ttest: 0.7339779\tbest: 0.7339779 (750)\ttotal: 2m 28s\tremaining: 49.1s\n",
      "800:\tlearn: 0.7382291\ttest: 0.7343594\tbest: 0.7343594 (800)\ttotal: 2m 38s\tremaining: 39.3s\n",
      "850:\tlearn: 0.7384808\ttest: 0.7346936\tbest: 0.7347468 (848)\ttotal: 2m 47s\tremaining: 29.4s\n",
      "900:\tlearn: 0.7387625\ttest: 0.7349792\tbest: 0.7350235 (898)\ttotal: 2m 57s\tremaining: 19.5s\n",
      "950:\tlearn: 0.7390065\ttest: 0.7348754\tbest: 0.7350793 (919)\ttotal: 3m 7s\tremaining: 9.63s\n",
      "\n",
      "bestTest = 0.7350792768\n",
      "bestIteration = 919\n",
      "\n",
      "Training on fold [4/5]\n",
      "0:\tlearn: 0.6896274\ttest: 0.6872625\tbest: 0.6872625 (0)\ttotal: 223ms\tremaining: 3m 43s\n",
      "50:\tlearn: 0.7140826\ttest: 0.7106262\tbest: 0.7106262 (50)\ttotal: 9.78s\tremaining: 3m 1s\n",
      "100:\tlearn: 0.7206129\ttest: 0.7175590\tbest: 0.7175590 (100)\ttotal: 19.5s\tremaining: 2m 53s\n",
      "150:\tlearn: 0.7252311\ttest: 0.7222381\tbest: 0.7222381 (150)\ttotal: 29.4s\tremaining: 2m 45s\n",
      "200:\tlearn: 0.7282184\ttest: 0.7246400\tbest: 0.7246984 (195)\ttotal: 39.4s\tremaining: 2m 36s\n",
      "250:\tlearn: 0.7298692\ttest: 0.7274011\tbest: 0.7274776 (249)\ttotal: 49.6s\tremaining: 2m 28s\n",
      "300:\tlearn: 0.7313177\ttest: 0.7289167\tbest: 0.7289567 (293)\ttotal: 59.7s\tremaining: 2m 18s\n",
      "350:\tlearn: 0.7323931\ttest: 0.7303159\tbest: 0.7303159 (350)\ttotal: 1m 9s\tremaining: 2m 8s\n",
      "400:\tlearn: 0.7334977\ttest: 0.7307581\tbest: 0.7307581 (400)\ttotal: 1m 19s\tremaining: 1m 59s\n",
      "450:\tlearn: 0.7341631\ttest: 0.7312337\tbest: 0.7312781 (447)\ttotal: 1m 29s\tremaining: 1m 49s\n",
      "500:\tlearn: 0.7349591\ttest: 0.7317520\tbest: 0.7317994 (498)\ttotal: 1m 39s\tremaining: 1m 39s\n",
      "550:\tlearn: 0.7356214\ttest: 0.7322777\tbest: 0.7323013 (542)\ttotal: 1m 50s\tremaining: 1m 29s\n",
      "600:\tlearn: 0.7362659\ttest: 0.7328231\tbest: 0.7328380 (588)\ttotal: 1m 59s\tremaining: 1m 19s\n",
      "650:\tlearn: 0.7367142\ttest: 0.7331575\tbest: 0.7332790 (640)\ttotal: 2m 10s\tremaining: 1m 9s\n",
      "700:\tlearn: 0.7372052\ttest: 0.7335573\tbest: 0.7335573 (700)\ttotal: 2m 21s\tremaining: 1m\n",
      "750:\tlearn: 0.7375249\ttest: 0.7340363\tbest: 0.7340631 (743)\ttotal: 2m 31s\tremaining: 50.3s\n",
      "800:\tlearn: 0.7379469\ttest: 0.7344617\tbest: 0.7344617 (800)\ttotal: 2m 41s\tremaining: 40.1s\n",
      "850:\tlearn: 0.7384070\ttest: 0.7345677\tbest: 0.7346508 (846)\ttotal: 2m 51s\tremaining: 30s\n",
      "900:\tlearn: 0.7387961\ttest: 0.7349550\tbest: 0.7349550 (900)\ttotal: 3m 1s\tremaining: 19.9s\n",
      "950:\tlearn: 0.7391073\ttest: 0.7353333\tbest: 0.7353664 (936)\ttotal: 3m 11s\tremaining: 9.88s\n",
      "999:\tlearn: 0.7392941\ttest: 0.7355697\tbest: 0.7356082 (993)\ttotal: 3m 21s\tremaining: 0us\n",
      "\n",
      "bestTest = 0.7356082348\n",
      "bestIteration = 993\n",
      "\n",
      "Best iteration: 992\n",
      "Best CV F1: 0.7364582826616525\n"
     ]
    }
   ],
   "source": [
    "pool = Pool(data=X, label=y, cat_features=cat_features)\n",
    "\n",
    "cv_results = cv(\n",
    "    pool=pool,\n",
    "    params=params,\n",
    "    fold_count=5,               # number of folds\n",
    "    shuffle=True,               # shuffle data before splitting\n",
    "    partition_random_seed=42,   # reproducibility\n",
    "    early_stopping_rounds=50,   # stop if no improvement\n",
    "    verbose_eval=50\n",
    ")\n",
    "\n",
    "best_iter = cv_results['test-TotalF1-mean'].idxmax()\n",
    "print(\"Best iteration:\", best_iter)\n",
    "print(\"Best CV F1:\", cv_results['test-TotalF1-mean'].max())"
   ]
  },
  {
   "cell_type": "code",
   "execution_count": 49,
   "id": "fb5c721d-4b17-4a0d-bea8-d3afe3c78069",
   "metadata": {},
   "outputs": [
    {
     "data": {
      "text/plain": [
       "array([ 1.64223865,  0.38781051, 30.10731473,  6.26197606,  2.82093822,\n",
       "       15.94676638,  0.47171306,  0.24539617,  0.38671954,  0.48692894,\n",
       "        1.049016  ,  1.89005966,  0.5136074 ,  0.87641147,  0.43125692,\n",
       "        0.64507417,  3.89830398,  1.25179858,  3.20779504,  1.07320238,\n",
       "        4.75534488,  1.22350926,  2.7685032 ,  6.01696663,  3.35789382,\n",
       "        4.08702841,  2.62678236,  1.56964359])"
      ]
     },
     "execution_count": 49,
     "metadata": {},
     "output_type": "execute_result"
    }
   ],
   "source": [
    "interaction_matrix = model.get_feature_importance(data=train_pool, type='FeatureImportance')\n",
    "# feature_names = X_train.columns\n",
    "\n",
    "\n",
    "# interaction_df = pd.DataFrame(interaction_matrix, index=X_train.columns, columns=X_train.columns)\n",
    "# print(interaction_df)\n",
    "interaction_matrix"
   ]
  },
  {
   "cell_type": "code",
   "execution_count": 17,
   "id": "93dd0326-e46a-45df-90b1-92d142be24a1",
   "metadata": {},
   "outputs": [
    {
     "data": {
      "image/png": "[encoded data removed]",
      "text/plain": [
       "<Figure size 640x480 with 1 Axes>"
      ]
     },
     "metadata": {},
     "output_type": "display_data"
    },
    {
     "name": "stdout",
     "output_type": "stream",
     "text": [
      "Boundary: 0.7491373932872102\n"
     ]
    }
   ],
   "source": [
    "import matplotlib.pyplot as plt\n",
    "from sklearn.datasets import load_breast_cancer\n",
    "from sklearn.model_selection import train_test_split\n",
    "from sklearn.linear_model import LogisticRegression\n",
    "from sklearn.metrics import roc_curve, auc\n",
    "from catboost.utils import get_roc_curve, select_threshold\n",
    "\n",
    "y_pred_proba = ctb.predict_proba(X_test)[:, 1] \n",
    "fpr, tpr, thresholds = roc_curve(y_test, y_pred_proba) \n",
    "roc_auc = auc(fpr, tpr)\n",
    "# Plot the ROC curve\n",
    "plt.figure()  \n",
    "plt.plot(fpr, tpr, label='ROC curve (area = %0.2f)' % roc_auc)\n",
    "plt.plot([0, 1], [0, 1], 'k--', label='No Skill')\n",
    "plt.xlim([0.0, 1.0])\n",
    "plt.ylim([0.0, 1.05])\n",
    "plt.xlabel('False Positive Rate')\n",
    "plt.ylabel('True Positive Rate')\n",
    "plt.title('ROC Curve for Breast Cancer Classification')\n",
    "plt.legend()\n",
    "plt.show()\n",
    "\n",
    "catboost_pool = Pool(X_train, y_train, cat_features=cat_features)\n",
    "\n",
    "\n",
    "\n",
    "roc_curve_values = get_roc_curve(ctb, catboost_pool)\n",
    "\n",
    "boundary = select_threshold(ctb,\n",
    "                            curve=roc_curve_values,\n",
    "                            FPR=0.01)\n",
    "\n",
    "print(\"Boundary:\",boundary)"
   ]
  },
  {
   "cell_type": "code",
   "execution_count": 134,
   "id": "ab789b69-7cf9-436a-bcce-96ab8819c1c7",
   "metadata": {},
   "outputs": [],
   "source": [
    "df_test_copy['total_chronic_cormodity'] = ((df_test_copy[[        \"OBESIDADE\", \n",
    "                                                        \"RENAL\", \n",
    "                                                        \"CARDIOPATI\",\n",
    "                                                        \"IMUNODEPRE\", \n",
    "                                                        \"DIABETES\", \n",
    "                                                        \"PNEUMOPATI\",\n",
    "                                                        \"HEPATICA\",\n",
    "                                                        #\"SIND_DOWN\"\n",
    "                                                         ]] == 1.0).sum(axis=1))\n",
    "\n",
    "df_test_copy['total_temporary_cormodity'] = (df_test_copy[[       \"FEBRE\",\n",
    "                                                        \"TOSSE\",\n",
    "                                                       # \"PUERPERA\",\n",
    "                                                        \"GARGANTA\",\n",
    "                                                        \"DESC_RESP\",\n",
    "                                                        \"DIARREIA\",\n",
    "                                                         \"VOMITO\",\n",
    "                                                        \"FADIGA\",\n",
    "                                                        \"SATURACAO\",\n",
    "                                                        \"DISPNEIA\"]]== 1.0).sum(axis=1)\n"
   ]
  },
  {
   "cell_type": "code",
   "execution_count": 135,
   "id": "9da83e64-5971-4c6d-ba28-ea36ae905fcb",
   "metadata": {},
   "outputs": [
    {
     "data": {
      "text/plain": [
       "array([0.14616083, 0.14176305, 0.11690175, ..., 0.0244276 , 0.55931306,\n",
       "       0.54145362], shape=(124581,))"
      ]
     },
     "execution_count": 135,
     "metadata": {},
     "output_type": "execute_result"
    }
   ],
   "source": [
    "test_pred = lgbm.predict_proba(df_test_copy)[:,1]\n",
    "test_pred"
   ]
  },
  {
   "cell_type": "code",
   "execution_count": 136,
   "id": "632dc4df-2c7e-4132-8b35-2a926c436161",
   "metadata": {},
   "outputs": [],
   "source": [
    "pd.DataFrame(np.round(test_pred)).reset_index().to_csv('results/lightgbm_less_2_variables.csv', header=['ID', 'EVOLUCAO'], index=False)"
   ]
  },
  {
   "cell_type": "code",
   "execution_count": 89,
   "id": "3ffbda0d-68b3-4624-80de-c265d95eb0e2",
   "metadata": {},
   "outputs": [
    {
     "name": "stdout",
     "output_type": "stream",
     "text": [
      "<class 'pandas.core.frame.DataFrame'>\n",
      "RangeIndex: 124581 entries, 0 to 124580\n",
      "Data columns (total 28 columns):\n",
      " #   Column                     Non-Null Count   Dtype   \n",
      "---  ------                     --------------   -----   \n",
      " 0   CS_SEXO                    124581 non-null  category\n",
      " 1   CS_ZONA                    124581 non-null  category\n",
      " 2   NU_IDADE_N                 124581 non-null  int64   \n",
      " 3   CS_ESCOL_N                 124581 non-null  category\n",
      " 4   CS_RACA                    124581 non-null  category\n",
      " 5   SG_UF                      124581 non-null  category\n",
      " 6   CS_GESTANT                 124581 non-null  category\n",
      " 7   PUERPERA                   124581 non-null  category\n",
      " 8   DIABETES                   124581 non-null  category\n",
      " 9   PNEUMOPATI                 124581 non-null  category\n",
      " 10  IMUNODEPRE                 124581 non-null  category\n",
      " 11  RENAL                      124581 non-null  category\n",
      " 12  OBESIDADE                  124581 non-null  category\n",
      " 13  CARDIOPATI                 124581 non-null  category\n",
      " 14  SIND_DOWN                  124581 non-null  category\n",
      " 15  HEPATICA                   124581 non-null  category\n",
      " 16  FATOR_RISC                 124581 non-null  category\n",
      " 17  FEBRE                      124581 non-null  category\n",
      " 18  TOSSE                      124581 non-null  category\n",
      " 19  GARGANTA                   124581 non-null  category\n",
      " 20  DESC_RESP                  124581 non-null  category\n",
      " 21  DIARREIA                   124581 non-null  category\n",
      " 22  FADIGA                     124581 non-null  category\n",
      " 23  SATURACAO                  124581 non-null  category\n",
      " 24  DISPNEIA                   124581 non-null  category\n",
      " 25  VACINA                     124581 non-null  category\n",
      " 26  total_chronic_cormodity    124581 non-null  int64   \n",
      " 27  total_temporary_cormodity  124581 non-null  int64   \n",
      "dtypes: category(25), int64(3)\n",
      "memory usage: 5.8 MB\n"
     ]
    }
   ],
   "source": [
    "df_test_copy.info()"
   ]
  }
 ],
 "metadata": {
  "kernelspec": {
   "display_name": "Python 3 (ipykernel)",
   "language": "python",
   "name": "python3"
  },
  "language_info": {
   "codemirror_mode": {
    "name": "ipython",
    "version": 3
   },
   "file_extension": ".py",
   "mimetype": "text/x-python",
   "name": "python",
   "nbconvert_exporter": "python",
   "pygments_lexer": "ipython3",
   "version": "3.11.13"
  }
 },
 "nbformat": 4,
 "nbformat_minor": 5
}
