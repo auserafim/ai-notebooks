{
 "cells": [
  {
   "cell_type": "code",
   "execution_count": 42,
   "id": "e818b445-dea3-473d-a81e-93a32aca61bd",
   "metadata": {},
   "outputs": [],
   "source": [
    "import pandas as pd\n",
    "import numpy as np\n",
    "import matplotlib.pyplot as plt\n",
    "import plotly.express as px \n",
    "import seaborn as sns\n",
    "import unidecode, re\n",
    "import plotly.graph_objects as go\n",
    "from sklearn.preprocessing import StandardScaler, LabelEncoder\n",
    "from sklearn.model_selection import train_test_split, cross_val_score\n",
    "from sklearn.ensemble import RandomForestClassifier, GradientBoostingClassifier\n",
    "from sklearn.linear_model import LinearRegression, LogisticRegression\n",
    "from sklearn.metrics import accuracy_score,confusion_matrix, classification_report, roc_auc_score\n",
    "from scipy import *\n",
    "from sklearn.feature_selection import SelectKBest, f_regression\n",
    "from catboost import CatBoostClassifier\n",
    "import lightgbm as lgb\n",
    "import joblib\n",
    "from xgboost import XGBClassifier\n",
    "from lightgbm import LGBMClassifier\n",
    "from sklearn.metrics import f1_score\n",
    "from sklearn.model_selection import StratifiedKFold\n",
    "from sklearn.impute import KNNImputer, SimpleImputer\n",
    "from sklearn.compose import ColumnTransformer\n",
    "from sklearn.pipeline import Pipeline\n",
    "\n",
    "my_font = dict(\n",
    "            family=\"Courier New, monospace\",\n",
    "            size=18,\n",
    "            color=\"Black\",\n",
    "            variant=\"small-caps\",\n",
    ") \n",
    "\n",
    "df = pd.read_csv(\"data/train.csv\")\n",
    "df_test = pd.read_csv(\"data/test.csv\")\n"
   ]
  },
  {
   "cell_type": "code",
   "execution_count": 43,
   "id": "d44a71ad-2186-40de-9a8e-53d46d7bd04b",
   "metadata": {},
   "outputs": [
    {
     "data": {
      "text/html": [
       "<div>\n",
       "<style scoped>\n",
       "    .dataframe tbody tr th:only-of-type {\n",
       "        vertical-align: middle;\n",
       "    }\n",
       "\n",
       "    .dataframe tbody tr th {\n",
       "        vertical-align: top;\n",
       "    }\n",
       "\n",
       "    .dataframe thead th {\n",
       "        text-align: right;\n",
       "    }\n",
       "</style>\n",
       "<table border=\"1\" class=\"dataframe\">\n",
       "  <thead>\n",
       "    <tr style=\"text-align: right;\">\n",
       "      <th></th>\n",
       "      <th>index</th>\n",
       "      <th>count</th>\n",
       "      <th>pecentage_of_missing_data</th>\n",
       "    </tr>\n",
       "  </thead>\n",
       "  <tbody>\n",
       "    <tr>\n",
       "      <th>16</th>\n",
       "      <td>OBES_IMC</td>\n",
       "      <td>483795</td>\n",
       "      <td>97.085206</td>\n",
       "    </tr>\n",
       "    <tr>\n",
       "      <th>10</th>\n",
       "      <td>PUERPERA</td>\n",
       "      <td>298765</td>\n",
       "      <td>59.954447</td>\n",
       "    </tr>\n",
       "    <tr>\n",
       "      <th>18</th>\n",
       "      <td>SIND_DOWN</td>\n",
       "      <td>298085</td>\n",
       "      <td>59.817988</td>\n",
       "    </tr>\n",
       "    <tr>\n",
       "      <th>19</th>\n",
       "      <td>HEPATICA</td>\n",
       "      <td>297733</td>\n",
       "      <td>59.747351</td>\n",
       "    </tr>\n",
       "    <tr>\n",
       "      <th>13</th>\n",
       "      <td>IMUNODEPRE</td>\n",
       "      <td>295546</td>\n",
       "      <td>59.308476</td>\n",
       "    </tr>\n",
       "    <tr>\n",
       "      <th>14</th>\n",
       "      <td>RENAL</td>\n",
       "      <td>292734</td>\n",
       "      <td>58.744180</td>\n",
       "    </tr>\n",
       "    <tr>\n",
       "      <th>12</th>\n",
       "      <td>PNEUMOPATI</td>\n",
       "      <td>292402</td>\n",
       "      <td>58.677557</td>\n",
       "    </tr>\n",
       "    <tr>\n",
       "      <th>15</th>\n",
       "      <td>OBESIDADE</td>\n",
       "      <td>290862</td>\n",
       "      <td>58.368518</td>\n",
       "    </tr>\n",
       "    <tr>\n",
       "      <th>27</th>\n",
       "      <td>FADIGA</td>\n",
       "      <td>268807</td>\n",
       "      <td>53.942647</td>\n",
       "    </tr>\n",
       "    <tr>\n",
       "      <th>11</th>\n",
       "      <td>DIABETES</td>\n",
       "      <td>252391</td>\n",
       "      <td>50.648379</td>\n",
       "    </tr>\n",
       "    <tr>\n",
       "      <th>17</th>\n",
       "      <td>CARDIOPATI</td>\n",
       "      <td>236183</td>\n",
       "      <td>47.395850</td>\n",
       "    </tr>\n",
       "    <tr>\n",
       "      <th>20</th>\n",
       "      <td>FATOR_RISC</td>\n",
       "      <td>179966</td>\n",
       "      <td>36.114545</td>\n",
       "    </tr>\n",
       "    <tr>\n",
       "      <th>6</th>\n",
       "      <td>CS_ESCOL_N</td>\n",
       "      <td>146901</td>\n",
       "      <td>29.479250</td>\n",
       "    </tr>\n",
       "    <tr>\n",
       "      <th>26</th>\n",
       "      <td>VOMITO</td>\n",
       "      <td>136659</td>\n",
       "      <td>27.423944</td>\n",
       "    </tr>\n",
       "    <tr>\n",
       "      <th>25</th>\n",
       "      <td>DIARREIA</td>\n",
       "      <td>129733</td>\n",
       "      <td>26.034074</td>\n",
       "    </tr>\n",
       "    <tr>\n",
       "      <th>23</th>\n",
       "      <td>GARGANTA</td>\n",
       "      <td>124438</td>\n",
       "      <td>24.971504</td>\n",
       "    </tr>\n",
       "    <tr>\n",
       "      <th>30</th>\n",
       "      <td>VACINA</td>\n",
       "      <td>101083</td>\n",
       "      <td>20.284757</td>\n",
       "    </tr>\n",
       "    <tr>\n",
       "      <th>24</th>\n",
       "      <td>DESC_RESP</td>\n",
       "      <td>83604</td>\n",
       "      <td>16.777171</td>\n",
       "    </tr>\n",
       "    <tr>\n",
       "      <th>28</th>\n",
       "      <td>SATURACAO</td>\n",
       "      <td>77360</td>\n",
       "      <td>15.524161</td>\n",
       "    </tr>\n",
       "    <tr>\n",
       "      <th>2</th>\n",
       "      <td>CO_RG_RESI</td>\n",
       "      <td>73185</td>\n",
       "      <td>14.686346</td>\n",
       "    </tr>\n",
       "    <tr>\n",
       "      <th>21</th>\n",
       "      <td>FEBRE</td>\n",
       "      <td>60770</td>\n",
       "      <td>12.194975</td>\n",
       "    </tr>\n",
       "    <tr>\n",
       "      <th>29</th>\n",
       "      <td>DISPNEIA</td>\n",
       "      <td>54168</td>\n",
       "      <td>10.870124</td>\n",
       "    </tr>\n",
       "    <tr>\n",
       "      <th>4</th>\n",
       "      <td>CS_ZONA</td>\n",
       "      <td>52838</td>\n",
       "      <td>10.603227</td>\n",
       "    </tr>\n",
       "    <tr>\n",
       "      <th>22</th>\n",
       "      <td>TOSSE</td>\n",
       "      <td>52380</td>\n",
       "      <td>10.511318</td>\n",
       "    </tr>\n",
       "    <tr>\n",
       "      <th>7</th>\n",
       "      <td>CS_RACA</td>\n",
       "      <td>19384</td>\n",
       "      <td>3.889870</td>\n",
       "    </tr>\n",
       "    <tr>\n",
       "      <th>8</th>\n",
       "      <td>SG_UF</td>\n",
       "      <td>44</td>\n",
       "      <td>0.008830</td>\n",
       "    </tr>\n",
       "    <tr>\n",
       "      <th>3</th>\n",
       "      <td>ID_MN_RESI</td>\n",
       "      <td>44</td>\n",
       "      <td>0.008830</td>\n",
       "    </tr>\n",
       "    <tr>\n",
       "      <th>5</th>\n",
       "      <td>NU_IDADE_N</td>\n",
       "      <td>0</td>\n",
       "      <td>0.000000</td>\n",
       "    </tr>\n",
       "    <tr>\n",
       "      <th>9</th>\n",
       "      <td>CS_GESTANT</td>\n",
       "      <td>0</td>\n",
       "      <td>0.000000</td>\n",
       "    </tr>\n",
       "    <tr>\n",
       "      <th>1</th>\n",
       "      <td>CS_SEXO</td>\n",
       "      <td>0</td>\n",
       "      <td>0.000000</td>\n",
       "    </tr>\n",
       "    <tr>\n",
       "      <th>0</th>\n",
       "      <td>DT_NOTIFIC</td>\n",
       "      <td>0</td>\n",
       "      <td>0.000000</td>\n",
       "    </tr>\n",
       "    <tr>\n",
       "      <th>31</th>\n",
       "      <td>EVOLUCAO</td>\n",
       "      <td>0</td>\n",
       "      <td>0.000000</td>\n",
       "    </tr>\n",
       "  </tbody>\n",
       "</table>\n",
       "</div>"
      ],
      "text/plain": [
       "         index   count  pecentage_of_missing_data\n",
       "16    OBES_IMC  483795                  97.085206\n",
       "10    PUERPERA  298765                  59.954447\n",
       "18   SIND_DOWN  298085                  59.817988\n",
       "19    HEPATICA  297733                  59.747351\n",
       "13  IMUNODEPRE  295546                  59.308476\n",
       "14       RENAL  292734                  58.744180\n",
       "12  PNEUMOPATI  292402                  58.677557\n",
       "15   OBESIDADE  290862                  58.368518\n",
       "27      FADIGA  268807                  53.942647\n",
       "11    DIABETES  252391                  50.648379\n",
       "17  CARDIOPATI  236183                  47.395850\n",
       "20  FATOR_RISC  179966                  36.114545\n",
       "6   CS_ESCOL_N  146901                  29.479250\n",
       "26      VOMITO  136659                  27.423944\n",
       "25    DIARREIA  129733                  26.034074\n",
       "23    GARGANTA  124438                  24.971504\n",
       "30      VACINA  101083                  20.284757\n",
       "24   DESC_RESP   83604                  16.777171\n",
       "28   SATURACAO   77360                  15.524161\n",
       "2   CO_RG_RESI   73185                  14.686346\n",
       "21       FEBRE   60770                  12.194975\n",
       "29    DISPNEIA   54168                  10.870124\n",
       "4      CS_ZONA   52838                  10.603227\n",
       "22       TOSSE   52380                  10.511318\n",
       "7      CS_RACA   19384                   3.889870\n",
       "8        SG_UF      44                   0.008830\n",
       "3   ID_MN_RESI      44                   0.008830\n",
       "5   NU_IDADE_N       0                   0.000000\n",
       "9   CS_GESTANT       0                   0.000000\n",
       "1      CS_SEXO       0                   0.000000\n",
       "0   DT_NOTIFIC       0                   0.000000\n",
       "31    EVOLUCAO       0                   0.000000"
      ]
     },
     "execution_count": 43,
     "metadata": {},
     "output_type": "execute_result"
    }
   ],
   "source": [
    "x = df.isna().sum().reset_index(name='count').sort_values(by='count', ascending=False)\n",
    "x['pecentage_of_missing_data'] = (x['count'] / len(df))*100\n",
    "x"
   ]
  },
  {
   "cell_type": "code",
   "execution_count": 104,
   "id": "444f3e3e-3f29-43e0-b26c-008b0a1128da",
   "metadata": {},
   "outputs": [],
   "source": [
    "df_no_nulls = df.copy()\n",
    "df_no_nulls['total_chronic_cormodity'] = ((df_no_nulls[[\"OBESIDADE\", \n",
    "                                                        \"RENAL\", \n",
    "                                                        \"CARDIOPATI\",\n",
    "                                                        \"IMUNODEPRE\", \n",
    "                                                        \"DIABETES\", \n",
    "                                                        \"PNEUMOPATI\",\n",
    "                                                        \"HEPATICA\",\n",
    "                                                        \"SIND_DOWN\"]] == 1.0).sum(axis=1))\n",
    "\n",
    "df_no_nulls['total_temporary_cormodity'] = (df_no_nulls[[\"FEBRE\",\n",
    "                                                        \"TOSSE\",\n",
    "                                                        \"PUERPERA\",\n",
    "                                                        \"GARGANTA\",\n",
    "                                                        \"DESC_RESP\",\n",
    "                                                        \"DIARREIA\",\n",
    "                                                        \"VOMITO\",\n",
    "                                                        \"FADIGA\",\n",
    "                                                        \"SATURACAO\",\n",
    "                                                        \"DISPNEIA\"]]== 1.0).sum(axis=1)"
   ]
  },
  {
   "cell_type": "code",
   "execution_count": 91,
   "id": "01b88340-d1b0-43a3-828e-3ff96ed856eb",
   "metadata": {},
   "outputs": [],
   "source": [
    "class DataPreprocessor:\n",
    "    def __init__(self, dataframe):\n",
    "        self.df = dataframe.copy()\n",
    "    \n",
    "    def fill_rows_with_ints(self, columns_to_fill, missing_value=0):\n",
    "        for col in columns_to_fill:\n",
    "            if col in self.df.columns:\n",
    "                #self.df[col] = self.df[col].fillna(missing_value)\n",
    "                self.df[col] = self.df[col].astype(int)\n",
    "        return self.df\n",
    "\n",
    "    def fill_null_rows(self, columns_to_fill, missing_value):\n",
    "        for col in columns_to_fill:\n",
    "            if col in self.df.columns:\n",
    "                #self.df[col] = self.df[col].fillna(missing_value)\n",
    "                self.df[col] = self.df[col].astype('category')\n",
    "\n",
    "        return self.df\n",
    "\n",
    "\n",
    "\n",
    "preprocessor = DataPreprocessor(df_no_nulls)\n",
    "\n",
    "columns_to_fill = df_no_nulls.select_dtypes(['float']).columns.tolist()\n",
    "\n",
    "df_2 = preprocessor.fill_null_rows(columns_to_fill, 9)\n",
    "\n",
    "columns_to_fill = [\n",
    "                   \"OBESIDADE\", \n",
    "                   \"RENAL\", \n",
    "                   \"CARDIOPATI\",\n",
    "                   \"IMUNODEPRE\", \n",
    "                   \"DIABETES\", \n",
    "                   \"PNEUMOPATI\",\n",
    "                   \"HEPATICA\",\n",
    "                   \"FEBRE\",\n",
    "                   \"TOSSE\",\n",
    "                   \"GARGANTA\",\n",
    "                   \"DESC_RESP\",\n",
    "                   \"DIARREIA\",\n",
    "                   \"VOMITO\",\n",
    "                   \"FADIGA\",\n",
    "                   \"SATURACAO\",\n",
    "                   \"DISPNEIA\",\n",
    "                   \"CS_RACA\",\n",
    "                   \"CS_ZONA\",\n",
    "                   \"VACINA\",\n",
    "                   \"CS_ESCOL_N\",\n",
    "                   \"FATOR_RISC\",\n",
    "                   \"SIND_DOWN\",\n",
    "                   \"CO_RG_RESI\",\n",
    "                   \"PUERPERA\",\n",
    "                   \"CS_SEXO\",\n",
    "                   \"SG_UF\",\n",
    "                   \"EVOLUCAO\",\n",
    "                   \"CS_GESTANT\"\n",
    "                  ] # 22 columns \n",
    "\n",
    "\n",
    "df_2[\"CS_GESTANT\"] =df_2[\"CS_GESTANT\"].astype('category') "
   ]
  },
  {
   "cell_type": "code",
   "execution_count": 105,
   "id": "0aa5a388-7539-493e-a78f-f6a16e1f4c6b",
   "metadata": {},
   "outputs": [],
   "source": [
    "numeric_cols = df.select_dtypes(include=np.number).columns\n",
    "\n",
    "imputer = SimpleImputer(strategy='most_frequent')\n",
    "\n",
    "df_no_nulls[numeric_cols] = imputer.fit_transform(df_no_nulls[numeric_cols])"
   ]
  },
  {
   "cell_type": "code",
   "execution_count": 106,
   "id": "bdeac5b3-4854-4dfe-9ea7-080c742a6368",
   "metadata": {},
   "outputs": [],
   "source": [
    "df_no_nulls.drop(columns={\"DT_NOTIFIC\", \"ID_MN_RESI\",\"OBES_IMC\", \"CO_RG_RESI\", 'CS_SEXO', 'SG_UF'}, inplace=True)"
   ]
  },
  {
   "cell_type": "code",
   "execution_count": 107,
   "id": "58b00e94-41db-4153-905c-3a4de67f7c4c",
   "metadata": {},
   "outputs": [],
   "source": [
    "preprocessor = DataPreprocessor(df_no_nulls)\n",
    "\n",
    "columns_to_fill = df_no_nulls.select_dtypes(['float', 'object']).columns.tolist()\n",
    "\n",
    "df_2 = preprocessor.fill_null_rows(columns_to_fill, 9)\n",
    "\n",
    "df_2[\"CS_GESTANT\"] = df_2[\"CS_GESTANT\"].astype('category') \n",
    "\n",
    "df_2['NU_IDADE_N'] = df_2['NU_IDADE_N'].astype(int) "
   ]
  },
  {
   "cell_type": "code",
   "execution_count": 109,
   "id": "a2b5358a-bf74-4a82-8491-2a1aa5d2c9b0",
   "metadata": {},
   "outputs": [],
   "source": [
    "X = df_no_nulls.drop(columns={'EVOLUCAO'})\n",
    "y = df_no_nulls['EVOLUCAO']"
   ]
  },
  {
   "cell_type": "code",
   "execution_count": 112,
   "id": "807d7d2f-18a3-43a4-b83d-3fa67bc90f77",
   "metadata": {},
   "outputs": [
    {
     "name": "stdout",
     "output_type": "stream",
     "text": [
      "0:\tlearn: 0.6925937\ttest: 0.6936917\tbest: 0.6936917 (0)\ttotal: 74.9ms\tremaining: 1m 14s\n",
      "50:\tlearn: 0.7088016\ttest: 0.7089412\tbest: 0.7089412 (50)\ttotal: 3.25s\tremaining: 1m\n",
      "100:\tlearn: 0.7134187\ttest: 0.7132327\tbest: 0.7132327 (100)\ttotal: 6.16s\tremaining: 54.8s\n",
      "150:\tlearn: 0.7160424\ttest: 0.7153309\tbest: 0.7154845 (146)\ttotal: 8.95s\tremaining: 50.3s\n",
      "200:\tlearn: 0.7177114\ttest: 0.7166265\tbest: 0.7166265 (200)\ttotal: 12.2s\tremaining: 48.4s\n",
      "250:\tlearn: 0.7185864\ttest: 0.7174206\tbest: 0.7174206 (250)\ttotal: 15.1s\tremaining: 45.1s\n",
      "300:\tlearn: 0.7196972\ttest: 0.7183110\tbest: 0.7183466 (290)\ttotal: 18.1s\tremaining: 42.1s\n",
      "350:\tlearn: 0.7203812\ttest: 0.7188758\tbest: 0.7188758 (350)\ttotal: 21s\tremaining: 38.8s\n",
      "400:\tlearn: 0.7209154\ttest: 0.7191684\tbest: 0.7192025 (399)\ttotal: 23.8s\tremaining: 35.6s\n",
      "450:\tlearn: 0.7212812\ttest: 0.7192511\tbest: 0.7193324 (440)\ttotal: 26.6s\tremaining: 32.4s\n",
      "Stopped by overfitting detector  (20 iterations wait)\n",
      "\n",
      "bestTest = 0.7194079794\n",
      "bestIteration = 464\n",
      "\n",
      "Shrink model to first 465 iterations.\n",
      "Validation AUC: 0.7794596115278872\n"
     ]
    }
   ],
   "source": [
    "\n",
    "X_train, X_test, y_train, y_test = train_test_split(X , y, test_size = .2, random_state=32)\n",
    "\n",
    "\n",
    "X_train, X_valid, y_train, y_valid = train_test_split(X, y, test_size=0.25, random_state=32)\n",
    "\n",
    "\n",
    "cat_features = X.select_dtypes(['category', 'object']).columns.tolist()\n",
    "params = {\n",
    "    'iterations':1000,\n",
    "    'learning_rate':0.05,\n",
    "    'depth':6,\n",
    "    'eval_metric':'TotalF1',\n",
    "    'random_seed':42,\n",
    "    'early_stopping_rounds':20,\n",
    "    'verbose': 50\n",
    "}\n",
    "ctb = CatBoostClassifier(\n",
    "  **params\n",
    ")\n",
    "\n",
    "ctb.fit(\n",
    "    X_train, y_train,\n",
    "    eval_set=(X_valid, y_valid),\n",
    "    cat_features=cat_features\n",
    ")\n",
    "\n",
    "\n",
    "# ctb.fit(X_train, y_train,cat_features=cat_features)\n",
    "y_pred = ctb.predict_proba(X_valid)[:, 1]\n",
    "print(\"Validation AUC:\", roc_auc_score(y_valid, y_pred))"
   ]
  },
  {
   "cell_type": "code",
   "execution_count": 114,
   "id": "8be452bd-1f78-45c4-849c-32b5e25f18ad",
   "metadata": {},
   "outputs": [
    {
     "name": "stdout",
     "output_type": "stream",
     "text": [
      "ctb acurracy: 72.91%\n",
      "\n",
      "Classification report\n",
      "              precision    recall  f1-score   support\n",
      "\n",
      "         0.0       0.76      0.85      0.80     65298\n",
      "         1.0       0.64      0.50      0.56     34366\n",
      "\n",
      "    accuracy                           0.73     99664\n",
      "   macro avg       0.70      0.67      0.68     99664\n",
      "weighted avg       0.72      0.73      0.72     99664\n",
      "\n"
     ]
    },
    {
     "data": {
      "application/vnd.plotly.v1+json": {
       "config": {
        "plotlyServerURL": "https://plot.ly"
       },
       "data": [
        {
         "coloraxis": "coloraxis",
         "hovertemplate": "x: %{x}<br>y: %{y}<br>color: %{z}<extra></extra>",
         "name": "0",
         "texttemplate": "%{z}",
         "type": "heatmap",
         "xaxis": "x",
         "yaxis": "y",
         "z": {
          "bdata": "MtkAAOAlAACZQwAApUIAAA==",
          "dtype": "i4",
          "shape": "2, 2"
         }
        }
       ],
       "layout": {
        "coloraxis": {
         "colorscale": [
          [
           0,
           "#0d0887"
          ],
          [
           0.1111111111111111,
           "#46039f"
          ],
          [
           0.2222222222222222,
           "#7201a8"
          ],
          [
           0.3333333333333333,
           "#9c179e"
          ],
          [
           0.4444444444444444,
           "#bd3786"
          ],
          [
           0.5555555555555556,
           "#d8576b"
          ],
          [
           0.6666666666666666,
           "#ed7953"
          ],
          [
           0.7777777777777778,
           "#fb9f3a"
          ],
          [
           0.8888888888888888,
           "#fdca26"
          ],
          [
           1,
           "#f0f921"
          ]
         ]
        },
        "font": {
         "color": "Black",
         "family": "Courier New, monospace",
         "size": 18,
         "variant": "small-caps"
        },
        "margin": {
         "t": 60
        },
        "template": {
         "data": {
          "bar": [
           {
            "error_x": {
             "color": "#2a3f5f"
            },
            "error_y": {
             "color": "#2a3f5f"
            },
            "marker": {
             "line": {
              "color": "#E5ECF6",
              "width": 0.5
             },
             "pattern": {
              "fillmode": "overlay",
              "size": 10,
              "solidity": 0.2
             }
            },
            "type": "bar"
           }
          ],
          "barpolar": [
           {
            "marker": {
             "line": {
              "color": "#E5ECF6",
              "width": 0.5
             },
             "pattern": {
              "fillmode": "overlay",
              "size": 10,
              "solidity": 0.2
             }
            },
            "type": "barpolar"
           }
          ],
          "carpet": [
           {
            "aaxis": {
             "endlinecolor": "#2a3f5f",
             "gridcolor": "white",
             "linecolor": "white",
             "minorgridcolor": "white",
             "startlinecolor": "#2a3f5f"
            },
            "baxis": {
             "endlinecolor": "#2a3f5f",
             "gridcolor": "white",
             "linecolor": "white",
             "minorgridcolor": "white",
             "startlinecolor": "#2a3f5f"
            },
            "type": "carpet"
           }
          ],
          "choropleth": [
           {
            "colorbar": {
             "outlinewidth": 0,
             "ticks": ""
            },
            "type": "choropleth"
           }
          ],
          "contour": [
           {
            "colorbar": {
             "outlinewidth": 0,
             "ticks": ""
            },
            "colorscale": [
             [
              0,
              "#0d0887"
             ],
             [
              0.1111111111111111,
              "#46039f"
             ],
             [
              0.2222222222222222,
              "#7201a8"
             ],
             [
              0.3333333333333333,
              "#9c179e"
             ],
             [
              0.4444444444444444,
              "#bd3786"
             ],
             [
              0.5555555555555556,
              "#d8576b"
             ],
             [
              0.6666666666666666,
              "#ed7953"
             ],
             [
              0.7777777777777778,
              "#fb9f3a"
             ],
             [
              0.8888888888888888,
              "#fdca26"
             ],
             [
              1,
              "#f0f921"
             ]
            ],
            "type": "contour"
           }
          ],
          "contourcarpet": [
           {
            "colorbar": {
             "outlinewidth": 0,
             "ticks": ""
            },
            "type": "contourcarpet"
           }
          ],
          "heatmap": [
           {
            "colorbar": {
             "outlinewidth": 0,
             "ticks": ""
            },
            "colorscale": [
             [
              0,
              "#0d0887"
             ],
             [
              0.1111111111111111,
              "#46039f"
             ],
             [
              0.2222222222222222,
              "#7201a8"
             ],
             [
              0.3333333333333333,
              "#9c179e"
             ],
             [
              0.4444444444444444,
              "#bd3786"
             ],
             [
              0.5555555555555556,
              "#d8576b"
             ],
             [
              0.6666666666666666,
              "#ed7953"
             ],
             [
              0.7777777777777778,
              "#fb9f3a"
             ],
             [
              0.8888888888888888,
              "#fdca26"
             ],
             [
              1,
              "#f0f921"
             ]
            ],
            "type": "heatmap"
           }
          ],
          "histogram": [
           {
            "marker": {
             "pattern": {
              "fillmode": "overlay",
              "size": 10,
              "solidity": 0.2
             }
            },
            "type": "histogram"
           }
          ],
          "histogram2d": [
           {
            "colorbar": {
             "outlinewidth": 0,
             "ticks": ""
            },
            "colorscale": [
             [
              0,
              "#0d0887"
             ],
             [
              0.1111111111111111,
              "#46039f"
             ],
             [
              0.2222222222222222,
              "#7201a8"
             ],
             [
              0.3333333333333333,
              "#9c179e"
             ],
             [
              0.4444444444444444,
              "#bd3786"
             ],
             [
              0.5555555555555556,
              "#d8576b"
             ],
             [
              0.6666666666666666,
              "#ed7953"
             ],
             [
              0.7777777777777778,
              "#fb9f3a"
             ],
             [
              0.8888888888888888,
              "#fdca26"
             ],
             [
              1,
              "#f0f921"
             ]
            ],
            "type": "histogram2d"
           }
          ],
          "histogram2dcontour": [
           {
            "colorbar": {
             "outlinewidth": 0,
             "ticks": ""
            },
            "colorscale": [
             [
              0,
              "#0d0887"
             ],
             [
              0.1111111111111111,
              "#46039f"
             ],
             [
              0.2222222222222222,
              "#7201a8"
             ],
             [
              0.3333333333333333,
              "#9c179e"
             ],
             [
              0.4444444444444444,
              "#bd3786"
             ],
             [
              0.5555555555555556,
              "#d8576b"
             ],
             [
              0.6666666666666666,
              "#ed7953"
             ],
             [
              0.7777777777777778,
              "#fb9f3a"
             ],
             [
              0.8888888888888888,
              "#fdca26"
             ],
             [
              1,
              "#f0f921"
             ]
            ],
            "type": "histogram2dcontour"
           }
          ],
          "mesh3d": [
           {
            "colorbar": {
             "outlinewidth": 0,
             "ticks": ""
            },
            "type": "mesh3d"
           }
          ],
          "parcoords": [
           {
            "line": {
             "colorbar": {
              "outlinewidth": 0,
              "ticks": ""
             }
            },
            "type": "parcoords"
           }
          ],
          "pie": [
           {
            "automargin": true,
            "type": "pie"
           }
          ],
          "scatter": [
           {
            "fillpattern": {
             "fillmode": "overlay",
             "size": 10,
             "solidity": 0.2
            },
            "type": "scatter"
           }
          ],
          "scatter3d": [
           {
            "line": {
             "colorbar": {
              "outlinewidth": 0,
              "ticks": ""
             }
            },
            "marker": {
             "colorbar": {
              "outlinewidth": 0,
              "ticks": ""
             }
            },
            "type": "scatter3d"
           }
          ],
          "scattercarpet": [
           {
            "marker": {
             "colorbar": {
              "outlinewidth": 0,
              "ticks": ""
             }
            },
            "type": "scattercarpet"
           }
          ],
          "scattergeo": [
           {
            "marker": {
             "colorbar": {
              "outlinewidth": 0,
              "ticks": ""
             }
            },
            "type": "scattergeo"
           }
          ],
          "scattergl": [
           {
            "marker": {
             "colorbar": {
              "outlinewidth": 0,
              "ticks": ""
             }
            },
            "type": "scattergl"
           }
          ],
          "scattermap": [
           {
            "marker": {
             "colorbar": {
              "outlinewidth": 0,
              "ticks": ""
             }
            },
            "type": "scattermap"
           }
          ],
          "scattermapbox": [
           {
            "marker": {
             "colorbar": {
              "outlinewidth": 0,
              "ticks": ""
             }
            },
            "type": "scattermapbox"
           }
          ],
          "scatterpolar": [
           {
            "marker": {
             "colorbar": {
              "outlinewidth": 0,
              "ticks": ""
             }
            },
            "type": "scatterpolar"
           }
          ],
          "scatterpolargl": [
           {
            "marker": {
             "colorbar": {
              "outlinewidth": 0,
              "ticks": ""
             }
            },
            "type": "scatterpolargl"
           }
          ],
          "scatterternary": [
           {
            "marker": {
             "colorbar": {
              "outlinewidth": 0,
              "ticks": ""
             }
            },
            "type": "scatterternary"
           }
          ],
          "surface": [
           {
            "colorbar": {
             "outlinewidth": 0,
             "ticks": ""
            },
            "colorscale": [
             [
              0,
              "#0d0887"
             ],
             [
              0.1111111111111111,
              "#46039f"
             ],
             [
              0.2222222222222222,
              "#7201a8"
             ],
             [
              0.3333333333333333,
              "#9c179e"
             ],
             [
              0.4444444444444444,
              "#bd3786"
             ],
             [
              0.5555555555555556,
              "#d8576b"
             ],
             [
              0.6666666666666666,
              "#ed7953"
             ],
             [
              0.7777777777777778,
              "#fb9f3a"
             ],
             [
              0.8888888888888888,
              "#fdca26"
             ],
             [
              1,
              "#f0f921"
             ]
            ],
            "type": "surface"
           }
          ],
          "table": [
           {
            "cells": {
             "fill": {
              "color": "#EBF0F8"
             },
             "line": {
              "color": "white"
             }
            },
            "header": {
             "fill": {
              "color": "#C8D4E3"
             },
             "line": {
              "color": "white"
             }
            },
            "type": "table"
           }
          ]
         },
         "layout": {
          "annotationdefaults": {
           "arrowcolor": "#2a3f5f",
           "arrowhead": 0,
           "arrowwidth": 1
          },
          "autotypenumbers": "strict",
          "coloraxis": {
           "colorbar": {
            "outlinewidth": 0,
            "ticks": ""
           }
          },
          "colorscale": {
           "diverging": [
            [
             0,
             "#8e0152"
            ],
            [
             0.1,
             "#c51b7d"
            ],
            [
             0.2,
             "#de77ae"
            ],
            [
             0.3,
             "#f1b6da"
            ],
            [
             0.4,
             "#fde0ef"
            ],
            [
             0.5,
             "#f7f7f7"
            ],
            [
             0.6,
             "#e6f5d0"
            ],
            [
             0.7,
             "#b8e186"
            ],
            [
             0.8,
             "#7fbc41"
            ],
            [
             0.9,
             "#4d9221"
            ],
            [
             1,
             "#276419"
            ]
           ],
           "sequential": [
            [
             0,
             "#0d0887"
            ],
            [
             0.1111111111111111,
             "#46039f"
            ],
            [
             0.2222222222222222,
             "#7201a8"
            ],
            [
             0.3333333333333333,
             "#9c179e"
            ],
            [
             0.4444444444444444,
             "#bd3786"
            ],
            [
             0.5555555555555556,
             "#d8576b"
            ],
            [
             0.6666666666666666,
             "#ed7953"
            ],
            [
             0.7777777777777778,
             "#fb9f3a"
            ],
            [
             0.8888888888888888,
             "#fdca26"
            ],
            [
             1,
             "#f0f921"
            ]
           ],
           "sequentialminus": [
            [
             0,
             "#0d0887"
            ],
            [
             0.1111111111111111,
             "#46039f"
            ],
            [
             0.2222222222222222,
             "#7201a8"
            ],
            [
             0.3333333333333333,
             "#9c179e"
            ],
            [
             0.4444444444444444,
             "#bd3786"
            ],
            [
             0.5555555555555556,
             "#d8576b"
            ],
            [
             0.6666666666666666,
             "#ed7953"
            ],
            [
             0.7777777777777778,
             "#fb9f3a"
            ],
            [
             0.8888888888888888,
             "#fdca26"
            ],
            [
             1,
             "#f0f921"
            ]
           ]
          },
          "colorway": [
           "#636efa",
           "#EF553B",
           "#00cc96",
           "#ab63fa",
           "#FFA15A",
           "#19d3f3",
           "#FF6692",
           "#B6E880",
           "#FF97FF",
           "#FECB52"
          ],
          "font": {
           "color": "#2a3f5f"
          },
          "geo": {
           "bgcolor": "white",
           "lakecolor": "white",
           "landcolor": "#E5ECF6",
           "showlakes": true,
           "showland": true,
           "subunitcolor": "white"
          },
          "hoverlabel": {
           "align": "left"
          },
          "hovermode": "closest",
          "mapbox": {
           "style": "light"
          },
          "paper_bgcolor": "white",
          "plot_bgcolor": "#E5ECF6",
          "polar": {
           "angularaxis": {
            "gridcolor": "white",
            "linecolor": "white",
            "ticks": ""
           },
           "bgcolor": "#E5ECF6",
           "radialaxis": {
            "gridcolor": "white",
            "linecolor": "white",
            "ticks": ""
           }
          },
          "scene": {
           "xaxis": {
            "backgroundcolor": "#E5ECF6",
            "gridcolor": "white",
            "gridwidth": 2,
            "linecolor": "white",
            "showbackground": true,
            "ticks": "",
            "zerolinecolor": "white"
           },
           "yaxis": {
            "backgroundcolor": "#E5ECF6",
            "gridcolor": "white",
            "gridwidth": 2,
            "linecolor": "white",
            "showbackground": true,
            "ticks": "",
            "zerolinecolor": "white"
           },
           "zaxis": {
            "backgroundcolor": "#E5ECF6",
            "gridcolor": "white",
            "gridwidth": 2,
            "linecolor": "white",
            "showbackground": true,
            "ticks": "",
            "zerolinecolor": "white"
           }
          },
          "shapedefaults": {
           "line": {
            "color": "#2a3f5f"
           }
          },
          "ternary": {
           "aaxis": {
            "gridcolor": "white",
            "linecolor": "white",
            "ticks": ""
           },
           "baxis": {
            "gridcolor": "white",
            "linecolor": "white",
            "ticks": ""
           },
           "bgcolor": "#E5ECF6",
           "caxis": {
            "gridcolor": "white",
            "linecolor": "white",
            "ticks": ""
           }
          },
          "title": {
           "x": 0.05
          },
          "xaxis": {
           "automargin": true,
           "gridcolor": "white",
           "linecolor": "white",
           "ticks": "",
           "title": {
            "standoff": 15
           },
           "zerolinecolor": "white",
           "zerolinewidth": 2
          },
          "yaxis": {
           "automargin": true,
           "gridcolor": "white",
           "linecolor": "white",
           "ticks": "",
           "title": {
            "standoff": 15
           },
           "zerolinecolor": "white",
           "zerolinewidth": 2
          }
         }
        },
        "title": {
         "text": "LightGBM's Confusion Matrix"
        },
        "xaxis": {
         "anchor": "y",
         "constrain": "domain",
         "domain": [
          0,
          1
         ],
         "scaleanchor": "y"
        },
        "yaxis": {
         "anchor": "x",
         "autorange": "reversed",
         "constrain": "domain",
         "domain": [
          0,
          1
         ]
        }
       }
      },
      "image/png": "[encoded data removed]"
     },
     "metadata": {},
     "output_type": "display_data"
    }
   ],
   "source": [
    "preds = ctb.predict(X_test)\n",
    "\n",
    "accuracy = ctb.score(X_test, y_test)\n",
    "\n",
    "\n",
    "print(f\"ctb acurracy: {accuracy*100:.2f}%\")\n",
    "print(\"\\nClassification report\")\n",
    "print(classification_report(y_test, preds))\n",
    "\n",
    "cm = confusion_matrix(y_test, preds)\n",
    "fig = px.imshow(cm, text_auto=True).update_layout(title={\"text\": \"LightGBM's Confusion Matrix\"}, font=my_font).show()\n",
    "\n"
   ]
  },
  {
   "cell_type": "code",
   "execution_count": 117,
   "id": "a93075f3-5f3e-4bbb-bb91-7f244fc73f6c",
   "metadata": {},
   "outputs": [
    {
     "name": "stdout",
     "output_type": "stream",
     "text": [
      "Training on fold [0/1]\n"
     ]
    },
    {
     "ename": "CatBoostError",
     "evalue": "catboost/libs/data/quantization.cpp:2420: All features are either constant or ignored.",
     "output_type": "error",
     "traceback": [
      "\u001b[31m---------------------------------------------------------------------------\u001b[39m",
      "\u001b[31mCatBoostError\u001b[39m                             Traceback (most recent call last)",
      "\u001b[36mCell\u001b[39m\u001b[36m \u001b[39m\u001b[32mIn[117]\u001b[39m\u001b[32m, line 14\u001b[39m\n\u001b[32m      3\u001b[39m train_pool = Pool(X, label=y, cat_features=cat_features)\n\u001b[32m      5\u001b[39m params = {\n\u001b[32m      6\u001b[39m     \u001b[33m'\u001b[39m\u001b[33miterations\u001b[39m\u001b[33m'\u001b[39m: \u001b[32m1000\u001b[39m,\n\u001b[32m      7\u001b[39m     \u001b[33m'\u001b[39m\u001b[33mlearning_rate\u001b[39m\u001b[33m'\u001b[39m: \u001b[32m0.05\u001b[39m,\n\u001b[32m   (...)\u001b[39m\u001b[32m     12\u001b[39m \n\u001b[32m     13\u001b[39m }\n\u001b[32m---> \u001b[39m\u001b[32m14\u001b[39m cv_results = \u001b[43mcv\u001b[49m\u001b[43m(\u001b[49m\n\u001b[32m     15\u001b[39m \u001b[43m    \u001b[49m\u001b[43mparams\u001b[49m\u001b[43m=\u001b[49m\u001b[43mparams\u001b[49m\u001b[43m,\u001b[49m\n\u001b[32m     16\u001b[39m \u001b[43m    \u001b[49m\u001b[43mpool\u001b[49m\u001b[43m=\u001b[49m\u001b[43mtrain_pool\u001b[49m\u001b[43m,\u001b[49m\n\u001b[32m     17\u001b[39m \u001b[43m    \u001b[49m\u001b[43mfold_count\u001b[49m\u001b[43m=\u001b[49m\u001b[32;43m1\u001b[39;49m\u001b[43m,\u001b[49m\n\u001b[32m     18\u001b[39m \u001b[43m    \u001b[49m\u001b[43mearly_stopping_rounds\u001b[49m\u001b[43m=\u001b[49m\u001b[32;43m50\u001b[39;49m\u001b[43m,\u001b[49m\n\u001b[32m     19\u001b[39m \u001b[43m    \u001b[49m\u001b[43mverbose\u001b[49m\u001b[43m=\u001b[49m\u001b[32;43m50\u001b[39;49m\u001b[43m,\u001b[49m\n\u001b[32m     20\u001b[39m \u001b[43m    \u001b[49m\u001b[43mstratified\u001b[49m\u001b[43m=\u001b[49m\u001b[38;5;28;43;01mTrue\u001b[39;49;00m\n\u001b[32m     21\u001b[39m \u001b[43m)\u001b[49m\n\u001b[32m     23\u001b[39m \u001b[38;5;28mprint\u001b[39m(\u001b[33m\"\u001b[39m\u001b[33mBest CV AUC:\u001b[39m\u001b[33m\"\u001b[39m, cv_results[\u001b[33m'\u001b[39m\u001b[33mtest-AUC-mean\u001b[39m\u001b[33m'\u001b[39m].max())\n",
      "\u001b[36mFile \u001b[39m\u001b[32m/usr/local/lib/python3.12/site-packages/catboost/core.py:6980\u001b[39m, in \u001b[36mcv\u001b[39m\u001b[34m(pool, params, dtrain, iterations, num_boost_round, fold_count, nfold, inverted, partition_random_seed, seed, shuffle, logging_level, stratified, as_pandas, metric_period, verbose, verbose_eval, plot, plot_file, early_stopping_rounds, save_snapshot, snapshot_file, snapshot_interval, metric_update_interval, folds, type, return_models, log_cout, log_cerr)\u001b[39m\n\u001b[32m   6978\u001b[39m \u001b[38;5;28;01mwith\u001b[39;00m log_fixup(log_cout, log_cerr), plot_wrapper(plot, plot_file=plot_file, plot_title=\u001b[33m'\u001b[39m\u001b[33mCross-validation plot\u001b[39m\u001b[33m'\u001b[39m, train_dirs=plot_dirs):\n\u001b[32m   6979\u001b[39m     \u001b[38;5;28;01mif\u001b[39;00m \u001b[38;5;129;01mnot\u001b[39;00m return_models:\n\u001b[32m-> \u001b[39m\u001b[32m6980\u001b[39m         \u001b[38;5;28;01mreturn\u001b[39;00m \u001b[43m_cv\u001b[49m\u001b[43m(\u001b[49m\n\u001b[32m   6981\u001b[39m \u001b[43m            \u001b[49m\u001b[43mparams\u001b[49m\u001b[43m,\u001b[49m\n\u001b[32m   6982\u001b[39m \u001b[43m            \u001b[49m\u001b[43mpool\u001b[49m\u001b[43m,\u001b[49m\n\u001b[32m   6983\u001b[39m \u001b[43m            \u001b[49m\u001b[43mfold_count\u001b[49m\u001b[43m,\u001b[49m\n\u001b[32m   6984\u001b[39m \u001b[43m            \u001b[49m\u001b[43minverted\u001b[49m\u001b[43m,\u001b[49m\n\u001b[32m   6985\u001b[39m \u001b[43m            \u001b[49m\u001b[43mpartition_random_seed\u001b[49m\u001b[43m,\u001b[49m\n\u001b[32m   6986\u001b[39m \u001b[43m            \u001b[49m\u001b[43mshuffle\u001b[49m\u001b[43m,\u001b[49m\n\u001b[32m   6987\u001b[39m \u001b[43m            \u001b[49m\u001b[43mstratified\u001b[49m\u001b[43m,\u001b[49m\n\u001b[32m   6988\u001b[39m \u001b[43m            \u001b[49m\u001b[43mmetric_update_interval\u001b[49m\u001b[43m,\u001b[49m\n\u001b[32m   6989\u001b[39m \u001b[43m            \u001b[49m\u001b[43mas_pandas\u001b[49m\u001b[43m,\u001b[49m\n\u001b[32m   6990\u001b[39m \u001b[43m            \u001b[49m\u001b[43mfolds\u001b[49m\u001b[43m,\u001b[49m\n\u001b[32m   6991\u001b[39m \u001b[43m            \u001b[49m\u001b[38;5;28;43mtype\u001b[39;49m\u001b[43m,\u001b[49m\n\u001b[32m   6992\u001b[39m \u001b[43m            \u001b[49m\u001b[43mreturn_models\u001b[49m\n\u001b[32m   6993\u001b[39m \u001b[43m        \u001b[49m\u001b[43m)\u001b[49m\n\u001b[32m   6994\u001b[39m     \u001b[38;5;28;01melse\u001b[39;00m:\n\u001b[32m   6995\u001b[39m         results, cv_models = _cv(\n\u001b[32m   6996\u001b[39m             params,\n\u001b[32m   6997\u001b[39m             pool,\n\u001b[32m   (...)\u001b[39m\u001b[32m   7007\u001b[39m             return_models\n\u001b[32m   7008\u001b[39m         )\n",
      "\u001b[36mFile \u001b[39m\u001b[32m_catboost.pyx:5880\u001b[39m, in \u001b[36m_catboost._cv\u001b[39m\u001b[34m()\u001b[39m\n",
      "\u001b[36mFile \u001b[39m\u001b[32m_catboost.pyx:5912\u001b[39m, in \u001b[36m_catboost._cv\u001b[39m\u001b[34m()\u001b[39m\n",
      "\u001b[31mCatBoostError\u001b[39m: catboost/libs/data/quantization.cpp:2420: All features are either constant or ignored."
     ]
    }
   ],
   "source": [
    "\n",
    "from catboost import Pool, cv\n",
    "\n",
    "train_pool = Pool(X, label=y, cat_features=cat_features)\n",
    "\n",
    "params = {\n",
    "    'iterations': 1000,\n",
    "    'learning_rate': 0.05,\n",
    "    'depth': 6,\n",
    "    'eval_metric': 'TotalF1',\n",
    "    'random_seed': 42,\n",
    "    'loss_function': 'Logloss',\n",
    "\n",
    "}\n",
    "cv_results = cv(\n",
    "    params=params,\n",
    "    pool=train_pool,\n",
    "    fold_count=1,\n",
    "    early_stopping_rounds=50,\n",
    "    verbose=50,\n",
    "    stratified=True\n",
    ")\n",
    "\n",
    "print(\"Best CV AUC:\", cv_results['test-AUC-mean'].max())"
   ]
  }
 ],
 "metadata": {
  "kernelspec": {
   "display_name": "Python 3 (ipykernel)",
   "language": "python",
   "name": "python3"
  },
  "language_info": {
   "codemirror_mode": {
    "name": "ipython",
    "version": 3
   },
   "file_extension": ".py",
   "mimetype": "text/x-python",
   "name": "python",
   "nbconvert_exporter": "python",
   "pygments_lexer": "ipython3",
   "version": "3.12.11"
  }
 },
 "nbformat": 4,
 "nbformat_minor": 5
}
